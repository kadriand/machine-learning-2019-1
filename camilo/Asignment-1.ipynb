{
 "cells": [
  {
   "cell_type": "code",
   "execution_count": 1,
   "metadata": {},
   "outputs": [],
   "source": [
    "import numpy as np"
   ]
  },
  {
   "cell_type": "markdown",
   "metadata": {},
   "source": [
    "<h1>Assignment 1</h1>\n",
    "<h3>Juan Camilo Castro Pinto</h3>\n",
    "<h3>Andres Felipe Cantor</h3>\n",
    "<br/>\n",
    "2."
   ]
  },
  {
   "cell_type": "code",
   "execution_count": 2,
   "metadata": {},
   "outputs": [
    {
     "name": "stdout",
     "output_type": "stream",
     "text": [
      "[[2 3 0 3 7]\n",
      " [0 5 5 0 3]\n",
      " [5 0 7 3 3]\n",
      " [3 1 0 9 9]\n",
      " [0 0 7 1 3]\n",
      " [6 9 4 6 0]] [5 2 3 6 4 3]\n"
     ]
    }
   ],
   "source": [
    "TD = np.array([[2, 3, 0, 3, 7], [0, 5, 5, 0, 3], [5, 0, 7, 3, 3], [3, 1, 0, 9, 9], [0, 0, 7, 1, 3,], [6, 9, 4, 6, 0]])\n",
    "L = np.array([5,2,3,6,4,3])\n",
    "print TD, L"
   ]
  },
  {
   "cell_type": "markdown",
   "metadata": {},
   "source": [
    "$P(T,D) = P(T|D)P(D)$ "
   ]
  },
  {
   "cell_type": "markdown",
   "metadata": {},
   "source": [
    "$P(T,D) = \\frac{TD_{i,j}}{\\sum_{j} TD_{i,j}} * [\\frac{1}{n}]$ "
   ]
  },
  {
   "cell_type": "markdown",
   "metadata": {},
   "source": [
    "$P(T,D) = $ $\\frac{1}{n}$  [ $TD$ * diag($\\frac{1}{[1]_{1xm} * TD}$) ]"
   ]
  },
  {
   "cell_type": "code",
   "execution_count": 3,
   "metadata": {},
   "outputs": [
    {
     "data": {
      "text/plain": [
       "array([[0.025     , 0.03333333, 0.        , 0.02727273, 0.056     ],\n",
       "       [0.        , 0.05555556, 0.04347826, 0.        , 0.024     ],\n",
       "       [0.0625    , 0.        , 0.06086957, 0.02727273, 0.024     ],\n",
       "       [0.0375    , 0.01111111, 0.        , 0.08181818, 0.072     ],\n",
       "       [0.        , 0.        , 0.06086957, 0.00909091, 0.024     ],\n",
       "       [0.075     , 0.1       , 0.03478261, 0.05454545, 0.        ]])"
      ]
     },
     "execution_count": 3,
     "metadata": {},
     "output_type": "execute_result"
    }
   ],
   "source": [
    "def P_TD(TD):\n",
    "    m, n = TD.shape\n",
    "    suma = np.dot(np.ones((1,m)) ,TD)\n",
    "    diag = np.diag(1/suma[0])\n",
    "    p = (1.0/n) * np.dot(TD, diag)\n",
    "    return p\n",
    "\n",
    "P_TD(TD)\n",
    "        \n",
    "    "
   ]
  },
  {
   "cell_type": "markdown",
   "metadata": {},
   "source": [
    "$P(T | D) = n * P(T,D)$"
   ]
  },
  {
   "cell_type": "code",
   "execution_count": 4,
   "metadata": {},
   "outputs": [
    {
     "data": {
      "text/plain": [
       "array([[0.125     , 0.16666667, 0.        , 0.13636364, 0.28      ],\n",
       "       [0.        , 0.27777778, 0.2173913 , 0.        , 0.12      ],\n",
       "       [0.3125    , 0.        , 0.30434783, 0.13636364, 0.12      ],\n",
       "       [0.1875    , 0.05555556, 0.        , 0.40909091, 0.36      ],\n",
       "       [0.        , 0.        , 0.30434783, 0.04545455, 0.12      ],\n",
       "       [0.375     , 0.5       , 0.17391304, 0.27272727, 0.        ]])"
      ]
     },
     "execution_count": 4,
     "metadata": {},
     "output_type": "execute_result"
    }
   ],
   "source": [
    "def P_T_D(TD):\n",
    "    m,n = TD.shape\n",
    "    return n * P_TD(TD)\n",
    "P_T_D(TD)"
   ]
  },
  {
   "cell_type": "markdown",
   "metadata": {},
   "source": [
    "$P(D | T) = \\frac{P(T,D)}{P(T,D) * [1]_{nx1}}$"
   ]
  },
  {
   "cell_type": "code",
   "execution_count": 5,
   "metadata": {},
   "outputs": [
    {
     "data": {
      "text/plain": [
       "array([[0.17654612, 0.23539482, 0.        , 0.19259576, 0.3954633 ],\n",
       "       [0.        , 0.45154704, 0.35338464, 0.        , 0.19506832],\n",
       "       [0.35787437, 0.        , 0.34853851, 0.15616336, 0.13742376],\n",
       "       [0.18524987, 0.05488885, 0.        , 0.40418153, 0.35567975],\n",
       "       [0.        , 0.        , 0.64782097, 0.09675248, 0.25542655],\n",
       "       [0.28373832, 0.37831776, 0.13158879, 0.20635514, 0.        ]])"
      ]
     },
     "execution_count": 5,
     "metadata": {},
     "output_type": "execute_result"
    }
   ],
   "source": [
    "def P_D_T(TD):\n",
    "    m,n = TD.shape\n",
    "    P_TD1 = P_TD(TD)\n",
    "    P_T = np.dot(P_TD1, np.ones((n,1)))\n",
    "    return P_TD1 / P_T\n",
    "P_D_T(TD)"
   ]
  },
  {
   "cell_type": "markdown",
   "metadata": {},
   "source": [
    "$ P(D) = \\frac{1}{n} * [1]_{1xn}$"
   ]
  },
  {
   "cell_type": "code",
   "execution_count": 6,
   "metadata": {},
   "outputs": [
    {
     "data": {
      "text/plain": [
       "array([[0.2, 0.2, 0.2, 0.2, 0.2]])"
      ]
     },
     "execution_count": 6,
     "metadata": {},
     "output_type": "execute_result"
    }
   ],
   "source": [
    "def P_D(TD):\n",
    "    m,n = TD.shape\n",
    "    return 1.0/n * np.ones((1,n))\n",
    "P_D(TD)"
   ]
  },
  {
   "cell_type": "markdown",
   "metadata": {},
   "source": [
    "$P(T) = P(T,D) * [1]_{nx1}$"
   ]
  },
  {
   "cell_type": "code",
   "execution_count": 7,
   "metadata": {},
   "outputs": [
    {
     "data": {
      "text/plain": [
       "array([[0.14160606],\n",
       "       [0.12303382],\n",
       "       [0.17464229],\n",
       "       [0.20242929],\n",
       "       [0.09396047],\n",
       "       [0.26432806]])"
      ]
     },
     "execution_count": 7,
     "metadata": {},
     "output_type": "execute_result"
    }
   ],
   "source": [
    "def P_T(TD):\n",
    "    m,n = TD.shape\n",
    "    return np.dot(P_TD(TD), np.ones((n,1)))\n",
    "P_T(TD)"
   ]
  },
  {
   "cell_type": "markdown",
   "metadata": {},
   "source": [
    "$E[l] = L * P(T)$"
   ]
  },
  {
   "cell_type": "code",
   "execution_count": 8,
   "metadata": {},
   "outputs": [
    {
     "data": {
      "text/plain": [
       "array([3.86142666])"
      ]
     },
     "execution_count": 8,
     "metadata": {},
     "output_type": "execute_result"
    }
   ],
   "source": [
    "def E_l(TD, L):\n",
    "    return np.dot(L,P_T(TD))\n",
    "E_l(TD, L)"
   ]
  },
  {
   "cell_type": "markdown",
   "metadata": {},
   "source": [
    "$Var(l) = \\frac{1}{m} [ (L - E[l]) * (L - E[l])^T ]$"
   ]
  },
  {
   "cell_type": "code",
   "execution_count": 9,
   "metadata": {},
   "outputs": [
    {
     "data": {
      "text/plain": [
       "1.8063447904398182"
      ]
     },
     "execution_count": 9,
     "metadata": {},
     "output_type": "execute_result"
    }
   ],
   "source": [
    "def var_l(TD, L):\n",
    "    m,n = TD.shape\n",
    "    expected = E_l(TD, L)\n",
    "    return 1.0 / m * np.dot((L - expected), np.transpose((L - expected)))    \n",
    "\n",
    "var_l(TD, L)"
   ]
  },
  {
   "cell_type": "code",
   "execution_count": null,
   "metadata": {},
   "outputs": [],
   "source": []
  }
 ],
 "metadata": {
  "kernelspec": {
   "display_name": "Python 2",
   "language": "python",
   "name": "python2"
  },
  "language_info": {
   "codemirror_mode": {
    "name": "ipython",
    "version": 2
   },
   "file_extension": ".py",
   "mimetype": "text/x-python",
   "name": "python",
   "nbconvert_exporter": "python",
   "pygments_lexer": "ipython2",
   "version": "2.7.14"
  }
 },
 "nbformat": 4,
 "nbformat_minor": 2
}
