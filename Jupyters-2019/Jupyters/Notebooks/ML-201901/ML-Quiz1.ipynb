{
 "cells": [
  {
   "cell_type": "markdown",
   "metadata": {},
   "source": [
    "# Quiz 1\n",
    "# Machine Learning 2019-1\n",
    "Keep saving your notebook to guarantee that you don't lose your work. Whenever the end of the exam is announced save the current version. \n",
    "\n",
    "---\n",
    "\n",
    "## 1. (1.5)\n",
    "\n",
    "Write a function that receives $P(X|Y)$ and $P(Y)$ and returns $P(X)$\n"
   ]
  },
  {
   "cell_type": "code",
   "execution_count": 1,
   "metadata": {},
   "outputs": [],
   "source": [
    "import numpy as np\n",
    "import scipy as sc\n",
    "import scipy.misc as scm\n",
    "\n",
    "def p1(PX_Y, PY):\n",
    "    '''\n",
    "    PX_Y: a numpy array where PX_Y[i, j] = P(X=i | Y=j) \n",
    "    PY:  a numpy array where PY[j] = P(Y=j) \n",
    "    \n",
    "    Returns:\n",
    "    A numpy array PX[i] = P(X=i) \n",
    "    '''\n",
    "    # Your code here\n",
    "    PX = np.dot(PX_Y , PY.T)\n",
    "    return PX\n",
    "    "
   ]
  },
  {
   "cell_type": "code",
   "execution_count": 7,
   "metadata": {},
   "outputs": [
    {
     "data": {
      "text/plain": [
       "array([0.20147335, 0.24714404, 0.21685864, 0.33452395])"
      ]
     },
     "execution_count": 7,
     "metadata": {},
     "output_type": "execute_result"
    }
   ],
   "source": [
    "PX_Y = np.array([[ 0.2230561 ,  0.18331207,  0.17959623,  0.01028998,  0.33943926],\n",
    "                 [ 0.49471559,  0.11828343,  0.67633346,  0.09622812,  0.09313655],\n",
    "                 [ 0.05586699,  0.17283669,  0.02797027,  0.5056821 ,  0.21389908],\n",
    "                 [ 0.22636132,  0.52556781,  0.11610004,  0.38779981,  0.3535251 ]])\n",
    "PY = np.array([ 0.15648844, 0.16707432, 0.14798776, 0.21271086, 0.31573861])\n",
    "\n",
    "p1(PX_Y,PY) \n"
   ]
  },
  {
   "cell_type": "code",
   "execution_count": 6,
   "metadata": {},
   "outputs": [
    {
     "data": {
      "text/plain": [
       "0.9999999999999999"
      ]
     },
     "execution_count": 6,
     "metadata": {},
     "output_type": "execute_result"
    }
   ],
   "source": [
    "PX_Y.T[0].sum()"
   ]
  },
  {
   "cell_type": "markdown",
   "metadata": {},
   "source": [
    "## 2. (1.5)\n",
    "Assume that $X$ is a random variable that takes values in the set $\\{0,1, \\dots, n-1\\}$. \n",
    "Write a function that receives $P(X)$ and calculates $E[X^2]$\n"
   ]
  },
  {
   "cell_type": "code",
   "execution_count": 13,
   "metadata": {},
   "outputs": [],
   "source": [
    "def p2(PX):\n",
    "    '''\n",
    "    PX: a numpy array where PX[i] = P(X=i)  \n",
    "    \n",
    "    Returns:\n",
    "        E[Xˆ2]\n",
    "    '''\n",
    "    \n",
    "    X = range(len(PX))\n",
    "    E = np.multiply(PX,np.multiply(X,X))\n",
    "    return E.sum()"
   ]
  },
  {
   "cell_type": "code",
   "execution_count": 14,
   "metadata": {},
   "outputs": [
    {
     "name": "stdout",
     "output_type": "stream",
     "text": [
      "2.8466932099999998\n"
     ]
    }
   ],
   "source": [
    "PX = np.array([ 0.41199149,  0.29315473,  0.06252909,  0.20196756,  0.03035713])\n",
    "print(p2(PX))"
   ]
  },
  {
   "cell_type": "markdown",
   "metadata": {},
   "source": [
    "## 3. (2.0)\n",
    "A player tosses 5 coins into the air. The player gains $1$ dollar per each head that is obtained. However, she will lose $B$ dollars if neither coin is a head. Write a function that given $p_0$, the probability of obtaining a head, calculates the maximum value of $B$ such that the game is not disfavorable for the player."
   ]
  },
  {
   "cell_type": "code",
   "execution_count": 18,
   "metadata": {},
   "outputs": [],
   "source": [
    "def p3(p0):\n",
    "    '''\n",
    "    A: number of dollars that the player receives per each head.\n",
    "    \n",
    "    returns:\n",
    "    max_B: maximum value of B such that the game is not disfavorable for the player.\n",
    "    '''\n",
    "    # Your code here\n",
    "    A = 1\n",
    "    esperado = 1\n",
    "    B = 0\n",
    "    while esperado >= 0:\n",
    "        combinado = sc.special.factorial(5)/( sc.special.factorial(np.linspace(1 , 5 , num = 5))*sc.special.factorial(5 - np.linspace(1 , 5 , num = 5)) )\n",
    "        buenos = combinado*(p0**np.linspace(1 , 5 , num = 5) )*( (1-p0)**np.linspace(4 , 0 , num = 5)) \n",
    "        \n",
    "        malos =  (1-p0)**5\n",
    "        esperado =  sum(np.linspace(A , 5*A , num = 5)*buenos) - (B*malos)\n",
    "        #print(esperado)\n",
    "        B = B + 0.001\n",
    "    \n",
    "    \n",
    "    B = B - 0.00002\n",
    "    \n",
    "    return B\n",
    "        \n",
    "    "
   ]
  },
  {
   "cell_type": "code",
   "execution_count": 21,
   "metadata": {},
   "outputs": [
    {
     "ename": "KeyboardInterrupt",
     "evalue": "",
     "output_type": "error",
     "traceback": [
      "\u001b[1;31m---------------------------------------------------------------------------\u001b[0m",
      "\u001b[1;31mKeyboardInterrupt\u001b[0m                         Traceback (most recent call last)",
      "\u001b[1;32m<ipython-input-21-70a0509de758>\u001b[0m in \u001b[0;36m<module>\u001b[1;34m\u001b[0m\n\u001b[0;32m      1\u001b[0m \u001b[0mp0\u001b[0m \u001b[1;33m=\u001b[0m \u001b[1;36m0.5\u001b[0m\u001b[1;33m\u001b[0m\u001b[1;33m\u001b[0m\u001b[0m\n\u001b[1;32m----> 2\u001b[1;33m \u001b[0mp3\u001b[0m\u001b[1;33m(\u001b[0m\u001b[0mp0\u001b[0m\u001b[1;33m)\u001b[0m\u001b[1;33m\u001b[0m\u001b[1;33m\u001b[0m\u001b[0m\n\u001b[0m\u001b[0;32m      3\u001b[0m \u001b[1;33m\u001b[0m\u001b[0m\n\u001b[0;32m      4\u001b[0m \u001b[1;31m#Mucho mas sencillo con una formula. ¡CUIDADO a la proxima!\u001b[0m\u001b[1;33m\u001b[0m\u001b[1;33m\u001b[0m\u001b[1;33m\u001b[0m\u001b[0m\n",
      "\u001b[1;32m<ipython-input-18-b2b980523783>\u001b[0m in \u001b[0;36mp3\u001b[1;34m(p0)\u001b[0m\n\u001b[0;32m     15\u001b[0m \u001b[1;33m\u001b[0m\u001b[0m\n\u001b[0;32m     16\u001b[0m         \u001b[0mmalos\u001b[0m \u001b[1;33m=\u001b[0m  \u001b[1;33m(\u001b[0m\u001b[1;36m1\u001b[0m\u001b[1;33m-\u001b[0m\u001b[0mp0\u001b[0m\u001b[1;33m)\u001b[0m\u001b[1;33m**\u001b[0m\u001b[1;36m5\u001b[0m\u001b[1;33m\u001b[0m\u001b[1;33m\u001b[0m\u001b[0m\n\u001b[1;32m---> 17\u001b[1;33m         \u001b[0mesperado\u001b[0m \u001b[1;33m=\u001b[0m  \u001b[0msum\u001b[0m\u001b[1;33m(\u001b[0m\u001b[0mnp\u001b[0m\u001b[1;33m.\u001b[0m\u001b[0mlinspace\u001b[0m\u001b[1;33m(\u001b[0m\u001b[0mA\u001b[0m \u001b[1;33m,\u001b[0m \u001b[1;36m5\u001b[0m\u001b[1;33m*\u001b[0m\u001b[0mA\u001b[0m \u001b[1;33m,\u001b[0m \u001b[0mnum\u001b[0m \u001b[1;33m=\u001b[0m \u001b[1;36m5\u001b[0m\u001b[1;33m)\u001b[0m\u001b[1;33m*\u001b[0m\u001b[0mbuenos\u001b[0m\u001b[1;33m)\u001b[0m \u001b[1;33m-\u001b[0m \u001b[1;33m(\u001b[0m\u001b[0mB\u001b[0m\u001b[1;33m*\u001b[0m\u001b[0mmalos\u001b[0m\u001b[1;33m)\u001b[0m\u001b[1;33m\u001b[0m\u001b[1;33m\u001b[0m\u001b[0m\n\u001b[0m\u001b[0;32m     18\u001b[0m         \u001b[1;31m#print(esperado)\u001b[0m\u001b[1;33m\u001b[0m\u001b[1;33m\u001b[0m\u001b[1;33m\u001b[0m\u001b[0m\n\u001b[0;32m     19\u001b[0m         \u001b[0mB\u001b[0m \u001b[1;33m=\u001b[0m \u001b[0mB\u001b[0m \u001b[1;33m+\u001b[0m \u001b[1;36m0.001\u001b[0m\u001b[1;33m\u001b[0m\u001b[1;33m\u001b[0m\u001b[0m\n",
      "\u001b[1;32mc:\\python37\\lib\\site-packages\\numpy\\core\\function_base.py\u001b[0m in \u001b[0;36mlinspace\u001b[1;34m(start, stop, num, endpoint, retstep, dtype, axis)\u001b[0m\n\u001b[0;32m    141\u001b[0m \u001b[1;33m\u001b[0m\u001b[0m\n\u001b[0;32m    142\u001b[0m     \u001b[0mdelta\u001b[0m \u001b[1;33m=\u001b[0m \u001b[0mstop\u001b[0m \u001b[1;33m-\u001b[0m \u001b[0mstart\u001b[0m\u001b[1;33m\u001b[0m\u001b[1;33m\u001b[0m\u001b[0m\n\u001b[1;32m--> 143\u001b[1;33m     \u001b[0my\u001b[0m \u001b[1;33m=\u001b[0m \u001b[0m_nx\u001b[0m\u001b[1;33m.\u001b[0m\u001b[0marange\u001b[0m\u001b[1;33m(\u001b[0m\u001b[1;36m0\u001b[0m\u001b[1;33m,\u001b[0m \u001b[0mnum\u001b[0m\u001b[1;33m,\u001b[0m \u001b[0mdtype\u001b[0m\u001b[1;33m=\u001b[0m\u001b[0mdt\u001b[0m\u001b[1;33m)\u001b[0m\u001b[1;33m.\u001b[0m\u001b[0mreshape\u001b[0m\u001b[1;33m(\u001b[0m\u001b[1;33m(\u001b[0m\u001b[1;33m-\u001b[0m\u001b[1;36m1\u001b[0m\u001b[1;33m,\u001b[0m\u001b[1;33m)\u001b[0m \u001b[1;33m+\u001b[0m \u001b[1;33m(\u001b[0m\u001b[1;36m1\u001b[0m\u001b[1;33m,\u001b[0m\u001b[1;33m)\u001b[0m \u001b[1;33m*\u001b[0m \u001b[0mndim\u001b[0m\u001b[1;33m(\u001b[0m\u001b[0mdelta\u001b[0m\u001b[1;33m)\u001b[0m\u001b[1;33m)\u001b[0m\u001b[1;33m\u001b[0m\u001b[1;33m\u001b[0m\u001b[0m\n\u001b[0m\u001b[0;32m    144\u001b[0m     \u001b[1;31m# In-place multiplication y *= delta/div is faster, but prevents the multiplicant\u001b[0m\u001b[1;33m\u001b[0m\u001b[1;33m\u001b[0m\u001b[1;33m\u001b[0m\u001b[0m\n\u001b[0;32m    145\u001b[0m     \u001b[1;31m# from overriding what class is produced, and thus prevents, e.g. use of Quantities,\u001b[0m\u001b[1;33m\u001b[0m\u001b[1;33m\u001b[0m\u001b[1;33m\u001b[0m\u001b[0m\n",
      "\u001b[1;31mKeyboardInterrupt\u001b[0m: "
     ]
    }
   ],
   "source": [
    "p0 = 0.5\n",
    "p3(p0)\n",
    "\n",
    "#Mucho mas sencillo con una formula. ¡CUIDADO a la proxima! "
   ]
  },
  {
   "cell_type": "code",
   "execution_count": null,
   "metadata": {},
   "outputs": [],
   "source": [
    "def compare(vect1, vect2, error):\n",
    "    if np.linalg.norm(vect1 - vect2) > error:\n",
    "            return False\n",
    "    return True\n",
    "\n",
    "\n",
    "def test1():\n",
    "    px_y = np.array([[ 0.3769328 ,  0.39650515,  0.4314626 ,  0.20626247,  0.1349948 ],\n",
    "        [ 0.12649237,  0.19220829,  0.09108101,  0.10448629,  0.08759632],\n",
    "        [ 0.12301515,  0.34139388,  0.03945878,  0.28113402,  0.55014867],\n",
    "        [ 0.37355968,  0.06989268,  0.4379976 ,  0.40811723,  0.22726021]])\n",
    "    py = np.array([ 0.21039932,  0.22645292,  0.17677909,  0.20736691,  0.17900176])\n",
    "    v1 = np.array([ 0.31230604,  0.12358815,  0.2669429 ,  0.29716291])\n",
    "    v2 = p1(px_y, py)\n",
    "    return compare(v1, v2, 0.000001)\n",
    "\n",
    "def test2():\n",
    "    px = np.array([ 0.01720472,  0.23565573,  0.7425048 ,  0.68060143,  0.25665851])\n",
    "    res = 13.437623957331406\n",
    "    ans = p2(px)\n",
    "    return (abs(res-ans) < 0.000001)\n",
    "\n",
    "def test3():\n",
    "    p0 = 0.7\n",
    "    res = 1440.3292181069949\n",
    "    ans = p3(p0)\n",
    "    return (abs(res-ans) < 0.01)\n",
    "\n",
    "print(test1())\n",
    "print(test2())\n",
    "print(test3())\n",
    "\n",
    "\n"
   ]
  }
 ],
 "metadata": {
  "kernelspec": {
   "display_name": "Python 3",
   "language": "python",
   "name": "python3"
  },
  "language_info": {
   "codemirror_mode": {
    "name": "ipython",
    "version": 3
   },
   "file_extension": ".py",
   "mimetype": "text/x-python",
   "name": "python",
   "nbconvert_exporter": "python",
   "pygments_lexer": "ipython3",
   "version": "3.7.2"
  }
 },
 "nbformat": 4,
 "nbformat_minor": 2
}
