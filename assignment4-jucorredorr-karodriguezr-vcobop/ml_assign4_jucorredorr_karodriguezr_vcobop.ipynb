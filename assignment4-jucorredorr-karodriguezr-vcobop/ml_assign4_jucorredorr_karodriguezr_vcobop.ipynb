{
  "nbformat": 4,
  "nbformat_minor": 0,
  "metadata": {
    "colab": {
      "name": "ml-assign4-jucorredorr-karodriguezr-vcobop.ipynb",
      "version": "0.3.2",
      "provenance": [],
      "collapsed_sections": []
    },
    "kernelspec": {
      "name": "python3",
      "display_name": "Python 3"
    },
    "accelerator": "GPU"
  },
  "cells": [
    {
      "cell_type": "markdown",
      "metadata": {
        "id": "SE0CBXBdkq3O",
        "colab_type": "text"
      },
      "source": [
        "# Assignment 4\n",
        "by: _Kevin Adrián Rodríguez Ruiz_ , _Valentina Cobo Paz_, _Juan Sebastián Corredor_\n",
        "\n",
        "email: karodriguezr@unal.edu.co, vcobop@unal.edu.co, jucorredorr@unal.edu.co"
      ]
    },
    {
      "cell_type": "markdown",
      "metadata": {
        "id": "sq1QAKHwlDYC",
        "colab_type": "text"
      },
      "source": [
        "The next functions are intended to hel in common utilites"
      ]
    },
    {
      "cell_type": "code",
      "metadata": {
        "id": "OPwNXxhBS21O",
        "colab_type": "code",
        "colab": {}
      },
      "source": [
        "import urllib.request\n",
        "import os\n",
        "import numpy as np\n",
        "from sklearn import metrics\n",
        "import h5py\n",
        "import matplotlib.pyplot as plt\n",
        "import random\n",
        "import pandas as pd\n",
        "import json\n",
        "from glob import glob\n",
        "from glob import iglob\n",
        "import re\n",
        "from collections import Counter\n",
        "from skimage.transform import resize\n",
        "\n",
        "%matplotlib inline"
      ],
      "execution_count": 0,
      "outputs": []
    },
    {
      "cell_type": "code",
      "metadata": {
        "id": "nhNBYOTD7C5I",
        "colab_type": "code",
        "colab": {}
      },
      "source": [
        "from keras.preprocessing.image import array_to_img\n",
        "from keras.preprocessing.image import ImageDataGenerator\n",
        "from keras.models import Sequential\n",
        "from keras.layers import Dropout, Flatten, Dense, Activation\n",
        "from keras.applications import mobilenet\n",
        "from keras.layers import Dense, Input, Dropout\n",
        "from keras.models import Model\n",
        "from keras.optimizers import Adam\n",
        "from keras.layers import LSTM\n",
        "from keras.utils.data_utils import get_file\n",
        "from keras.layers.wrappers import TimeDistributed\n",
        "from keras.optimizers import RMSprop\n",
        "from keras import applications\n",
        "from keras.applications.mobilenet import preprocess_input, decode_predictions\n",
        "\n",
        "\n",
        "original_dataset_path = \"drive/My Drive/ml-datasets/multimodal_imdb.hdf5\""
      ],
      "execution_count": 0,
      "outputs": []
    },
    {
      "cell_type": "code",
      "metadata": {
        "id": "JuPI4iahXkcu",
        "colab_type": "code",
        "outputId": "0f34050c-2336-4dff-ff1e-16379778e280",
        "colab": {
          "base_uri": "https://localhost:8080/",
          "height": 54
        }
      },
      "source": [
        "#Execute this cell to install your Google Drive.\n",
        "from google.colab import drive\n",
        "drive.mount('/content/drive')"
      ],
      "execution_count": 0,
      "outputs": [
        {
          "output_type": "stream",
          "text": [
            "Drive already mounted at /content/drive; to attempt to forcibly remount, call drive.mount(\"/content/drive\", force_remount=True).\n"
          ],
          "name": "stdout"
        }
      ]
    },
    {
      "cell_type": "code",
      "metadata": {
        "id": "N73qbytegVC8",
        "colab_type": "code",
        "colab": {}
      },
      "source": [
        "# Downloading dataset\n",
        "metadata_path = \"drive/My Drive/ml-datasets/metadata.npy\"\n",
        "if not os.path.isfile(metadata_path) :\n",
        "  urllib.request.urlretrieve(\"http://lisi1.unal.edu.co/mmimdb/metadata.npy\", \"drive/My Drive/ml-datasets/metadata.npy\")\n",
        "if not os.path.isfile(original_dataset_path) :\n",
        "  urllib.request.urlretrieve(\"http://lisi1.unal.edu.co/mmimdb/multimodal_imdb.hdf5\", original_dataset_path)"
      ],
      "execution_count": 0,
      "outputs": []
    },
    {
      "cell_type": "code",
      "metadata": {
        "id": "9bYDGJY-5j19",
        "colab_type": "code",
        "outputId": "112ab3db-3c52-45cf-8a7b-add34c2bcfec",
        "colab": {
          "base_uri": "https://localhost:8080/",
          "height": 179
        }
      },
      "source": [
        "!df -h"
      ],
      "execution_count": 0,
      "outputs": [
        {
          "output_type": "stream",
          "text": [
            "Filesystem      Size  Used Avail Use% Mounted on\n",
            "overlay         359G   41G  300G  12% /\n",
            "tmpfs           6.4G     0  6.4G   0% /dev\n",
            "tmpfs           6.4G     0  6.4G   0% /sys/fs/cgroup\n",
            "tmpfs           6.4G   12K  6.4G   1% /var/colab\n",
            "/dev/sda1       365G   44G  322G  12% /opt/bin\n",
            "shm             6.0G  4.0K  6.0G   1% /dev/shm\n",
            "tmpfs           6.4G     0  6.4G   0% /sys/firmware\n",
            "drive           359G   57G  302G  16% /content/drive\n"
          ],
          "name": "stdout"
        }
      ]
    },
    {
      "cell_type": "markdown",
      "metadata": {
        "id": "pv6jC9NjlW20",
        "colab_type": "text"
      },
      "source": [
        "# Point 1. Hang man\n",
        "\n",
        "Design a function able to find the missing characters from a word. The function must work as follows:\n",
        "\n",
        "```\n",
        ">>> hangman(\"pe_p_e\")\n",
        "'people'\n",
        "\n",
        ">>> hangman(\"phi__sop_y\")\n",
        "'philosophy'\n",
        "\n",
        ">>> hangman(\"si_nif_c_nc_\")\n",
        "'significance'\n",
        "\n",
        ">>> hangman(\"kn__l_d_e\")\n",
        "'knowledge'\n",
        "\n",
        ">>> hangman(\"inte_r_ga_i_n\")\n",
        "'interrogation'\n",
        "```\n",
        "\n",
        "The function must be able to deal with up to 4 unknowns in arbitrary length words. The function must work in a reasonable time (max 30 seconds in a laptop)."
      ]
    },
    {
      "cell_type": "markdown",
      "metadata": {
        "id": "O1Mus-smkHb5",
        "colab_type": "text"
      },
      "source": [
        "# Dowload and arrange the dataset to work with\n",
        "\n",
        "for this task we used the words from Princeton University to train our model"
      ]
    },
    {
      "cell_type": "code",
      "metadata": {
        "id": "2zPeL6ISkFIS",
        "colab_type": "code",
        "outputId": "3e969bc1-af80-4fcc-c595-6eb2ac23962c",
        "colab": {
          "base_uri": "https://localhost:8080/",
          "height": 51
        }
      },
      "source": [
        "path=os.getcwd()\n",
        "try:\n",
        "    get_file(\"tmp\",origin=\"http://wordnetcode.princeton.edu/wn3.1.dict.tar.gz\",extract=True,cache_dir=path)\n",
        "    os.remove(\"./datasets/tmp\")\n",
        "except:\n",
        "    if \"tmp\" in os.listdir(\"./datasets\"):\n",
        "        os.remove(\"./datasets/tmp\")\n",
        "    print(\"Is already downloaded\")"
      ],
      "execution_count": 56,
      "outputs": [
        {
          "output_type": "stream",
          "text": [
            "Downloading data from http://wordnetcode.princeton.edu/wn3.1.dict.tar.gz\n",
            "16359424/16358468 [==============================] - 0s 0us/step\n"
          ],
          "name": "stdout"
        }
      ]
    },
    {
      "cell_type": "code",
      "metadata": {
        "id": "HJ9sbb9VkZSN",
        "colab_type": "code",
        "colab": {}
      },
      "source": [
        "word_list = []\n",
        "input_files = ['./datasets/dict/data.adj','./datasets/dict/data.adv','./datasets/dict/data.noun','./datasets/dict/data.verb']\n",
        "\n",
        "for filename in input_files:\n",
        "    with open(filename, 'r') as f:\n",
        "        # skip the header lines\n",
        "        for i in range(29):\n",
        "            f.readline()\n",
        "\n",
        "        for line in f:\n",
        "            word = line.split(' ')[4]\n",
        "            if word.isalpha():\n",
        "                word_list.append(word.lower())\n",
        "new_words=[i for i in word_list if len(i)>=2]\n",
        "new_words_sorted_len = len(sorted(set(new_words)))\n",
        "new_words_uniq = list(set(new_words))\n",
        "new_words = np.copy(new_words_uniq)\n",
        "def shuffle_word(word,num=2):\n",
        "    len_word=len(word)\n",
        "    if len_word<=num:\n",
        "        return None\n",
        "    else:\n",
        "        posibilities=np.array([])\n",
        "        for test in range(13):\n",
        "            positions=np.random.choice(range(len_word),size=num,replace=False)\n",
        "            char_list_words=np.array(list(word))\n",
        "            for i in positions:\n",
        "                char_list_words[i]=\"_\"\n",
        "            result = \"\".join(char_list_words)\n",
        "            posibilities=np.append(posibilities,result)\n",
        "        #dict_result[word]=np.unique(posibilities)\n",
        "        posibilities=np.unique(posibilities)\n",
        "        result=np.vstack((posibilities,np.array([word]*len(posibilities))))\n",
        "        return result"
      ],
      "execution_count": 0,
      "outputs": []
    },
    {
      "cell_type": "code",
      "metadata": {
        "id": "FdBoK-5okdfD",
        "colab_type": "code",
        "colab": {
          "base_uri": "https://localhost:8080/",
          "height": 85
        },
        "outputId": "ce9c530e-30e6-491d-b2be-17017fc4cf32"
      },
      "source": [
        "shuffle_words=np.array([])\n",
        "for i in range(1,5):\n",
        "    shuffle=pd.Series(new_words).apply(shuffle_word,num=i).dropna()\n",
        "    shuffle_words=np.append(shuffle_words,shuffle)\n",
        "    print(\"{} empty spots\".format(i))"
      ],
      "execution_count": 58,
      "outputs": [
        {
          "output_type": "stream",
          "text": [
            "1 empty spots\n",
            "2 empty spots\n",
            "3 empty spots\n",
            "4 empty spots\n"
          ],
          "name": "stdout"
        }
      ]
    },
    {
      "cell_type": "code",
      "metadata": {
        "id": "GP5AhNaMkl27",
        "colab_type": "code",
        "colab": {
          "base_uri": "https://localhost:8080/",
          "height": 34
        },
        "outputId": "6fcdb8e5-736a-4abb-c15f-a93a16e20b13"
      },
      "source": [
        "words_input=[]\n",
        "words_target=[]\n",
        "aux=1\n",
        "for i in range(len(shuffle_words)):\n",
        "    for j in range(len(shuffle_words[i][0])): # both have the same size\n",
        "        words_input.append(shuffle_words[i][0][j])\n",
        "        words_target.append(shuffle_words[i][1][j])\n",
        "words_input=np.array(words_input)\n",
        "words_target=np.array(words_target)\n",
        "print(len(words_input),len(words_target))"
      ],
      "execution_count": 59,
      "outputs": [
        {
          "output_type": "stream",
          "text": [
            "2136701 2136701\n"
          ],
          "name": "stdout"
        }
      ]
    },
    {
      "cell_type": "code",
      "metadata": {
        "id": "jEFZCLkskvjn",
        "colab_type": "code",
        "colab": {}
      },
      "source": [
        "d={\"input\":words_input,\"target\":words_target}\n",
        "df=pd.DataFrame(data=d)\n",
        "df.to_csv(\"word_list.txt\",index=False,sep=\"\\t\")"
      ],
      "execution_count": 0,
      "outputs": []
    },
    {
      "cell_type": "markdown",
      "metadata": {
        "id": "kIbamjf9kyzL",
        "colab_type": "text"
      },
      "source": [
        "Up to now we have dowloaded the data and transform it as we wanted, the idea od the input data to train our network is that the word is going to be given as a word with undersocres (example: \"som_th_ng\") and the output has to be the full word. Since we have the condition of have up to 4 empty spaces, we consider some random combinations of this for all the words in the dataset therefore we got a dataset of around $2\\times 10^{6}$.\n",
        "Since this makes quite expensive to compute the weights, we will take just a part of the data"
      ]
    },
    {
      "cell_type": "code",
      "metadata": {
        "id": "A58KZHRrls6m",
        "colab_type": "code",
        "colab": {
          "base_uri": "https://localhost:8080/",
          "height": 1000
        },
        "outputId": "d1ee0135-4647-4edd-8789-713ef6941979"
      },
      "source": [
        "df=pd.read_csv(\"word_list.txt\",sep=\"\\t\")\n",
        "df.dropna()"
      ],
      "execution_count": 75,
      "outputs": [
        {
          "output_type": "execute_result",
          "data": {
            "text/html": [
              "<div>\n",
              "<style scoped>\n",
              "    .dataframe tbody tr th:only-of-type {\n",
              "        vertical-align: middle;\n",
              "    }\n",
              "\n",
              "    .dataframe tbody tr th {\n",
              "        vertical-align: top;\n",
              "    }\n",
              "\n",
              "    .dataframe thead th {\n",
              "        text-align: right;\n",
              "    }\n",
              "</style>\n",
              "<table border=\"1\" class=\"dataframe\">\n",
              "  <thead>\n",
              "    <tr style=\"text-align: right;\">\n",
              "      <th></th>\n",
              "      <th>input</th>\n",
              "      <th>target</th>\n",
              "    </tr>\n",
              "  </thead>\n",
              "  <tbody>\n",
              "    <tr>\n",
              "      <th>0</th>\n",
              "      <td>_en</td>\n",
              "      <td>pen</td>\n",
              "    </tr>\n",
              "    <tr>\n",
              "      <th>1</th>\n",
              "      <td>p_n</td>\n",
              "      <td>pen</td>\n",
              "    </tr>\n",
              "    <tr>\n",
              "      <th>2</th>\n",
              "      <td>pe_</td>\n",
              "      <td>pen</td>\n",
              "    </tr>\n",
              "    <tr>\n",
              "      <th>3</th>\n",
              "      <td>_irrah</td>\n",
              "      <td>sirrah</td>\n",
              "    </tr>\n",
              "    <tr>\n",
              "      <th>4</th>\n",
              "      <td>s_rrah</td>\n",
              "      <td>sirrah</td>\n",
              "    </tr>\n",
              "    <tr>\n",
              "      <th>5</th>\n",
              "      <td>si_rah</td>\n",
              "      <td>sirrah</td>\n",
              "    </tr>\n",
              "    <tr>\n",
              "      <th>6</th>\n",
              "      <td>sir_ah</td>\n",
              "      <td>sirrah</td>\n",
              "    </tr>\n",
              "    <tr>\n",
              "      <th>7</th>\n",
              "      <td>sirr_h</td>\n",
              "      <td>sirrah</td>\n",
              "    </tr>\n",
              "    <tr>\n",
              "      <th>8</th>\n",
              "      <td>sirra_</td>\n",
              "      <td>sirrah</td>\n",
              "    </tr>\n",
              "    <tr>\n",
              "      <th>9</th>\n",
              "      <td>unp_otected</td>\n",
              "      <td>unprotected</td>\n",
              "    </tr>\n",
              "    <tr>\n",
              "      <th>10</th>\n",
              "      <td>unprot_cted</td>\n",
              "      <td>unprotected</td>\n",
              "    </tr>\n",
              "    <tr>\n",
              "      <th>11</th>\n",
              "      <td>unprote_ted</td>\n",
              "      <td>unprotected</td>\n",
              "    </tr>\n",
              "    <tr>\n",
              "      <th>12</th>\n",
              "      <td>unprotec_ed</td>\n",
              "      <td>unprotected</td>\n",
              "    </tr>\n",
              "    <tr>\n",
              "      <th>13</th>\n",
              "      <td>unprotect_d</td>\n",
              "      <td>unprotected</td>\n",
              "    </tr>\n",
              "    <tr>\n",
              "      <th>14</th>\n",
              "      <td>unprotecte_</td>\n",
              "      <td>unprotected</td>\n",
              "    </tr>\n",
              "    <tr>\n",
              "      <th>15</th>\n",
              "      <td>_nheriting</td>\n",
              "      <td>inheriting</td>\n",
              "    </tr>\n",
              "    <tr>\n",
              "      <th>16</th>\n",
              "      <td>in_eriting</td>\n",
              "      <td>inheriting</td>\n",
              "    </tr>\n",
              "    <tr>\n",
              "      <th>17</th>\n",
              "      <td>inh_riting</td>\n",
              "      <td>inheriting</td>\n",
              "    </tr>\n",
              "    <tr>\n",
              "      <th>18</th>\n",
              "      <td>inhe_iting</td>\n",
              "      <td>inheriting</td>\n",
              "    </tr>\n",
              "    <tr>\n",
              "      <th>19</th>\n",
              "      <td>inher_ting</td>\n",
              "      <td>inheriting</td>\n",
              "    </tr>\n",
              "    <tr>\n",
              "      <th>20</th>\n",
              "      <td>inherit_ng</td>\n",
              "      <td>inheriting</td>\n",
              "    </tr>\n",
              "    <tr>\n",
              "      <th>21</th>\n",
              "      <td>inheriti_g</td>\n",
              "      <td>inheriting</td>\n",
              "    </tr>\n",
              "    <tr>\n",
              "      <th>22</th>\n",
              "      <td>_hrombocytosis</td>\n",
              "      <td>thrombocytosis</td>\n",
              "    </tr>\n",
              "    <tr>\n",
              "      <th>23</th>\n",
              "      <td>t_rombocytosis</td>\n",
              "      <td>thrombocytosis</td>\n",
              "    </tr>\n",
              "    <tr>\n",
              "      <th>24</th>\n",
              "      <td>thr_mbocytosis</td>\n",
              "      <td>thrombocytosis</td>\n",
              "    </tr>\n",
              "    <tr>\n",
              "      <th>25</th>\n",
              "      <td>thro_bocytosis</td>\n",
              "      <td>thrombocytosis</td>\n",
              "    </tr>\n",
              "    <tr>\n",
              "      <th>26</th>\n",
              "      <td>thromb_cytosis</td>\n",
              "      <td>thrombocytosis</td>\n",
              "    </tr>\n",
              "    <tr>\n",
              "      <th>27</th>\n",
              "      <td>thrombo_ytosis</td>\n",
              "      <td>thrombocytosis</td>\n",
              "    </tr>\n",
              "    <tr>\n",
              "      <th>28</th>\n",
              "      <td>thromboc_tosis</td>\n",
              "      <td>thrombocytosis</td>\n",
              "    </tr>\n",
              "    <tr>\n",
              "      <th>29</th>\n",
              "      <td>thrombocyt_sis</td>\n",
              "      <td>thrombocytosis</td>\n",
              "    </tr>\n",
              "    <tr>\n",
              "      <th>...</th>\n",
              "      <td>...</td>\n",
              "      <td>...</td>\n",
              "    </tr>\n",
              "    <tr>\n",
              "      <th>2136671</th>\n",
              "      <td>____op</td>\n",
              "      <td>wallop</td>\n",
              "    </tr>\n",
              "    <tr>\n",
              "      <th>2136672</th>\n",
              "      <td>___l_p</td>\n",
              "      <td>wallop</td>\n",
              "    </tr>\n",
              "    <tr>\n",
              "      <th>2136673</th>\n",
              "      <td>___lo_</td>\n",
              "      <td>wallop</td>\n",
              "    </tr>\n",
              "    <tr>\n",
              "      <th>2136674</th>\n",
              "      <td>__l_o_</td>\n",
              "      <td>wallop</td>\n",
              "    </tr>\n",
              "    <tr>\n",
              "      <th>2136675</th>\n",
              "      <td>__ll__</td>\n",
              "      <td>wallop</td>\n",
              "    </tr>\n",
              "    <tr>\n",
              "      <th>2136676</th>\n",
              "      <td>_a___p</td>\n",
              "      <td>wallop</td>\n",
              "    </tr>\n",
              "    <tr>\n",
              "      <th>2136677</th>\n",
              "      <td>_al___</td>\n",
              "      <td>wallop</td>\n",
              "    </tr>\n",
              "    <tr>\n",
              "      <th>2136678</th>\n",
              "      <td>w____p</td>\n",
              "      <td>wallop</td>\n",
              "    </tr>\n",
              "    <tr>\n",
              "      <th>2136679</th>\n",
              "      <td>w___o_</td>\n",
              "      <td>wallop</td>\n",
              "    </tr>\n",
              "    <tr>\n",
              "      <th>2136680</th>\n",
              "      <td>wa____</td>\n",
              "      <td>wallop</td>\n",
              "    </tr>\n",
              "    <tr>\n",
              "      <th>2136681</th>\n",
              "      <td>____an</td>\n",
              "      <td>tarpan</td>\n",
              "    </tr>\n",
              "    <tr>\n",
              "      <th>2136682</th>\n",
              "      <td>___p_n</td>\n",
              "      <td>tarpan</td>\n",
              "    </tr>\n",
              "    <tr>\n",
              "      <th>2136683</th>\n",
              "      <td>___pa_</td>\n",
              "      <td>tarpan</td>\n",
              "    </tr>\n",
              "    <tr>\n",
              "      <th>2136684</th>\n",
              "      <td>__r__n</td>\n",
              "      <td>tarpan</td>\n",
              "    </tr>\n",
              "    <tr>\n",
              "      <th>2136685</th>\n",
              "      <td>__rp__</td>\n",
              "      <td>tarpan</td>\n",
              "    </tr>\n",
              "    <tr>\n",
              "      <th>2136686</th>\n",
              "      <td>_a___n</td>\n",
              "      <td>tarpan</td>\n",
              "    </tr>\n",
              "    <tr>\n",
              "      <th>2136687</th>\n",
              "      <td>t__p__</td>\n",
              "      <td>tarpan</td>\n",
              "    </tr>\n",
              "    <tr>\n",
              "      <th>2136688</th>\n",
              "      <td>t_r___</td>\n",
              "      <td>tarpan</td>\n",
              "    </tr>\n",
              "    <tr>\n",
              "      <th>2136689</th>\n",
              "      <td>ta____</td>\n",
              "      <td>tarpan</td>\n",
              "    </tr>\n",
              "    <tr>\n",
              "      <th>2136690</th>\n",
              "      <td>__m_m_nt</td>\n",
              "      <td>armament</td>\n",
              "    </tr>\n",
              "    <tr>\n",
              "      <th>2136691</th>\n",
              "      <td>__ma__nt</td>\n",
              "      <td>armament</td>\n",
              "    </tr>\n",
              "    <tr>\n",
              "      <th>2136692</th>\n",
              "      <td>__mam__t</td>\n",
              "      <td>armament</td>\n",
              "    </tr>\n",
              "    <tr>\n",
              "      <th>2136693</th>\n",
              "      <td>_r_am__t</td>\n",
              "      <td>armament</td>\n",
              "    </tr>\n",
              "    <tr>\n",
              "      <th>2136694</th>\n",
              "      <td>_r_am_n_</td>\n",
              "      <td>armament</td>\n",
              "    </tr>\n",
              "    <tr>\n",
              "      <th>2136695</th>\n",
              "      <td>a__ame__</td>\n",
              "      <td>armament</td>\n",
              "    </tr>\n",
              "    <tr>\n",
              "      <th>2136696</th>\n",
              "      <td>a_m_m__t</td>\n",
              "      <td>armament</td>\n",
              "    </tr>\n",
              "    <tr>\n",
              "      <th>2136697</th>\n",
              "      <td>a_m_me__</td>\n",
              "      <td>armament</td>\n",
              "    </tr>\n",
              "    <tr>\n",
              "      <th>2136698</th>\n",
              "      <td>ar____nt</td>\n",
              "      <td>armament</td>\n",
              "    </tr>\n",
              "    <tr>\n",
              "      <th>2136699</th>\n",
              "      <td>ar___en_</td>\n",
              "      <td>armament</td>\n",
              "    </tr>\n",
              "    <tr>\n",
              "      <th>2136700</th>\n",
              "      <td>ar_a_e__</td>\n",
              "      <td>armament</td>\n",
              "    </tr>\n",
              "  </tbody>\n",
              "</table>\n",
              "<p>2136681 rows × 2 columns</p>\n",
              "</div>"
            ],
            "text/plain": [
              "                  input          target\n",
              "0                   _en             pen\n",
              "1                   p_n             pen\n",
              "2                   pe_             pen\n",
              "3                _irrah          sirrah\n",
              "4                s_rrah          sirrah\n",
              "5                si_rah          sirrah\n",
              "6                sir_ah          sirrah\n",
              "7                sirr_h          sirrah\n",
              "8                sirra_          sirrah\n",
              "9           unp_otected     unprotected\n",
              "10          unprot_cted     unprotected\n",
              "11          unprote_ted     unprotected\n",
              "12          unprotec_ed     unprotected\n",
              "13          unprotect_d     unprotected\n",
              "14          unprotecte_     unprotected\n",
              "15           _nheriting      inheriting\n",
              "16           in_eriting      inheriting\n",
              "17           inh_riting      inheriting\n",
              "18           inhe_iting      inheriting\n",
              "19           inher_ting      inheriting\n",
              "20           inherit_ng      inheriting\n",
              "21           inheriti_g      inheriting\n",
              "22       _hrombocytosis  thrombocytosis\n",
              "23       t_rombocytosis  thrombocytosis\n",
              "24       thr_mbocytosis  thrombocytosis\n",
              "25       thro_bocytosis  thrombocytosis\n",
              "26       thromb_cytosis  thrombocytosis\n",
              "27       thrombo_ytosis  thrombocytosis\n",
              "28       thromboc_tosis  thrombocytosis\n",
              "29       thrombocyt_sis  thrombocytosis\n",
              "...                 ...             ...\n",
              "2136671          ____op          wallop\n",
              "2136672          ___l_p          wallop\n",
              "2136673          ___lo_          wallop\n",
              "2136674          __l_o_          wallop\n",
              "2136675          __ll__          wallop\n",
              "2136676          _a___p          wallop\n",
              "2136677          _al___          wallop\n",
              "2136678          w____p          wallop\n",
              "2136679          w___o_          wallop\n",
              "2136680          wa____          wallop\n",
              "2136681          ____an          tarpan\n",
              "2136682          ___p_n          tarpan\n",
              "2136683          ___pa_          tarpan\n",
              "2136684          __r__n          tarpan\n",
              "2136685          __rp__          tarpan\n",
              "2136686          _a___n          tarpan\n",
              "2136687          t__p__          tarpan\n",
              "2136688          t_r___          tarpan\n",
              "2136689          ta____          tarpan\n",
              "2136690        __m_m_nt        armament\n",
              "2136691        __ma__nt        armament\n",
              "2136692        __mam__t        armament\n",
              "2136693        _r_am__t        armament\n",
              "2136694        _r_am_n_        armament\n",
              "2136695        a__ame__        armament\n",
              "2136696        a_m_m__t        armament\n",
              "2136697        a_m_me__        armament\n",
              "2136698        ar____nt        armament\n",
              "2136699        ar___en_        armament\n",
              "2136700        ar_a_e__        armament\n",
              "\n",
              "[2136681 rows x 2 columns]"
            ]
          },
          "metadata": {
            "tags": []
          },
          "execution_count": 75
        }
      ]
    },
    {
      "cell_type": "code",
      "metadata": {
        "id": "nePhZxXSlvF3",
        "colab_type": "code",
        "colab": {
          "base_uri": "https://localhost:8080/",
          "height": 68
        },
        "outputId": "beb65421-2eb6-43b3-bd81-003f6eb6b27e"
      },
      "source": [
        "vocabulary=\"\"\n",
        "for i in range(len(new_words)):\n",
        "  vocabulary+=new_words[i]\n",
        "vocabulary=list(set(vocabulary))\n",
        "vocabulary.append(\"_\")\n",
        "vocabulary_size=len(vocabulary)\n",
        "Max_input= max([len(i) for i in new_words])\n",
        "Avg_size=np.array([len(i) for i in new_words]).mean()\n",
        "Std_size=np.array([len(i) for i in new_words]).std()\n",
        "print('Max word length: {}, average word length: {:0.1f} +/- {:0.1f}'.format(Max_input, Avg_size,Std_size))\n",
        "char_to_index = dict((c, i) for i, c in enumerate(vocabulary))\n",
        "index_to_char = dict((i, c) for i, c in enumerate(vocabulary))\n",
        "print(\"Total number of posibilities:\", len(words_input))\n",
        "print(\"Vocabulary size:\", vocabulary_size)"
      ],
      "execution_count": 76,
      "outputs": [
        {
          "output_type": "stream",
          "text": [
            "Max word length: 31, average word length: 8.6 +/- 2.7\n",
            "Total number of posibilities: 2136701\n",
            "Vocabulary size: 27\n"
          ],
          "name": "stdout"
        }
      ]
    },
    {
      "cell_type": "code",
      "metadata": {
        "id": "_15_tXq1lxgJ",
        "colab_type": "code",
        "colab": {
          "base_uri": "https://localhost:8080/",
          "height": 238
        },
        "outputId": "9e001a95-8d3a-43ca-d014-c5fb807ffad4"
      },
      "source": [
        "model = Sequential()\n",
        "model.add(LSTM(128, input_shape=(Max_input, vocabulary_size), return_sequences=True, name=\"lstm_1\"))\n",
        "model.add(TimeDistributed(Dense(vocabulary_size), name=\"dense_1\"))#Check names to see how to load weights\n",
        "model.add(Activation('softmax', name=\"activation_1\"))\n",
        "model.summary(70)"
      ],
      "execution_count": 77,
      "outputs": [
        {
          "output_type": "stream",
          "text": [
            "______________________________________________________________________\n",
            "Layer (type)                   Output Shape                Param #    \n",
            "======================================================================\n",
            "lstm_1 (LSTM)                  (None, 31, 128)             79872      \n",
            "______________________________________________________________________\n",
            "dense_1 (TimeDistributed)      (None, 31, 27)              3483       \n",
            "______________________________________________________________________\n",
            "activation_1 (Activation)      (None, 31, 27)              0          \n",
            "======================================================================\n",
            "Total params: 83,355\n",
            "Trainable params: 83,355\n",
            "Non-trainable params: 0\n",
            "______________________________________________________________________\n"
          ],
          "name": "stdout"
        }
      ]
    },
    {
      "cell_type": "code",
      "metadata": {
        "id": "eHVM0S4kl3HM",
        "colab_type": "code",
        "colab": {
          "base_uri": "https://localhost:8080/",
          "height": 51
        },
        "outputId": "e90c359c-450c-44de-efc1-6773bfc8fecd"
      },
      "source": [
        "new_df=df.sample(frac=1).dropna()\n",
        "x=new_df[\"input\"].values\n",
        "y=new_df[\"target\"].values\n",
        "x_train=x[:int(0.2*len(x))]\n",
        "y_train=y[:int(0.2*len(y))]\n",
        "print(x_train.shape,y_train.shape)\n",
        "X_encoded=np.zeros((len(x_train),Max_input,vocabulary_size),dtype=np.bool)\n",
        "Y_encoded=np.zeros((len(y_train),Max_input,vocabulary_size),dtype=np.bool)\n",
        "#fill X_encoded\n",
        "for i in range(X_encoded.shape[0]):\n",
        "    for t, char in enumerate(x_train[i]):\n",
        "        X_encoded[i,t,char_to_index[char]]=1\n",
        "# fill Y_encoded\n",
        "for i in range(Y_encoded.shape[0]):\n",
        "    for t,char in enumerate(y_train[i]):\n",
        "      Y_encoded[i,t,char_to_index[char]]=1\n",
        "print(\"The shapes are\",X_encoded.shape,Y_encoded.shape)"
      ],
      "execution_count": 81,
      "outputs": [
        {
          "output_type": "stream",
          "text": [
            "(427336,) (427336,)\n",
            "The shapes are (427336, 31, 27) (427336, 31, 27)\n"
          ],
          "name": "stdout"
        }
      ]
    },
    {
      "cell_type": "code",
      "metadata": {
        "id": "SL69NUZOqzk5",
        "colab_type": "code",
        "colab": {}
      },
      "source": [
        ""
      ],
      "execution_count": 0,
      "outputs": []
    },
    {
      "cell_type": "code",
      "metadata": {
        "id": "mzZiJCCwqd0e",
        "colab_type": "code",
        "colab": {
          "base_uri": "https://localhost:8080/",
          "height": 34
        },
        "outputId": "e18dfe5c-15f8-4306-9a23-ae8d8e2f471f"
      },
      "source": [
        ""
      ],
      "execution_count": 80,
      "outputs": [
        {
          "output_type": "stream",
          "text": [
            "The shapes are (427336, 31, 27) (427336, 31, 27)\n"
          ],
          "name": "stdout"
        }
      ]
    },
    {
      "cell_type": "code",
      "metadata": {
        "id": "rtnnv_dNmDCr",
        "colab_type": "code",
        "colab": {}
      },
      "source": [
        "optimizer = RMSprop(lr=0.01)\n",
        "model.compile(loss='categorical_crossentropy', optimizer=optimizer)\n",
        "model.fit(X_encoded,Y_encoded,batch_size=15,epochs=1)\n",
        "model.save(\"Model_hangman.h5\")\n",
        "model.save_weights(\"Model_weights.h5\")"
      ],
      "execution_count": 0,
      "outputs": []
    },
    {
      "cell_type": "code",
      "metadata": {
        "id": "vAiD4SbzmCuJ",
        "colab_type": "code",
        "colab": {}
      },
      "source": [
        "def log_likelihood(model, word):\n",
        "    probs = model.predict(parse_text(word, vocabulary_size, padding=True)).squeeze()\n",
        "    return sum([np.log(probs[i, char_to_index[c]]) \n",
        "                 for i,c in enumerate(word[1:]) ])\n",
        "  \n",
        "def shuffle_word_2(word,num=2):\n",
        "    len_word=len(word)\n",
        "    if len_word<=num:\n",
        "        return None\n",
        "    else:\n",
        "        for test in range(13):\n",
        "            positions=np.random.choice(range(len_word),size=num,replace=False)\n",
        "            char_list_words=np.array(list(word))\n",
        "            for i in positions:\n",
        "                char_list_words[i]=\"_\"\n",
        "            result = \"\".join(char_list_words)\n",
        "        return result"
      ],
      "execution_count": 0,
      "outputs": []
    },
    {
      "cell_type": "code",
      "metadata": {
        "id": "76CkIXfdmJwI",
        "colab_type": "code",
        "colab": {}
      },
      "source": [
        "#words=[\"people\",\"philosofy\",\"significance\",\"knowledge\",\"interrogation\"]\n",
        "palabra=\"people\"\n",
        "palabra_input=shuffle_word_2(palabra,2)\n",
        "print(\"word to predict {} with solution {}\".format(palabra_input,palabra))\n",
        "prob=model.predict(parse_text(palabra_input, vocabulary_size, padding=True)).squeeze()\n",
        "for j,i in enumerate(palabra_input):\n",
        "  print(np.argmax(prob[j]),index_to_char[np.argmax(prob[j])])"
      ],
      "execution_count": 0,
      "outputs": []
    },
    {
      "cell_type": "markdown",
      "metadata": {
        "id": "SSL-dxOfo-lj",
        "colab_type": "text"
      },
      "source": [
        "since this outup does not recognize correctly what is supposed to be the outup, we rather chose to use a different approach using regular expressions, the implementation is done in the cell below"
      ]
    },
    {
      "cell_type": "code",
      "metadata": {
        "id": "ex1Wtk_xecvR",
        "colab_type": "code",
        "outputId": "c47fd4f6-889b-4a17-ed2e-b0c4f5a2eb9e",
        "colab": {
          "base_uri": "https://localhost:8080/",
          "height": 287
        }
      },
      "source": [
        "# print(len(english_words))\n",
        "def hangman(word):\n",
        "  english_words_file = \"drive/My Drive/ml-datasets/50k.txt\"\n",
        "  with open(english_words_file, 'r') as words_file:\n",
        "    english_words = [line.replace('\\n', '') for line in words_file.readlines()]\n",
        "    \n",
        "  word_regex = f\"^{word.replace('_', '.')}$\"\n",
        "  matching_words = [set_word for set_word in english_words if re.match(word_regex, set_word) is not None]\n",
        "  guessed_word = \"no_word_found\" if len(matching_words) == 0 else random.choice(matching_words)\n",
        "  return guessed_word\n",
        "\n",
        "\n",
        "words= [\"pe_p_e\", \"phi__sop_y\", \"si_nif_c_nc_\", \"kn__l_d_e\", \"inte_r_ga_i_n\"]\n",
        "\n",
        "for word in words:\n",
        "  hangman_word = hangman(word)\n",
        "  print(f\"hangman('{word}'):\\n{hangman_word}\\n\")\n"
      ],
      "execution_count": 0,
      "outputs": [
        {
          "output_type": "stream",
          "text": [
            "hangman('pe_p_e'):\n",
            "people\n",
            "\n",
            "hangman('phi__sop_y'):\n",
            "philosophy\n",
            "\n",
            "hangman('si_nif_c_nc_'):\n",
            "significance\n",
            "\n",
            "hangman('kn__l_d_e'):\n",
            "knowledge\n",
            "\n",
            "hangman('inte_r_ga_i_n'):\n",
            "interrogation\n",
            "\n"
          ],
          "name": "stdout"
        }
      ]
    },
    {
      "cell_type": "markdown",
      "metadata": {
        "id": "iBZCcro0mWRG",
        "colab_type": "text"
      },
      "source": [
        "# Point 2. Movie poster classification\n",
        "\n",
        "### (a) Direct prediction\n",
        "\n",
        "$\\qquad$i. Download the dataset MM-IMDB from http://lisi1.unal.edu.co/mmimdb/. The dataset includes poster images from movies of different genres. Find the six most frequent genres, chose images only from those genres, filter the images that only belong to one genre. Report the size of the resulting training, development and test datasets per genre.\n",
        "\n",
        "$\\qquad$ii. Use Keras and the MobileNet pre-trained model, to classify the images in the dataset. Construct a confusion matrix that relates the six genres classes with the 10 most frequent classes from ImageNet predicted by the model.\n",
        "\n",
        "### (b) Transfer learning\n",
        "\n",
        "$\\qquad$i. Use the pre-trained MobileNet model as a feature extractor. Create a new model that replaces the top part of MobileNet with two layers of 256 and 6 neurons respectively.\n",
        "\n",
        "$\\qquad$ii. Train the model with the training images from the bird dataset.\n",
        "\n",
        "$\\qquad$iii. Evaluate the performance over the test dataset reporting the results in a confusion matrix. Discuss the results.\n",
        "\n",
        "### (c) Fine tuning\n",
        "\n",
        "$\\qquad$i. Repeat the experiment from the last question, but this time allow all the layers to be trained.\n",
        "\n",
        "$\\qquad$ii. Compare and discuss the results."
      ]
    },
    {
      "cell_type": "markdown",
      "metadata": {
        "id": "yW8lHesL7LYM",
        "colab_type": "text"
      },
      "source": [
        "## Extracting the dataset and the most common genres"
      ]
    },
    {
      "cell_type": "code",
      "metadata": {
        "id": "Igw5OUVgP68k",
        "colab_type": "code",
        "outputId": "58126938-afb1-4c90-ee9f-a4280c8b6d96",
        "colab": {
          "base_uri": "https://localhost:8080/",
          "height": 34
        }
      },
      "source": [
        "# Importing raw array dataset\n",
        "movies = h5py.File(original_dataset_path, 'r')\n",
        "\n",
        "# Extracting movies with only one genre\n",
        "full_movies_genres = np.array(movies['genres'])\n",
        "full_movies_ids = np.array(movies['imdb_ids'])\n",
        "full_movies_ids_str = []\n",
        "for i in range(len(full_movies_ids)):\n",
        "  full_movies_ids_str.append(full_movies_ids[i].decode('utf-8'))\n",
        "\n",
        "movies_idx_unigenre = np.where(full_movies_genres.sum(axis=1)==1)[0]\n",
        "\n",
        "# Extracting the movies of each genre in the six largest genres\n",
        "genres_sum = full_movies_genres[movies_idx_unigenre].sum(axis = 0)\n",
        "diccionario = {}\n",
        "for i in range(len(genres_sum)):\n",
        "  diccionario[i] = genres_sum[i]\n",
        "biggest_genres_idxs = sorted(diccionario,key=diccionario.get, reverse=True)[:6]\n",
        "positions = [] \n",
        "for j in movies_idx_unigenre:\n",
        "  if np.argmax(full_movies_genres[j]) in biggest_genres_idxs:\n",
        "    positions.append(j)\n",
        "positions = np.array(positions)  \n",
        "\n",
        "reshape_movies = []\n",
        "ids_movies = []\n",
        "for i in positions:\n",
        "  ids_movies.append(full_movies_ids_str[i])\n",
        "  reshape_movies.append(np.swapaxes(movies[\"images\"][i].T,axis1=0,axis2=1))\n",
        "filtered_movies_genres = full_movies_genres[positions]\n",
        "#   return reshape_movies}\n",
        "list(movies.keys())\n",
        "\n",
        "import gc\n",
        "gc.collect()\n",
        "\n",
        "genres_freqs_labels = {\"Drama\": 2681, \"Comedy\": 1337, \"Documentary\": 918, \"Horror\": 417, \"Western\": 173, \"Thriller\": 143, \"Sci-Fi\": 56, \"Action\": 53, \"Short\": 30, \"Adventure\": 30, \"Romance\": 22, \"Mystery\": 20, \"Family\": 18, \"Musical\": 16, \"Fantasy\": 16, \"Crime\": 9, \"Music\": 7, \"War\": 6, \"Biography\": 5, \"Animation\": 4, \"Sport\": 1, \"History\": 1}\n",
        "diccionario\n",
        "genres_sum\n",
        "\n",
        "original_genres_labels =[]\n",
        "for label_freq in genres_sum:\n",
        "  labels = [label for label, freq in genres_freqs_labels.items() if freq==label_freq]\n",
        "  original_genres_labels.append(None if len(labels)==0 else labels[0])\n",
        "original_genres_labels"
      ],
      "execution_count": 0,
      "outputs": [
        {
          "output_type": "execute_result",
          "data": {
            "text/plain": [
              "61"
            ]
          },
          "metadata": {
            "tags": []
          },
          "execution_count": 25
        }
      ]
    },
    {
      "cell_type": "markdown",
      "metadata": {
        "id": "gmOfgLXyfpex",
        "colab_type": "text"
      },
      "source": [
        "Loading the genres of the most common unigenre movies"
      ]
    },
    {
      "cell_type": "code",
      "metadata": {
        "id": "So9HsvoYThAi",
        "colab_type": "code",
        "outputId": "71c237b8-bd7d-4180-ca55-9da6a818f86c",
        "colab": {
          "base_uri": "https://localhost:8080/",
          "height": 34
        }
      },
      "source": [
        "# Loading the genres of the most common unigenre movies\n",
        "reshape_movies_genres_path=\"drive/My Drive/ml-datasets/movies-reshaped-genres.npy\"\n",
        "filtered_movies_genres = np.load(reshape_movies_genres_path)\n",
        "filtered_movies_genres.shape"
      ],
      "execution_count": 0,
      "outputs": [
        {
          "output_type": "execute_result",
          "data": {
            "text/plain": [
              "(5669, 23)"
            ]
          },
          "metadata": {
            "tags": []
          },
          "execution_count": 4
        }
      ]
    },
    {
      "cell_type": "code",
      "metadata": {
        "id": "MM9dMR8vWmqC",
        "colab_type": "code",
        "colab": {}
      },
      "source": [
        "biggest_genres_idxs=[0, 1, 8, 7, 19, 3]\n",
        "original_genres_labels = ['Drama', 'Comedy', 'Romance', 'Thriller', 'Crime', 'Action', 'Short', 'Horror', 'Documentary', 'Mystery', 'Sci-Fi', 'Musical', 'Family', 'Biography', 'War', 'Sport', 'Music', 'Animation', 'Musical', 'Western', 'Sport', None, None]"
      ],
      "execution_count": 0,
      "outputs": []
    },
    {
      "cell_type": "code",
      "metadata": {
        "id": "CyPorTkj2XLj",
        "colab_type": "code",
        "outputId": "61981472-2063-4df5-94e0-dee49367c6c6",
        "colab": {
          "base_uri": "https://localhost:8080/",
          "height": 34
        }
      },
      "source": [
        "# Loading the images of the most common unigenre movies in format (250, 160,3)\n",
        "movies_reshaped_path=\"drive/My Drive/ml-datasets/movies-reshaped.npy\"\n",
        "reshape_movies = np.load(movies_reshaped_path)\n",
        "reshape_movies.shape"
      ],
      "execution_count": 0,
      "outputs": [
        {
          "output_type": "execute_result",
          "data": {
            "text/plain": [
              "(5669, 256, 160, 3)"
            ]
          },
          "metadata": {
            "tags": []
          },
          "execution_count": 5
        }
      ]
    },
    {
      "cell_type": "code",
      "metadata": {
        "id": "OAHOH4cJ2-Ec",
        "colab_type": "code",
        "colab": {}
      },
      "source": [
        "# Table class to display results\n",
        "\n",
        "class ListTable(list):\n",
        "    \"\"\" Overridden list class which takes a 2-dimensional list of\n",
        "        the form [[1,2,3],[4,5,6]], and renders an HTML Table in\n",
        "        IPython Notebook. \"\"\"\n",
        "\n",
        "    def _repr_html_(self):\n",
        "        html = [\"<table>\"]\n",
        "        for ridx, row in enumerate(self):\n",
        "            html.append(\"<tr>\")\n",
        "            row = list(row)\n",
        "            for cidx, col in enumerate(row):\n",
        "                cell = f\"<td width='100' style='text-align: center; vertical-align: middle;''> {col}</td>\" if ridx != 0 and cidx != 0 else f\"<th width='80'>{col}</th>\"\n",
        "                html.append(cell)\n",
        "            html.append(\"</tr>\")\n",
        "        html.append(\"</table>\")\n",
        "        return ''.join(html)"
      ],
      "execution_count": 0,
      "outputs": []
    },
    {
      "cell_type": "markdown",
      "metadata": {
        "id": "oTej9f9WgGFH",
        "colab_type": "text"
      },
      "source": [
        "checking the movie posters"
      ]
    },
    {
      "cell_type": "code",
      "metadata": {
        "id": "Aw8YnVRP3RM5",
        "colab_type": "code",
        "outputId": "eadcded7-6af3-42be-be94-c5cd3f6712a0",
        "colab": {
          "base_uri": "https://localhost:8080/",
          "height": 269
        }
      },
      "source": [
        "# A function to show movie posters\n",
        "def show_image(movie_image): \n",
        "  img_pil = array_to_img(movie_image)\n",
        "  plt.imshow(img_pil)\n",
        "  \n",
        "show_image(reshape_movies[31])"
      ],
      "execution_count": 0,
      "outputs": [
        {
          "output_type": "display_data",
          "data": {
            "image/png": "[encoded data removed]",
            "text/plain": [
              "<Figure size 432x288 with 1 Axes>"
            ]
          },
          "metadata": {
            "tags": []
          }
        }
      ]
    },
    {
      "cell_type": "markdown",
      "metadata": {
        "id": "M6yGBSwZ8Vm2",
        "colab_type": "text"
      },
      "source": [
        "# (a) i. Dataset\n",
        "\n",
        "### In orden to find the most frequent genres"
      ]
    },
    {
      "cell_type": "code",
      "metadata": {
        "id": "oIGg1ATA8bN8",
        "colab_type": "code",
        "outputId": "eece54ee-6f8c-4d15-c145-f279557c77d8",
        "colab": {
          "base_uri": "https://localhost:8080/",
          "height": 166
        }
      },
      "source": [
        "scores_table = ListTable()\n",
        "scores_table.append(np.append(\"Genre\",\"Movies\"))\n",
        "for idx in biggest_genres_idxs:\n",
        "  scores_table.append(np.append(original_genres_labels[idx],genres_sum[idx]))\n",
        "  \n",
        "scores_table"
      ],
      "execution_count": 0,
      "outputs": [
        {
          "output_type": "execute_result",
          "data": {
            "text/html": [
              "<table><tr><th width='80'>Genre</th><th width='80'>Movies</th></tr><tr><th width='80'>Drama</th><td width='100' style='text-align: center; vertical-align: middle;''> 2681</td></tr><tr><th width='80'>Comedy</th><td width='100' style='text-align: center; vertical-align: middle;''> 1337</td></tr><tr><th width='80'>Documentary</th><td width='100' style='text-align: center; vertical-align: middle;''> 918</td></tr><tr><th width='80'>Horror</th><td width='100' style='text-align: center; vertical-align: middle;''> 417</td></tr><tr><th width='80'>Western</th><td width='100' style='text-align: center; vertical-align: middle;''> 173</td></tr><tr><th width='80'>Thriller</th><td width='100' style='text-align: center; vertical-align: middle;''> 143</td></tr></table>"
            ],
            "text/plain": [
              "[array(['Genre', 'Movies'], dtype='<U6'),\n",
              " array(['Drama', '2681'], dtype='<U21'),\n",
              " array(['Comedy', '1337'], dtype='<U21'),\n",
              " array(['Documentary', '918'], dtype='<U21'),\n",
              " array(['Horror', '417'], dtype='<U21'),\n",
              " array(['Western', '173'], dtype='<U21'),\n",
              " array(['Thriller', '143'], dtype='<U21')]"
            ]
          },
          "metadata": {
            "tags": []
          },
          "execution_count": 118
        }
      ]
    },
    {
      "cell_type": "markdown",
      "metadata": {
        "id": "o3A6zCzd_gqN",
        "colab_type": "text"
      },
      "source": [
        "### Training and validation sets"
      ]
    },
    {
      "cell_type": "code",
      "metadata": {
        "id": "QeCM_-6JaLrD",
        "colab_type": "code",
        "outputId": "d0da5954-1a12-4db0-84bd-2a5ca88beca4",
        "colab": {
          "base_uri": "https://localhost:8080/",
          "height": 85
        }
      },
      "source": [
        "# NOT NECESSARY AS THE NEXT CELL LOADS THE DATA\n",
        "# Creating training and test sets\n",
        "movies_genres = filtered_movies_genres\n",
        "movies_images = np.array(reshape_movies)\n",
        "\n",
        "training_fraction = 0.8\n",
        "set_size = len(movies_genres)\n",
        "movies_idxs = [i for i in range(set_size)]\n",
        "random.shuffle(movies_idxs)\n",
        "training_size = int(len(movies_idxs) * training_fraction)\n",
        "movies_images_training = np.array([movies_images[m] for m in movies_idxs[0:training_size]])\n",
        "movies_genres_training = np.array([movies_genres[m] for m in movies_idxs[0:training_size]])\n",
        "movies_images_test = np.array([movies_images[m] for m in movies_idxs[training_size - 1:set_size]])\n",
        "movies_genres_test = np.array([movies_genres[m] for m in movies_idxs[training_size - 1:set_size]])\n",
        "print(f\"Training set size (image): {len(movies_images_training)}\")\n",
        "print(f\"Training set size (genre): {len(movies_genres_training)}\")\n",
        "print(f\"Test set size (image): {len(movies_images_test)}\")\n",
        "print(f\"Test set size (genre): {len(movies_genres_test)}\")"
      ],
      "execution_count": 0,
      "outputs": [
        {
          "output_type": "stream",
          "text": [
            "Training set size (image): 4535\n",
            "Training set size (genre): 4535\n",
            "Test set size (image): 1135\n",
            "Test set size (genre): 1135\n"
          ],
          "name": "stdout"
        }
      ]
    },
    {
      "cell_type": "code",
      "metadata": {
        "id": "IPpjwhnnWYQb",
        "colab_type": "code",
        "outputId": "4623052f-9388-42ba-a38a-81726084b72f",
        "colab": {
          "base_uri": "https://localhost:8080/",
          "height": 34
        }
      },
      "source": [
        "# Reading training and test sets\n",
        "\n",
        "filtered_dataset_path = 'drive/My Drive/ml-datasets/movies-training-validation.h5'\n",
        "if not os.path.isfile(filtered_dataset_path) :\n",
        "    hf = h5py.File(filtered_dataset_path, 'w')\n",
        "    hf.create_dataset('images-train', data=movies_images_training)\n",
        "    hf.create_dataset('genres-train', data=movies_genres_training)\n",
        "    hf.create_dataset('images-test', data=movies_images_test)\n",
        "    hf.create_dataset('genres-test', data=movies_genres_test)\n",
        "    hf.close()\n",
        "else :\n",
        "    movies_filtered = h5py.File(filtered_dataset_path, 'r')\n",
        "    print(list(movies_filtered.keys()))\n",
        "    movies_images_training = movies_filtered['images-train']\n",
        "    movies_genres_training = movies_filtered['genres-train']\n",
        "    movies_images_test = movies_filtered['images-test']\n",
        "    movies_genres_test = movies_filtered['genres-test']"
      ],
      "execution_count": 0,
      "outputs": [
        {
          "output_type": "stream",
          "text": [
            "['genres-test', 'genres-train', 'images-test', 'images-train']\n"
          ],
          "name": "stdout"
        }
      ]
    },
    {
      "cell_type": "code",
      "metadata": {
        "id": "9iq4lt3i_2rv",
        "colab_type": "code",
        "outputId": "e5f5089a-4232-49d4-e285-66204edb35eb",
        "colab": {
          "base_uri": "https://localhost:8080/",
          "height": 183
        }
      },
      "source": [
        "print(\"Distribution training set\")\n",
        "table_content = []\n",
        "table_content.append([\"\",\"Training set\",\"Validation set\"])\n",
        "\n",
        "for idx, gidx in enumerate(biggest_genres_idxs):\n",
        "  train_size = len([movie for movie in movies_genres_training if movie[gidx]==1])\n",
        "  valid_size = len([movie for movie in movies_genres_test if movie[gidx]==1])\n",
        "  table_content.append([original_genres_labels[gidx] ,train_size, valid_size])\n",
        "  \n",
        "scores_table = ListTable()\n",
        "for line in table_content:\n",
        "  scores_table.append(line)\n",
        "  \n",
        "scores_table\n"
      ],
      "execution_count": 0,
      "outputs": [
        {
          "output_type": "stream",
          "text": [
            "Distribution training set\n"
          ],
          "name": "stdout"
        },
        {
          "output_type": "execute_result",
          "data": {
            "text/html": [
              "<table><tr><th width='80'></th><th width='80'>Training set</th><th width='80'>Validation set</th></tr><tr><th width='80'>Drama</th><td width='100' style='text-align: center; vertical-align: middle;''> 2175</td><td width='100' style='text-align: center; vertical-align: middle;''> 507</td></tr><tr><th width='80'>Comedy</th><td width='100' style='text-align: center; vertical-align: middle;''> 1062</td><td width='100' style='text-align: center; vertical-align: middle;''> 275</td></tr><tr><th width='80'>Documentary</th><td width='100' style='text-align: center; vertical-align: middle;''> 717</td><td width='100' style='text-align: center; vertical-align: middle;''> 201</td></tr><tr><th width='80'>Horror</th><td width='100' style='text-align: center; vertical-align: middle;''> 332</td><td width='100' style='text-align: center; vertical-align: middle;''> 85</td></tr><tr><th width='80'>Western</th><td width='100' style='text-align: center; vertical-align: middle;''> 133</td><td width='100' style='text-align: center; vertical-align: middle;''> 40</td></tr><tr><th width='80'>Thriller</th><td width='100' style='text-align: center; vertical-align: middle;''> 116</td><td width='100' style='text-align: center; vertical-align: middle;''> 27</td></tr></table>"
            ],
            "text/plain": [
              "[['', 'Training set', 'Validation set'],\n",
              " ['Drama', 2175, 507],\n",
              " ['Comedy', 1062, 275],\n",
              " ['Documentary', 717, 201],\n",
              " ['Horror', 332, 85],\n",
              " ['Western', 133, 40],\n",
              " ['Thriller', 116, 27]]"
            ]
          },
          "metadata": {
            "tags": []
          },
          "execution_count": 119
        }
      ]
    },
    {
      "cell_type": "markdown",
      "metadata": {
        "id": "LiUEMx3hNf8g",
        "colab_type": "text"
      },
      "source": [
        "# (a) ii. Direct prediction"
      ]
    },
    {
      "cell_type": "code",
      "metadata": {
        "id": "VUBcVjOvHFCq",
        "colab_type": "code",
        "colab": {}
      },
      "source": [
        "# NOT NECESSARY AS THE NEXT LINE READ THE RESULTS\n",
        "# Resizing the images to 224x224 square\n",
        "\n",
        "import gc\n",
        "square_movies_path=\"drive/My Drive/ml-datasets/squared-movies.npy\"\n",
        "if not os.path.isfile(square_movies_path):\n",
        "  images_square = np.zeros((5669,224,224,3))\n",
        "\n",
        "  for i in range(5669):\n",
        "    if i%400==0:\n",
        "      print(f\"Garbage collector {i}\")\n",
        "      gc.collect()\n",
        "    images_square[i]=resize(reshape_movies[i],(224,224), preserve_range=True)\n",
        "\n",
        "  reshape_movies = 3\n",
        "  gc.collect()\n",
        "\n",
        "  np.save(square_movies_path, images_square)"
      ],
      "execution_count": 0,
      "outputs": []
    },
    {
      "cell_type": "code",
      "metadata": {
        "id": "b3mGdxwvy7IS",
        "colab_type": "code",
        "colab": {}
      },
      "source": [
        "# Read square images\n",
        "square_movies_path=\"drive/My Drive/ml-datasets/squared-movies.npy\"\n",
        "images_square = np.load(square_movies_path)"
      ],
      "execution_count": 0,
      "outputs": []
    },
    {
      "cell_type": "code",
      "metadata": {
        "id": "L0LhRdyJMdMt",
        "colab_type": "code",
        "outputId": "dbe213ec-5c74-467b-b7a7-c8ee4b31eb34",
        "colab": {
          "base_uri": "https://localhost:8080/",
          "height": 1000
        }
      },
      "source": [
        "# Instantiating the model\n",
        "mobilenet_model = mobilenet.MobileNet(alpha=1.0, depth_multiplier=1, dropout=1e-3, include_top=True, weights='imagenet', input_tensor=None, pooling='avg')\n",
        "mobilenet_model.summary()"
      ],
      "execution_count": 0,
      "outputs": [
        {
          "output_type": "stream",
          "text": [
            "WARNING: Logging before flag parsing goes to stderr.\n",
            "W0706 02:44:52.139903 140659036948352 deprecation_wrapper.py:119] From /usr/local/lib/python3.6/dist-packages/keras/backend/tensorflow_backend.py:74: The name tf.get_default_graph is deprecated. Please use tf.compat.v1.get_default_graph instead.\n",
            "\n",
            "W0706 02:44:52.187000 140659036948352 deprecation_wrapper.py:119] From /usr/local/lib/python3.6/dist-packages/keras/backend/tensorflow_backend.py:517: The name tf.placeholder is deprecated. Please use tf.compat.v1.placeholder instead.\n",
            "\n",
            "W0706 02:44:52.208186 140659036948352 deprecation_wrapper.py:119] From /usr/local/lib/python3.6/dist-packages/keras/backend/tensorflow_backend.py:4138: The name tf.random_uniform is deprecated. Please use tf.random.uniform instead.\n",
            "\n",
            "W0706 02:44:52.248812 140659036948352 deprecation_wrapper.py:119] From /usr/local/lib/python3.6/dist-packages/keras/backend/tensorflow_backend.py:174: The name tf.get_default_session is deprecated. Please use tf.compat.v1.get_default_session instead.\n",
            "\n",
            "W0706 02:44:52.249660 140659036948352 deprecation_wrapper.py:119] From /usr/local/lib/python3.6/dist-packages/keras/backend/tensorflow_backend.py:181: The name tf.ConfigProto is deprecated. Please use tf.compat.v1.ConfigProto instead.\n",
            "\n",
            "W0706 02:44:55.294807 140659036948352 deprecation_wrapper.py:119] From /usr/local/lib/python3.6/dist-packages/keras/backend/tensorflow_backend.py:1834: The name tf.nn.fused_batch_norm is deprecated. Please use tf.compat.v1.nn.fused_batch_norm instead.\n",
            "\n",
            "W0706 02:44:57.774579 140659036948352 deprecation.py:506] From /usr/local/lib/python3.6/dist-packages/keras/backend/tensorflow_backend.py:3445: calling dropout (from tensorflow.python.ops.nn_ops) with keep_prob is deprecated and will be removed in a future version.\n",
            "Instructions for updating:\n",
            "Please use `rate` instead of `keep_prob`. Rate should be set to `rate = 1 - keep_prob`.\n"
          ],
          "name": "stderr"
        },
        {
          "output_type": "stream",
          "text": [
            "_________________________________________________________________\n",
            "Layer (type)                 Output Shape              Param #   \n",
            "=================================================================\n",
            "input_1 (InputLayer)         (None, 224, 224, 3)       0         \n",
            "_________________________________________________________________\n",
            "conv1_pad (ZeroPadding2D)    (None, 225, 225, 3)       0         \n",
            "_________________________________________________________________\n",
            "conv1 (Conv2D)               (None, 112, 112, 32)      864       \n",
            "_________________________________________________________________\n",
            "conv1_bn (BatchNormalization (None, 112, 112, 32)      128       \n",
            "_________________________________________________________________\n",
            "conv1_relu (ReLU)            (None, 112, 112, 32)      0         \n",
            "_________________________________________________________________\n",
            "conv_dw_1 (DepthwiseConv2D)  (None, 112, 112, 32)      288       \n",
            "_________________________________________________________________\n",
            "conv_dw_1_bn (BatchNormaliza (None, 112, 112, 32)      128       \n",
            "_________________________________________________________________\n",
            "conv_dw_1_relu (ReLU)        (None, 112, 112, 32)      0         \n",
            "_________________________________________________________________\n",
            "conv_pw_1 (Conv2D)           (None, 112, 112, 64)      2048      \n",
            "_________________________________________________________________\n",
            "conv_pw_1_bn (BatchNormaliza (None, 112, 112, 64)      256       \n",
            "_________________________________________________________________\n",
            "conv_pw_1_relu (ReLU)        (None, 112, 112, 64)      0         \n",
            "_________________________________________________________________\n",
            "conv_pad_2 (ZeroPadding2D)   (None, 113, 113, 64)      0         \n",
            "_________________________________________________________________\n",
            "conv_dw_2 (DepthwiseConv2D)  (None, 56, 56, 64)        576       \n",
            "_________________________________________________________________\n",
            "conv_dw_2_bn (BatchNormaliza (None, 56, 56, 64)        256       \n",
            "_________________________________________________________________\n",
            "conv_dw_2_relu (ReLU)        (None, 56, 56, 64)        0         \n",
            "_________________________________________________________________\n",
            "conv_pw_2 (Conv2D)           (None, 56, 56, 128)       8192      \n",
            "_________________________________________________________________\n",
            "conv_pw_2_bn (BatchNormaliza (None, 56, 56, 128)       512       \n",
            "_________________________________________________________________\n",
            "conv_pw_2_relu (ReLU)        (None, 56, 56, 128)       0         \n",
            "_________________________________________________________________\n",
            "conv_dw_3 (DepthwiseConv2D)  (None, 56, 56, 128)       1152      \n",
            "_________________________________________________________________\n",
            "conv_dw_3_bn (BatchNormaliza (None, 56, 56, 128)       512       \n",
            "_________________________________________________________________\n",
            "conv_dw_3_relu (ReLU)        (None, 56, 56, 128)       0         \n",
            "_________________________________________________________________\n",
            "conv_pw_3 (Conv2D)           (None, 56, 56, 128)       16384     \n",
            "_________________________________________________________________\n",
            "conv_pw_3_bn (BatchNormaliza (None, 56, 56, 128)       512       \n",
            "_________________________________________________________________\n",
            "conv_pw_3_relu (ReLU)        (None, 56, 56, 128)       0         \n",
            "_________________________________________________________________\n",
            "conv_pad_4 (ZeroPadding2D)   (None, 57, 57, 128)       0         \n",
            "_________________________________________________________________\n",
            "conv_dw_4 (DepthwiseConv2D)  (None, 28, 28, 128)       1152      \n",
            "_________________________________________________________________\n",
            "conv_dw_4_bn (BatchNormaliza (None, 28, 28, 128)       512       \n",
            "_________________________________________________________________\n",
            "conv_dw_4_relu (ReLU)        (None, 28, 28, 128)       0         \n",
            "_________________________________________________________________\n",
            "conv_pw_4 (Conv2D)           (None, 28, 28, 256)       32768     \n",
            "_________________________________________________________________\n",
            "conv_pw_4_bn (BatchNormaliza (None, 28, 28, 256)       1024      \n",
            "_________________________________________________________________\n",
            "conv_pw_4_relu (ReLU)        (None, 28, 28, 256)       0         \n",
            "_________________________________________________________________\n",
            "conv_dw_5 (DepthwiseConv2D)  (None, 28, 28, 256)       2304      \n",
            "_________________________________________________________________\n",
            "conv_dw_5_bn (BatchNormaliza (None, 28, 28, 256)       1024      \n",
            "_________________________________________________________________\n",
            "conv_dw_5_relu (ReLU)        (None, 28, 28, 256)       0         \n",
            "_________________________________________________________________\n",
            "conv_pw_5 (Conv2D)           (None, 28, 28, 256)       65536     \n",
            "_________________________________________________________________\n",
            "conv_pw_5_bn (BatchNormaliza (None, 28, 28, 256)       1024      \n",
            "_________________________________________________________________\n",
            "conv_pw_5_relu (ReLU)        (None, 28, 28, 256)       0         \n",
            "_________________________________________________________________\n",
            "conv_pad_6 (ZeroPadding2D)   (None, 29, 29, 256)       0         \n",
            "_________________________________________________________________\n",
            "conv_dw_6 (DepthwiseConv2D)  (None, 14, 14, 256)       2304      \n",
            "_________________________________________________________________\n",
            "conv_dw_6_bn (BatchNormaliza (None, 14, 14, 256)       1024      \n",
            "_________________________________________________________________\n",
            "conv_dw_6_relu (ReLU)        (None, 14, 14, 256)       0         \n",
            "_________________________________________________________________\n",
            "conv_pw_6 (Conv2D)           (None, 14, 14, 512)       131072    \n",
            "_________________________________________________________________\n",
            "conv_pw_6_bn (BatchNormaliza (None, 14, 14, 512)       2048      \n",
            "_________________________________________________________________\n",
            "conv_pw_6_relu (ReLU)        (None, 14, 14, 512)       0         \n",
            "_________________________________________________________________\n",
            "conv_dw_7 (DepthwiseConv2D)  (None, 14, 14, 512)       4608      \n",
            "_________________________________________________________________\n",
            "conv_dw_7_bn (BatchNormaliza (None, 14, 14, 512)       2048      \n",
            "_________________________________________________________________\n",
            "conv_dw_7_relu (ReLU)        (None, 14, 14, 512)       0         \n",
            "_________________________________________________________________\n",
            "conv_pw_7 (Conv2D)           (None, 14, 14, 512)       262144    \n",
            "_________________________________________________________________\n",
            "conv_pw_7_bn (BatchNormaliza (None, 14, 14, 512)       2048      \n",
            "_________________________________________________________________\n",
            "conv_pw_7_relu (ReLU)        (None, 14, 14, 512)       0         \n",
            "_________________________________________________________________\n",
            "conv_dw_8 (DepthwiseConv2D)  (None, 14, 14, 512)       4608      \n",
            "_________________________________________________________________\n",
            "conv_dw_8_bn (BatchNormaliza (None, 14, 14, 512)       2048      \n",
            "_________________________________________________________________\n",
            "conv_dw_8_relu (ReLU)        (None, 14, 14, 512)       0         \n",
            "_________________________________________________________________\n",
            "conv_pw_8 (Conv2D)           (None, 14, 14, 512)       262144    \n",
            "_________________________________________________________________\n",
            "conv_pw_8_bn (BatchNormaliza (None, 14, 14, 512)       2048      \n",
            "_________________________________________________________________\n",
            "conv_pw_8_relu (ReLU)        (None, 14, 14, 512)       0         \n",
            "_________________________________________________________________\n",
            "conv_dw_9 (DepthwiseConv2D)  (None, 14, 14, 512)       4608      \n",
            "_________________________________________________________________\n",
            "conv_dw_9_bn (BatchNormaliza (None, 14, 14, 512)       2048      \n",
            "_________________________________________________________________\n",
            "conv_dw_9_relu (ReLU)        (None, 14, 14, 512)       0         \n",
            "_________________________________________________________________\n",
            "conv_pw_9 (Conv2D)           (None, 14, 14, 512)       262144    \n",
            "_________________________________________________________________\n",
            "conv_pw_9_bn (BatchNormaliza (None, 14, 14, 512)       2048      \n",
            "_________________________________________________________________\n",
            "conv_pw_9_relu (ReLU)        (None, 14, 14, 512)       0         \n",
            "_________________________________________________________________\n",
            "conv_dw_10 (DepthwiseConv2D) (None, 14, 14, 512)       4608      \n",
            "_________________________________________________________________\n",
            "conv_dw_10_bn (BatchNormaliz (None, 14, 14, 512)       2048      \n",
            "_________________________________________________________________\n",
            "conv_dw_10_relu (ReLU)       (None, 14, 14, 512)       0         \n",
            "_________________________________________________________________\n",
            "conv_pw_10 (Conv2D)          (None, 14, 14, 512)       262144    \n",
            "_________________________________________________________________\n",
            "conv_pw_10_bn (BatchNormaliz (None, 14, 14, 512)       2048      \n",
            "_________________________________________________________________\n",
            "conv_pw_10_relu (ReLU)       (None, 14, 14, 512)       0         \n",
            "_________________________________________________________________\n",
            "conv_dw_11 (DepthwiseConv2D) (None, 14, 14, 512)       4608      \n",
            "_________________________________________________________________\n",
            "conv_dw_11_bn (BatchNormaliz (None, 14, 14, 512)       2048      \n",
            "_________________________________________________________________\n",
            "conv_dw_11_relu (ReLU)       (None, 14, 14, 512)       0         \n",
            "_________________________________________________________________\n",
            "conv_pw_11 (Conv2D)          (None, 14, 14, 512)       262144    \n",
            "_________________________________________________________________\n",
            "conv_pw_11_bn (BatchNormaliz (None, 14, 14, 512)       2048      \n",
            "_________________________________________________________________\n",
            "conv_pw_11_relu (ReLU)       (None, 14, 14, 512)       0         \n",
            "_________________________________________________________________\n",
            "conv_pad_12 (ZeroPadding2D)  (None, 15, 15, 512)       0         \n",
            "_________________________________________________________________\n",
            "conv_dw_12 (DepthwiseConv2D) (None, 7, 7, 512)         4608      \n",
            "_________________________________________________________________\n",
            "conv_dw_12_bn (BatchNormaliz (None, 7, 7, 512)         2048      \n",
            "_________________________________________________________________\n",
            "conv_dw_12_relu (ReLU)       (None, 7, 7, 512)         0         \n",
            "_________________________________________________________________\n",
            "conv_pw_12 (Conv2D)          (None, 7, 7, 1024)        524288    \n",
            "_________________________________________________________________\n",
            "conv_pw_12_bn (BatchNormaliz (None, 7, 7, 1024)        4096      \n",
            "_________________________________________________________________\n",
            "conv_pw_12_relu (ReLU)       (None, 7, 7, 1024)        0         \n",
            "_________________________________________________________________\n",
            "conv_dw_13 (DepthwiseConv2D) (None, 7, 7, 1024)        9216      \n",
            "_________________________________________________________________\n",
            "conv_dw_13_bn (BatchNormaliz (None, 7, 7, 1024)        4096      \n",
            "_________________________________________________________________\n",
            "conv_dw_13_relu (ReLU)       (None, 7, 7, 1024)        0         \n",
            "_________________________________________________________________\n",
            "conv_pw_13 (Conv2D)          (None, 7, 7, 1024)        1048576   \n",
            "_________________________________________________________________\n",
            "conv_pw_13_bn (BatchNormaliz (None, 7, 7, 1024)        4096      \n",
            "_________________________________________________________________\n",
            "conv_pw_13_relu (ReLU)       (None, 7, 7, 1024)        0         \n",
            "_________________________________________________________________\n",
            "global_average_pooling2d_1 ( (None, 1024)              0         \n",
            "_________________________________________________________________\n",
            "reshape_1 (Reshape)          (None, 1, 1, 1024)        0         \n",
            "_________________________________________________________________\n",
            "dropout (Dropout)            (None, 1, 1, 1024)        0         \n",
            "_________________________________________________________________\n",
            "conv_preds (Conv2D)          (None, 1, 1, 1000)        1025000   \n",
            "_________________________________________________________________\n",
            "reshape_2 (Reshape)          (None, 1000)              0         \n",
            "_________________________________________________________________\n",
            "act_softmax (Activation)     (None, 1000)              0         \n",
            "=================================================================\n",
            "Total params: 4,253,864\n",
            "Trainable params: 4,231,976\n",
            "Non-trainable params: 21,888\n",
            "_________________________________________________________________\n"
          ],
          "name": "stdout"
        }
      ]
    },
    {
      "cell_type": "code",
      "metadata": {
        "id": "f5pw3qoQIyTq",
        "colab_type": "code",
        "colab": {}
      },
      "source": [
        "# Predicting\n",
        "movies_dp_labels = mobilenet_model.predict(images_square)"
      ],
      "execution_count": 0,
      "outputs": []
    },
    {
      "cell_type": "code",
      "metadata": {
        "id": "f6qE43W9JAHI",
        "colab_type": "code",
        "colab": {}
      },
      "source": [
        "# Decoding predicted movies to MobileNet classes\n",
        "dp_decoded_movies = decode_predictions(movies_dp_labels, top=2)"
      ],
      "execution_count": 0,
      "outputs": []
    },
    {
      "cell_type": "code",
      "metadata": {
        "id": "OXtzi0HITrRM",
        "colab_type": "code",
        "outputId": "00b80325-9ee2-4d58-df29-038e09a2a27a",
        "colab": {
          "base_uri": "https://localhost:8080/",
          "height": 34
        }
      },
      "source": [
        "# Extracting indexes of most common classes\n",
        "movies_labels = np.array([label[0][1] for label in dp_decoded_movies])\n",
        "movies_labels_counter = Counter(movies_labels)\n",
        "top_most_common = [label for (label, freq) in movies_labels_counter.most_common()[0:10]]\n",
        "most_common_indexes = np.array([i for i, ml in enumerate(movies_labels) if ml in top_most_common])\n",
        "print(f\"Number of movies in the top 10 MobileNet classes: {len(most_common_indexes)}\")"
      ],
      "execution_count": 0,
      "outputs": [
        {
          "output_type": "stream",
          "text": [
            "Number of movies in the top 10 MobileNet classes: 4111\n"
          ],
          "name": "stdout"
        }
      ]
    },
    {
      "cell_type": "code",
      "metadata": {
        "id": "lp3oFPOI525q",
        "colab_type": "code",
        "outputId": "b231134c-7bdc-4e13-fb78-06d4eb4224e6",
        "colab": {
          "base_uri": "https://localhost:8080/",
          "height": 119
        }
      },
      "source": [
        "# Confusstion Matrix\n",
        "confusion_mat = np.zeros((len(biggest_genres_idxs), len(top_most_common)))\n",
        "genres_idxs = list(biggest_genres_idxs)\n",
        "for mi in most_common_indexes:\n",
        "  genre_idx = list(filtered_movies_genres[mi]).index(1)\n",
        "  genre_id = genres_idxs.index(genre_idx)\n",
        "  mnc_idx = top_most_common.index(movies_labels[mi])\n",
        "  confusion_mat[genre_id][mnc_idx]+=1\n",
        "\n",
        "confusion_mat"
      ],
      "execution_count": 0,
      "outputs": [
        {
          "output_type": "execute_result",
          "data": {
            "text/plain": [
              "array([[883., 350., 138., 135.,  83.,  65.,  59.,  58.,  71.,  65.],\n",
              "       [400., 207., 101.,  64.,  88.,  25.,  56.,  49.,  28.,  21.],\n",
              "       [278.,  92.,  34.,  54.,  33.,  33.,  23.,  14.,  26.,  24.],\n",
              "       [ 89.,  61.,  33.,  20.,   8.,  45.,  10.,  13.,  17.,   9.],\n",
              "       [ 45.,  40.,  14.,   6.,   5.,  13.,   5.,  13.,   2.,   1.],\n",
              "       [ 39.,  25.,  11.,   8.,   3.,   5.,   2.,   4.,   4.,   4.]])"
            ]
          },
          "metadata": {
            "tags": []
          },
          "execution_count": 22
        }
      ]
    },
    {
      "cell_type": "markdown",
      "metadata": {
        "id": "0lT1WiwNDCdc",
        "colab_type": "text"
      },
      "source": [
        "## Confusion matrix"
      ]
    },
    {
      "cell_type": "code",
      "metadata": {
        "id": "5TsmfDCfD52Q",
        "colab_type": "code",
        "outputId": "1519abaa-f101-4f9b-9489-7048bd490166",
        "colab": {
          "base_uri": "https://localhost:8080/",
          "height": 166
        }
      },
      "source": [
        "genres_labels = np.array(original_genres_labels)[biggest_genres_idxs]\n",
        "scores_table = ListTable()\n",
        "scores_table.append(np.append(\"\",top_most_common))\n",
        "for idx, line in enumerate(confusion_mat):\n",
        "  scores_table.append(np.append(genres_labels[idx],line))\n",
        "  \n",
        "scores_table"
      ],
      "execution_count": 0,
      "outputs": [
        {
          "output_type": "execute_result",
          "data": {
            "text/html": [
              "<table><tr><th width='80'></th><th width='80'>envelope</th><th width='80'>jigsaw_puzzle</th><th width='80'>handkerchief</th><th width='80'>book_jacket</th><th width='80'>pillow</th><th width='80'>prayer_rug</th><th width='80'>tray</th><th width='80'>comic_book</th><th width='80'>quilt</th><th width='80'>toilet_tissue</th></tr><tr><th width='80'>Drama</th><td width='100' style='text-align: center; vertical-align: middle;''> 883.0</td><td width='100' style='text-align: center; vertical-align: middle;''> 350.0</td><td width='100' style='text-align: center; vertical-align: middle;''> 138.0</td><td width='100' style='text-align: center; vertical-align: middle;''> 135.0</td><td width='100' style='text-align: center; vertical-align: middle;''> 83.0</td><td width='100' style='text-align: center; vertical-align: middle;''> 65.0</td><td width='100' style='text-align: center; vertical-align: middle;''> 59.0</td><td width='100' style='text-align: center; vertical-align: middle;''> 58.0</td><td width='100' style='text-align: center; vertical-align: middle;''> 71.0</td><td width='100' style='text-align: center; vertical-align: middle;''> 65.0</td></tr><tr><th width='80'>Comedy</th><td width='100' style='text-align: center; vertical-align: middle;''> 400.0</td><td width='100' style='text-align: center; vertical-align: middle;''> 207.0</td><td width='100' style='text-align: center; vertical-align: middle;''> 101.0</td><td width='100' style='text-align: center; vertical-align: middle;''> 64.0</td><td width='100' style='text-align: center; vertical-align: middle;''> 88.0</td><td width='100' style='text-align: center; vertical-align: middle;''> 25.0</td><td width='100' style='text-align: center; vertical-align: middle;''> 56.0</td><td width='100' style='text-align: center; vertical-align: middle;''> 49.0</td><td width='100' style='text-align: center; vertical-align: middle;''> 28.0</td><td width='100' style='text-align: center; vertical-align: middle;''> 21.0</td></tr><tr><th width='80'>Documentary</th><td width='100' style='text-align: center; vertical-align: middle;''> 278.0</td><td width='100' style='text-align: center; vertical-align: middle;''> 92.0</td><td width='100' style='text-align: center; vertical-align: middle;''> 34.0</td><td width='100' style='text-align: center; vertical-align: middle;''> 54.0</td><td width='100' style='text-align: center; vertical-align: middle;''> 33.0</td><td width='100' style='text-align: center; vertical-align: middle;''> 33.0</td><td width='100' style='text-align: center; vertical-align: middle;''> 23.0</td><td width='100' style='text-align: center; vertical-align: middle;''> 14.0</td><td width='100' style='text-align: center; vertical-align: middle;''> 26.0</td><td width='100' style='text-align: center; vertical-align: middle;''> 24.0</td></tr><tr><th width='80'>Horror</th><td width='100' style='text-align: center; vertical-align: middle;''> 89.0</td><td width='100' style='text-align: center; vertical-align: middle;''> 61.0</td><td width='100' style='text-align: center; vertical-align: middle;''> 33.0</td><td width='100' style='text-align: center; vertical-align: middle;''> 20.0</td><td width='100' style='text-align: center; vertical-align: middle;''> 8.0</td><td width='100' style='text-align: center; vertical-align: middle;''> 45.0</td><td width='100' style='text-align: center; vertical-align: middle;''> 10.0</td><td width='100' style='text-align: center; vertical-align: middle;''> 13.0</td><td width='100' style='text-align: center; vertical-align: middle;''> 17.0</td><td width='100' style='text-align: center; vertical-align: middle;''> 9.0</td></tr><tr><th width='80'>Western</th><td width='100' style='text-align: center; vertical-align: middle;''> 45.0</td><td width='100' style='text-align: center; vertical-align: middle;''> 40.0</td><td width='100' style='text-align: center; vertical-align: middle;''> 14.0</td><td width='100' style='text-align: center; vertical-align: middle;''> 6.0</td><td width='100' style='text-align: center; vertical-align: middle;''> 5.0</td><td width='100' style='text-align: center; vertical-align: middle;''> 13.0</td><td width='100' style='text-align: center; vertical-align: middle;''> 5.0</td><td width='100' style='text-align: center; vertical-align: middle;''> 13.0</td><td width='100' style='text-align: center; vertical-align: middle;''> 2.0</td><td width='100' style='text-align: center; vertical-align: middle;''> 1.0</td></tr><tr><th width='80'>Thriller</th><td width='100' style='text-align: center; vertical-align: middle;''> 39.0</td><td width='100' style='text-align: center; vertical-align: middle;''> 25.0</td><td width='100' style='text-align: center; vertical-align: middle;''> 11.0</td><td width='100' style='text-align: center; vertical-align: middle;''> 8.0</td><td width='100' style='text-align: center; vertical-align: middle;''> 3.0</td><td width='100' style='text-align: center; vertical-align: middle;''> 5.0</td><td width='100' style='text-align: center; vertical-align: middle;''> 2.0</td><td width='100' style='text-align: center; vertical-align: middle;''> 4.0</td><td width='100' style='text-align: center; vertical-align: middle;''> 4.0</td><td width='100' style='text-align: center; vertical-align: middle;''> 4.0</td></tr></table>"
            ],
            "text/plain": [
              "[array(['', 'envelope', 'jigsaw_puzzle', 'handkerchief', 'book_jacket',\n",
              "        'pillow', 'prayer_rug', 'tray', 'comic_book', 'quilt',\n",
              "        'toilet_tissue'], dtype='<U13'),\n",
              " array(['Drama', '883.0', '350.0', '138.0', '135.0', '83.0', '65.0',\n",
              "        '59.0', '58.0', '71.0', '65.0'], dtype='<U32'),\n",
              " array(['Comedy', '400.0', '207.0', '101.0', '64.0', '88.0', '25.0',\n",
              "        '56.0', '49.0', '28.0', '21.0'], dtype='<U32'),\n",
              " array(['Documentary', '278.0', '92.0', '34.0', '54.0', '33.0', '33.0',\n",
              "        '23.0', '14.0', '26.0', '24.0'], dtype='<U32'),\n",
              " array(['Horror', '89.0', '61.0', '33.0', '20.0', '8.0', '45.0', '10.0',\n",
              "        '13.0', '17.0', '9.0'], dtype='<U32'),\n",
              " array(['Western', '45.0', '40.0', '14.0', '6.0', '5.0', '13.0', '5.0',\n",
              "        '13.0', '2.0', '1.0'], dtype='<U32'),\n",
              " array(['Thriller', '39.0', '25.0', '11.0', '8.0', '3.0', '5.0', '2.0',\n",
              "        '4.0', '4.0', '4.0'], dtype='<U32')]"
            ]
          },
          "metadata": {
            "tags": []
          },
          "execution_count": 27
        }
      ]
    },
    {
      "cell_type": "markdown",
      "metadata": {
        "id": "--Jb2vGqNt9C",
        "colab_type": "text"
      },
      "source": [
        "#(c) Fine tuning"
      ]
    },
    {
      "cell_type": "code",
      "metadata": {
        "id": "mKmV26FK4jbd",
        "colab_type": "code",
        "colab": {}
      },
      "source": [
        "# Model parameters\n",
        "img_width, img_height = 160, 256\n",
        "nb_train_samples = len(movies_images_training)\n",
        "nb_validation_samples = len(movies_images_test)\n",
        "epochs = 50\n",
        "batch_size = 16"
      ],
      "execution_count": 0,
      "outputs": []
    },
    {
      "cell_type": "code",
      "metadata": {
        "id": "PPyMC3nlR9Mm",
        "colab_type": "code",
        "outputId": "462473d2-847d-4524-b2bd-1645ae20f520",
        "colab": {
          "base_uri": "https://localhost:8080/",
          "height": 68
        }
      },
      "source": [
        "# Resizing genres. Changes the Genres array from lenght 23 to 6\n",
        "# movies_genres = np.array([movie_genre[biggest_genres_idxs] for movie_genre in movies_genres])\n",
        "movies_genres_training=np.array([movie_genre[biggest_genres_idxs] for movie_genre in movies_genres_training])\n",
        "movies_genres_test=np.array([movie_genre[biggest_genres_idxs] for movie_genre in movies_genres_test])\n",
        "print(f\"New shapes:\\n Training: {movies_genres_training.shape}\\n Test: {movies_genres_test.shape}\")"
      ],
      "execution_count": 0,
      "outputs": [
        {
          "output_type": "stream",
          "text": [
            "New shapes:\n",
            " Training: (4535, 6)\n",
            " Test: (1135, 6)\n"
          ],
          "name": "stdout"
        }
      ]
    },
    {
      "cell_type": "code",
      "metadata": {
        "id": "0iIk-f2snZlz",
        "colab_type": "code",
        "outputId": "463459b6-a7ab-41e5-9c4d-f6adff800f68",
        "colab": {
          "base_uri": "https://localhost:8080/",
          "height": 255
        }
      },
      "source": [
        "print(\"Distribution training set\")\n",
        "for i in range(6):\n",
        "  print(f\"{i} : {len([movie for movie in movies_genres_training if movie[i]==1])}\")\n",
        "\n",
        "print(\"Distribution test set\")\n",
        "for i in range(6):\n",
        "  print(f\"{i} : {len([movie for movie in movies_genres_test if movie[i]==1])}\")"
      ],
      "execution_count": 0,
      "outputs": [
        {
          "output_type": "stream",
          "text": [
            "Distribution training set\n",
            "0 : 2175\n",
            "1 : 1062\n",
            "2 : 717\n",
            "3 : 332\n",
            "4 : 133\n",
            "5 : 116\n",
            "Distribution test set\n",
            "0 : 507\n",
            "1 : 275\n",
            "2 : 201\n",
            "3 : 85\n",
            "4 : 40\n",
            "5 : 27\n"
          ],
          "name": "stdout"
        }
      ]
    },
    {
      "cell_type": "code",
      "metadata": {
        "id": "FvK8ty5lsQsr",
        "colab_type": "code",
        "colab": {}
      },
      "source": [
        "# Training generator\n",
        "datagen = ImageDataGenerator(rescale=1. / 255)\n",
        "datagen.fit(movies_images_training)\n",
        "generator = datagen.flow(movies_images_training, movies_genres_training, batch_size=32)"
      ],
      "execution_count": 0,
      "outputs": []
    },
    {
      "cell_type": "code",
      "metadata": {
        "id": "0KKrviZiO-Y8",
        "colab_type": "code",
        "colab": {}
      },
      "source": [
        "# Validation generator\n",
        "vdatagen = ImageDataGenerator(rescale=1. / 255)\n",
        "vdatagen.fit(movies_images_test)\n",
        "vgenerator = vdatagen.flow(movies_images_test, movies_genres_test, batch_size=32)"
      ],
      "execution_count": 0,
      "outputs": []
    },
    {
      "cell_type": "code",
      "metadata": {
        "id": "ykrah3GIFzZC",
        "colab_type": "code",
        "outputId": "c96e6259-393b-45d9-9b75-aeb8f3c3cac3",
        "colab": {
          "base_uri": "https://localhost:8080/",
          "height": 71
        }
      },
      "source": [
        "input_tensor = Input(shape=(img_height, img_width, 3))\n",
        "base_model = applications.MobileNet(\n",
        "        include_top=False,\n",
        "        weights='imagenet',\n",
        "        input_tensor=input_tensor,\n",
        "        input_shape=(img_height, img_width, 3),\n",
        "        pooling='avg')\n",
        "\n",
        "for layer in base_model.layers:\n",
        "        layer.trainable = True  # trainable has to be false in order to freeze the layers\n",
        "\n",
        "op = Dense(256, activation='relu')(base_model.output)\n",
        "op = Dropout(.25)(op)\n",
        "\n",
        "output_tensor = Dense(6, activation='softmax')(op)\n",
        "movies_model = Model(inputs=input_tensor, outputs=output_tensor)"
      ],
      "execution_count": 0,
      "outputs": [
        {
          "output_type": "stream",
          "text": [
            "/usr/local/lib/python3.6/dist-packages/keras_applications/mobilenet.py:207: UserWarning: `input_shape` is undefined or non-square, or `rows` is not in [128, 160, 192, 224]. Weights for input shape (224, 224) will be loaded as the default.\n",
            "  warnings.warn('`input_shape` is undefined or non-square, '\n"
          ],
          "name": "stderr"
        }
      ]
    },
    {
      "cell_type": "code",
      "metadata": {
        "id": "x-orN7fZrFnw",
        "colab_type": "code",
        "colab": {}
      },
      "source": [
        "from sklearn.utils import class_weight\n",
        "class_genres=[list(genre).index(1) for genre in movies_genres_training]\n",
        "genres_weight = class_weight.compute_class_weight('balanced',np.unique(class_genres), class_genres)"
      ],
      "execution_count": 0,
      "outputs": []
    },
    {
      "cell_type": "code",
      "metadata": {
        "id": "6N_43TkjIplx",
        "colab_type": "code",
        "outputId": "c66b438d-7ee6-461b-ec40-cc7465bbd56a",
        "colab": {
          "base_uri": "https://localhost:8080/",
          "height": 527
        }
      },
      "source": [
        "# Training model\n",
        "movies_model.compile(optimizer=Adam(),loss='categorical_crossentropy',metrics=['categorical_accuracy'])\n",
        "movies_features_train = movies_model.fit_generator(generator, steps_per_epoch=500, verbose=1, epochs=15, class_weight=genres_weight)"
      ],
      "execution_count": 0,
      "outputs": [
        {
          "output_type": "stream",
          "text": [
            "Epoch 1/15\n",
            "500/500 [==============================] - 97s 194ms/step - loss: 0.0865 - categorical_accuracy: 0.9731\n",
            "Epoch 2/15\n",
            "500/500 [==============================] - 93s 186ms/step - loss: 0.0851 - categorical_accuracy: 0.9722\n",
            "Epoch 3/15\n",
            "500/500 [==============================] - 93s 185ms/step - loss: 0.0714 - categorical_accuracy: 0.9784\n",
            "Epoch 4/15\n",
            "500/500 [==============================] - 92s 185ms/step - loss: 0.0621 - categorical_accuracy: 0.9807\n",
            "Epoch 5/15\n",
            "500/500 [==============================] - 93s 185ms/step - loss: 0.0610 - categorical_accuracy: 0.9804\n",
            "Epoch 6/15\n",
            "500/500 [==============================] - 92s 185ms/step - loss: 0.0559 - categorical_accuracy: 0.9834\n",
            "Epoch 7/15\n",
            "500/500 [==============================] - 92s 184ms/step - loss: 0.0649 - categorical_accuracy: 0.9801\n",
            "Epoch 8/15\n",
            "500/500 [==============================] - 93s 185ms/step - loss: 0.0562 - categorical_accuracy: 0.9842\n",
            "Epoch 9/15\n",
            "500/500 [==============================] - 93s 185ms/step - loss: 0.0402 - categorical_accuracy: 0.9875\n",
            "Epoch 10/15\n",
            "500/500 [==============================] - 92s 185ms/step - loss: 0.0530 - categorical_accuracy: 0.9829\n",
            "Epoch 11/15\n",
            "500/500 [==============================] - 92s 185ms/step - loss: 0.0434 - categorical_accuracy: 0.9860\n",
            "Epoch 12/15\n",
            "500/500 [==============================] - 92s 185ms/step - loss: 0.0539 - categorical_accuracy: 0.9842\n",
            "Epoch 13/15\n",
            "500/500 [==============================] - 93s 185ms/step - loss: 0.0429 - categorical_accuracy: 0.9858\n",
            "Epoch 14/15\n",
            "500/500 [==============================] - 93s 185ms/step - loss: 0.0370 - categorical_accuracy: 0.9881\n",
            "Epoch 15/15\n",
            "500/500 [==============================] - 93s 185ms/step - loss: 0.0390 - categorical_accuracy: 0.9870\n"
          ],
          "name": "stdout"
        }
      ]
    },
    {
      "cell_type": "code",
      "metadata": {
        "id": "tbzPZgEW06x9",
        "colab_type": "code",
        "colab": {}
      },
      "source": [
        "movies_model.load_weights(\"drive/My Drive/ml-datasets/tranf-learning-model.h5\")"
      ],
      "execution_count": 0,
      "outputs": []
    },
    {
      "cell_type": "code",
      "metadata": {
        "id": "rpBYJ9CwsMPH",
        "colab_type": "code",
        "outputId": "6459f5c8-4740-4f9f-9171-3d5c92630bce",
        "colab": {
          "base_uri": "https://localhost:8080/",
          "height": 1000
        }
      },
      "source": [
        "movies_model.summary()"
      ],
      "execution_count": 0,
      "outputs": [
        {
          "output_type": "stream",
          "text": [
            "_________________________________________________________________\n",
            "Layer (type)                 Output Shape              Param #   \n",
            "=================================================================\n",
            "input_2 (InputLayer)         (None, 256, 160, 3)       0         \n",
            "_________________________________________________________________\n",
            "conv1_pad (ZeroPadding2D)    (None, 257, 161, 3)       0         \n",
            "_________________________________________________________________\n",
            "conv1 (Conv2D)               (None, 128, 80, 32)       864       \n",
            "_________________________________________________________________\n",
            "conv1_bn (BatchNormalization (None, 128, 80, 32)       128       \n",
            "_________________________________________________________________\n",
            "conv1_relu (ReLU)            (None, 128, 80, 32)       0         \n",
            "_________________________________________________________________\n",
            "conv_dw_1 (DepthwiseConv2D)  (None, 128, 80, 32)       288       \n",
            "_________________________________________________________________\n",
            "conv_dw_1_bn (BatchNormaliza (None, 128, 80, 32)       128       \n",
            "_________________________________________________________________\n",
            "conv_dw_1_relu (ReLU)        (None, 128, 80, 32)       0         \n",
            "_________________________________________________________________\n",
            "conv_pw_1 (Conv2D)           (None, 128, 80, 64)       2048      \n",
            "_________________________________________________________________\n",
            "conv_pw_1_bn (BatchNormaliza (None, 128, 80, 64)       256       \n",
            "_________________________________________________________________\n",
            "conv_pw_1_relu (ReLU)        (None, 128, 80, 64)       0         \n",
            "_________________________________________________________________\n",
            "conv_pad_2 (ZeroPadding2D)   (None, 129, 81, 64)       0         \n",
            "_________________________________________________________________\n",
            "conv_dw_2 (DepthwiseConv2D)  (None, 64, 40, 64)        576       \n",
            "_________________________________________________________________\n",
            "conv_dw_2_bn (BatchNormaliza (None, 64, 40, 64)        256       \n",
            "_________________________________________________________________\n",
            "conv_dw_2_relu (ReLU)        (None, 64, 40, 64)        0         \n",
            "_________________________________________________________________\n",
            "conv_pw_2 (Conv2D)           (None, 64, 40, 128)       8192      \n",
            "_________________________________________________________________\n",
            "conv_pw_2_bn (BatchNormaliza (None, 64, 40, 128)       512       \n",
            "_________________________________________________________________\n",
            "conv_pw_2_relu (ReLU)        (None, 64, 40, 128)       0         \n",
            "_________________________________________________________________\n",
            "conv_dw_3 (DepthwiseConv2D)  (None, 64, 40, 128)       1152      \n",
            "_________________________________________________________________\n",
            "conv_dw_3_bn (BatchNormaliza (None, 64, 40, 128)       512       \n",
            "_________________________________________________________________\n",
            "conv_dw_3_relu (ReLU)        (None, 64, 40, 128)       0         \n",
            "_________________________________________________________________\n",
            "conv_pw_3 (Conv2D)           (None, 64, 40, 128)       16384     \n",
            "_________________________________________________________________\n",
            "conv_pw_3_bn (BatchNormaliza (None, 64, 40, 128)       512       \n",
            "_________________________________________________________________\n",
            "conv_pw_3_relu (ReLU)        (None, 64, 40, 128)       0         \n",
            "_________________________________________________________________\n",
            "conv_pad_4 (ZeroPadding2D)   (None, 65, 41, 128)       0         \n",
            "_________________________________________________________________\n",
            "conv_dw_4 (DepthwiseConv2D)  (None, 32, 20, 128)       1152      \n",
            "_________________________________________________________________\n",
            "conv_dw_4_bn (BatchNormaliza (None, 32, 20, 128)       512       \n",
            "_________________________________________________________________\n",
            "conv_dw_4_relu (ReLU)        (None, 32, 20, 128)       0         \n",
            "_________________________________________________________________\n",
            "conv_pw_4 (Conv2D)           (None, 32, 20, 256)       32768     \n",
            "_________________________________________________________________\n",
            "conv_pw_4_bn (BatchNormaliza (None, 32, 20, 256)       1024      \n",
            "_________________________________________________________________\n",
            "conv_pw_4_relu (ReLU)        (None, 32, 20, 256)       0         \n",
            "_________________________________________________________________\n",
            "conv_dw_5 (DepthwiseConv2D)  (None, 32, 20, 256)       2304      \n",
            "_________________________________________________________________\n",
            "conv_dw_5_bn (BatchNormaliza (None, 32, 20, 256)       1024      \n",
            "_________________________________________________________________\n",
            "conv_dw_5_relu (ReLU)        (None, 32, 20, 256)       0         \n",
            "_________________________________________________________________\n",
            "conv_pw_5 (Conv2D)           (None, 32, 20, 256)       65536     \n",
            "_________________________________________________________________\n",
            "conv_pw_5_bn (BatchNormaliza (None, 32, 20, 256)       1024      \n",
            "_________________________________________________________________\n",
            "conv_pw_5_relu (ReLU)        (None, 32, 20, 256)       0         \n",
            "_________________________________________________________________\n",
            "conv_pad_6 (ZeroPadding2D)   (None, 33, 21, 256)       0         \n",
            "_________________________________________________________________\n",
            "conv_dw_6 (DepthwiseConv2D)  (None, 16, 10, 256)       2304      \n",
            "_________________________________________________________________\n",
            "conv_dw_6_bn (BatchNormaliza (None, 16, 10, 256)       1024      \n",
            "_________________________________________________________________\n",
            "conv_dw_6_relu (ReLU)        (None, 16, 10, 256)       0         \n",
            "_________________________________________________________________\n",
            "conv_pw_6 (Conv2D)           (None, 16, 10, 512)       131072    \n",
            "_________________________________________________________________\n",
            "conv_pw_6_bn (BatchNormaliza (None, 16, 10, 512)       2048      \n",
            "_________________________________________________________________\n",
            "conv_pw_6_relu (ReLU)        (None, 16, 10, 512)       0         \n",
            "_________________________________________________________________\n",
            "conv_dw_7 (DepthwiseConv2D)  (None, 16, 10, 512)       4608      \n",
            "_________________________________________________________________\n",
            "conv_dw_7_bn (BatchNormaliza (None, 16, 10, 512)       2048      \n",
            "_________________________________________________________________\n",
            "conv_dw_7_relu (ReLU)        (None, 16, 10, 512)       0         \n",
            "_________________________________________________________________\n",
            "conv_pw_7 (Conv2D)           (None, 16, 10, 512)       262144    \n",
            "_________________________________________________________________\n",
            "conv_pw_7_bn (BatchNormaliza (None, 16, 10, 512)       2048      \n",
            "_________________________________________________________________\n",
            "conv_pw_7_relu (ReLU)        (None, 16, 10, 512)       0         \n",
            "_________________________________________________________________\n",
            "conv_dw_8 (DepthwiseConv2D)  (None, 16, 10, 512)       4608      \n",
            "_________________________________________________________________\n",
            "conv_dw_8_bn (BatchNormaliza (None, 16, 10, 512)       2048      \n",
            "_________________________________________________________________\n",
            "conv_dw_8_relu (ReLU)        (None, 16, 10, 512)       0         \n",
            "_________________________________________________________________\n",
            "conv_pw_8 (Conv2D)           (None, 16, 10, 512)       262144    \n",
            "_________________________________________________________________\n",
            "conv_pw_8_bn (BatchNormaliza (None, 16, 10, 512)       2048      \n",
            "_________________________________________________________________\n",
            "conv_pw_8_relu (ReLU)        (None, 16, 10, 512)       0         \n",
            "_________________________________________________________________\n",
            "conv_dw_9 (DepthwiseConv2D)  (None, 16, 10, 512)       4608      \n",
            "_________________________________________________________________\n",
            "conv_dw_9_bn (BatchNormaliza (None, 16, 10, 512)       2048      \n",
            "_________________________________________________________________\n",
            "conv_dw_9_relu (ReLU)        (None, 16, 10, 512)       0         \n",
            "_________________________________________________________________\n",
            "conv_pw_9 (Conv2D)           (None, 16, 10, 512)       262144    \n",
            "_________________________________________________________________\n",
            "conv_pw_9_bn (BatchNormaliza (None, 16, 10, 512)       2048      \n",
            "_________________________________________________________________\n",
            "conv_pw_9_relu (ReLU)        (None, 16, 10, 512)       0         \n",
            "_________________________________________________________________\n",
            "conv_dw_10 (DepthwiseConv2D) (None, 16, 10, 512)       4608      \n",
            "_________________________________________________________________\n",
            "conv_dw_10_bn (BatchNormaliz (None, 16, 10, 512)       2048      \n",
            "_________________________________________________________________\n",
            "conv_dw_10_relu (ReLU)       (None, 16, 10, 512)       0         \n",
            "_________________________________________________________________\n",
            "conv_pw_10 (Conv2D)          (None, 16, 10, 512)       262144    \n",
            "_________________________________________________________________\n",
            "conv_pw_10_bn (BatchNormaliz (None, 16, 10, 512)       2048      \n",
            "_________________________________________________________________\n",
            "conv_pw_10_relu (ReLU)       (None, 16, 10, 512)       0         \n",
            "_________________________________________________________________\n",
            "conv_dw_11 (DepthwiseConv2D) (None, 16, 10, 512)       4608      \n",
            "_________________________________________________________________\n",
            "conv_dw_11_bn (BatchNormaliz (None, 16, 10, 512)       2048      \n",
            "_________________________________________________________________\n",
            "conv_dw_11_relu (ReLU)       (None, 16, 10, 512)       0         \n",
            "_________________________________________________________________\n",
            "conv_pw_11 (Conv2D)          (None, 16, 10, 512)       262144    \n",
            "_________________________________________________________________\n",
            "conv_pw_11_bn (BatchNormaliz (None, 16, 10, 512)       2048      \n",
            "_________________________________________________________________\n",
            "conv_pw_11_relu (ReLU)       (None, 16, 10, 512)       0         \n",
            "_________________________________________________________________\n",
            "conv_pad_12 (ZeroPadding2D)  (None, 17, 11, 512)       0         \n",
            "_________________________________________________________________\n",
            "conv_dw_12 (DepthwiseConv2D) (None, 8, 5, 512)         4608      \n",
            "_________________________________________________________________\n",
            "conv_dw_12_bn (BatchNormaliz (None, 8, 5, 512)         2048      \n",
            "_________________________________________________________________\n",
            "conv_dw_12_relu (ReLU)       (None, 8, 5, 512)         0         \n",
            "_________________________________________________________________\n",
            "conv_pw_12 (Conv2D)          (None, 8, 5, 1024)        524288    \n",
            "_________________________________________________________________\n",
            "conv_pw_12_bn (BatchNormaliz (None, 8, 5, 1024)        4096      \n",
            "_________________________________________________________________\n",
            "conv_pw_12_relu (ReLU)       (None, 8, 5, 1024)        0         \n",
            "_________________________________________________________________\n",
            "conv_dw_13 (DepthwiseConv2D) (None, 8, 5, 1024)        9216      \n",
            "_________________________________________________________________\n",
            "conv_dw_13_bn (BatchNormaliz (None, 8, 5, 1024)        4096      \n",
            "_________________________________________________________________\n",
            "conv_dw_13_relu (ReLU)       (None, 8, 5, 1024)        0         \n",
            "_________________________________________________________________\n",
            "conv_pw_13 (Conv2D)          (None, 8, 5, 1024)        1048576   \n",
            "_________________________________________________________________\n",
            "conv_pw_13_bn (BatchNormaliz (None, 8, 5, 1024)        4096      \n",
            "_________________________________________________________________\n",
            "conv_pw_13_relu (ReLU)       (None, 8, 5, 1024)        0         \n",
            "_________________________________________________________________\n",
            "global_average_pooling2d_2 ( (None, 1024)              0         \n",
            "_________________________________________________________________\n",
            "dense_3 (Dense)              (None, 256)               262400    \n",
            "_________________________________________________________________\n",
            "dropout_2 (Dropout)          (None, 256)               0         \n",
            "_________________________________________________________________\n",
            "dense_4 (Dense)              (None, 6)                 1542      \n",
            "=================================================================\n",
            "Total params: 3,492,806\n",
            "Trainable params: 3,470,918\n",
            "Non-trainable params: 21,888\n",
            "_________________________________________________________________\n"
          ],
          "name": "stdout"
        }
      ]
    },
    {
      "cell_type": "code",
      "metadata": {
        "id": "CoF9t4QO9-fm",
        "colab_type": "code",
        "outputId": "e25d40c6-8024-484b-f666-1a56a500ec6a",
        "colab": {
          "base_uri": "https://localhost:8080/",
          "height": 34
        }
      },
      "source": [
        "movies_labels_tl = movies_model.predict(movies_images_test)\n",
        "movies_labels_tl.shape"
      ],
      "execution_count": 0,
      "outputs": [
        {
          "output_type": "execute_result",
          "data": {
            "text/plain": [
              "(1135, 6)"
            ]
          },
          "metadata": {
            "tags": []
          },
          "execution_count": 43
        }
      ]
    },
    {
      "cell_type": "code",
      "metadata": {
        "id": "vz4nYuYooUFF",
        "colab_type": "code",
        "outputId": "b0afeb81-afaf-429e-ddd5-603515e1d77f",
        "colab": {
          "base_uri": "https://localhost:8080/",
          "height": 34
        }
      },
      "source": [
        "len([movie for movie in movies_labels_tl if movie[5]>0.4])"
      ],
      "execution_count": 0,
      "outputs": [
        {
          "output_type": "execute_result",
          "data": {
            "text/plain": [
              "10"
            ]
          },
          "metadata": {
            "tags": []
          },
          "execution_count": 44
        }
      ]
    },
    {
      "cell_type": "code",
      "metadata": {
        "id": "kxluSochgVUI",
        "colab_type": "code",
        "outputId": "ab2ee8ee-8ddb-4622-cf21-1b511a57713b",
        "colab": {
          "base_uri": "https://localhost:8080/",
          "height": 119
        }
      },
      "source": [
        "# Confusstion Matrix\n",
        "confusion_mat = np.zeros((len(biggest_genres_idxs), len(biggest_genres_idxs)))\n",
        "genres_idxs= list(biggest_genres_idxs)\n",
        "for idx, movie in enumerate(movies_genres_test):\n",
        "  genre_idx = list(movie).index(1)\n",
        "  genre_idx_tl = np.argmax(movies_labels_tl[idx])\n",
        "  confusion_mat[genre_idx][genre_idx_tl]+=1\n",
        "\n",
        "confusion_mat"
      ],
      "execution_count": 0,
      "outputs": [
        {
          "output_type": "execute_result",
          "data": {
            "text/plain": [
              "array([[262., 118.,  72.,  47.,   2.,   6.],\n",
              "       [ 62., 175.,  25.,  12.,   0.,   1.],\n",
              "       [ 78.,  49.,  53.,  18.,   1.,   2.],\n",
              "       [ 24.,  22.,  17.,  21.,   0.,   1.],\n",
              "       [ 15.,  20.,   3.,   2.,   0.,   0.],\n",
              "       [ 13.,   4.,   3.,   7.,   0.,   0.]])"
            ]
          },
          "metadata": {
            "tags": []
          },
          "execution_count": 45
        }
      ]
    },
    {
      "cell_type": "code",
      "metadata": {
        "id": "V1nnWjATbrT2",
        "colab_type": "code",
        "outputId": "ab0c1c94-b9aa-49fd-ab29-23033af7c36d",
        "colab": {
          "base_uri": "https://localhost:8080/",
          "height": 183
        }
      },
      "source": [
        "genres_labels = np.array(original_genres_labels)[biggest_genres_idxs]\n",
        "scores_table = ListTable()\n",
        "table_titles = [f\"{label} (pred)\" for label in genres_labels]\n",
        "scores_table.append(np.append(\"\", table_titles))\n",
        "for idx, freq in enumerate(confusion_mat):\n",
        "  scores_table.append(np.append(genres_labels[idx], freq))\n",
        "  \n",
        "scores_table"
      ],
      "execution_count": 0,
      "outputs": [
        {
          "output_type": "execute_result",
          "data": {
            "text/html": [
              "<table><tr><th width='80'></th><th width='80'>Drama (pred)</th><th width='80'>Comedy (pred)</th><th width='80'>Documentary (pred)</th><th width='80'>Horror (pred)</th><th width='80'>Western (pred)</th><th width='80'>Thriller (pred)</th></tr><tr><th width='80'>Drama</th><td width='100' style='text-align: center; vertical-align: middle;''> 262.0</td><td width='100' style='text-align: center; vertical-align: middle;''> 118.0</td><td width='100' style='text-align: center; vertical-align: middle;''> 72.0</td><td width='100' style='text-align: center; vertical-align: middle;''> 47.0</td><td width='100' style='text-align: center; vertical-align: middle;''> 2.0</td><td width='100' style='text-align: center; vertical-align: middle;''> 6.0</td></tr><tr><th width='80'>Comedy</th><td width='100' style='text-align: center; vertical-align: middle;''> 62.0</td><td width='100' style='text-align: center; vertical-align: middle;''> 175.0</td><td width='100' style='text-align: center; vertical-align: middle;''> 25.0</td><td width='100' style='text-align: center; vertical-align: middle;''> 12.0</td><td width='100' style='text-align: center; vertical-align: middle;''> 0.0</td><td width='100' style='text-align: center; vertical-align: middle;''> 1.0</td></tr><tr><th width='80'>Documentary</th><td width='100' style='text-align: center; vertical-align: middle;''> 78.0</td><td width='100' style='text-align: center; vertical-align: middle;''> 49.0</td><td width='100' style='text-align: center; vertical-align: middle;''> 53.0</td><td width='100' style='text-align: center; vertical-align: middle;''> 18.0</td><td width='100' style='text-align: center; vertical-align: middle;''> 1.0</td><td width='100' style='text-align: center; vertical-align: middle;''> 2.0</td></tr><tr><th width='80'>Horror</th><td width='100' style='text-align: center; vertical-align: middle;''> 24.0</td><td width='100' style='text-align: center; vertical-align: middle;''> 22.0</td><td width='100' style='text-align: center; vertical-align: middle;''> 17.0</td><td width='100' style='text-align: center; vertical-align: middle;''> 21.0</td><td width='100' style='text-align: center; vertical-align: middle;''> 0.0</td><td width='100' style='text-align: center; vertical-align: middle;''> 1.0</td></tr><tr><th width='80'>Western</th><td width='100' style='text-align: center; vertical-align: middle;''> 15.0</td><td width='100' style='text-align: center; vertical-align: middle;''> 20.0</td><td width='100' style='text-align: center; vertical-align: middle;''> 3.0</td><td width='100' style='text-align: center; vertical-align: middle;''> 2.0</td><td width='100' style='text-align: center; vertical-align: middle;''> 0.0</td><td width='100' style='text-align: center; vertical-align: middle;''> 0.0</td></tr><tr><th width='80'>Thriller</th><td width='100' style='text-align: center; vertical-align: middle;''> 13.0</td><td width='100' style='text-align: center; vertical-align: middle;''> 4.0</td><td width='100' style='text-align: center; vertical-align: middle;''> 3.0</td><td width='100' style='text-align: center; vertical-align: middle;''> 7.0</td><td width='100' style='text-align: center; vertical-align: middle;''> 0.0</td><td width='100' style='text-align: center; vertical-align: middle;''> 0.0</td></tr></table>"
            ],
            "text/plain": [
              "[array(['', 'Drama (pred)', 'Comedy (pred)', 'Documentary (pred)',\n",
              "        'Horror (pred)', 'Western (pred)', 'Thriller (pred)'], dtype='<U18'),\n",
              " array(['Drama', '262.0', '118.0', '72.0', '47.0', '2.0', '6.0'],\n",
              "       dtype='<U32'),\n",
              " array(['Comedy', '62.0', '175.0', '25.0', '12.0', '0.0', '1.0'],\n",
              "       dtype='<U32'),\n",
              " array(['Documentary', '78.0', '49.0', '53.0', '18.0', '1.0', '2.0'],\n",
              "       dtype='<U32'),\n",
              " array(['Horror', '24.0', '22.0', '17.0', '21.0', '0.0', '1.0'],\n",
              "       dtype='<U32'),\n",
              " array(['Western', '15.0', '20.0', '3.0', '2.0', '0.0', '0.0'],\n",
              "       dtype='<U32'),\n",
              " array(['Thriller', '13.0', '4.0', '3.0', '7.0', '0.0', '0.0'],\n",
              "       dtype='<U32')]"
            ]
          },
          "metadata": {
            "tags": []
          },
          "execution_count": 46
        }
      ]
    },
    {
      "cell_type": "code",
      "metadata": {
        "id": "fUwa9oNkZbdQ",
        "colab_type": "code",
        "outputId": "12828e09-c39c-40d3-9fd4-d93507b02643",
        "colab": {
          "base_uri": "https://localhost:8080/",
          "height": 272
        }
      },
      "source": [
        "expected = [ np.argmax(movie) for movie in movies_genres_test]\n",
        "predicted = [ np.argmax(movie) for movie in  movies_labels_tl]\n",
        "print(\"Classification report for classifier %s:\\n%s\\n\"\n",
        "      % (base_model, metrics.classification_report(expected, predicted)))"
      ],
      "execution_count": 0,
      "outputs": [
        {
          "output_type": "stream",
          "text": [
            "Classification report for classifier <keras.engine.training.Model object at 0x7f04bc4eaf60>:\n",
            "              precision    recall  f1-score   support\n",
            "\n",
            "           0       0.58      0.52      0.55       507\n",
            "           1       0.45      0.64      0.53       275\n",
            "           2       0.31      0.26      0.28       201\n",
            "           3       0.20      0.25      0.22        85\n",
            "           4       0.00      0.00      0.00        40\n",
            "           5       0.00      0.00      0.00        27\n",
            "\n",
            "    accuracy                           0.45      1135\n",
            "   macro avg       0.26      0.28      0.26      1135\n",
            "weighted avg       0.44      0.45      0.44      1135\n",
            "\n",
            "\n"
          ],
          "name": "stdout"
        }
      ]
    },
    {
      "cell_type": "code",
      "metadata": {
        "id": "p5tvv-1Aa35U",
        "colab_type": "code",
        "outputId": "99097ac6-83cd-430f-bb0c-b92f89225a44",
        "colab": {
          "base_uri": "https://localhost:8080/",
          "height": 34
        }
      },
      "source": [
        "expected[801]"
      ],
      "execution_count": 0,
      "outputs": [
        {
          "output_type": "execute_result",
          "data": {
            "text/plain": [
              "array([1, 0, 0, 0, 0, 0], dtype=int32)"
            ]
          },
          "metadata": {
            "tags": []
          },
          "execution_count": 35
        }
      ]
    },
    {
      "cell_type": "markdown",
      "metadata": {
        "colab_type": "text",
        "id": "AwbmEjCASdgv"
      },
      "source": [
        "# (b) Transfer learning"
      ]
    },
    {
      "cell_type": "code",
      "metadata": {
        "colab_type": "code",
        "outputId": "7d2aa62b-1dd1-4fe0-ad12-f2b82d353a0d",
        "id": "ns4Ph1ToTDBB",
        "colab": {
          "base_uri": "https://localhost:8080/",
          "height": 343
        }
      },
      "source": [
        "input_tensor = Input(shape=(img_height, img_width, 3))\n",
        "base_model = applications.MobileNet(\n",
        "        include_top=False,\n",
        "        weights='imagenet',\n",
        "        input_tensor=input_tensor,\n",
        "        input_shape=(img_height, img_width, 3),\n",
        "        pooling='avg')\n",
        "\n",
        "for layer in base_model.layers:\n",
        "        layer.trainable = False  # trainable has to be false in order to freeze the layers\n",
        "\n",
        "op = Dense(256, activation='relu')(base_model.output)\n",
        "op = Dropout(.25)(op)\n",
        "\n",
        "output_tensor = Dense(6, activation='softmax')(op)\n",
        "movies_tl_model = Model(inputs=input_tensor, outputs=output_tensor)"
      ],
      "execution_count": 0,
      "outputs": [
        {
          "output_type": "stream",
          "text": [
            "WARNING: Logging before flag parsing goes to stderr.\n",
            "W0706 03:38:06.983863 139661556234112 deprecation_wrapper.py:119] From /usr/local/lib/python3.6/dist-packages/keras/backend/tensorflow_backend.py:74: The name tf.get_default_graph is deprecated. Please use tf.compat.v1.get_default_graph instead.\n",
            "\n",
            "W0706 03:38:07.027173 139661556234112 deprecation_wrapper.py:119] From /usr/local/lib/python3.6/dist-packages/keras/backend/tensorflow_backend.py:517: The name tf.placeholder is deprecated. Please use tf.compat.v1.placeholder instead.\n",
            "\n",
            "/usr/local/lib/python3.6/dist-packages/keras_applications/mobilenet.py:207: UserWarning: `input_shape` is undefined or non-square, or `rows` is not in [128, 160, 192, 224]. Weights for input shape (224, 224) will be loaded as the default.\n",
            "  warnings.warn('`input_shape` is undefined or non-square, '\n",
            "W0706 03:38:07.044890 139661556234112 deprecation_wrapper.py:119] From /usr/local/lib/python3.6/dist-packages/keras/backend/tensorflow_backend.py:4138: The name tf.random_uniform is deprecated. Please use tf.random.uniform instead.\n",
            "\n",
            "W0706 03:38:07.081523 139661556234112 deprecation_wrapper.py:119] From /usr/local/lib/python3.6/dist-packages/keras/backend/tensorflow_backend.py:174: The name tf.get_default_session is deprecated. Please use tf.compat.v1.get_default_session instead.\n",
            "\n",
            "W0706 03:38:07.082775 139661556234112 deprecation_wrapper.py:119] From /usr/local/lib/python3.6/dist-packages/keras/backend/tensorflow_backend.py:181: The name tf.ConfigProto is deprecated. Please use tf.compat.v1.ConfigProto instead.\n",
            "\n",
            "W0706 03:38:09.992211 139661556234112 deprecation_wrapper.py:119] From /usr/local/lib/python3.6/dist-packages/keras/backend/tensorflow_backend.py:1834: The name tf.nn.fused_batch_norm is deprecated. Please use tf.compat.v1.nn.fused_batch_norm instead.\n",
            "\n",
            "W0706 03:38:13.894731 139661556234112 deprecation.py:506] From /usr/local/lib/python3.6/dist-packages/keras/backend/tensorflow_backend.py:3445: calling dropout (from tensorflow.python.ops.nn_ops) with keep_prob is deprecated and will be removed in a future version.\n",
            "Instructions for updating:\n",
            "Please use `rate` instead of `keep_prob`. Rate should be set to `rate = 1 - keep_prob`.\n"
          ],
          "name": "stderr"
        }
      ]
    },
    {
      "cell_type": "code",
      "metadata": {
        "colab_type": "code",
        "id": "809axWV9TDBT",
        "colab": {}
      },
      "source": [
        "from sklearn.utils import class_weight\n",
        "class_genres=[list(genre).index(1) for genre in movies_genres_training]\n",
        "genres_weight = class_weight.compute_class_weight('balanced',np.unique(class_genres), class_genres)"
      ],
      "execution_count": 0,
      "outputs": []
    },
    {
      "cell_type": "code",
      "metadata": {
        "colab_type": "code",
        "outputId": "a0607d6d-d23e-4dd2-f92a-0c2a6b526e60",
        "id": "DypUG7sKTDBa",
        "colab": {
          "base_uri": "https://localhost:8080/",
          "height": 632
        }
      },
      "source": [
        "# Training model\n",
        "movies_tl_model.compile(optimizer=Adam(),loss='categorical_crossentropy',metrics=['categorical_accuracy'])\n",
        "movies_features_train = movies_tl_model.fit_generator(generator, steps_per_epoch=500, verbose=1, epochs=15, class_weight=genres_weight)"
      ],
      "execution_count": 0,
      "outputs": [
        {
          "output_type": "stream",
          "text": [
            "W0706 03:39:04.670166 139661556234112 deprecation_wrapper.py:119] From /usr/local/lib/python3.6/dist-packages/keras/optimizers.py:790: The name tf.train.Optimizer is deprecated. Please use tf.compat.v1.train.Optimizer instead.\n",
            "\n",
            "W0706 03:39:04.787681 139661556234112 deprecation.py:323] From /usr/local/lib/python3.6/dist-packages/tensorflow/python/ops/math_grad.py:1250: add_dispatch_support.<locals>.wrapper (from tensorflow.python.ops.array_ops) is deprecated and will be removed in a future version.\n",
            "Instructions for updating:\n",
            "Use tf.where in 2.0, which has the same broadcast rule as np.where\n"
          ],
          "name": "stderr"
        },
        {
          "output_type": "stream",
          "text": [
            "Epoch 1/15\n",
            "500/500 [==============================] - 22s 44ms/step - loss: 1.1163 - categorical_accuracy: 0.5746\n",
            "Epoch 2/15\n",
            "500/500 [==============================] - 17s 35ms/step - loss: 0.8784 - categorical_accuracy: 0.6580\n",
            "Epoch 3/15\n",
            "500/500 [==============================] - 17s 35ms/step - loss: 0.7220 - categorical_accuracy: 0.7240\n",
            "Epoch 4/15\n",
            "500/500 [==============================] - 17s 35ms/step - loss: 0.5738 - categorical_accuracy: 0.7842\n",
            "Epoch 5/15\n",
            "500/500 [==============================] - 18s 35ms/step - loss: 0.4317 - categorical_accuracy: 0.8401\n",
            "Epoch 6/15\n",
            "500/500 [==============================] - 18s 35ms/step - loss: 0.3436 - categorical_accuracy: 0.8762\n",
            "Epoch 7/15\n",
            "500/500 [==============================] - 18s 36ms/step - loss: 0.2708 - categorical_accuracy: 0.9001\n",
            "Epoch 8/15\n",
            "500/500 [==============================] - 18s 36ms/step - loss: 0.2293 - categorical_accuracy: 0.9193\n",
            "Epoch 9/15\n",
            "500/500 [==============================] - 18s 36ms/step - loss: 0.2033 - categorical_accuracy: 0.9295\n",
            "Epoch 10/15\n",
            "500/500 [==============================] - 18s 36ms/step - loss: 0.1760 - categorical_accuracy: 0.9401\n",
            "Epoch 11/15\n",
            "500/500 [==============================] - 18s 36ms/step - loss: 0.1691 - categorical_accuracy: 0.9428\n",
            "Epoch 12/15\n",
            "500/500 [==============================] - 18s 36ms/step - loss: 0.1443 - categorical_accuracy: 0.9501\n",
            "Epoch 13/15\n",
            "500/500 [==============================] - 18s 36ms/step - loss: 0.1419 - categorical_accuracy: 0.9506\n",
            "Epoch 14/15\n",
            "500/500 [==============================] - 18s 36ms/step - loss: 0.1259 - categorical_accuracy: 0.9541\n",
            "Epoch 15/15\n",
            "500/500 [==============================] - 18s 36ms/step - loss: 0.1336 - categorical_accuracy: 0.9525\n"
          ],
          "name": "stdout"
        }
      ]
    },
    {
      "cell_type": "code",
      "metadata": {
        "colab_type": "code",
        "id": "BNhmN7omTDBo",
        "colab": {}
      },
      "source": [
        "movies_tl_model.save(\"drive/My Drive/ml-datasets/tranf-learning-model-train-false.h5\")"
      ],
      "execution_count": 0,
      "outputs": []
    },
    {
      "cell_type": "code",
      "metadata": {
        "colab_type": "code",
        "outputId": "d182c662-e61a-40eb-e08b-f6e9210f7eca",
        "id": "78jqpf9yTDB_",
        "colab": {
          "base_uri": "https://localhost:8080/",
          "height": 1000
        }
      },
      "source": [
        "movies_tl_model.summary()"
      ],
      "execution_count": 0,
      "outputs": [
        {
          "output_type": "stream",
          "text": [
            "_________________________________________________________________\n",
            "Layer (type)                 Output Shape              Param #   \n",
            "=================================================================\n",
            "input_1 (InputLayer)         (None, 256, 160, 3)       0         \n",
            "_________________________________________________________________\n",
            "conv1_pad (ZeroPadding2D)    (None, 257, 161, 3)       0         \n",
            "_________________________________________________________________\n",
            "conv1 (Conv2D)               (None, 128, 80, 32)       864       \n",
            "_________________________________________________________________\n",
            "conv1_bn (BatchNormalization (None, 128, 80, 32)       128       \n",
            "_________________________________________________________________\n",
            "conv1_relu (ReLU)            (None, 128, 80, 32)       0         \n",
            "_________________________________________________________________\n",
            "conv_dw_1 (DepthwiseConv2D)  (None, 128, 80, 32)       288       \n",
            "_________________________________________________________________\n",
            "conv_dw_1_bn (BatchNormaliza (None, 128, 80, 32)       128       \n",
            "_________________________________________________________________\n",
            "conv_dw_1_relu (ReLU)        (None, 128, 80, 32)       0         \n",
            "_________________________________________________________________\n",
            "conv_pw_1 (Conv2D)           (None, 128, 80, 64)       2048      \n",
            "_________________________________________________________________\n",
            "conv_pw_1_bn (BatchNormaliza (None, 128, 80, 64)       256       \n",
            "_________________________________________________________________\n",
            "conv_pw_1_relu (ReLU)        (None, 128, 80, 64)       0         \n",
            "_________________________________________________________________\n",
            "conv_pad_2 (ZeroPadding2D)   (None, 129, 81, 64)       0         \n",
            "_________________________________________________________________\n",
            "conv_dw_2 (DepthwiseConv2D)  (None, 64, 40, 64)        576       \n",
            "_________________________________________________________________\n",
            "conv_dw_2_bn (BatchNormaliza (None, 64, 40, 64)        256       \n",
            "_________________________________________________________________\n",
            "conv_dw_2_relu (ReLU)        (None, 64, 40, 64)        0         \n",
            "_________________________________________________________________\n",
            "conv_pw_2 (Conv2D)           (None, 64, 40, 128)       8192      \n",
            "_________________________________________________________________\n",
            "conv_pw_2_bn (BatchNormaliza (None, 64, 40, 128)       512       \n",
            "_________________________________________________________________\n",
            "conv_pw_2_relu (ReLU)        (None, 64, 40, 128)       0         \n",
            "_________________________________________________________________\n",
            "conv_dw_3 (DepthwiseConv2D)  (None, 64, 40, 128)       1152      \n",
            "_________________________________________________________________\n",
            "conv_dw_3_bn (BatchNormaliza (None, 64, 40, 128)       512       \n",
            "_________________________________________________________________\n",
            "conv_dw_3_relu (ReLU)        (None, 64, 40, 128)       0         \n",
            "_________________________________________________________________\n",
            "conv_pw_3 (Conv2D)           (None, 64, 40, 128)       16384     \n",
            "_________________________________________________________________\n",
            "conv_pw_3_bn (BatchNormaliza (None, 64, 40, 128)       512       \n",
            "_________________________________________________________________\n",
            "conv_pw_3_relu (ReLU)        (None, 64, 40, 128)       0         \n",
            "_________________________________________________________________\n",
            "conv_pad_4 (ZeroPadding2D)   (None, 65, 41, 128)       0         \n",
            "_________________________________________________________________\n",
            "conv_dw_4 (DepthwiseConv2D)  (None, 32, 20, 128)       1152      \n",
            "_________________________________________________________________\n",
            "conv_dw_4_bn (BatchNormaliza (None, 32, 20, 128)       512       \n",
            "_________________________________________________________________\n",
            "conv_dw_4_relu (ReLU)        (None, 32, 20, 128)       0         \n",
            "_________________________________________________________________\n",
            "conv_pw_4 (Conv2D)           (None, 32, 20, 256)       32768     \n",
            "_________________________________________________________________\n",
            "conv_pw_4_bn (BatchNormaliza (None, 32, 20, 256)       1024      \n",
            "_________________________________________________________________\n",
            "conv_pw_4_relu (ReLU)        (None, 32, 20, 256)       0         \n",
            "_________________________________________________________________\n",
            "conv_dw_5 (DepthwiseConv2D)  (None, 32, 20, 256)       2304      \n",
            "_________________________________________________________________\n",
            "conv_dw_5_bn (BatchNormaliza (None, 32, 20, 256)       1024      \n",
            "_________________________________________________________________\n",
            "conv_dw_5_relu (ReLU)        (None, 32, 20, 256)       0         \n",
            "_________________________________________________________________\n",
            "conv_pw_5 (Conv2D)           (None, 32, 20, 256)       65536     \n",
            "_________________________________________________________________\n",
            "conv_pw_5_bn (BatchNormaliza (None, 32, 20, 256)       1024      \n",
            "_________________________________________________________________\n",
            "conv_pw_5_relu (ReLU)        (None, 32, 20, 256)       0         \n",
            "_________________________________________________________________\n",
            "conv_pad_6 (ZeroPadding2D)   (None, 33, 21, 256)       0         \n",
            "_________________________________________________________________\n",
            "conv_dw_6 (DepthwiseConv2D)  (None, 16, 10, 256)       2304      \n",
            "_________________________________________________________________\n",
            "conv_dw_6_bn (BatchNormaliza (None, 16, 10, 256)       1024      \n",
            "_________________________________________________________________\n",
            "conv_dw_6_relu (ReLU)        (None, 16, 10, 256)       0         \n",
            "_________________________________________________________________\n",
            "conv_pw_6 (Conv2D)           (None, 16, 10, 512)       131072    \n",
            "_________________________________________________________________\n",
            "conv_pw_6_bn (BatchNormaliza (None, 16, 10, 512)       2048      \n",
            "_________________________________________________________________\n",
            "conv_pw_6_relu (ReLU)        (None, 16, 10, 512)       0         \n",
            "_________________________________________________________________\n",
            "conv_dw_7 (DepthwiseConv2D)  (None, 16, 10, 512)       4608      \n",
            "_________________________________________________________________\n",
            "conv_dw_7_bn (BatchNormaliza (None, 16, 10, 512)       2048      \n",
            "_________________________________________________________________\n",
            "conv_dw_7_relu (ReLU)        (None, 16, 10, 512)       0         \n",
            "_________________________________________________________________\n",
            "conv_pw_7 (Conv2D)           (None, 16, 10, 512)       262144    \n",
            "_________________________________________________________________\n",
            "conv_pw_7_bn (BatchNormaliza (None, 16, 10, 512)       2048      \n",
            "_________________________________________________________________\n",
            "conv_pw_7_relu (ReLU)        (None, 16, 10, 512)       0         \n",
            "_________________________________________________________________\n",
            "conv_dw_8 (DepthwiseConv2D)  (None, 16, 10, 512)       4608      \n",
            "_________________________________________________________________\n",
            "conv_dw_8_bn (BatchNormaliza (None, 16, 10, 512)       2048      \n",
            "_________________________________________________________________\n",
            "conv_dw_8_relu (ReLU)        (None, 16, 10, 512)       0         \n",
            "_________________________________________________________________\n",
            "conv_pw_8 (Conv2D)           (None, 16, 10, 512)       262144    \n",
            "_________________________________________________________________\n",
            "conv_pw_8_bn (BatchNormaliza (None, 16, 10, 512)       2048      \n",
            "_________________________________________________________________\n",
            "conv_pw_8_relu (ReLU)        (None, 16, 10, 512)       0         \n",
            "_________________________________________________________________\n",
            "conv_dw_9 (DepthwiseConv2D)  (None, 16, 10, 512)       4608      \n",
            "_________________________________________________________________\n",
            "conv_dw_9_bn (BatchNormaliza (None, 16, 10, 512)       2048      \n",
            "_________________________________________________________________\n",
            "conv_dw_9_relu (ReLU)        (None, 16, 10, 512)       0         \n",
            "_________________________________________________________________\n",
            "conv_pw_9 (Conv2D)           (None, 16, 10, 512)       262144    \n",
            "_________________________________________________________________\n",
            "conv_pw_9_bn (BatchNormaliza (None, 16, 10, 512)       2048      \n",
            "_________________________________________________________________\n",
            "conv_pw_9_relu (ReLU)        (None, 16, 10, 512)       0         \n",
            "_________________________________________________________________\n",
            "conv_dw_10 (DepthwiseConv2D) (None, 16, 10, 512)       4608      \n",
            "_________________________________________________________________\n",
            "conv_dw_10_bn (BatchNormaliz (None, 16, 10, 512)       2048      \n",
            "_________________________________________________________________\n",
            "conv_dw_10_relu (ReLU)       (None, 16, 10, 512)       0         \n",
            "_________________________________________________________________\n",
            "conv_pw_10 (Conv2D)          (None, 16, 10, 512)       262144    \n",
            "_________________________________________________________________\n",
            "conv_pw_10_bn (BatchNormaliz (None, 16, 10, 512)       2048      \n",
            "_________________________________________________________________\n",
            "conv_pw_10_relu (ReLU)       (None, 16, 10, 512)       0         \n",
            "_________________________________________________________________\n",
            "conv_dw_11 (DepthwiseConv2D) (None, 16, 10, 512)       4608      \n",
            "_________________________________________________________________\n",
            "conv_dw_11_bn (BatchNormaliz (None, 16, 10, 512)       2048      \n",
            "_________________________________________________________________\n",
            "conv_dw_11_relu (ReLU)       (None, 16, 10, 512)       0         \n",
            "_________________________________________________________________\n",
            "conv_pw_11 (Conv2D)          (None, 16, 10, 512)       262144    \n",
            "_________________________________________________________________\n",
            "conv_pw_11_bn (BatchNormaliz (None, 16, 10, 512)       2048      \n",
            "_________________________________________________________________\n",
            "conv_pw_11_relu (ReLU)       (None, 16, 10, 512)       0         \n",
            "_________________________________________________________________\n",
            "conv_pad_12 (ZeroPadding2D)  (None, 17, 11, 512)       0         \n",
            "_________________________________________________________________\n",
            "conv_dw_12 (DepthwiseConv2D) (None, 8, 5, 512)         4608      \n",
            "_________________________________________________________________\n",
            "conv_dw_12_bn (BatchNormaliz (None, 8, 5, 512)         2048      \n",
            "_________________________________________________________________\n",
            "conv_dw_12_relu (ReLU)       (None, 8, 5, 512)         0         \n",
            "_________________________________________________________________\n",
            "conv_pw_12 (Conv2D)          (None, 8, 5, 1024)        524288    \n",
            "_________________________________________________________________\n",
            "conv_pw_12_bn (BatchNormaliz (None, 8, 5, 1024)        4096      \n",
            "_________________________________________________________________\n",
            "conv_pw_12_relu (ReLU)       (None, 8, 5, 1024)        0         \n",
            "_________________________________________________________________\n",
            "conv_dw_13 (DepthwiseConv2D) (None, 8, 5, 1024)        9216      \n",
            "_________________________________________________________________\n",
            "conv_dw_13_bn (BatchNormaliz (None, 8, 5, 1024)        4096      \n",
            "_________________________________________________________________\n",
            "conv_dw_13_relu (ReLU)       (None, 8, 5, 1024)        0         \n",
            "_________________________________________________________________\n",
            "conv_pw_13 (Conv2D)          (None, 8, 5, 1024)        1048576   \n",
            "_________________________________________________________________\n",
            "conv_pw_13_bn (BatchNormaliz (None, 8, 5, 1024)        4096      \n",
            "_________________________________________________________________\n",
            "conv_pw_13_relu (ReLU)       (None, 8, 5, 1024)        0         \n",
            "_________________________________________________________________\n",
            "global_average_pooling2d_1 ( (None, 1024)              0         \n",
            "_________________________________________________________________\n",
            "dense_1 (Dense)              (None, 256)               262400    \n",
            "_________________________________________________________________\n",
            "dropout_1 (Dropout)          (None, 256)               0         \n",
            "_________________________________________________________________\n",
            "dense_2 (Dense)              (None, 6)                 1542      \n",
            "=================================================================\n",
            "Total params: 3,492,806\n",
            "Trainable params: 263,942\n",
            "Non-trainable params: 3,228,864\n",
            "_________________________________________________________________\n"
          ],
          "name": "stdout"
        }
      ]
    },
    {
      "cell_type": "code",
      "metadata": {
        "colab_type": "code",
        "outputId": "fb893aa2-5d03-4c34-ae6c-8488fb8ed9e4",
        "id": "HhKfAnrLTDCf",
        "colab": {
          "base_uri": "https://localhost:8080/",
          "height": 34
        }
      },
      "source": [
        "movies_labels_tl = movies_tl_model.predict(movies_images_test)\n",
        "movies_labels_tl.shape"
      ],
      "execution_count": 0,
      "outputs": [
        {
          "output_type": "execute_result",
          "data": {
            "text/plain": [
              "(1135, 6)"
            ]
          },
          "metadata": {
            "tags": []
          },
          "execution_count": 17
        }
      ]
    },
    {
      "cell_type": "code",
      "metadata": {
        "colab_type": "code",
        "outputId": "2ea8bdf6-91aa-4787-bfed-c08043d5ddf6",
        "id": "gDQmRgdnTDDD",
        "colab": {
          "base_uri": "https://localhost:8080/",
          "height": 34
        }
      },
      "source": [
        "len([movie for movie in movies_labels_tl if movie[5]>0.4])"
      ],
      "execution_count": 0,
      "outputs": [
        {
          "output_type": "execute_result",
          "data": {
            "text/plain": [
              "0"
            ]
          },
          "metadata": {
            "tags": []
          },
          "execution_count": 18
        }
      ]
    },
    {
      "cell_type": "code",
      "metadata": {
        "colab_type": "code",
        "outputId": "b1b380f3-742f-4f97-86c9-73eec7dd3291",
        "id": "b7-JHSO8TDDO",
        "colab": {
          "base_uri": "https://localhost:8080/",
          "height": 119
        }
      },
      "source": [
        "# Confusstion Matrix\n",
        "confusion_mat = np.zeros((len(biggest_genres_idxs), len(biggest_genres_idxs)))\n",
        "genres_idxs= list(biggest_genres_idxs)\n",
        "for idx, movie in enumerate(movies_genres_test):\n",
        "  genre_idx = list(movie).index(1)\n",
        "  genre_idx_tl = np.argmax(movies_labels_tl[idx])\n",
        "  confusion_mat[genre_idx][genre_idx_tl]+=1\n",
        "\n",
        "confusion_mat"
      ],
      "execution_count": 0,
      "outputs": [
        {
          "output_type": "execute_result",
          "data": {
            "text/plain": [
              "array([[319.,  29., 128.,  31.,   0.,   0.],\n",
              "       [156.,  43.,  55.,  21.,   0.,   0.],\n",
              "       [102.,   8.,  80.,  11.,   0.,   0.],\n",
              "       [ 41.,   5.,  27.,  12.,   0.,   0.],\n",
              "       [ 26.,   8.,   3.,   3.,   0.,   0.],\n",
              "       [ 15.,   4.,   5.,   3.,   0.,   0.]])"
            ]
          },
          "metadata": {
            "tags": []
          },
          "execution_count": 19
        }
      ]
    },
    {
      "cell_type": "code",
      "metadata": {
        "colab_type": "code",
        "outputId": "086fa9ef-d40d-4022-e5a2-a9e2507c654e",
        "id": "1_bAtfiITDDX",
        "colab": {
          "base_uri": "https://localhost:8080/",
          "height": 183
        }
      },
      "source": [
        "genres_labels = np.array(original_genres_labels)[biggest_genres_idxs]\n",
        "scores_table = ListTable()\n",
        "table_titles = [f\"{label} (pred)\" for label in genres_labels]\n",
        "scores_table.append(np.append(\"\", table_titles))\n",
        "for idx, freq in enumerate(confusion_mat):\n",
        "  scores_table.append(np.append(genres_labels[idx], freq))\n",
        "  \n",
        "scores_table"
      ],
      "execution_count": 0,
      "outputs": [
        {
          "output_type": "execute_result",
          "data": {
            "text/html": [
              "<table><tr><th width='80'></th><th width='80'>Drama (pred)</th><th width='80'>Comedy (pred)</th><th width='80'>Documentary (pred)</th><th width='80'>Horror (pred)</th><th width='80'>Western (pred)</th><th width='80'>Thriller (pred)</th></tr><tr><th width='80'>Drama</th><td width='100' style='text-align: center; vertical-align: middle;''> 319.0</td><td width='100' style='text-align: center; vertical-align: middle;''> 29.0</td><td width='100' style='text-align: center; vertical-align: middle;''> 128.0</td><td width='100' style='text-align: center; vertical-align: middle;''> 31.0</td><td width='100' style='text-align: center; vertical-align: middle;''> 0.0</td><td width='100' style='text-align: center; vertical-align: middle;''> 0.0</td></tr><tr><th width='80'>Comedy</th><td width='100' style='text-align: center; vertical-align: middle;''> 156.0</td><td width='100' style='text-align: center; vertical-align: middle;''> 43.0</td><td width='100' style='text-align: center; vertical-align: middle;''> 55.0</td><td width='100' style='text-align: center; vertical-align: middle;''> 21.0</td><td width='100' style='text-align: center; vertical-align: middle;''> 0.0</td><td width='100' style='text-align: center; vertical-align: middle;''> 0.0</td></tr><tr><th width='80'>Documentary</th><td width='100' style='text-align: center; vertical-align: middle;''> 102.0</td><td width='100' style='text-align: center; vertical-align: middle;''> 8.0</td><td width='100' style='text-align: center; vertical-align: middle;''> 80.0</td><td width='100' style='text-align: center; vertical-align: middle;''> 11.0</td><td width='100' style='text-align: center; vertical-align: middle;''> 0.0</td><td width='100' style='text-align: center; vertical-align: middle;''> 0.0</td></tr><tr><th width='80'>Horror</th><td width='100' style='text-align: center; vertical-align: middle;''> 41.0</td><td width='100' style='text-align: center; vertical-align: middle;''> 5.0</td><td width='100' style='text-align: center; vertical-align: middle;''> 27.0</td><td width='100' style='text-align: center; vertical-align: middle;''> 12.0</td><td width='100' style='text-align: center; vertical-align: middle;''> 0.0</td><td width='100' style='text-align: center; vertical-align: middle;''> 0.0</td></tr><tr><th width='80'>Western</th><td width='100' style='text-align: center; vertical-align: middle;''> 26.0</td><td width='100' style='text-align: center; vertical-align: middle;''> 8.0</td><td width='100' style='text-align: center; vertical-align: middle;''> 3.0</td><td width='100' style='text-align: center; vertical-align: middle;''> 3.0</td><td width='100' style='text-align: center; vertical-align: middle;''> 0.0</td><td width='100' style='text-align: center; vertical-align: middle;''> 0.0</td></tr><tr><th width='80'>Thriller</th><td width='100' style='text-align: center; vertical-align: middle;''> 15.0</td><td width='100' style='text-align: center; vertical-align: middle;''> 4.0</td><td width='100' style='text-align: center; vertical-align: middle;''> 5.0</td><td width='100' style='text-align: center; vertical-align: middle;''> 3.0</td><td width='100' style='text-align: center; vertical-align: middle;''> 0.0</td><td width='100' style='text-align: center; vertical-align: middle;''> 0.0</td></tr></table>"
            ],
            "text/plain": [
              "[array(['', 'Drama (pred)', 'Comedy (pred)', 'Documentary (pred)',\n",
              "        'Horror (pred)', 'Western (pred)', 'Thriller (pred)'], dtype='<U18'),\n",
              " array(['Drama', '319.0', '29.0', '128.0', '31.0', '0.0', '0.0'],\n",
              "       dtype='<U32'),\n",
              " array(['Comedy', '156.0', '43.0', '55.0', '21.0', '0.0', '0.0'],\n",
              "       dtype='<U32'),\n",
              " array(['Documentary', '102.0', '8.0', '80.0', '11.0', '0.0', '0.0'],\n",
              "       dtype='<U32'),\n",
              " array(['Horror', '41.0', '5.0', '27.0', '12.0', '0.0', '0.0'],\n",
              "       dtype='<U32'),\n",
              " array(['Western', '26.0', '8.0', '3.0', '3.0', '0.0', '0.0'], dtype='<U32'),\n",
              " array(['Thriller', '15.0', '4.0', '5.0', '3.0', '0.0', '0.0'],\n",
              "       dtype='<U32')]"
            ]
          },
          "metadata": {
            "tags": []
          },
          "execution_count": 24
        }
      ]
    },
    {
      "cell_type": "code",
      "metadata": {
        "id": "bstYWGZecT5J",
        "colab_type": "code",
        "outputId": "48bc3a1d-dae1-4c71-c157-e12bb9420509",
        "colab": {
          "base_uri": "https://localhost:8080/",
          "height": 326
        }
      },
      "source": [
        "expected = [ np.argmax(movie) for movie in movies_genres_test]\n",
        "predicted = [ np.argmax(movie) for movie in  movies_labels_tl]\n",
        "print(\"Classification report for classifier %s:\\n%s\\n\"\n",
        "      % (base_model, metrics.classification_report(expected, predicted)))"
      ],
      "execution_count": 0,
      "outputs": [
        {
          "output_type": "stream",
          "text": [
            "Classification report for classifier <keras.engine.training.Model object at 0x7f04ce94f908>:\n",
            "              precision    recall  f1-score   support\n",
            "\n",
            "           0       0.48      0.63      0.55       507\n",
            "           1       0.44      0.16      0.23       275\n",
            "           2       0.27      0.40      0.32       201\n",
            "           3       0.15      0.14      0.14        85\n",
            "           4       0.00      0.00      0.00        40\n",
            "           5       0.00      0.00      0.00        27\n",
            "\n",
            "    accuracy                           0.40      1135\n",
            "   macro avg       0.22      0.22      0.21      1135\n",
            "weighted avg       0.38      0.40      0.37      1135\n",
            "\n",
            "\n"
          ],
          "name": "stdout"
        },
        {
          "output_type": "stream",
          "text": [
            "/usr/local/lib/python3.6/dist-packages/sklearn/metrics/classification.py:1437: UndefinedMetricWarning: Precision and F-score are ill-defined and being set to 0.0 in labels with no predicted samples.\n",
            "  'precision', 'predicted', average, warn_for)\n"
          ],
          "name": "stderr"
        }
      ]
    },
    {
      "cell_type": "markdown",
      "metadata": {
        "id": "uZefrkc8i43q",
        "colab_type": "text"
      },
      "source": [
        "The precision, recall and f1-score are greather for the genres that have the largest number of poster movies in the data set, the first genre (Drama), have the best quality of prediction, as we expected. In the same way the three last genres have the worst prediction, because between the six genres they have a largest difference.\n",
        "\n",
        "On the other hand, the performance with the fine tuning have an increase of approx 6/7% in the precision, recall and F1 for the first genre."
      ]
    },
    {
      "cell_type": "code",
      "metadata": {
        "id": "DfWeNp6Nn8qa",
        "colab_type": "code",
        "colab": {}
      },
      "source": [
        ""
      ],
      "execution_count": 0,
      "outputs": []
    }
  ]
}