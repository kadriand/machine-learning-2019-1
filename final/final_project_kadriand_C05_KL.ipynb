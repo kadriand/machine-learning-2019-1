{
 "cells": [
  {
   "cell_type": "code",
   "execution_count": 1,
   "metadata": {
    "colab": {
     "base_uri": "https://localhost:8080/",
     "height": 146
    },
    "colab_type": "code",
    "id": "-2Ypu4hZD5sA",
    "outputId": "9d73295b-474c-44e8-8c4e-3a2cc0951e18"
   },
   "outputs": [
    {
     "name": "stdout",
     "output_type": "stream",
     "text": [
      "Collecting biopython\n",
      "\u001b[?25l  Downloading https://files.pythonhosted.org/packages/ed/77/de3ba8f3d3015455f5df859c082729198ee6732deaeb4b87b9cfbfbaafe3/biopython-1.74-cp36-cp36m-manylinux1_x86_64.whl (2.2MB)\n",
      "\u001b[K     |████████████████████████████████| 2.2MB 2.9MB/s \n",
      "\u001b[?25hRequirement already satisfied: numpy in /usr/local/lib/python3.6/dist-packages (from biopython) (1.16.4)\n",
      "Installing collected packages: biopython\n",
      "Successfully installed biopython-1.74\n"
     ]
    }
   ],
   "source": [
    "!pip install biopython\n",
    "from Bio import Entrez\n",
    "from Bio import SeqIO\n",
    "import numpy as np\n",
    "import pickle\n",
    "import pandas as pd\n",
    "from collections import Counter\n",
    "import matplotlib.pylab as plt\n",
    "\n",
    "dataset_name=\"sequences_no_short_top_fams\"\n"
   ]
  },
  {
   "cell_type": "code",
   "execution_count": 2,
   "metadata": {
    "colab": {
     "base_uri": "https://localhost:8080/",
     "height": 128
    },
    "colab_type": "code",
    "id": "wiFL6CnXdncY",
    "outputId": "c4f079b7-cdd7-477a-9d3d-01a7cf556b51"
   },
   "outputs": [
    {
     "name": "stdout",
     "output_type": "stream",
     "text": [
      "Go to this URL in a browser: https://accounts.google.com/o/oauth2/auth?client_id=947318989803-6bn6qk8qdgf4n4g3pfee6491hc0brc4i.apps.googleusercontent.com&redirect_uri=urn%3Aietf%3Awg%3Aoauth%3A2.0%3Aoob&scope=email%20https%3A%2F%2Fwww.googleapis.com%2Fauth%2Fdocs.test%20https%3A%2F%2Fwww.googleapis.com%2Fauth%2Fdrive%20https%3A%2F%2Fwww.googleapis.com%2Fauth%2Fdrive.photos.readonly%20https%3A%2F%2Fwww.googleapis.com%2Fauth%2Fpeopleapi.readonly&response_type=code\n",
      "\n",
      "Enter your authorization code:\n",
      "··········\n",
      "Mounted at /content/drive\n"
     ]
    }
   ],
   "source": [
    "#Execute this cell to install your Google Drive.\n",
    "from google.colab import drive\n",
    "drive.mount('/content/drive')"
   ]
  },
  {
   "cell_type": "markdown",
   "metadata": {
    "colab_type": "text",
    "id": "DdUlwx0OmADR"
   },
   "source": [
    "# Creating dataset"
   ]
  },
  {
   "cell_type": "code",
   "execution_count": 0,
   "metadata": {
    "colab": {},
    "colab_type": "code",
    "id": "QteTwPu0cMMV"
   },
   "outputs": [],
   "source": [
    "# !cp \"/content/drive/My Drive/Colab Notebooks/gbvrlBase.seq\" .\n",
    "# !cp \"/content/drive/My Drive/Colab Notebooks/Sequences\" .\n",
    "# !cp \"/content/drive/My Drive/Colab Notebooks/sequence(1).gb\" ."
   ]
  },
  {
   "cell_type": "code",
   "execution_count": 0,
   "metadata": {
    "colab": {},
    "colab_type": "code",
    "id": "7BIjePUMget8"
   },
   "outputs": [],
   "source": [
    "gb_file = \"/content/drive/My Drive/Colab Notebooks/gbvrlBase.seq\"\n",
    "record = SeqIO.parse(open(gb_file,\"r\"), \"genbank\")\n",
    "record_dict = SeqIO.to_dict(record)"
   ]
  },
  {
   "cell_type": "code",
   "execution_count": 0,
   "metadata": {
    "colab": {},
    "colab_type": "code",
    "id": "a6XevAhCgFaR"
   },
   "outputs": [],
   "source": [
    "families=[]\n",
    "seqs=[]\n",
    "type_seq=[]\n",
    "full=[]\n",
    "name=[]\n",
    "for i in record_dict.keys():\n",
    "    family=record_dict[i].annotations['taxonomy']\n",
    "    type_molecule=record_dict[i].annotations[\"molecule_type\"]\n",
    "    if record_dict[i].features[0].qualifiers[\"mol_type\"][0].startswith('genomic'):\n",
    "        for j in family:\n",
    "            if j.endswith(\"dae\") and not j.startswith(\"unclassified\") and not j.startswith(\"unassigned\"):\n",
    "                fam=j\n",
    "                families.append(j)\n",
    "                seqs.append(str(record_dict[i].seq))\n",
    "                type_seq.append(type_molecule)\n",
    "                full.append(record_dict[i])\n",
    "                name.append(i)\n",
    " "
   ]
  },
  {
   "cell_type": "code",
   "execution_count": 0,
   "metadata": {
    "colab": {},
    "colab_type": "code",
    "id": "nu7r7OL4g_M_"
   },
   "outputs": [],
   "source": [
    "out_file=open(\"sequences_filtered\",\"wb\")\n",
    "pickle.dump((families,seqs,type_seq,name),out_file)"
   ]
  },
  {
   "cell_type": "code",
   "execution_count": 0,
   "metadata": {
    "colab": {},
    "colab_type": "code",
    "id": "eTUUh-bBmd4t"
   },
   "outputs": [],
   "source": [
    "! cp sequences_filtered \"drive/My Drive/Colab Notebooks/sequences_filtered\""
   ]
  },
  {
   "cell_type": "markdown",
   "metadata": {
    "colab_type": "text",
    "id": "wpOK3yDxmNw-"
   },
   "source": [
    "# Reading dataset"
   ]
  },
  {
   "cell_type": "code",
   "execution_count": 0,
   "metadata": {
    "colab": {},
    "colab_type": "code",
    "id": "aV-Fkci38gqo"
   },
   "outputs": [],
   "source": [
    "! cp \"drive/My Drive/Colab Notebooks/sequences_filtered\" sequences_filtered"
   ]
  },
  {
   "cell_type": "code",
   "execution_count": 0,
   "metadata": {
    "colab": {
     "base_uri": "https://localhost:8080/",
     "height": 34
    },
    "colab_type": "code",
    "id": "x5Ty67oFZDhp",
    "outputId": "1713c42c-a156-4ec2-a6e6-0d98ee99679a"
   },
   "outputs": [
    {
     "data": {
      "text/plain": [
       "32201"
      ]
     },
     "execution_count": 3,
     "metadata": {
      "tags": []
     },
     "output_type": "execute_result"
    }
   ],
   "source": [
    "read_file=open(\"sequences_filtered\",\"rb\")\n",
    "new_families,new_seqs,new_type_seq,names=pickle.load(read_file)\n",
    "d={\"Families\":new_families,\"Sequence\":new_seqs,\"Type sequence\":new_type_seq,\"Names\":names}\n",
    "df=pd.DataFrame(data=d)\n",
    "len(df)"
   ]
  },
  {
   "cell_type": "code",
   "execution_count": 0,
   "metadata": {
    "colab": {
     "base_uri": "https://localhost:8080/",
     "height": 238
    },
    "colab_type": "code",
    "id": "Y8FX2UbqZFhQ",
    "outputId": "8e09d340-61a1-42a9-e971-1e686caa70ef"
   },
   "outputs": [
    {
     "data": {
      "text/html": [
       "<div>\n",
       "<style scoped>\n",
       "    .dataframe tbody tr th:only-of-type {\n",
       "        vertical-align: middle;\n",
       "    }\n",
       "\n",
       "    .dataframe tbody tr th {\n",
       "        vertical-align: top;\n",
       "    }\n",
       "\n",
       "    .dataframe thead th {\n",
       "        text-align: right;\n",
       "    }\n",
       "</style>\n",
       "<table border=\"1\" class=\"dataframe\">\n",
       "  <thead>\n",
       "    <tr style=\"text-align: right;\">\n",
       "      <th></th>\n",
       "      <th>Families</th>\n",
       "      <th>Sequence</th>\n",
       "      <th>Names</th>\n",
       "    </tr>\n",
       "    <tr>\n",
       "      <th>Type sequence</th>\n",
       "      <th></th>\n",
       "      <th></th>\n",
       "      <th></th>\n",
       "    </tr>\n",
       "  </thead>\n",
       "  <tbody>\n",
       "    <tr>\n",
       "      <th>DNA</th>\n",
       "      <td>19586</td>\n",
       "      <td>19586</td>\n",
       "      <td>19586</td>\n",
       "    </tr>\n",
       "    <tr>\n",
       "      <th>RNA</th>\n",
       "      <td>11983</td>\n",
       "      <td>11983</td>\n",
       "      <td>11983</td>\n",
       "    </tr>\n",
       "    <tr>\n",
       "      <th>ds-RNA</th>\n",
       "      <td>64</td>\n",
       "      <td>64</td>\n",
       "      <td>64</td>\n",
       "    </tr>\n",
       "    <tr>\n",
       "      <th>ss-DNA</th>\n",
       "      <td>3</td>\n",
       "      <td>3</td>\n",
       "      <td>3</td>\n",
       "    </tr>\n",
       "    <tr>\n",
       "      <th>ss-RNA</th>\n",
       "      <td>565</td>\n",
       "      <td>565</td>\n",
       "      <td>565</td>\n",
       "    </tr>\n",
       "  </tbody>\n",
       "</table>\n",
       "</div>"
      ],
      "text/plain": [
       "               Families  Sequence  Names\n",
       "Type sequence                           \n",
       "DNA               19586     19586  19586\n",
       "RNA               11983     11983  11983\n",
       "ds-RNA               64        64     64\n",
       "ss-DNA                3         3      3\n",
       "ss-RNA              565       565    565"
      ]
     },
     "execution_count": 4,
     "metadata": {
      "tags": []
     },
     "output_type": "execute_result"
    }
   ],
   "source": [
    "df[df[\"Type sequence\"]==\"RNA\"].groupby(\"Families\").count().sort_values(by=\"Sequence\",ascending=False)\n",
    "df.groupby(\"Type sequence\").count()"
   ]
  },
  {
   "cell_type": "code",
   "execution_count": 0,
   "metadata": {
    "colab": {
     "base_uri": "https://localhost:8080/",
     "height": 537
    },
    "colab_type": "code",
    "id": "ZKlKiZ-yoNO1",
    "outputId": "883778ec-d0c4-4370-c055-bfab4339e771"
   },
   "outputs": [
    {
     "name": "stdout",
     "output_type": "stream",
     "text": [
      "The families needed to take the 90.7% of the data is 14\n"
     ]
    },
    {
     "data": {
      "text/html": [
       "<div>\n",
       "<style scoped>\n",
       "    .dataframe tbody tr th:only-of-type {\n",
       "        vertical-align: middle;\n",
       "    }\n",
       "\n",
       "    .dataframe tbody tr th {\n",
       "        vertical-align: top;\n",
       "    }\n",
       "\n",
       "    .dataframe thead th {\n",
       "        text-align: right;\n",
       "    }\n",
       "</style>\n",
       "<table border=\"1\" class=\"dataframe\">\n",
       "  <thead>\n",
       "    <tr style=\"text-align: right;\">\n",
       "      <th></th>\n",
       "      <th>Sequence</th>\n",
       "      <th>Type sequence</th>\n",
       "      <th>Names</th>\n",
       "    </tr>\n",
       "    <tr>\n",
       "      <th>Families</th>\n",
       "      <th></th>\n",
       "      <th></th>\n",
       "      <th></th>\n",
       "    </tr>\n",
       "  </thead>\n",
       "  <tbody>\n",
       "    <tr>\n",
       "      <th>Retroviridae</th>\n",
       "      <td>19066</td>\n",
       "      <td>19066</td>\n",
       "      <td>19066</td>\n",
       "    </tr>\n",
       "    <tr>\n",
       "      <th>Flaviviridae</th>\n",
       "      <td>3580</td>\n",
       "      <td>3580</td>\n",
       "      <td>3580</td>\n",
       "    </tr>\n",
       "    <tr>\n",
       "      <th>Herpesviridae</th>\n",
       "      <td>1516</td>\n",
       "      <td>1516</td>\n",
       "      <td>1516</td>\n",
       "    </tr>\n",
       "    <tr>\n",
       "      <th>Caliciviridae</th>\n",
       "      <td>974</td>\n",
       "      <td>974</td>\n",
       "      <td>974</td>\n",
       "    </tr>\n",
       "    <tr>\n",
       "      <th>Papillomaviridae</th>\n",
       "      <td>548</td>\n",
       "      <td>548</td>\n",
       "      <td>548</td>\n",
       "    </tr>\n",
       "    <tr>\n",
       "      <th>Reoviridae</th>\n",
       "      <td>535</td>\n",
       "      <td>535</td>\n",
       "      <td>535</td>\n",
       "    </tr>\n",
       "    <tr>\n",
       "      <th>Paramyxoviridae</th>\n",
       "      <td>440</td>\n",
       "      <td>440</td>\n",
       "      <td>440</td>\n",
       "    </tr>\n",
       "    <tr>\n",
       "      <th>Picornaviridae</th>\n",
       "      <td>437</td>\n",
       "      <td>437</td>\n",
       "      <td>437</td>\n",
       "    </tr>\n",
       "    <tr>\n",
       "      <th>Poxviridae</th>\n",
       "      <td>373</td>\n",
       "      <td>373</td>\n",
       "      <td>373</td>\n",
       "    </tr>\n",
       "    <tr>\n",
       "      <th>Rhabdoviridae</th>\n",
       "      <td>323</td>\n",
       "      <td>323</td>\n",
       "      <td>323</td>\n",
       "    </tr>\n",
       "    <tr>\n",
       "      <th>Orthomyxoviridae</th>\n",
       "      <td>313</td>\n",
       "      <td>313</td>\n",
       "      <td>313</td>\n",
       "    </tr>\n",
       "    <tr>\n",
       "      <th>Hepadnaviridae</th>\n",
       "      <td>287</td>\n",
       "      <td>287</td>\n",
       "      <td>287</td>\n",
       "    </tr>\n",
       "    <tr>\n",
       "      <th>Adenoviridae</th>\n",
       "      <td>281</td>\n",
       "      <td>281</td>\n",
       "      <td>281</td>\n",
       "    </tr>\n",
       "    <tr>\n",
       "      <th>Togaviridae</th>\n",
       "      <td>270</td>\n",
       "      <td>270</td>\n",
       "      <td>270</td>\n",
       "    </tr>\n",
       "  </tbody>\n",
       "</table>\n",
       "</div>"
      ],
      "text/plain": [
       "                  Sequence  Type sequence  Names\n",
       "Families                                        \n",
       "Retroviridae         19066          19066  19066\n",
       "Flaviviridae          3580           3580   3580\n",
       "Herpesviridae         1516           1516   1516\n",
       "Caliciviridae          974            974    974\n",
       "Papillomaviridae       548            548    548\n",
       "Reoviridae             535            535    535\n",
       "Paramyxoviridae        440            440    440\n",
       "Picornaviridae         437            437    437\n",
       "Poxviridae             373            373    373\n",
       "Rhabdoviridae          323            323    323\n",
       "Orthomyxoviridae       313            313    313\n",
       "Hepadnaviridae         287            287    287\n",
       "Adenoviridae           281            281    281\n",
       "Togaviridae            270            270    270"
      ]
     },
     "execution_count": 6,
     "metadata": {
      "tags": []
     },
     "output_type": "execute_result"
    }
   ],
   "source": [
    "acum=0\n",
    "aux=0\n",
    "for i in df.groupby([\"Families\"]).count().sort_values(by=[\"Sequence\",\"Type sequence\"],ascending=False,axis=0)[\"Sequence\"].values:\n",
    "    acum+=i\n",
    "    if acum/32201 > 0.9:\n",
    "        break\n",
    "    else:\n",
    "        aux+=1\n",
    "print(\"The families needed to take the {}% of the data is {}\".format(round(acum/32201*100,2),aux))\n",
    "df.groupby([\"Families\"]).count().sort_values(by=[\"Sequence\",\"Type sequence\"],ascending=False,axis=0)[:14]"
   ]
  },
  {
   "cell_type": "code",
   "execution_count": 0,
   "metadata": {
    "colab": {},
    "colab_type": "code",
    "id": "TE-HdzBgoQ3F"
   },
   "outputs": [],
   "source": [
    "df[\"Length\"]=df[\"Sequence\"].apply(len) # get the length of each sequence\n",
    "df[\"Letters\"]=df[\"Sequence\"].apply(set).apply(sorted) #get the letters that each sequence has and put it in an array\n",
    "def inspeccion(x):\n",
    "  result=True\n",
    "  si_son=[\"A\",\"C\",\"T\",\"N\",\"G\"]\n",
    "  for i in range(len(x)):\n",
    "    if x[i] not in si_son:\n",
    "      return not result\n",
    "    else:\n",
    "      continue\n",
    "  return result\n",
    "\n",
    "def is_N_in(x):\n",
    "  result=False\n",
    "  for i in range(len(x)):\n",
    "    if x[i]==\"N\":\n",
    "      return not result\n",
    "    else:\n",
    "      continue\n",
    "  return result\n",
    "\n",
    "df_new=df[(~df[\"Letters\"].apply(is_N_in)) & (df[\"Letters\"].apply(inspeccion))].reset_index(drop=True)"
   ]
  },
  {
   "cell_type": "code",
   "execution_count": 0,
   "metadata": {
    "colab": {
     "base_uri": "https://localhost:8080/",
     "height": 139
    },
    "colab_type": "code",
    "id": "8VGR-TlVxxQN",
    "outputId": "fe7cd9e1-39d5-4b7f-87c6-f48486b4e618"
   },
   "outputs": [
    {
     "name": "stdout",
     "output_type": "stream",
     "text": [
      "The families needed to take the 90.11% of the data is 14\n"
     ]
    },
    {
     "data": {
      "text/plain": [
       "Sequence         26282\n",
       "Type sequence    26282\n",
       "Names            26282\n",
       "Length           26282\n",
       "Letters          26282\n",
       "dtype: int64"
      ]
     },
     "execution_count": 8,
     "metadata": {
      "tags": []
     },
     "output_type": "execute_result"
    }
   ],
   "source": [
    "lower_bound=100\n",
    "acum=0\n",
    "aux=0\n",
    "total=df_new[df_new[\"Length\"]>lower_bound].groupby([\"Families\",\"Type sequence\"]).count().sum()[0]\n",
    "for i in df_new[df_new[\"Length\"]>lower_bound].groupby([\"Families\"]).count().sort_values(by=[\"Sequence\",\"Type sequence\"],ascending=False,axis=0)[\"Sequence\"].values:\n",
    "    acum+=i\n",
    "    if acum/total > 0.9:\n",
    "        break\n",
    "    else:\n",
    "        aux+=1\n",
    "print(\"The families needed to take the {}% of the data is {}\".format(round(acum/total*100,2),aux+1))\n",
    "df_new[df_new[\"Length\"]>lower_bound].groupby([\"Families\"]).count().sort_values(by=[\"Sequence\",\"Type sequence\"],ascending=False,axis=0)[:aux].sum()"
   ]
  },
  {
   "cell_type": "code",
   "execution_count": 0,
   "metadata": {
    "colab": {
     "base_uri": "https://localhost:8080/",
     "height": 537
    },
    "colab_type": "code",
    "id": "apBuVcVHGGyq",
    "outputId": "421dd41f-db3c-447d-a46d-d2c6050108af"
   },
   "outputs": [
    {
     "name": "stdout",
     "output_type": "stream",
     "text": [
      "The new dataset consists of 14 families and covers 90.11% of the data\n"
     ]
    },
    {
     "data": {
      "text/html": [
       "<div>\n",
       "<style scoped>\n",
       "    .dataframe tbody tr th:only-of-type {\n",
       "        vertical-align: middle;\n",
       "    }\n",
       "\n",
       "    .dataframe tbody tr th {\n",
       "        vertical-align: top;\n",
       "    }\n",
       "\n",
       "    .dataframe thead th {\n",
       "        text-align: right;\n",
       "    }\n",
       "</style>\n",
       "<table border=\"1\" class=\"dataframe\">\n",
       "  <thead>\n",
       "    <tr style=\"text-align: right;\">\n",
       "      <th></th>\n",
       "      <th>Sequence</th>\n",
       "      <th>Type sequence</th>\n",
       "      <th>Names</th>\n",
       "      <th>Length</th>\n",
       "      <th>Letters</th>\n",
       "    </tr>\n",
       "    <tr>\n",
       "      <th>Families</th>\n",
       "      <th></th>\n",
       "      <th></th>\n",
       "      <th></th>\n",
       "      <th></th>\n",
       "      <th></th>\n",
       "    </tr>\n",
       "  </thead>\n",
       "  <tbody>\n",
       "    <tr>\n",
       "      <th>Caliciviridae</th>\n",
       "      <td>884</td>\n",
       "      <td>884</td>\n",
       "      <td>884</td>\n",
       "      <td>884</td>\n",
       "      <td>884</td>\n",
       "    </tr>\n",
       "    <tr>\n",
       "      <th>Flaviviridae</th>\n",
       "      <td>3269</td>\n",
       "      <td>3269</td>\n",
       "      <td>3269</td>\n",
       "      <td>3269</td>\n",
       "      <td>3269</td>\n",
       "    </tr>\n",
       "    <tr>\n",
       "      <th>Hepadnaviridae</th>\n",
       "      <td>268</td>\n",
       "      <td>268</td>\n",
       "      <td>268</td>\n",
       "      <td>268</td>\n",
       "      <td>268</td>\n",
       "    </tr>\n",
       "    <tr>\n",
       "      <th>Herpesviridae</th>\n",
       "      <td>1274</td>\n",
       "      <td>1274</td>\n",
       "      <td>1274</td>\n",
       "      <td>1274</td>\n",
       "      <td>1274</td>\n",
       "    </tr>\n",
       "    <tr>\n",
       "      <th>Orthomyxoviridae</th>\n",
       "      <td>294</td>\n",
       "      <td>294</td>\n",
       "      <td>294</td>\n",
       "      <td>294</td>\n",
       "      <td>294</td>\n",
       "    </tr>\n",
       "    <tr>\n",
       "      <th>Papillomaviridae</th>\n",
       "      <td>529</td>\n",
       "      <td>529</td>\n",
       "      <td>529</td>\n",
       "      <td>529</td>\n",
       "      <td>529</td>\n",
       "    </tr>\n",
       "    <tr>\n",
       "      <th>Paramyxoviridae</th>\n",
       "      <td>419</td>\n",
       "      <td>419</td>\n",
       "      <td>419</td>\n",
       "      <td>419</td>\n",
       "      <td>419</td>\n",
       "    </tr>\n",
       "    <tr>\n",
       "      <th>Picornaviridae</th>\n",
       "      <td>329</td>\n",
       "      <td>329</td>\n",
       "      <td>329</td>\n",
       "      <td>329</td>\n",
       "      <td>329</td>\n",
       "    </tr>\n",
       "    <tr>\n",
       "      <th>Potyviridae</th>\n",
       "      <td>246</td>\n",
       "      <td>246</td>\n",
       "      <td>246</td>\n",
       "      <td>246</td>\n",
       "      <td>246</td>\n",
       "    </tr>\n",
       "    <tr>\n",
       "      <th>Poxviridae</th>\n",
       "      <td>368</td>\n",
       "      <td>368</td>\n",
       "      <td>368</td>\n",
       "      <td>368</td>\n",
       "      <td>368</td>\n",
       "    </tr>\n",
       "    <tr>\n",
       "      <th>Reoviridae</th>\n",
       "      <td>479</td>\n",
       "      <td>479</td>\n",
       "      <td>479</td>\n",
       "      <td>479</td>\n",
       "      <td>479</td>\n",
       "    </tr>\n",
       "    <tr>\n",
       "      <th>Retroviridae</th>\n",
       "      <td>17610</td>\n",
       "      <td>17610</td>\n",
       "      <td>17610</td>\n",
       "      <td>17610</td>\n",
       "      <td>17610</td>\n",
       "    </tr>\n",
       "    <tr>\n",
       "      <th>Rhabdoviridae</th>\n",
       "      <td>305</td>\n",
       "      <td>305</td>\n",
       "      <td>305</td>\n",
       "      <td>305</td>\n",
       "      <td>305</td>\n",
       "    </tr>\n",
       "    <tr>\n",
       "      <th>Togaviridae</th>\n",
       "      <td>254</td>\n",
       "      <td>254</td>\n",
       "      <td>254</td>\n",
       "      <td>254</td>\n",
       "      <td>254</td>\n",
       "    </tr>\n",
       "  </tbody>\n",
       "</table>\n",
       "</div>"
      ],
      "text/plain": [
       "                  Sequence  Type sequence  Names  Length  Letters\n",
       "Families                                                         \n",
       "Caliciviridae          884            884    884     884      884\n",
       "Flaviviridae          3269           3269   3269    3269     3269\n",
       "Hepadnaviridae         268            268    268     268      268\n",
       "Herpesviridae         1274           1274   1274    1274     1274\n",
       "Orthomyxoviridae       294            294    294     294      294\n",
       "Papillomaviridae       529            529    529     529      529\n",
       "Paramyxoviridae        419            419    419     419      419\n",
       "Picornaviridae         329            329    329     329      329\n",
       "Potyviridae            246            246    246     246      246\n",
       "Poxviridae             368            368    368     368      368\n",
       "Reoviridae             479            479    479     479      479\n",
       "Retroviridae         17610          17610  17610   17610    17610\n",
       "Rhabdoviridae          305            305    305     305      305\n",
       "Togaviridae            254            254    254     254      254"
      ]
     },
     "execution_count": 9,
     "metadata": {
      "tags": []
     },
     "output_type": "execute_result"
    }
   ],
   "source": [
    "families_size=aux+1\n",
    "df_valid_length=df_new[df_new[\"Length\"]>lower_bound].reset_index(drop=True)\n",
    "frequent_families = df_valid_length.groupby('Families').count().sort_values(by=[\"Sequence\",\"Type sequence\"],ascending=False,axis=0)[:families_size]['Sequence'].keys()\n",
    "\n",
    "df_viruses =df_valid_length[df_valid_length['Families'].isin(frequent_families)]\n",
    "print(f\"The new dataset consists of {families_size} families and covers {round(acum/total*100,2)}% of the data\")\n",
    "df_viruses.groupby([\"Families\"]).count()"
   ]
  },
  {
   "cell_type": "code",
   "execution_count": 0,
   "metadata": {
    "colab": {},
    "colab_type": "code",
    "id": "XrQc_luFfeOu"
   },
   "outputs": [],
   "source": [
    "sequences = df_viruses[\"Sequence\"]\n",
    "families = df_viruses[\"Families\"]"
   ]
  },
  {
   "cell_type": "code",
   "execution_count": 0,
   "metadata": {
    "colab": {},
    "colab_type": "code",
    "id": "EQrA6SvkJxQs"
   },
   "outputs": [],
   "source": [
    "dataset_file=open(dataset_name,\"wb\")\n",
    "pickle.dump((sequences, families),dataset_file)\n",
    "!cp \"$dataset_name\" \"drive/My Drive/Colab Notebooks/final/$dataset_name\""
   ]
  },
  {
   "cell_type": "markdown",
   "metadata": {
    "colab_type": "text",
    "id": "KNrZHeJQOjRW"
   },
   "source": [
    "# Utils"
   ]
  },
  {
   "cell_type": "code",
   "execution_count": 0,
   "metadata": {
    "colab": {},
    "colab_type": "code",
    "id": "syYQPVuIxrO7"
   },
   "outputs": [],
   "source": [
    "import time\n",
    "from sklearn.model_selection import train_test_split\n",
    "from sklearn.svm import LinearSVC, SVC\n",
    "\n",
    "complexity=0.05"
   ]
  },
  {
   "cell_type": "code",
   "execution_count": 0,
   "metadata": {
    "colab": {},
    "colab_type": "code",
    "id": "Mu502L6gIEdG"
   },
   "outputs": [],
   "source": [
    "from sklearn.utils.multiclass import unique_labels\n",
    "from sklearn.metrics import confusion_matrix\n",
    "from sklearn.metrics import classification_report\n",
    "\n",
    "def plot_confusion_matrix(y_true, y_pred, classes,\n",
    "                          normalize=False,\n",
    "                          title=None,\n",
    "                          cmap=plt.cm.Blues):\n",
    "    \"\"\"\n",
    "    This function prints and plots the confusion matrix.\n",
    "    Normalization can be applied by setting `normalize=True`.\n",
    "    \"\"\"\n",
    "    if not title:\n",
    "        if normalize:\n",
    "            title = 'Normalized confusion matrix'\n",
    "        else:\n",
    "            title = 'Confusion matrix, without normalization'\n",
    "\n",
    "    # Compute confusion matrix\n",
    "    cm = confusion_matrix(y_true, y_pred)\n",
    "    # Only use the labels that appear in the data\n",
    "    classes = unique_labels(y_true, y_pred)\n",
    "    if normalize:\n",
    "        cm = cm.astype('float') / cm.sum(axis=1)[:, np.newaxis]\n",
    "        print(\"Normalized confusion matrix\")\n",
    "    else:\n",
    "        print('Confusion matrix, without normalization')\n",
    "\n",
    "    fig, ax = plt.subplots(figsize = (10,10))\n",
    "    im = ax.imshow(cm, interpolation='nearest', cmap=cmap)\n",
    "    ax.figure.colorbar(im, ax=ax)\n",
    "    # We want to show all ticks...\n",
    "    ax.set(xticks=np.arange(cm.shape[1]),\n",
    "           yticks=np.arange(cm.shape[0]),\n",
    "           # ... and label them with the respective list entries\n",
    "           xticklabels=classes, yticklabels=classes,\n",
    "           title=title,\n",
    "           ylabel='True label',\n",
    "           xlabel='Predicted label')\n",
    "\n",
    "    # Rotate the tick labels and set their alignment.\n",
    "    plt.setp(ax.get_xticklabels(), rotation=45, ha=\"right\",\n",
    "             rotation_mode=\"anchor\")\n",
    "\n",
    "    # Loop over data dimensions and create text annotations.\n",
    "    fmt = '.2f' if normalize else 'd'\n",
    "    thresh = cm.max() / 2.\n",
    "    for i in range(cm.shape[0]):\n",
    "        for j in range(cm.shape[1]):\n",
    "            ax.text(j, i, format(cm[i, j], fmt),\n",
    "                    ha=\"center\", va=\"center\",\n",
    "                    color=\"white\" if cm[i, j] > thresh else \"black\")\n",
    "    fig.tight_layout()\n",
    "    return cm\n"
   ]
  },
  {
   "cell_type": "code",
   "execution_count": 0,
   "metadata": {
    "colab": {},
    "colab_type": "code",
    "id": "0PssyIzevjzu"
   },
   "outputs": [],
   "source": [
    "project_path = f\"drive/My Drive/Colab Notebooks/final/\"\n",
    "dataset_path = f\"{project_path}/{dataset_name}\"\n",
    "read_ds_file=open(dataset_path,\"rb\")\n",
    "(sequences, families) = pickle.load(read_ds_file)"
   ]
  },
  {
   "cell_type": "code",
   "execution_count": 6,
   "metadata": {
    "colab": {
     "base_uri": "https://localhost:8080/",
     "height": 308
    },
    "colab_type": "code",
    "id": "UJGRane_zJYi",
    "outputId": "5fe8e9b4-01fe-4b34-8428-0aa01af0ce8c"
   },
   "outputs": [
    {
     "data": {
      "text/plain": [
       "16629    230278\n",
       "21843    229354\n",
       "23690    223666\n",
       "15696    190289\n",
       "24617    186986\n",
       "22362    185578\n",
       "9196     184439\n",
       "20935    177923\n",
       "21424    172281\n",
       "4891     162519\n",
       "4895     162493\n",
       "4877     162492\n",
       "4886     162490\n",
       "4887     162490\n",
       "4876     162488\n",
       "Name: Sequence, dtype: int64"
      ]
     },
     "execution_count": 6,
     "metadata": {
      "tags": []
     },
     "output_type": "execute_result"
    }
   ],
   "source": [
    "sequences.str.len().sort_values(ascending = False)[:15]"
   ]
  },
  {
   "cell_type": "markdown",
   "metadata": {
    "colab_type": "text",
    "id": "FTK_aF78vCiV"
   },
   "source": [
    "# Classification _n-grams_"
   ]
  },
  {
   "cell_type": "markdown",
   "metadata": {
    "colab_type": "text",
    "id": "gyUANxW-EY0b"
   },
   "source": [
    "### Making the dataset"
   ]
  },
  {
   "cell_type": "code",
   "execution_count": 0,
   "metadata": {
    "colab": {},
    "colab_type": "code",
    "id": "UMXsGtHq2Ios"
   },
   "outputs": [],
   "source": [
    "seqs_train, seqs_test, fams_train, fams_test = train_test_split(sequences, families, test_size=0.2)"
   ]
  },
  {
   "cell_type": "code",
   "execution_count": 178,
   "metadata": {
    "colab": {
     "base_uri": "https://localhost:8080/",
     "height": 35
    },
    "colab_type": "code",
    "id": "9Hnlw_mOv7XI",
    "outputId": "dbeb3769-aa85-49ba-8164-1c17b9057ef0"
   },
   "outputs": [
    {
     "data": {
      "text/plain": [
       "5376"
      ]
     },
     "execution_count": 178,
     "metadata": {
      "tags": []
     },
     "output_type": "execute_result"
    }
   ],
   "source": [
    "from sklearn.feature_extraction.text import CountVectorizer\n",
    "\n",
    "cv = CountVectorizer(analyzer=\"char\", ngram_range=(4,6), lowercase=True)\n",
    "cv.fit(sequences)\n",
    "len(cv.get_feature_names())"
   ]
  },
  {
   "cell_type": "code",
   "execution_count": 0,
   "metadata": {
    "colab": {},
    "colab_type": "code",
    "id": "S7pq4XEvGVEV"
   },
   "outputs": [],
   "source": [
    "seqs_train_vect = cv.transform(seqs_train).toarray()"
   ]
  },
  {
   "cell_type": "code",
   "execution_count": 0,
   "metadata": {
    "colab": {},
    "colab_type": "code",
    "id": "Erqprcv6GVGs"
   },
   "outputs": [],
   "source": [
    "seqs_test_vect = cv.transform(seqs_test).toarray()"
   ]
  },
  {
   "cell_type": "code",
   "execution_count": 0,
   "metadata": {
    "colab": {
     "base_uri": "https://localhost:8080/",
     "height": 52
    },
    "colab_type": "code",
    "id": "MGRVWEuxHgcN",
    "outputId": "0d5f3923-6cb8-47a0-de27-0a4f7d7d6135"
   },
   "outputs": [
    {
     "name": "stdout",
     "output_type": "stream",
     "text": [
      "train: dataset 21222\n",
      "test: dataset 5306\n"
     ]
    }
   ],
   "source": [
    "# Size of test an train datasets\n",
    "print(f\"train: dataset {len(seqs_train_vect)}\")\n",
    "print(f\"test: dataset {len(seqs_test_vect)}\")"
   ]
  },
  {
   "cell_type": "markdown",
   "metadata": {
    "colab_type": "text",
    "id": "9YVyMeiCEeBT"
   },
   "source": [
    "### Training the model"
   ]
  },
  {
   "cell_type": "code",
   "execution_count": 0,
   "metadata": {
    "colab": {
     "base_uri": "https://localhost:8080/",
     "height": 141
    },
    "colab_type": "code",
    "id": "SmtHooOL-1Ht",
    "outputId": "21b7228d-183f-4592-e1a2-8827e1377a14"
   },
   "outputs": [
    {
     "name": "stderr",
     "output_type": "stream",
     "text": [
      "/usr/local/lib/python3.6/dist-packages/sklearn/svm/base.py:929: ConvergenceWarning: Liblinear failed to converge, increase the number of iterations.\n",
      "  \"the number of iterations.\", ConvergenceWarning)\n"
     ]
    },
    {
     "data": {
      "text/plain": [
       "LinearSVC(C=0.05, class_weight=None, dual=True, fit_intercept=True,\n",
       "          intercept_scaling=1, loss='squared_hinge', max_iter=5000,\n",
       "          multi_class='ovr', penalty='l2', random_state=None, tol=1e-05,\n",
       "          verbose=0)"
      ]
     },
     "execution_count": 45,
     "metadata": {
      "tags": []
     },
     "output_type": "execute_result"
    }
   ],
   "source": [
    "linear_svm = LinearSVC(C=complexity, max_iter=5000, tol=1e-5)\n",
    "linear_svm.fit(seqs_train_vect, fams_train)"
   ]
  },
  {
   "cell_type": "markdown",
   "metadata": {
    "colab_type": "text",
    "id": "_LAG1eogEMhL"
   },
   "source": [
    "### Saving the model "
   ]
  },
  {
   "cell_type": "code",
   "execution_count": 0,
   "metadata": {
    "colab": {},
    "colab_type": "code",
    "id": "_ejagRlBENiD"
   },
   "outputs": [],
   "source": [
    "svm_oh_path = f\"{project_path}/svm_oh.pkl\"\n",
    "svm_oh_file = open(svm_oh_path,\"wb\")\n",
    "pickle.dump((sequences, families), svm_oh_file)"
   ]
  },
  {
   "cell_type": "markdown",
   "metadata": {
    "colab_type": "text",
    "id": "7CienMiKEPJs"
   },
   "source": [
    "### Classifying"
   ]
  },
  {
   "cell_type": "code",
   "execution_count": 0,
   "metadata": {
    "colab": {},
    "colab_type": "code",
    "id": "jErnQAOuIsNR"
   },
   "outputs": [],
   "source": [
    "training_prediction = linear_svm.predict(seqs_train_vect)\n",
    "test_prediction= linear_svm.predict(seqs_test_vect)"
   ]
  },
  {
   "cell_type": "code",
   "execution_count": 0,
   "metadata": {
    "colab": {
     "base_uri": "https://localhost:8080/",
     "height": 382
    },
    "colab_type": "code",
    "id": "316rjGro-1eJ",
    "outputId": "f228eb72-4946-4c08-8aa0-c379e8a3fe02"
   },
   "outputs": [
    {
     "name": "stdout",
     "output_type": "stream",
     "text": [
      "                  precision    recall  f1-score   support\n",
      "\n",
      "   Caliciviridae       1.00      0.99      1.00       177\n",
      "    Flaviviridae       0.98      0.98      0.98       614\n",
      "  Hepadnaviridae       1.00      0.97      0.98        59\n",
      "   Herpesviridae       0.93      0.92      0.93       275\n",
      "Orthomyxoviridae       0.96      1.00      0.98        45\n",
      "Papillomaviridae       0.94      0.98      0.96        93\n",
      " Paramyxoviridae       0.99      0.99      0.99        85\n",
      "  Picornaviridae       0.96      0.96      0.96        77\n",
      "     Potyviridae       0.98      0.96      0.97        51\n",
      "      Poxviridae       0.94      0.88      0.91        66\n",
      "      Reoviridae       0.96      0.96      0.96        92\n",
      "    Retroviridae       0.99      1.00      1.00      3543\n",
      "   Rhabdoviridae       1.00      0.96      0.98        71\n",
      "     Togaviridae       0.95      0.98      0.97        58\n",
      "\n",
      "        accuracy                           0.99      5306\n",
      "       macro avg       0.97      0.97      0.97      5306\n",
      "    weighted avg       0.99      0.99      0.99      5306\n",
      "\n"
     ]
    }
   ],
   "source": [
    "print(classification_report(fams_test, test_prediction))"
   ]
  },
  {
   "cell_type": "code",
   "execution_count": 224,
   "metadata": {
    "colab": {
     "base_uri": "https://localhost:8080/",
     "height": 399
    },
    "colab_type": "code",
    "id": "axAOcU5ztGrp",
    "outputId": "4b163379-e11f-40bd-c668-4ef46adb33e4"
   },
   "outputs": [
    {
     "name": "stdout",
     "output_type": "stream",
     "text": [
      "                  precision    recall  f1-score   support\n",
      "\n",
      "   Caliciviridae       1.00      1.00      1.00       699\n",
      "    Flaviviridae       1.00      1.00      1.00      2558\n",
      "  Hepadnaviridae       1.00      1.00      1.00       228\n",
      "   Herpesviridae       1.00      1.00      1.00       939\n",
      "Orthomyxoviridae       1.00      1.00      1.00       232\n",
      "Papillomaviridae       1.00      1.00      1.00       374\n",
      " Paramyxoviridae       1.00      1.00      1.00       330\n",
      "  Picornaviridae       1.00      1.00      1.00       230\n",
      "     Potyviridae       1.00      1.00      1.00       177\n",
      "      Poxviridae       1.00      1.00      1.00       224\n",
      "      Reoviridae       1.00      1.00      1.00       379\n",
      "    Retroviridae       1.00      1.00      1.00     13104\n",
      "   Rhabdoviridae       1.00      1.00      1.00       236\n",
      "     Togaviridae       1.00      1.00      1.00       190\n",
      "\n",
      "        accuracy                           1.00     19900\n",
      "       macro avg       1.00      1.00      1.00     19900\n",
      "    weighted avg       1.00      1.00      1.00     19900\n",
      "\n"
     ]
    }
   ],
   "source": [
    "print(classification_report(fams_train, train_prediction))"
   ]
  },
  {
   "cell_type": "code",
   "execution_count": 0,
   "metadata": {
    "colab": {
     "base_uri": "https://localhost:8080/",
     "height": 970
    },
    "colab_type": "code",
    "id": "SuMScxh62Irf",
    "outputId": "27b0436f-00d1-4ebe-b84e-44c385a825d5"
   },
   "outputs": [
    {
     "name": "stdout",
     "output_type": "stream",
     "text": [
      "Confusion matrix, without normalization\n",
      "[[ 176    0    0    0    0    0    0    0    0    0    0    1    0    0]\n",
      " [   0  600    0    4    0    1    0    1    0    0    0    8    0    0]\n",
      " [   0    0   57    0    0    1    0    0    0    0    0    1    0    0]\n",
      " [   0    4    0  254    0    3    0    0    1    4    2    5    0    2]\n",
      " [   0    0    0    0   45    0    0    0    0    0    0    0    0    0]\n",
      " [   0    1    0    1    0   91    0    0    0    0    0    0    0    0]\n",
      " [   0    0    0    0    0    0   84    0    0    0    0    1    0    0]\n",
      " [   0    1    0    0    0    0    0   74    0    0    0    2    0    0]\n",
      " [   0    0    0    0    1    0    0    1   49    0    0    0    0    0]\n",
      " [   0    1    0    4    0    0    0    0    0   58    1    2    0    0]\n",
      " [   0    0    0    2    0    0    0    1    0    0   88    1    0    0]\n",
      " [   0    3    0    7    0    0    0    0    0    0    0 3532    0    1]\n",
      " [   0    0    0    0    1    0    1    0    0    0    1    0   68    0]\n",
      " [   0    0    0    0    0    1    0    0    0    0    0    0    0   57]]\n"
     ]
    },
    {
     "data": {
      "text/plain": [
       "<matplotlib.axes._subplots.AxesSubplot at 0x7fbc631fc240>"
      ]
     },
     "execution_count": 48,
     "metadata": {
      "tags": []
     },
     "output_type": "execute_result"
    },
    {
     "data": {
      "image/png": "[encoded data removed]",
      "text/plain": [
       "<Figure size 720x720 with 2 Axes>"
      ]
     },
     "metadata": {
      "tags": []
     },
     "output_type": "display_data"
    }
   ],
   "source": [
    "# Plot non-normalized confusion matrix\n",
    "frequent_families=families_oh.unique()\n",
    "cm = plot_confusion_matrix(fams_test, test_prediction, classes=np.asarray(frequent_families), title='Confusion matrix, without normalization')"
   ]
  },
  {
   "cell_type": "markdown",
   "metadata": {
    "colab_type": "text",
    "id": "HIjQ1p3a2VdM"
   },
   "source": [
    "Creating the n-grams of size 4 to 6"
   ]
  },
  {
   "cell_type": "markdown",
   "metadata": {
    "colab_type": "text",
    "id": "QU4A7PueD3Ka"
   },
   "source": [
    "# Making the dataset for handling long sequences"
   ]
  },
  {
   "cell_type": "code",
   "execution_count": 7,
   "metadata": {
    "colab": {
     "base_uri": "https://localhost:8080/",
     "height": 54
    },
    "colab_type": "code",
    "id": "wurQl9vO9iaM",
    "outputId": "8b45e80c-c696-4e1d-d057-c9bc3c02a05a"
   },
   "outputs": [
    {
     "name": "stdout",
     "output_type": "stream",
     "text": [
      "Number of sequences of size < 5000 : 24875\n",
      "93.77% of the original set\n"
     ]
    }
   ],
   "source": [
    "sequence_max_size = 5000\n",
    "filter= sequences.apply(lambda s: len(s) <= sequence_max_size)\n",
    "sequences_ohs=sequences[filter].reset_index(drop=True)\n",
    "families_ohs=families[filter].reset_index(drop=True)\n",
    "\n",
    "print(f\"Number of sequences of size < {sequence_max_size} : {len(families_ohs)}\")\n",
    "oh_fraction = len(families_ohs)/len(families)\n",
    "print(f\"{round(oh_fraction*100,2)}% of the original set\")"
   ]
  },
  {
   "cell_type": "code",
   "execution_count": 8,
   "metadata": {
    "colab": {
     "base_uri": "https://localhost:8080/",
     "height": 54
    },
    "colab_type": "code",
    "id": "WxtbGBY69iA6",
    "outputId": "25e84565-7c50-4f15-ea61-827d09f60c6c"
   },
   "outputs": [
    {
     "name": "stdout",
     "output_type": "stream",
     "text": [
      "Number of sequences of size > 5000 : 1653\n",
      "6.23% of the original set\n"
     ]
    }
   ],
   "source": [
    "sequence_max_size = 5000\n",
    "filter= sequences.apply(lambda s: len(s) > sequence_max_size)\n",
    "sequences_ohl=sequences[filter].reset_index(drop=True)\n",
    "families_ohl=families[filter].reset_index(drop=True)\n",
    "print(f\"Number of sequences of size > {sequence_max_size} : {len(families_ohl)}\")\n",
    "oh_fraction = len(families_ohl)/len(families)\n",
    "print(f\"{round(oh_fraction*100,2)}% of the original set\")"
   ]
  },
  {
   "cell_type": "code",
   "execution_count": 10,
   "metadata": {
    "colab": {
     "base_uri": "https://localhost:8080/",
     "height": 54
    },
    "colab_type": "code",
    "id": "ZtwXcBsVxn4x",
    "outputId": "6a2fa198-336e-4ec4-87eb-0f52e17afc2b"
   },
   "outputs": [
    {
     "name": "stdout",
     "output_type": "stream",
     "text": [
      "Long sequences chunks to append : 5727\n",
      "New dataset size : 30602\n"
     ]
    }
   ],
   "source": [
    "long_sequences=[]\n",
    "long_sequences_families=[]\n",
    "for s, sequence in enumerate(sequences_ohl):\n",
    "  sub_sequences = [sequence[i:i+sequence_max_size] for i in range(0, len(sequence), sequence_max_size)]\n",
    "  long_sequences.extend(sub_sequences)\n",
    "  long_sequences_families.extend([families_ohl[s]]*len(sub_sequences))\n",
    "\n",
    "print(f\"Long sequences chunks to append : {len(long_sequences_families)}\")\n",
    "families_oh = families_ohs.append(pd.Series(long_sequences_families), ignore_index=True)\n",
    "sequences_oh = sequences_ohs.append(pd.Series(long_sequences), ignore_index=True)\n",
    "print(f\"New dataset size : {len(sequences_oh)}\")"
   ]
  },
  {
   "cell_type": "code",
   "execution_count": 24,
   "metadata": {
    "colab": {
     "base_uri": "https://localhost:8080/",
     "height": 290
    },
    "colab_type": "code",
    "id": "jnu73lGsm9Vx",
    "outputId": "0e8ec821-704f-479e-ffb0-73412c57384e"
   },
   "outputs": [
    {
     "data": {
      "text/plain": [
       "Retroviridae        18876\n",
       "Flaviviridae         3353\n",
       "Poxviridae           2298\n",
       "Herpesviridae        1809\n",
       "Caliciviridae         904\n",
       "Papillomaviridae      597\n",
       "Reoviridae            479\n",
       "Paramyxoviridae       456\n",
       "Picornaviridae        375\n",
       "Rhabdoviridae         322\n",
       "Togaviridae           297\n",
       "Orthomyxoviridae      294\n",
       "Potyviridae           274\n",
       "Hepadnaviridae        268\n",
       "dtype: int64"
      ]
     },
     "execution_count": 24,
     "metadata": {
      "tags": []
     },
     "output_type": "execute_result"
    }
   ],
   "source": [
    "families_oh.value_counts()"
   ]
  },
  {
   "cell_type": "markdown",
   "metadata": {
    "colab_type": "text",
    "id": "riuXPUs4cXMZ"
   },
   "source": [
    "# Classification _one-hot_"
   ]
  },
  {
   "cell_type": "markdown",
   "metadata": {
    "colab_type": "text",
    "id": "Xr96ldxzDytT"
   },
   "source": [
    "### Training the model"
   ]
  },
  {
   "cell_type": "code",
   "execution_count": 12,
   "metadata": {
    "colab": {
     "base_uri": "https://localhost:8080/",
     "height": 35
    },
    "colab_type": "code",
    "id": "4LrrT7qt1sLQ",
    "outputId": "3aa349e9-b43e-40b3-8e44-364742a60c12"
   },
   "outputs": [
    {
     "data": {
      "text/plain": [
       "array(['A', 'C', 'G', 'T'], dtype='<U1')"
      ]
     },
     "execution_count": 12,
     "metadata": {
      "tags": []
     },
     "output_type": "execute_result"
    }
   ],
   "source": [
    "from sklearn.preprocessing import LabelBinarizer\n",
    "import gc\n",
    "\n",
    "linear_svm = []\n",
    "encoded_sequences = []\n",
    "sequences_ohs = []\n",
    "families_ohs = []\n",
    "sequences_ohl = []\n",
    "families_ohl = []\n",
    "long_sequences = []\n",
    "long_sequences_families = []\n",
    "seqs_train, seqs_test, fams_train, fams_test = ([], [], [], [])\n",
    "gc.collect()\n",
    "\n",
    "nuc_binarizer = LabelBinarizer()\n",
    "nuc_binarizer.fit([\"C\",\"G\",\"T\",\"A\"])\n",
    "nuc_binarizer.classes_"
   ]
  },
  {
   "cell_type": "code",
   "execution_count": 0,
   "metadata": {
    "colab": {},
    "colab_type": "code",
    "id": "jOpMeI_E5_9g"
   },
   "outputs": [],
   "source": [
    "encoded_sequences = np.zeros((len(sequences_oh), sequence_max_size,4))\n",
    "for s, sequence in enumerate(sequences_oh):\n",
    "  encoded_sequences[s][:len(sequence)] = nuc_binarizer.transform(list(sequence))\n",
    "\n",
    "dims = encoded_sequences.shape\n",
    "encoded_sequences = encoded_sequences.reshape(dims[0],dims[1]*dims[2])"
   ]
  },
  {
   "cell_type": "code",
   "execution_count": 15,
   "metadata": {
    "colab": {
     "base_uri": "https://localhost:8080/",
     "height": 54
    },
    "colab_type": "code",
    "id": "lkK4fK8zbrl5",
    "outputId": "fee0b2b0-b759-4751-c852-a127b1c062b3"
   },
   "outputs": [
    {
     "name": "stdout",
     "output_type": "stream",
     "text": [
      "trainin size : 24481\n",
      "trainin size : 6121\n"
     ]
    }
   ],
   "source": [
    "seqs_train, seqs_test, fams_train, fams_test = train_test_split(encoded_sequences, families_oh, test_size=0.2)\n",
    "print(f\"training size : {len(seqs_train)}\")\n",
    "print(f\"test size : {len(seqs_test)}\")"
   ]
  },
  {
   "cell_type": "code",
   "execution_count": 16,
   "metadata": {
    "colab": {
     "base_uri": "https://localhost:8080/",
     "height": 90
    },
    "colab_type": "code",
    "id": "6gd0Ncx3F3EJ",
    "outputId": "01a93798-657e-477e-cbed-4543331e7eec"
   },
   "outputs": [
    {
     "data": {
      "text/plain": [
       "LinearSVC(C=0.05, class_weight=None, dual=True, fit_intercept=True,\n",
       "          intercept_scaling=1, loss='squared_hinge', max_iter=5000,\n",
       "          multi_class='ovr', penalty='l2', random_state=None, tol=1e-05,\n",
       "          verbose=0)"
      ]
     },
     "execution_count": 16,
     "metadata": {
      "tags": []
     },
     "output_type": "execute_result"
    }
   ],
   "source": [
    "linear_svm = LinearSVC(C=complexity, max_iter=5000, tol=1e-5)\n",
    "linear_svm.fit(seqs_train, fams_train)\n"
   ]
  },
  {
   "cell_type": "markdown",
   "metadata": {
    "colab_type": "text",
    "id": "YKKbOcmgDkDq"
   },
   "source": [
    "### Saving the model "
   ]
  },
  {
   "cell_type": "code",
   "execution_count": 0,
   "metadata": {
    "colab": {},
    "colab_type": "code",
    "id": "8FrHfIvxCMCP"
   },
   "outputs": [],
   "source": [
    "svm_oh_path = f\"{project_path}/svm_oh.pkl\"\n",
    "svm_oh_file = open(svm_oh_path,\"wb\")\n",
    "pickle.dump((sequences, families), svm_oh_file)"
   ]
  },
  {
   "cell_type": "markdown",
   "metadata": {
    "colab_type": "text",
    "id": "OA9iq9OqDryT"
   },
   "source": [
    "### Classifying"
   ]
  },
  {
   "cell_type": "code",
   "execution_count": 0,
   "metadata": {
    "colab": {},
    "colab_type": "code",
    "id": "BwNc3wpFga9A"
   },
   "outputs": [],
   "source": [
    "train_prediction = linear_svm.predict(seqs_train)\n",
    "test_prediction= linear_svm.predict(seqs_test)"
   ]
  },
  {
   "cell_type": "code",
   "execution_count": 20,
   "metadata": {
    "colab": {
     "base_uri": "https://localhost:8080/",
     "height": 399
    },
    "colab_type": "code",
    "id": "MCVlG-GRg0pp",
    "outputId": "bf71a76a-667a-48f0-d21f-eb1f0fed6abd"
   },
   "outputs": [
    {
     "name": "stdout",
     "output_type": "stream",
     "text": [
      "                  precision    recall  f1-score   support\n",
      "\n",
      "   Caliciviridae       0.94      0.92      0.93       169\n",
      "    Flaviviridae       0.91      0.92      0.92       665\n",
      "  Hepadnaviridae       0.93      0.88      0.91        49\n",
      "   Herpesviridae       0.70      0.65      0.67       316\n",
      "Orthomyxoviridae       0.92      0.80      0.85        59\n",
      "Papillomaviridae       0.81      0.79      0.80       106\n",
      " Paramyxoviridae       0.81      0.77      0.79        90\n",
      "  Picornaviridae       0.71      0.68      0.70        76\n",
      "     Potyviridae       0.68      0.53      0.59        57\n",
      "      Poxviridae       0.80      0.79      0.80       473\n",
      "      Reoviridae       0.89      0.81      0.85       105\n",
      "    Retroviridae       0.96      0.98      0.97      3836\n",
      "   Rhabdoviridae       0.98      0.78      0.87        77\n",
      "     Togaviridae       0.83      0.93      0.88        43\n",
      "\n",
      "        accuracy                           0.92      6121\n",
      "       macro avg       0.85      0.80      0.82      6121\n",
      "    weighted avg       0.91      0.92      0.92      6121\n",
      "\n"
     ]
    }
   ],
   "source": [
    "print(classification_report(fams_test, test_prediction))"
   ]
  },
  {
   "cell_type": "code",
   "execution_count": 21,
   "metadata": {
    "colab": {
     "base_uri": "https://localhost:8080/",
     "height": 399
    },
    "colab_type": "code",
    "id": "AqTYEQSls-qq",
    "outputId": "99aa8666-2736-4541-9055-344b786ef9ee"
   },
   "outputs": [
    {
     "name": "stdout",
     "output_type": "stream",
     "text": [
      "                  precision    recall  f1-score   support\n",
      "\n",
      "   Caliciviridae       1.00      1.00      1.00       735\n",
      "    Flaviviridae       1.00      1.00      1.00      2688\n",
      "  Hepadnaviridae       1.00      1.00      1.00       219\n",
      "   Herpesviridae       1.00      1.00      1.00      1493\n",
      "Orthomyxoviridae       1.00      1.00      1.00       235\n",
      "Papillomaviridae       1.00      1.00      1.00       491\n",
      " Paramyxoviridae       1.00      1.00      1.00       366\n",
      "  Picornaviridae       1.00      1.00      1.00       299\n",
      "     Potyviridae       1.00      1.00      1.00       217\n",
      "      Poxviridae       1.00      1.00      1.00      1825\n",
      "      Reoviridae       1.00      1.00      1.00       374\n",
      "    Retroviridae       1.00      1.00      1.00     15040\n",
      "   Rhabdoviridae       1.00      1.00      1.00       245\n",
      "     Togaviridae       1.00      1.00      1.00       254\n",
      "\n",
      "        accuracy                           1.00     24481\n",
      "       macro avg       1.00      1.00      1.00     24481\n",
      "    weighted avg       1.00      1.00      1.00     24481\n",
      "\n"
     ]
    }
   ],
   "source": [
    "print(classification_report(fams_train, train_prediction))"
   ]
  },
  {
   "cell_type": "code",
   "execution_count": 22,
   "metadata": {
    "colab": {
     "base_uri": "https://localhost:8080/",
     "height": 711
    },
    "colab_type": "code",
    "id": "dnXljdEthPnJ",
    "outputId": "df6bdb0f-baf9-4a2c-8045-fbccb447c2fd"
   },
   "outputs": [
    {
     "name": "stdout",
     "output_type": "stream",
     "text": [
      "Confusion matrix, without normalization\n"
     ]
    },
    {
     "data": {
      "image/png": "[encoded data removed]",
      "text/plain": [
       "<Figure size 720x720 with 2 Axes>"
      ]
     },
     "metadata": {
      "tags": []
     },
     "output_type": "display_data"
    }
   ],
   "source": [
    "# Plot non-normalized confusion matrix\n",
    "frequent_families=families_oh.unique()\n",
    "cm = plot_confusion_matrix(fams_test, test_prediction, classes=np.asarray(frequent_families), title='Confusion matrix, without normalization')"
   ]
  },
  {
   "cell_type": "markdown",
   "metadata": {
    "colab_type": "text",
    "id": "ARI-TpKNoxWx"
   },
   "source": [
    "# Classification _ordinal_"
   ]
  },
  {
   "cell_type": "markdown",
   "metadata": {
    "colab_type": "text",
    "id": "JS-YT-XDFFfD"
   },
   "source": [
    "### Training the model"
   ]
  },
  {
   "cell_type": "code",
   "execution_count": 38,
   "metadata": {
    "colab": {
     "base_uri": "https://localhost:8080/",
     "height": 35
    },
    "colab_type": "code",
    "id": "B2P1_5DgFlV2",
    "outputId": "2fbbd27e-e0bc-4113-ee97-924a98e2d76c"
   },
   "outputs": [
    {
     "data": {
      "text/plain": [
       "array(['A', 'C', 'G', 'T'], dtype='<U1')"
      ]
     },
     "execution_count": 38,
     "metadata": {
      "tags": []
     },
     "output_type": "execute_result"
    }
   ],
   "source": [
    "import gc\n",
    "from sklearn.preprocessing import LabelEncoder\n",
    "\n",
    "linear_svm = []\n",
    "encoded_sequences = []\n",
    "sequences_ohs = []\n",
    "families_ohs = []\n",
    "sequences_ohl = []\n",
    "families_ohl = []\n",
    "long_sequences = []\n",
    "long_sequences_families = []\n",
    "seqs_train, seqs_test, fams_train, fams_test = ([], [], [], [])\n",
    "gc.collect()\n",
    "\n",
    "nuc_encoder = LabelEncoder()\n",
    "nuc_encoder.fit([\"A\", \"C\", \"G\", \"T\"])\n",
    "nuc_encoder.classes_"
   ]
  },
  {
   "cell_type": "code",
   "execution_count": 0,
   "metadata": {
    "colab": {},
    "colab_type": "code",
    "id": "UD4xySmtFlcf"
   },
   "outputs": [],
   "source": [
    "encoded_sequences = np.zeros((len(sequences_oh), sequence_max_size))\n",
    "for s, sequence in enumerate(sequences_oh):\n",
    "  encoded_sequences[s][:len(sequence)] = nuc_encoder.transform(list(sequence))"
   ]
  },
  {
   "cell_type": "code",
   "execution_count": 51,
   "metadata": {
    "colab": {
     "base_uri": "https://localhost:8080/",
     "height": 54
    },
    "colab_type": "code",
    "id": "UvI2GF04FlxD",
    "outputId": "e5011257-bc07-421a-f408-6b9a8aba95fc"
   },
   "outputs": [
    {
     "name": "stdout",
     "output_type": "stream",
     "text": [
      "trainin size : 24481\n",
      "trainin size : 6121\n"
     ]
    }
   ],
   "source": [
    "seqs_train, seqs_test, fams_train, fams_test = train_test_split(encoded_sequences, families_oh, test_size=0.2)\n",
    "print(f\"training size : {len(seqs_train)}\")\n",
    "print(f\"test size : {len(seqs_test)}\")"
   ]
  },
  {
   "cell_type": "code",
   "execution_count": 52,
   "metadata": {
    "colab": {
     "base_uri": "https://localhost:8080/",
     "height": 126
    },
    "colab_type": "code",
    "id": "fs1jp67yFlZY",
    "outputId": "478be4f0-1745-45ad-e30f-fe5517619acc"
   },
   "outputs": [
    {
     "name": "stderr",
     "output_type": "stream",
     "text": [
      "/usr/local/lib/python3.6/dist-packages/sklearn/svm/base.py:929: ConvergenceWarning: Liblinear failed to converge, increase the number of iterations.\n",
      "  \"the number of iterations.\", ConvergenceWarning)\n"
     ]
    },
    {
     "data": {
      "text/plain": [
       "LinearSVC(C=0.05, class_weight=None, dual=True, fit_intercept=True,\n",
       "          intercept_scaling=1, loss='squared_hinge', max_iter=5000,\n",
       "          multi_class='ovr', penalty='l2', random_state=None, tol=1e-05,\n",
       "          verbose=0)"
      ]
     },
     "execution_count": 52,
     "metadata": {
      "tags": []
     },
     "output_type": "execute_result"
    }
   ],
   "source": [
    "linear_svm = LinearSVC(C=complexity, max_iter=5000, tol=1e-5)\n",
    "linear_svm.fit(seqs_train, fams_train)"
   ]
  },
  {
   "cell_type": "markdown",
   "metadata": {
    "colab_type": "text",
    "id": "Q6dQpvtEFFk0"
   },
   "source": [
    "### Saving the model "
   ]
  },
  {
   "cell_type": "code",
   "execution_count": 0,
   "metadata": {
    "colab": {},
    "colab_type": "code",
    "id": "TlRNwmSnL3hR"
   },
   "outputs": [],
   "source": [
    "svm_ie_path = f\"{project_path}/svm_ie.pkl\"\n",
    "svm_ie_file = open(svm_ie_path,\"wb\")\n",
    "pickle.dump((sequences, families), svm_ie_file)"
   ]
  },
  {
   "cell_type": "markdown",
   "metadata": {
    "colab_type": "text",
    "id": "qbODDlRPFF4u"
   },
   "source": [
    "### Classifying"
   ]
  },
  {
   "cell_type": "code",
   "execution_count": 0,
   "metadata": {
    "colab": {},
    "colab_type": "code",
    "id": "7JDZlDYfL3pq"
   },
   "outputs": [],
   "source": [
    "train_prediction = linear_svm.predict(seqs_train)\n",
    "test_prediction= linear_svm.predict(seqs_test)"
   ]
  },
  {
   "cell_type": "code",
   "execution_count": 56,
   "metadata": {
    "colab": {
     "base_uri": "https://localhost:8080/",
     "height": 399
    },
    "colab_type": "code",
    "id": "s-LhcSkeMCbq",
    "outputId": "eebaa06a-8576-4e42-8c88-4c13a9a0bddc"
   },
   "outputs": [
    {
     "name": "stdout",
     "output_type": "stream",
     "text": [
      "                  precision    recall  f1-score   support\n",
      "\n",
      "   Caliciviridae       0.91      0.87      0.89       180\n",
      "    Flaviviridae       0.83      0.88      0.85       681\n",
      "  Hepadnaviridae       0.77      0.80      0.79        46\n",
      "   Herpesviridae       0.57      0.52      0.54       357\n",
      "Orthomyxoviridae       0.83      0.90      0.86        67\n",
      "Papillomaviridae       0.74      0.64      0.69       117\n",
      " Paramyxoviridae       0.76      0.72      0.74        94\n",
      "  Picornaviridae       0.59      0.53      0.56        83\n",
      "     Potyviridae       0.45      0.40      0.42        53\n",
      "      Poxviridae       0.70      0.63      0.66       466\n",
      "      Reoviridae       0.75      0.77      0.76        96\n",
      "    Retroviridae       0.93      0.94      0.93      3756\n",
      "   Rhabdoviridae       0.86      0.92      0.89        64\n",
      "     Togaviridae       0.78      0.84      0.81        61\n",
      "\n",
      "        accuracy                           0.86      6121\n",
      "       macro avg       0.75      0.74      0.74      6121\n",
      "    weighted avg       0.85      0.86      0.86      6121\n",
      "\n"
     ]
    }
   ],
   "source": [
    "print(classification_report(fams_test, test_prediction))"
   ]
  },
  {
   "cell_type": "code",
   "execution_count": 57,
   "metadata": {
    "colab": {
     "base_uri": "https://localhost:8080/",
     "height": 399
    },
    "colab_type": "code",
    "id": "keFU4-keMER8",
    "outputId": "7c964628-7b6b-4f99-da22-d218a101d14e"
   },
   "outputs": [
    {
     "name": "stdout",
     "output_type": "stream",
     "text": [
      "                  precision    recall  f1-score   support\n",
      "\n",
      "   Caliciviridae       1.00      0.99      1.00       724\n",
      "    Flaviviridae       0.94      0.95      0.95      2672\n",
      "  Hepadnaviridae       1.00      0.99      0.99       222\n",
      "   Herpesviridae       0.99      0.94      0.96      1452\n",
      "Orthomyxoviridae       1.00      1.00      1.00       227\n",
      "Papillomaviridae       1.00      0.96      0.98       480\n",
      " Paramyxoviridae       1.00      0.96      0.98       362\n",
      "  Picornaviridae       1.00      0.94      0.97       292\n",
      "     Potyviridae       1.00      0.98      0.99       221\n",
      "      Poxviridae       1.00      0.98      0.99      1832\n",
      "      Reoviridae       1.00      1.00      1.00       383\n",
      "    Retroviridae       0.98      0.99      0.99     15120\n",
      "   Rhabdoviridae       1.00      0.99      1.00       258\n",
      "     Togaviridae       1.00      1.00      1.00       236\n",
      "\n",
      "        accuracy                           0.98     24481\n",
      "       macro avg       0.99      0.98      0.98     24481\n",
      "    weighted avg       0.98      0.98      0.98     24481\n",
      "\n"
     ]
    }
   ],
   "source": [
    "print(classification_report(fams_train, train_prediction))"
   ]
  },
  {
   "cell_type": "code",
   "execution_count": 58,
   "metadata": {
    "colab": {
     "base_uri": "https://localhost:8080/",
     "height": 711
    },
    "colab_type": "code",
    "id": "LsYdGnj5MEae",
    "outputId": "82abce85-bc1e-4a78-e177-6c279cfa78f3"
   },
   "outputs": [
    {
     "name": "stdout",
     "output_type": "stream",
     "text": [
      "Confusion matrix, without normalization\n"
     ]
    },
    {
     "data": {
      "image/png": "[encoded data removed]",
      "text/plain": [
       "<Figure size 720x720 with 2 Axes>"
      ]
     },
     "metadata": {
      "tags": []
     },
     "output_type": "display_data"
    }
   ],
   "source": [
    "# Plot non-normalized confusion matrix\n",
    "frequent_families=families_oh.unique()\n",
    "cm = plot_confusion_matrix(fams_test, test_prediction, classes=np.asarray(frequent_families), title='Confusion matrix, without normalization')"
   ]
  },
  {
   "cell_type": "code",
   "execution_count": 0,
   "metadata": {
    "colab": {},
    "colab_type": "code",
    "id": "KEJsxBpAMCk6"
   },
   "outputs": [],
   "source": []
  }
 ],
 "metadata": {
  "colab": {
   "collapsed_sections": [
    "DdUlwx0OmADR",
    "wpOK3yDxmNw-"
   ],
   "name": "final-project-kadriand-C05-KL.ipynb",
   "provenance": [],
   "toc_visible": true,
   "version": "0.3.2"
  },
  "kernelspec": {
   "display_name": "Python 3",
   "language": "python",
   "name": "python3"
  },
  "language_info": {
   "codemirror_mode": {
    "name": "ipython",
    "version": 3
   },
   "file_extension": ".py",
   "mimetype": "text/x-python",
   "name": "python",
   "nbconvert_exporter": "python",
   "pygments_lexer": "ipython3",
   "version": "3.7.2"
  }
 },
 "nbformat": 4,
 "nbformat_minor": 1
}
