{
 "cells": [
  {
   "cell_type": "code",
   "execution_count": 1,
   "metadata": {
    "colab": {},
    "colab_type": "code",
    "id": "-2Ypu4hZD5sA"
   },
   "outputs": [],
   "source": [
    "import pickle\n",
    "import pandas as pd"
   ]
  },
  {
   "cell_type": "code",
   "execution_count": 2,
   "metadata": {
    "colab": {},
    "colab_type": "code",
    "id": "x5Ty67oFZDhp"
   },
   "outputs": [],
   "source": [
    "read_file=open(\"Sequences\",\"rb\")\n",
    "new_families,new_seqs,new_type_seq=pickle.load(read_file)\n",
    "\n",
    "d={\"Families\":new_families,\"Sequence\":new_seqs,\"Type sequence\":new_type_seq}\n",
    "df=pd.DataFrame(data=d)\n",
    "d={\"Families\":new_families,\"Sequence\":new_seqs,\"Type sequence\":new_type_seq}\n",
    "df=pd.DataFrame(data=d)"
   ]
  },
  {
   "cell_type": "code",
   "execution_count": 3,
   "metadata": {
    "colab": {},
    "colab_type": "code",
    "id": "Y8FX2UbqZFhQ"
   },
   "outputs": [],
   "source": [
    "filter_family = df.groupby(\"Families\").count().sort_values(by=\"Sequence\",ascending=False)[:9].index"
   ]
  },
  {
   "cell_type": "code",
   "execution_count": 4,
   "metadata": {
    "colab": {},
    "colab_type": "code",
    "id": "XrQc_luFfeOu"
   },
   "outputs": [],
   "source": [
    "virus_filtered=df[df[\"Families\"].isin(filter_family)].reset_index(drop=True)\n",
    "sequences = virus_filtered[\"Sequence\"]\n",
    "families = virus_filtered[\"Families\"]"
   ]
  },
  {
   "cell_type": "code",
   "execution_count": 5,
   "metadata": {
    "colab": {
     "base_uri": "https://localhost:8080/",
     "height": 68
    },
    "colab_type": "code",
    "id": "HgCp7nYNZXPZ",
    "outputId": "7aad9ae2-2b07-43c7-8fec-159702ff201a"
   },
   "outputs": [
    {
     "data": {
      "text/plain": [
       "Sequence         0.895643\n",
       "Type sequence    0.895643\n",
       "dtype: float64"
      ]
     },
     "execution_count": 5,
     "metadata": {},
     "output_type": "execute_result"
    }
   ],
   "source": [
    "df.groupby(\"Families\").count().sort_values(by=\"Sequence\",ascending=False)[:9].sum()/len(df)"
   ]
  },
  {
   "cell_type": "code",
   "execution_count": 6,
   "metadata": {
    "colab": {
     "base_uri": "https://localhost:8080/",
     "height": 359
    },
    "colab_type": "code",
    "id": "nnmM8Wk7ZYIZ",
    "outputId": "dfd642c6-b675-4adb-c844-aba557a5684d"
   },
   "outputs": [
    {
     "data": {
      "text/html": [
       "<div>\n",
       "<style scoped>\n",
       "    .dataframe tbody tr th:only-of-type {\n",
       "        vertical-align: middle;\n",
       "    }\n",
       "\n",
       "    .dataframe tbody tr th {\n",
       "        vertical-align: top;\n",
       "    }\n",
       "\n",
       "    .dataframe thead th {\n",
       "        text-align: right;\n",
       "    }\n",
       "</style>\n",
       "<table border=\"1\" class=\"dataframe\">\n",
       "  <thead>\n",
       "    <tr style=\"text-align: right;\">\n",
       "      <th></th>\n",
       "      <th>Sequence</th>\n",
       "      <th>Type sequence</th>\n",
       "    </tr>\n",
       "    <tr>\n",
       "      <th>Families</th>\n",
       "      <th></th>\n",
       "      <th></th>\n",
       "    </tr>\n",
       "  </thead>\n",
       "  <tbody>\n",
       "    <tr>\n",
       "      <th>Retroviridae</th>\n",
       "      <td>20271</td>\n",
       "      <td>20271</td>\n",
       "    </tr>\n",
       "    <tr>\n",
       "      <th>Orthomyxoviridae</th>\n",
       "      <td>17342</td>\n",
       "      <td>17342</td>\n",
       "    </tr>\n",
       "    <tr>\n",
       "      <th>Flaviviridae</th>\n",
       "      <td>3932</td>\n",
       "      <td>3932</td>\n",
       "    </tr>\n",
       "    <tr>\n",
       "      <th>Herpesviridae</th>\n",
       "      <td>1580</td>\n",
       "      <td>1580</td>\n",
       "    </tr>\n",
       "    <tr>\n",
       "      <th>Paramyxoviridae</th>\n",
       "      <td>1173</td>\n",
       "      <td>1173</td>\n",
       "    </tr>\n",
       "    <tr>\n",
       "      <th>Caliciviridae</th>\n",
       "      <td>1012</td>\n",
       "      <td>1012</td>\n",
       "    </tr>\n",
       "    <tr>\n",
       "      <th>Reoviridae</th>\n",
       "      <td>695</td>\n",
       "      <td>695</td>\n",
       "    </tr>\n",
       "    <tr>\n",
       "      <th>Papillomaviridae</th>\n",
       "      <td>556</td>\n",
       "      <td>556</td>\n",
       "    </tr>\n",
       "    <tr>\n",
       "      <th>Picornaviridae</th>\n",
       "      <td>488</td>\n",
       "      <td>488</td>\n",
       "    </tr>\n",
       "  </tbody>\n",
       "</table>\n",
       "</div>"
      ],
      "text/plain": [
       "                  Sequence  Type sequence\n",
       "Families                                 \n",
       "Retroviridae         20271          20271\n",
       "Orthomyxoviridae     17342          17342\n",
       "Flaviviridae          3932           3932\n",
       "Herpesviridae         1580           1580\n",
       "Paramyxoviridae       1173           1173\n",
       "Caliciviridae         1012           1012\n",
       "Reoviridae             695            695\n",
       "Papillomaviridae       556            556\n",
       "Picornaviridae         488            488"
      ]
     },
     "execution_count": 6,
     "metadata": {},
     "output_type": "execute_result"
    }
   ],
   "source": [
    "df.groupby(\"Families\").count().sort_values(by=\"Sequence\",ascending=False)[:9]"
   ]
  },
  {
   "cell_type": "code",
   "execution_count": 7,
   "metadata": {
    "colab": {
     "base_uri": "https://localhost:8080/",
     "height": 1000
    },
    "colab_type": "code",
    "id": "hqd8rAYZrYsS",
    "outputId": "2537ac74-2d41-4e0d-94d4-dee4f6691b9f"
   },
   "outputs": [
    {
     "data": {
      "text/html": [
       "<div>\n",
       "<style scoped>\n",
       "    .dataframe tbody tr th:only-of-type {\n",
       "        vertical-align: middle;\n",
       "    }\n",
       "\n",
       "    .dataframe tbody tr th {\n",
       "        vertical-align: top;\n",
       "    }\n",
       "\n",
       "    .dataframe thead th {\n",
       "        text-align: right;\n",
       "    }\n",
       "</style>\n",
       "<table border=\"1\" class=\"dataframe\">\n",
       "  <thead>\n",
       "    <tr style=\"text-align: right;\">\n",
       "      <th></th>\n",
       "      <th></th>\n",
       "      <th>Sequence</th>\n",
       "    </tr>\n",
       "    <tr>\n",
       "      <th>Families</th>\n",
       "      <th>Type sequence</th>\n",
       "      <th></th>\n",
       "    </tr>\n",
       "  </thead>\n",
       "  <tbody>\n",
       "    <tr>\n",
       "      <th rowspan=\"3\" valign=\"top\">Caliciviridae</th>\n",
       "      <th>RNA</th>\n",
       "      <td>972</td>\n",
       "    </tr>\n",
       "    <tr>\n",
       "      <th>mRNA</th>\n",
       "      <td>38</td>\n",
       "    </tr>\n",
       "    <tr>\n",
       "      <th>ss-RNA</th>\n",
       "      <td>2</td>\n",
       "    </tr>\n",
       "    <tr>\n",
       "      <th rowspan=\"5\" valign=\"top\">Flaviviridae</th>\n",
       "      <th>DNA</th>\n",
       "      <td>392</td>\n",
       "    </tr>\n",
       "    <tr>\n",
       "      <th>RNA</th>\n",
       "      <td>3074</td>\n",
       "    </tr>\n",
       "    <tr>\n",
       "      <th>ds-RNA</th>\n",
       "      <td>1</td>\n",
       "    </tr>\n",
       "    <tr>\n",
       "      <th>mRNA</th>\n",
       "      <td>345</td>\n",
       "    </tr>\n",
       "    <tr>\n",
       "      <th>ss-RNA</th>\n",
       "      <td>120</td>\n",
       "    </tr>\n",
       "    <tr>\n",
       "      <th rowspan=\"3\" valign=\"top\">Herpesviridae</th>\n",
       "      <th>DNA</th>\n",
       "      <td>1524</td>\n",
       "    </tr>\n",
       "    <tr>\n",
       "      <th>RNA</th>\n",
       "      <td>4</td>\n",
       "    </tr>\n",
       "    <tr>\n",
       "      <th>mRNA</th>\n",
       "      <td>52</td>\n",
       "    </tr>\n",
       "    <tr>\n",
       "      <th rowspan=\"4\" valign=\"top\">Orthomyxoviridae</th>\n",
       "      <th>DNA</th>\n",
       "      <td>3</td>\n",
       "    </tr>\n",
       "    <tr>\n",
       "      <th>RNA</th>\n",
       "      <td>319</td>\n",
       "    </tr>\n",
       "    <tr>\n",
       "      <th>cRNA</th>\n",
       "      <td>16818</td>\n",
       "    </tr>\n",
       "    <tr>\n",
       "      <th>mRNA</th>\n",
       "      <td>202</td>\n",
       "    </tr>\n",
       "    <tr>\n",
       "      <th rowspan=\"3\" valign=\"top\">Papillomaviridae</th>\n",
       "      <th>DNA</th>\n",
       "      <td>549</td>\n",
       "    </tr>\n",
       "    <tr>\n",
       "      <th>RNA</th>\n",
       "      <td>2</td>\n",
       "    </tr>\n",
       "    <tr>\n",
       "      <th>mRNA</th>\n",
       "      <td>5</td>\n",
       "    </tr>\n",
       "    <tr>\n",
       "      <th rowspan=\"5\" valign=\"top\">Paramyxoviridae</th>\n",
       "      <th>DNA</th>\n",
       "      <td>118</td>\n",
       "    </tr>\n",
       "    <tr>\n",
       "      <th>RNA</th>\n",
       "      <td>318</td>\n",
       "    </tr>\n",
       "    <tr>\n",
       "      <th>cRNA</th>\n",
       "      <td>466</td>\n",
       "    </tr>\n",
       "    <tr>\n",
       "      <th>mRNA</th>\n",
       "      <td>267</td>\n",
       "    </tr>\n",
       "    <tr>\n",
       "      <th>ss-RNA</th>\n",
       "      <td>4</td>\n",
       "    </tr>\n",
       "    <tr>\n",
       "      <th rowspan=\"5\" valign=\"top\">Picornaviridae</th>\n",
       "      <th>DNA</th>\n",
       "      <td>40</td>\n",
       "    </tr>\n",
       "    <tr>\n",
       "      <th>RNA</th>\n",
       "      <td>383</td>\n",
       "    </tr>\n",
       "    <tr>\n",
       "      <th>ds-RNA</th>\n",
       "      <td>1</td>\n",
       "    </tr>\n",
       "    <tr>\n",
       "      <th>mRNA</th>\n",
       "      <td>44</td>\n",
       "    </tr>\n",
       "    <tr>\n",
       "      <th>ss-RNA</th>\n",
       "      <td>20</td>\n",
       "    </tr>\n",
       "    <tr>\n",
       "      <th rowspan=\"4\" valign=\"top\">Reoviridae</th>\n",
       "      <th>DNA</th>\n",
       "      <td>7</td>\n",
       "    </tr>\n",
       "    <tr>\n",
       "      <th>RNA</th>\n",
       "      <td>487</td>\n",
       "    </tr>\n",
       "    <tr>\n",
       "      <th>ds-RNA</th>\n",
       "      <td>48</td>\n",
       "    </tr>\n",
       "    <tr>\n",
       "      <th>mRNA</th>\n",
       "      <td>153</td>\n",
       "    </tr>\n",
       "    <tr>\n",
       "      <th rowspan=\"6\" valign=\"top\">Retroviridae</th>\n",
       "      <th>DNA</th>\n",
       "      <td>15661</td>\n",
       "    </tr>\n",
       "    <tr>\n",
       "      <th>RNA</th>\n",
       "      <td>3626</td>\n",
       "    </tr>\n",
       "    <tr>\n",
       "      <th>ds-RNA</th>\n",
       "      <td>2</td>\n",
       "    </tr>\n",
       "    <tr>\n",
       "      <th>mRNA</th>\n",
       "      <td>557</td>\n",
       "    </tr>\n",
       "    <tr>\n",
       "      <th>ss-DNA</th>\n",
       "      <td>1</td>\n",
       "    </tr>\n",
       "    <tr>\n",
       "      <th>ss-RNA</th>\n",
       "      <td>424</td>\n",
       "    </tr>\n",
       "  </tbody>\n",
       "</table>\n",
       "</div>"
      ],
      "text/plain": [
       "                                Sequence\n",
       "Families         Type sequence          \n",
       "Caliciviridae    RNA                 972\n",
       "                 mRNA                 38\n",
       "                 ss-RNA                2\n",
       "Flaviviridae     DNA                 392\n",
       "                 RNA                3074\n",
       "                 ds-RNA                1\n",
       "                 mRNA                345\n",
       "                 ss-RNA              120\n",
       "Herpesviridae    DNA                1524\n",
       "                 RNA                   4\n",
       "                 mRNA                 52\n",
       "Orthomyxoviridae DNA                   3\n",
       "                 RNA                 319\n",
       "                 cRNA              16818\n",
       "                 mRNA                202\n",
       "Papillomaviridae DNA                 549\n",
       "                 RNA                   2\n",
       "                 mRNA                  5\n",
       "Paramyxoviridae  DNA                 118\n",
       "                 RNA                 318\n",
       "                 cRNA                466\n",
       "                 mRNA                267\n",
       "                 ss-RNA                4\n",
       "Picornaviridae   DNA                  40\n",
       "                 RNA                 383\n",
       "                 ds-RNA                1\n",
       "                 mRNA                 44\n",
       "                 ss-RNA               20\n",
       "Reoviridae       DNA                   7\n",
       "                 RNA                 487\n",
       "                 ds-RNA               48\n",
       "                 mRNA                153\n",
       "Retroviridae     DNA               15661\n",
       "                 RNA                3626\n",
       "                 ds-RNA                2\n",
       "                 mRNA                557\n",
       "                 ss-DNA                1\n",
       "                 ss-RNA              424"
      ]
     },
     "execution_count": 7,
     "metadata": {},
     "output_type": "execute_result"
    }
   ],
   "source": [
    "virus_filtered.groupby([\"Families\",\"Type sequence\"]).count()"
   ]
  },
  {
   "cell_type": "code",
   "execution_count": 8,
   "metadata": {
    "colab": {
     "base_uri": "https://localhost:8080/",
     "height": 34
    },
    "colab_type": "code",
    "id": "SvOgrhW5fkum",
    "outputId": "9535374f-4226-4e9c-c8e8-143301dabdb6"
   },
   "outputs": [
    {
     "data": {
      "text/plain": [
       "'GACCTGAAAG'"
      ]
     },
     "execution_count": 8,
     "metadata": {},
     "output_type": "execute_result"
    }
   ],
   "source": [
    "sequences[0][0:10]"
   ]
  },
  {
   "cell_type": "code",
   "execution_count": 9,
   "metadata": {
    "colab": {},
    "colab_type": "code",
    "id": "syYQPVuIxrO7"
   },
   "outputs": [
    {
     "data": {
      "text/plain": [
       "0        GACCTGAAAGCGAAAGTAAAACCAGAGGAGCTCTCTCGGCGCAGGA...\n",
       "1        AACGTGTCGTGCCCCCAAAACATAACGTAAACGTGGAAGCGGAGAG...\n",
       "2        TGGTCTGCGAACAGACTCTGGGAACTAGAGAGCCCTCATGTAAAAC...\n",
       "3        GACCTGAAAGCGAAAGTAAAACCAGAGGAGCTCTCTCGGCGCAGGA...\n",
       "4        GGACCTGAAAGCGAAAGTAAAACCTTTTGACTAGCGGAGGCTAGAA...\n",
       "5        GGACCTGAAAGCGAAAGTAAAACCAGAGGAGCTCTCTCGGCGCAGG...\n",
       "6        ACCTGAAAGCGAAAGTAAAACCAGAGGAGCTCTCTCGGCGCAGGAC...\n",
       "7        AACAGACTCTGGTAAGTAGTGGTCCGCTCAAAATCTCTAGCAGTGG...\n",
       "8        GACCTGAAAGCGAAAGTAAAACCAGAGGAGCTCTCTCGGCGCAGGA...\n",
       "9        GGACCTGAAAGCGAAAGTAAAACCAGAGGAGCTCTCTCGGCGCAGG...\n",
       "10       GACCTGAAAGCGAAAGTAAAACCAGAGGAGCTCTCTCGGCGCAGGA...\n",
       "11       GGACCTGAAAGCGAAAGTAAAACCAGAGGAGCTCTCTCGGCGCAGG...\n",
       "12       AAATTGGGACGTTCGCCTACGCAAGCGAAAATTTCTCTACGTAGCC...\n",
       "13       GGACCTGAAAGCGAAAGTAAAACCAGAGGAGCTCTCTCGGCGCAGG...\n",
       "14       TTGCTGAAGCGCGCACAGCAAGAGGCGAGGGGCGGCGACTGGCCTG...\n",
       "15       GGGACCTGAAAGCGAAAGTAAAACCAGAGGAGCTCTCTCGGCGCAG...\n",
       "16       GGACCTGAAAGCGAAAGTAAAACCAGAGGAGCTCTCTCGGCGCAGG...\n",
       "17       CGCCGGAACAAATCTCTAGCAGTGGCGCCCGAACAAATCTCTAGCA...\n",
       "18       ACTTTCGCTTTCAGGGACCTGAAAGCGAAAGTAAAACCAGAGGAGC...\n",
       "19       GACCTGAAAGCGAAAGTAAAACCAGAGGAGCTCTCTCGGCGCAGGA...\n",
       "20       GACCTGAAAGCGAAAGTAAAACCAGAGGAGCTCTCTCGGCGCAGGA...\n",
       "21       CCCCCCCTAATTCGCGAGCAGTGGGCCCGAACTACATCACTAGCAA...\n",
       "22       GGGACCTGAAAGCGAAAGTAAAACCAGAGGAGCTCTCTCGGCGCAG...\n",
       "23       GGACCTGAAAGCGAAAGTAAAACCAGAGGAGCTCTCTCGGCGCAGG...\n",
       "24       CCTGAAAGCGAAAGTAAAACCAGAGGAGCTCTCTCGGCGCAAGACT...\n",
       "25       GGACCTGAAAGCGAAAGAGAAACCAGAGAAGATCTCTCGACGCAGG...\n",
       "26       GGGACCTGAAAGCGAAAGAGAAACCAGAGGAGCTAGATTAAAACAT...\n",
       "27       ACCTGAAAGCGAAAGAGAAACCAGAGGAGATCTCTCGGCGCAGGAC...\n",
       "28       GACCTGAAAGCGAAAGAGAAACCAGAGGAGCTCTCTCGACGCAGGA...\n",
       "29       GACCTGAAAGCGAAAGAGAAACCAGAGGAGCTCTCTCGACGCAGGA...\n",
       "                               ...                        \n",
       "47019    CCCATTAGTCCTAATGAAACTGTACCAGTAAAATTAAAGCCAGGAA...\n",
       "47020    CCCATTAGTCCTATTGAAACTGTACCAGTAAAATTAAAGCCAGGAA...\n",
       "47021    CCCATTAGTCCTATTGAAACTGTACCAGTAAAATTAAAGCCAGGAA...\n",
       "47022    CCCATTAGTCCTATTGAAACTGTACCAGTAAAATTAAAGCCAGGAA...\n",
       "47023    CCCATTAGTCCTATTGAAACTGTACCAGTAAAATTAAAGCCAGGAA...\n",
       "47024    CCCATTAGTCCTATTGAAACTGTACCAGTAAAATTAAAGCCAGGAA...\n",
       "47025    CCCATTAGTCCTATTGAAACTGTACCAGTAAAATTAAAGCCAGGAA...\n",
       "47026    CCCATTAGTCCTATTGAAACTGTACCAGTAAAATTAAAGCCAGGAA...\n",
       "47027    CCCATTAGTCCTATTGAAACTGTACCAGTAAAATTAAAGCCAGGAA...\n",
       "47028    CCCATTAGTCCTATTGAAACTGTACCAGTAAAATTAAAGCCAGGAA...\n",
       "47029    CCCATTAGTCCTATTGAAACTGTACCAGTAAAATTAAAGCCAGGAA...\n",
       "47030    CCCATTAGTCCTATTGAAACTGTACCAGTAAAATTAAAGCCAGGAA...\n",
       "47031    CCCATTAGTCCTATTGAAACTGTACCAGTAAAATTAAAGCCAGGAA...\n",
       "47032    CCCATTAGTCCTAATGAAACTGTACCAGTAAAATTAAAGCCAGGAA...\n",
       "47033    CCCATTAGTCTTATTGAAACTGTACCAGTAAAATTAAAGCCAGGAA...\n",
       "47034    CCCATTAGTCCTATTGAAACTGTACCAGTAAAATTAAAGCCAGGAA...\n",
       "47035    CCCATTAGTCCTATTGAAACTGTACCAGTAAAATTAAAGCCAGGAA...\n",
       "47036    CCCATTAGTCCTAATGAAACTGTACCAGTAAAATTAAAGCCAGGAA...\n",
       "47037    CCCATTAGTCCTATTGAAACTGTACCAGTAAAATTAAAGCCAGGAA...\n",
       "47038    CCCATTAGTCCTATTGAAACTGTACCAGTAAAATTAAAGCCAGGAA...\n",
       "47039    CCCATTAGTCCTATTGAACCTGTACCAGTAAAATTAAAGCCAGGAA...\n",
       "47040    CCCATTAGTCCTATTGAAACTGTACCAGTAAAATTAAAGCCAGGAA...\n",
       "47041    CCCATTAGTCCTATTGAAACTGTACCAGTAAAATTAAAGCCAGGAA...\n",
       "47042    CCCATTAGTCCTATTGAAACTGTACCAGTAAAATTAAAGCCAGGAA...\n",
       "47043    CCCATTAGTCCTATTGAAACTGTACCAGTAAAATTAAAGCCAGGAA...\n",
       "47044    CCCATTAGTCCTATTGAAACTGTACCAGTAAAATTAAAGCCAGGAA...\n",
       "47045    CCCATTAGTCCTATTGAAACTGTACCAGTAAAATTAAAGCCAGGAA...\n",
       "47046    CCCATTAGTCCTAATGAAACTGTACCAGTAAAATTAAAGCCAGGAA...\n",
       "47047    CCCATTAGTCCTATTGAAACTGTACCAGTAAAATTAAAGCCAGGAA...\n",
       "47048    CCCATTAGTCCTATTGAAACTGTACCAGTAAAATTAAAGCCAGGAA...\n",
       "Name: Sequence, Length: 47049, dtype: object"
      ]
     },
     "execution_count": 9,
     "metadata": {},
     "output_type": "execute_result"
    }
   ],
   "source": [
    "sequences"
   ]
  },
  {
   "cell_type": "code",
   "execution_count": 10,
   "metadata": {
    "colab": {
     "base_uri": "https://localhost:8080/",
     "height": 34
    },
    "colab_type": "code",
    "id": "9Hnlw_mOv7XI",
    "outputId": "99847125-3fc2-442c-882b-a2b14ae63e57"
   },
   "outputs": [
    {
     "data": {
      "text/plain": [
       "3214"
      ]
     },
     "execution_count": 10,
     "metadata": {},
     "output_type": "execute_result"
    }
   ],
   "source": [
    "from sklearn.feature_extraction.text import CountVectorizer\n",
    "\n",
    "cv = CountVectorizer(analyzer=\"char\", ngram_range=(4,4), lowercase=True)\n",
    "X = cv.fit_transform(sequences)\n",
    "len(cv.get_feature_names())"
   ]
  },
  {
   "cell_type": "code",
   "execution_count": 0,
   "metadata": {
    "colab": {},
    "colab_type": "code",
    "id": "-Y3kewPxyKb-"
   },
   "outputs": [],
   "source": [
    "features=cv.get_feature_names()"
   ]
  }
 ],
 "metadata": {
  "colab": {
   "collapsed_sections": [],
   "name": "final-project-kadriand.ipynb",
   "provenance": [],
   "version": "0.3.2"
  },
  "kernelspec": {
   "display_name": "Python 3",
   "language": "python",
   "name": "python3"
  },
  "language_info": {
   "codemirror_mode": {
    "name": "ipython",
    "version": 3
   },
   "file_extension": ".py",
   "mimetype": "text/x-python",
   "name": "python",
   "nbconvert_exporter": "python",
   "pygments_lexer": "ipython3",
   "version": "3.7.2"
  }
 },
 "nbformat": 4,
 "nbformat_minor": 1
}
