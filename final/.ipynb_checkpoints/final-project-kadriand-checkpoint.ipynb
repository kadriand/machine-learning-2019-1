{
 "cells": [
  {
   "cell_type": "code",
   "execution_count": 15,
   "metadata": {
    "colab": {
     "base_uri": "https://localhost:8080/",
     "height": 52
    },
    "colab_type": "code",
    "executionInfo": {
     "elapsed": 4948,
     "status": "ok",
     "timestamp": 1563229301802,
     "user": {
      "displayName": "Kevin Adrian Rodriguez Ruiz",
      "photoUrl": "https://lh3.googleusercontent.com/a-/AAuE7mC9rc1-jF_Bw874IzWvK7TSZtvsP_gZT7vJdbBIfw=s64",
      "userId": "03560838234263528592"
     },
     "user_tz": 300
    },
    "id": "-2Ypu4hZD5sA",
    "outputId": "041b7293-2ce9-47c6-8db0-c2f9de3fa99a"
   },
   "outputs": [
    {
     "name": "stdout",
     "output_type": "stream",
     "text": [
      "Requirement already satisfied: biopython in /usr/local/lib/python3.6/dist-packages (1.73)\n",
      "Requirement already satisfied: numpy in /usr/local/lib/python3.6/dist-packages (from biopython) (1.16.4)\n"
     ]
    }
   ],
   "source": [
    "!pip install biopython\n",
    "from Bio import Entrez\n",
    "from Bio import SeqIO\n",
    "import numpy as np\n",
    "import pickle\n",
    "import pandas as pd\n",
    "from collections import Counter\n",
    "import matplotlib.pylab as plt\n",
    "\n",
    "dataset_name=\"sequences_no_short_top_fams\""
   ]
  },
  {
   "cell_type": "code",
   "execution_count": 2,
   "metadata": {
    "colab": {
     "base_uri": "https://localhost:8080/",
     "height": 54
    },
    "colab_type": "code",
    "executionInfo": {
     "elapsed": 794,
     "status": "ok",
     "timestamp": 1563228231334,
     "user": {
      "displayName": "Kevin Adrian Rodriguez Ruiz",
      "photoUrl": "https://lh3.googleusercontent.com/a-/AAuE7mC9rc1-jF_Bw874IzWvK7TSZtvsP_gZT7vJdbBIfw=s64",
      "userId": "03560838234263528592"
     },
     "user_tz": 300
    },
    "id": "wiFL6CnXdncY",
    "outputId": "100c69f4-9df7-4934-a3cf-491b0611e2ba"
   },
   "outputs": [
    {
     "name": "stdout",
     "output_type": "stream",
     "text": [
      "Drive already mounted at /content/drive; to attempt to forcibly remount, call drive.mount(\"/content/drive\", force_remount=True).\n"
     ]
    }
   ],
   "source": [
    "#Execute this cell to install your Google Drive.\n",
    "from google.colab import drive\n",
    "drive.mount('/content/drive')"
   ]
  },
  {
   "cell_type": "markdown",
   "metadata": {
    "colab_type": "text",
    "id": "DdUlwx0OmADR"
   },
   "source": [
    "# Creating dataset"
   ]
  },
  {
   "cell_type": "code",
   "execution_count": 0,
   "metadata": {
    "colab": {},
    "colab_type": "code",
    "id": "QteTwPu0cMMV"
   },
   "outputs": [],
   "source": [
    "# !cp \"/content/drive/My Drive/Colab Notebooks/gbvrlBase.seq\" .\n",
    "# !cp \"/content/drive/My Drive/Colab Notebooks/Sequences\" .\n",
    "# !cp \"/content/drive/My Drive/Colab Notebooks/sequence(1).gb\" ."
   ]
  },
  {
   "cell_type": "code",
   "execution_count": 0,
   "metadata": {
    "colab": {},
    "colab_type": "code",
    "id": "7BIjePUMget8"
   },
   "outputs": [],
   "source": [
    "gb_file = \"/content/drive/My Drive/Colab Notebooks/gbvrlBase.seq\"\n",
    "record = SeqIO.parse(open(gb_file,\"r\"), \"genbank\")\n",
    "record_dict = SeqIO.to_dict(record)"
   ]
  },
  {
   "cell_type": "code",
   "execution_count": 0,
   "metadata": {
    "colab": {},
    "colab_type": "code",
    "id": "a6XevAhCgFaR"
   },
   "outputs": [],
   "source": [
    "families=[]\n",
    "seqs=[]\n",
    "type_seq=[]\n",
    "full=[]\n",
    "name=[]\n",
    "for i in record_dict.keys():\n",
    "    family=record_dict[i].annotations['taxonomy']\n",
    "    type_molecule=record_dict[i].annotations[\"molecule_type\"]\n",
    "    if record_dict[i].features[0].qualifiers[\"mol_type\"][0].startswith('genomic'):\n",
    "        for j in family:\n",
    "            if j.endswith(\"dae\") and not j.startswith(\"unclassified\") and not j.startswith(\"unassigned\"):\n",
    "                fam=j\n",
    "                families.append(j)\n",
    "                seqs.append(str(record_dict[i].seq))\n",
    "                type_seq.append(type_molecule)\n",
    "                full.append(record_dict[i])\n",
    "                name.append(i)\n",
    " "
   ]
  },
  {
   "cell_type": "code",
   "execution_count": 0,
   "metadata": {
    "colab": {},
    "colab_type": "code",
    "id": "nu7r7OL4g_M_"
   },
   "outputs": [],
   "source": [
    "out_file=open(\"sequences_filtered\",\"wb\")\n",
    "pickle.dump((families,seqs,type_seq,name),out_file)"
   ]
  },
  {
   "cell_type": "code",
   "execution_count": 0,
   "metadata": {
    "colab": {},
    "colab_type": "code",
    "id": "eTUUh-bBmd4t"
   },
   "outputs": [],
   "source": [
    "! cp sequences_filtered \"drive/My Drive/Colab Notebooks/sequences_filtered\""
   ]
  },
  {
   "cell_type": "markdown",
   "metadata": {
    "colab_type": "text",
    "id": "wpOK3yDxmNw-"
   },
   "source": [
    "# Reading dataset"
   ]
  },
  {
   "cell_type": "code",
   "execution_count": 0,
   "metadata": {
    "colab": {},
    "colab_type": "code",
    "id": "aV-Fkci38gqo"
   },
   "outputs": [],
   "source": [
    "! cp \"drive/My Drive/Colab Notebooks/sequences_filtered\" sequences_filtered"
   ]
  },
  {
   "cell_type": "code",
   "execution_count": 3,
   "metadata": {
    "colab": {
     "base_uri": "https://localhost:8080/",
     "height": 34
    },
    "colab_type": "code",
    "executionInfo": {
     "elapsed": 648,
     "status": "ok",
     "timestamp": 1563228264903,
     "user": {
      "displayName": "Kevin Adrian Rodriguez Ruiz",
      "photoUrl": "https://lh3.googleusercontent.com/a-/AAuE7mC9rc1-jF_Bw874IzWvK7TSZtvsP_gZT7vJdbBIfw=s64",
      "userId": "03560838234263528592"
     },
     "user_tz": 300
    },
    "id": "x5Ty67oFZDhp",
    "outputId": "1713c42c-a156-4ec2-a6e6-0d98ee99679a"
   },
   "outputs": [
    {
     "data": {
      "text/plain": [
       "32201"
      ]
     },
     "execution_count": 3,
     "metadata": {
      "tags": []
     },
     "output_type": "execute_result"
    }
   ],
   "source": [
    "read_file=open(\"sequences_filtered\",\"rb\")\n",
    "new_families,new_seqs,new_type_seq,names=pickle.load(read_file)\n",
    "d={\"Families\":new_families,\"Sequence\":new_seqs,\"Type sequence\":new_type_seq,\"Names\":names}\n",
    "df=pd.DataFrame(data=d)\n",
    "len(df)"
   ]
  },
  {
   "cell_type": "code",
   "execution_count": 4,
   "metadata": {
    "colab": {
     "base_uri": "https://localhost:8080/",
     "height": 238
    },
    "colab_type": "code",
    "executionInfo": {
     "elapsed": 704,
     "status": "ok",
     "timestamp": 1563228268905,
     "user": {
      "displayName": "Kevin Adrian Rodriguez Ruiz",
      "photoUrl": "https://lh3.googleusercontent.com/a-/AAuE7mC9rc1-jF_Bw874IzWvK7TSZtvsP_gZT7vJdbBIfw=s64",
      "userId": "03560838234263528592"
     },
     "user_tz": 300
    },
    "id": "Y8FX2UbqZFhQ",
    "outputId": "8e09d340-61a1-42a9-e971-1e686caa70ef"
   },
   "outputs": [
    {
     "data": {
      "text/html": [
       "<div>\n",
       "<style scoped>\n",
       "    .dataframe tbody tr th:only-of-type {\n",
       "        vertical-align: middle;\n",
       "    }\n",
       "\n",
       "    .dataframe tbody tr th {\n",
       "        vertical-align: top;\n",
       "    }\n",
       "\n",
       "    .dataframe thead th {\n",
       "        text-align: right;\n",
       "    }\n",
       "</style>\n",
       "<table border=\"1\" class=\"dataframe\">\n",
       "  <thead>\n",
       "    <tr style=\"text-align: right;\">\n",
       "      <th></th>\n",
       "      <th>Families</th>\n",
       "      <th>Sequence</th>\n",
       "      <th>Names</th>\n",
       "    </tr>\n",
       "    <tr>\n",
       "      <th>Type sequence</th>\n",
       "      <th></th>\n",
       "      <th></th>\n",
       "      <th></th>\n",
       "    </tr>\n",
       "  </thead>\n",
       "  <tbody>\n",
       "    <tr>\n",
       "      <th>DNA</th>\n",
       "      <td>19586</td>\n",
       "      <td>19586</td>\n",
       "      <td>19586</td>\n",
       "    </tr>\n",
       "    <tr>\n",
       "      <th>RNA</th>\n",
       "      <td>11983</td>\n",
       "      <td>11983</td>\n",
       "      <td>11983</td>\n",
       "    </tr>\n",
       "    <tr>\n",
       "      <th>ds-RNA</th>\n",
       "      <td>64</td>\n",
       "      <td>64</td>\n",
       "      <td>64</td>\n",
       "    </tr>\n",
       "    <tr>\n",
       "      <th>ss-DNA</th>\n",
       "      <td>3</td>\n",
       "      <td>3</td>\n",
       "      <td>3</td>\n",
       "    </tr>\n",
       "    <tr>\n",
       "      <th>ss-RNA</th>\n",
       "      <td>565</td>\n",
       "      <td>565</td>\n",
       "      <td>565</td>\n",
       "    </tr>\n",
       "  </tbody>\n",
       "</table>\n",
       "</div>"
      ],
      "text/plain": [
       "               Families  Sequence  Names\n",
       "Type sequence                           \n",
       "DNA               19586     19586  19586\n",
       "RNA               11983     11983  11983\n",
       "ds-RNA               64        64     64\n",
       "ss-DNA                3         3      3\n",
       "ss-RNA              565       565    565"
      ]
     },
     "execution_count": 4,
     "metadata": {
      "tags": []
     },
     "output_type": "execute_result"
    }
   ],
   "source": [
    "df[df[\"Type sequence\"]==\"RNA\"].groupby(\"Families\").count().sort_values(by=\"Sequence\",ascending=False)\n",
    "df.groupby(\"Type sequence\").count()"
   ]
  },
  {
   "cell_type": "code",
   "execution_count": 6,
   "metadata": {
    "colab": {
     "base_uri": "https://localhost:8080/",
     "height": 537
    },
    "colab_type": "code",
    "executionInfo": {
     "elapsed": 696,
     "status": "ok",
     "timestamp": 1563228352901,
     "user": {
      "displayName": "Kevin Adrian Rodriguez Ruiz",
      "photoUrl": "https://lh3.googleusercontent.com/a-/AAuE7mC9rc1-jF_Bw874IzWvK7TSZtvsP_gZT7vJdbBIfw=s64",
      "userId": "03560838234263528592"
     },
     "user_tz": 300
    },
    "id": "ZKlKiZ-yoNO1",
    "outputId": "883778ec-d0c4-4370-c055-bfab4339e771"
   },
   "outputs": [
    {
     "name": "stdout",
     "output_type": "stream",
     "text": [
      "The families needed to take the 90.7% of the data is 14\n"
     ]
    },
    {
     "data": {
      "text/html": [
       "<div>\n",
       "<style scoped>\n",
       "    .dataframe tbody tr th:only-of-type {\n",
       "        vertical-align: middle;\n",
       "    }\n",
       "\n",
       "    .dataframe tbody tr th {\n",
       "        vertical-align: top;\n",
       "    }\n",
       "\n",
       "    .dataframe thead th {\n",
       "        text-align: right;\n",
       "    }\n",
       "</style>\n",
       "<table border=\"1\" class=\"dataframe\">\n",
       "  <thead>\n",
       "    <tr style=\"text-align: right;\">\n",
       "      <th></th>\n",
       "      <th>Sequence</th>\n",
       "      <th>Type sequence</th>\n",
       "      <th>Names</th>\n",
       "    </tr>\n",
       "    <tr>\n",
       "      <th>Families</th>\n",
       "      <th></th>\n",
       "      <th></th>\n",
       "      <th></th>\n",
       "    </tr>\n",
       "  </thead>\n",
       "  <tbody>\n",
       "    <tr>\n",
       "      <th>Retroviridae</th>\n",
       "      <td>19066</td>\n",
       "      <td>19066</td>\n",
       "      <td>19066</td>\n",
       "    </tr>\n",
       "    <tr>\n",
       "      <th>Flaviviridae</th>\n",
       "      <td>3580</td>\n",
       "      <td>3580</td>\n",
       "      <td>3580</td>\n",
       "    </tr>\n",
       "    <tr>\n",
       "      <th>Herpesviridae</th>\n",
       "      <td>1516</td>\n",
       "      <td>1516</td>\n",
       "      <td>1516</td>\n",
       "    </tr>\n",
       "    <tr>\n",
       "      <th>Caliciviridae</th>\n",
       "      <td>974</td>\n",
       "      <td>974</td>\n",
       "      <td>974</td>\n",
       "    </tr>\n",
       "    <tr>\n",
       "      <th>Papillomaviridae</th>\n",
       "      <td>548</td>\n",
       "      <td>548</td>\n",
       "      <td>548</td>\n",
       "    </tr>\n",
       "    <tr>\n",
       "      <th>Reoviridae</th>\n",
       "      <td>535</td>\n",
       "      <td>535</td>\n",
       "      <td>535</td>\n",
       "    </tr>\n",
       "    <tr>\n",
       "      <th>Paramyxoviridae</th>\n",
       "      <td>440</td>\n",
       "      <td>440</td>\n",
       "      <td>440</td>\n",
       "    </tr>\n",
       "    <tr>\n",
       "      <th>Picornaviridae</th>\n",
       "      <td>437</td>\n",
       "      <td>437</td>\n",
       "      <td>437</td>\n",
       "    </tr>\n",
       "    <tr>\n",
       "      <th>Poxviridae</th>\n",
       "      <td>373</td>\n",
       "      <td>373</td>\n",
       "      <td>373</td>\n",
       "    </tr>\n",
       "    <tr>\n",
       "      <th>Rhabdoviridae</th>\n",
       "      <td>323</td>\n",
       "      <td>323</td>\n",
       "      <td>323</td>\n",
       "    </tr>\n",
       "    <tr>\n",
       "      <th>Orthomyxoviridae</th>\n",
       "      <td>313</td>\n",
       "      <td>313</td>\n",
       "      <td>313</td>\n",
       "    </tr>\n",
       "    <tr>\n",
       "      <th>Hepadnaviridae</th>\n",
       "      <td>287</td>\n",
       "      <td>287</td>\n",
       "      <td>287</td>\n",
       "    </tr>\n",
       "    <tr>\n",
       "      <th>Adenoviridae</th>\n",
       "      <td>281</td>\n",
       "      <td>281</td>\n",
       "      <td>281</td>\n",
       "    </tr>\n",
       "    <tr>\n",
       "      <th>Togaviridae</th>\n",
       "      <td>270</td>\n",
       "      <td>270</td>\n",
       "      <td>270</td>\n",
       "    </tr>\n",
       "  </tbody>\n",
       "</table>\n",
       "</div>"
      ],
      "text/plain": [
       "                  Sequence  Type sequence  Names\n",
       "Families                                        \n",
       "Retroviridae         19066          19066  19066\n",
       "Flaviviridae          3580           3580   3580\n",
       "Herpesviridae         1516           1516   1516\n",
       "Caliciviridae          974            974    974\n",
       "Papillomaviridae       548            548    548\n",
       "Reoviridae             535            535    535\n",
       "Paramyxoviridae        440            440    440\n",
       "Picornaviridae         437            437    437\n",
       "Poxviridae             373            373    373\n",
       "Rhabdoviridae          323            323    323\n",
       "Orthomyxoviridae       313            313    313\n",
       "Hepadnaviridae         287            287    287\n",
       "Adenoviridae           281            281    281\n",
       "Togaviridae            270            270    270"
      ]
     },
     "execution_count": 6,
     "metadata": {
      "tags": []
     },
     "output_type": "execute_result"
    }
   ],
   "source": [
    "acum=0\n",
    "aux=0\n",
    "for i in df.groupby([\"Families\"]).count().sort_values(by=[\"Sequence\",\"Type sequence\"],ascending=False,axis=0)[\"Sequence\"].values:\n",
    "    acum+=i\n",
    "    if acum/32201 > 0.9:\n",
    "        break\n",
    "    else:\n",
    "        aux+=1\n",
    "print(\"The families needed to take the {}% of the data is {}\".format(round(acum/32201*100,2),aux))\n",
    "df.groupby([\"Families\"]).count().sort_values(by=[\"Sequence\",\"Type sequence\"],ascending=False,axis=0)[:14]"
   ]
  },
  {
   "cell_type": "code",
   "execution_count": 0,
   "metadata": {
    "colab": {},
    "colab_type": "code",
    "id": "TE-HdzBgoQ3F"
   },
   "outputs": [],
   "source": [
    "df[\"Length\"]=df[\"Sequence\"].apply(len) # get the length of each sequence\n",
    "df[\"Letters\"]=df[\"Sequence\"].apply(set).apply(sorted) #get the letters that each sequence has and put it in an array\n",
    "def inspeccion(x):\n",
    "  result=True\n",
    "  si_son=[\"A\",\"C\",\"T\",\"N\",\"G\"]\n",
    "  for i in range(len(x)):\n",
    "    if x[i] not in si_son:\n",
    "      return not result\n",
    "    else:\n",
    "      continue\n",
    "  return result\n",
    "\n",
    "def is_N_in(x):\n",
    "  result=False\n",
    "  for i in range(len(x)):\n",
    "    if x[i]==\"N\":\n",
    "      return not result\n",
    "    else:\n",
    "      continue\n",
    "  return result\n",
    "\n",
    "df_new=df[(~df[\"Letters\"].apply(is_N_in)) & (df[\"Letters\"].apply(inspeccion))].reset_index(drop=True)"
   ]
  },
  {
   "cell_type": "code",
   "execution_count": 8,
   "metadata": {
    "colab": {
     "base_uri": "https://localhost:8080/",
     "height": 139
    },
    "colab_type": "code",
    "executionInfo": {
     "elapsed": 710,
     "status": "ok",
     "timestamp": 1563228362369,
     "user": {
      "displayName": "Kevin Adrian Rodriguez Ruiz",
      "photoUrl": "https://lh3.googleusercontent.com/a-/AAuE7mC9rc1-jF_Bw874IzWvK7TSZtvsP_gZT7vJdbBIfw=s64",
      "userId": "03560838234263528592"
     },
     "user_tz": 300
    },
    "id": "8VGR-TlVxxQN",
    "outputId": "fe7cd9e1-39d5-4b7f-87c6-f48486b4e618"
   },
   "outputs": [
    {
     "name": "stdout",
     "output_type": "stream",
     "text": [
      "The families needed to take the 90.11% of the data is 14\n"
     ]
    },
    {
     "data": {
      "text/plain": [
       "Sequence         26282\n",
       "Type sequence    26282\n",
       "Names            26282\n",
       "Length           26282\n",
       "Letters          26282\n",
       "dtype: int64"
      ]
     },
     "execution_count": 8,
     "metadata": {
      "tags": []
     },
     "output_type": "execute_result"
    }
   ],
   "source": [
    "lower_bound=100\n",
    "acum=0\n",
    "aux=0\n",
    "total=df_new[df_new[\"Length\"]>lower_bound].groupby([\"Families\",\"Type sequence\"]).count().sum()[0]\n",
    "for i in df_new[df_new[\"Length\"]>lower_bound].groupby([\"Families\"]).count().sort_values(by=[\"Sequence\",\"Type sequence\"],ascending=False,axis=0)[\"Sequence\"].values:\n",
    "    acum+=i\n",
    "    if acum/total > 0.9:\n",
    "        break\n",
    "    else:\n",
    "        aux+=1\n",
    "print(\"The families needed to take the {}% of the data is {}\".format(round(acum/total*100,2),aux+1))\n",
    "df_new[df_new[\"Length\"]>lower_bound].groupby([\"Families\"]).count().sort_values(by=[\"Sequence\",\"Type sequence\"],ascending=False,axis=0)[:aux].sum()"
   ]
  },
  {
   "cell_type": "code",
   "execution_count": 9,
   "metadata": {
    "colab": {
     "base_uri": "https://localhost:8080/",
     "height": 537
    },
    "colab_type": "code",
    "executionInfo": {
     "elapsed": 1420,
     "status": "ok",
     "timestamp": 1563228368131,
     "user": {
      "displayName": "Kevin Adrian Rodriguez Ruiz",
      "photoUrl": "https://lh3.googleusercontent.com/a-/AAuE7mC9rc1-jF_Bw874IzWvK7TSZtvsP_gZT7vJdbBIfw=s64",
      "userId": "03560838234263528592"
     },
     "user_tz": 300
    },
    "id": "apBuVcVHGGyq",
    "outputId": "421dd41f-db3c-447d-a46d-d2c6050108af"
   },
   "outputs": [
    {
     "name": "stdout",
     "output_type": "stream",
     "text": [
      "The new dataset consists of 14 families and covers 90.11% of the data\n"
     ]
    },
    {
     "data": {
      "text/html": [
       "<div>\n",
       "<style scoped>\n",
       "    .dataframe tbody tr th:only-of-type {\n",
       "        vertical-align: middle;\n",
       "    }\n",
       "\n",
       "    .dataframe tbody tr th {\n",
       "        vertical-align: top;\n",
       "    }\n",
       "\n",
       "    .dataframe thead th {\n",
       "        text-align: right;\n",
       "    }\n",
       "</style>\n",
       "<table border=\"1\" class=\"dataframe\">\n",
       "  <thead>\n",
       "    <tr style=\"text-align: right;\">\n",
       "      <th></th>\n",
       "      <th>Sequence</th>\n",
       "      <th>Type sequence</th>\n",
       "      <th>Names</th>\n",
       "      <th>Length</th>\n",
       "      <th>Letters</th>\n",
       "    </tr>\n",
       "    <tr>\n",
       "      <th>Families</th>\n",
       "      <th></th>\n",
       "      <th></th>\n",
       "      <th></th>\n",
       "      <th></th>\n",
       "      <th></th>\n",
       "    </tr>\n",
       "  </thead>\n",
       "  <tbody>\n",
       "    <tr>\n",
       "      <th>Caliciviridae</th>\n",
       "      <td>884</td>\n",
       "      <td>884</td>\n",
       "      <td>884</td>\n",
       "      <td>884</td>\n",
       "      <td>884</td>\n",
       "    </tr>\n",
       "    <tr>\n",
       "      <th>Flaviviridae</th>\n",
       "      <td>3269</td>\n",
       "      <td>3269</td>\n",
       "      <td>3269</td>\n",
       "      <td>3269</td>\n",
       "      <td>3269</td>\n",
       "    </tr>\n",
       "    <tr>\n",
       "      <th>Hepadnaviridae</th>\n",
       "      <td>268</td>\n",
       "      <td>268</td>\n",
       "      <td>268</td>\n",
       "      <td>268</td>\n",
       "      <td>268</td>\n",
       "    </tr>\n",
       "    <tr>\n",
       "      <th>Herpesviridae</th>\n",
       "      <td>1274</td>\n",
       "      <td>1274</td>\n",
       "      <td>1274</td>\n",
       "      <td>1274</td>\n",
       "      <td>1274</td>\n",
       "    </tr>\n",
       "    <tr>\n",
       "      <th>Orthomyxoviridae</th>\n",
       "      <td>294</td>\n",
       "      <td>294</td>\n",
       "      <td>294</td>\n",
       "      <td>294</td>\n",
       "      <td>294</td>\n",
       "    </tr>\n",
       "    <tr>\n",
       "      <th>Papillomaviridae</th>\n",
       "      <td>529</td>\n",
       "      <td>529</td>\n",
       "      <td>529</td>\n",
       "      <td>529</td>\n",
       "      <td>529</td>\n",
       "    </tr>\n",
       "    <tr>\n",
       "      <th>Paramyxoviridae</th>\n",
       "      <td>419</td>\n",
       "      <td>419</td>\n",
       "      <td>419</td>\n",
       "      <td>419</td>\n",
       "      <td>419</td>\n",
       "    </tr>\n",
       "    <tr>\n",
       "      <th>Picornaviridae</th>\n",
       "      <td>329</td>\n",
       "      <td>329</td>\n",
       "      <td>329</td>\n",
       "      <td>329</td>\n",
       "      <td>329</td>\n",
       "    </tr>\n",
       "    <tr>\n",
       "      <th>Potyviridae</th>\n",
       "      <td>246</td>\n",
       "      <td>246</td>\n",
       "      <td>246</td>\n",
       "      <td>246</td>\n",
       "      <td>246</td>\n",
       "    </tr>\n",
       "    <tr>\n",
       "      <th>Poxviridae</th>\n",
       "      <td>368</td>\n",
       "      <td>368</td>\n",
       "      <td>368</td>\n",
       "      <td>368</td>\n",
       "      <td>368</td>\n",
       "    </tr>\n",
       "    <tr>\n",
       "      <th>Reoviridae</th>\n",
       "      <td>479</td>\n",
       "      <td>479</td>\n",
       "      <td>479</td>\n",
       "      <td>479</td>\n",
       "      <td>479</td>\n",
       "    </tr>\n",
       "    <tr>\n",
       "      <th>Retroviridae</th>\n",
       "      <td>17610</td>\n",
       "      <td>17610</td>\n",
       "      <td>17610</td>\n",
       "      <td>17610</td>\n",
       "      <td>17610</td>\n",
       "    </tr>\n",
       "    <tr>\n",
       "      <th>Rhabdoviridae</th>\n",
       "      <td>305</td>\n",
       "      <td>305</td>\n",
       "      <td>305</td>\n",
       "      <td>305</td>\n",
       "      <td>305</td>\n",
       "    </tr>\n",
       "    <tr>\n",
       "      <th>Togaviridae</th>\n",
       "      <td>254</td>\n",
       "      <td>254</td>\n",
       "      <td>254</td>\n",
       "      <td>254</td>\n",
       "      <td>254</td>\n",
       "    </tr>\n",
       "  </tbody>\n",
       "</table>\n",
       "</div>"
      ],
      "text/plain": [
       "                  Sequence  Type sequence  Names  Length  Letters\n",
       "Families                                                         \n",
       "Caliciviridae          884            884    884     884      884\n",
       "Flaviviridae          3269           3269   3269    3269     3269\n",
       "Hepadnaviridae         268            268    268     268      268\n",
       "Herpesviridae         1274           1274   1274    1274     1274\n",
       "Orthomyxoviridae       294            294    294     294      294\n",
       "Papillomaviridae       529            529    529     529      529\n",
       "Paramyxoviridae        419            419    419     419      419\n",
       "Picornaviridae         329            329    329     329      329\n",
       "Potyviridae            246            246    246     246      246\n",
       "Poxviridae             368            368    368     368      368\n",
       "Reoviridae             479            479    479     479      479\n",
       "Retroviridae         17610          17610  17610   17610    17610\n",
       "Rhabdoviridae          305            305    305     305      305\n",
       "Togaviridae            254            254    254     254      254"
      ]
     },
     "execution_count": 9,
     "metadata": {
      "tags": []
     },
     "output_type": "execute_result"
    }
   ],
   "source": [
    "families_size=aux+1\n",
    "df_valid_length=df_new[df_new[\"Length\"]>lower_bound].reset_index(drop=True)\n",
    "frequent_families = df_valid_length.groupby('Families').count().sort_values(by=[\"Sequence\",\"Type sequence\"],ascending=False,axis=0)[:families_size]['Sequence'].keys()\n",
    "\n",
    "df_viruses =df_valid_length[df_valid_length['Families'].isin(frequent_families)]\n",
    "print(f\"The new dataset consists of {families_size} families and covers {round(acum/total*100,2)}% of the data\")\n",
    "df_viruses.groupby([\"Families\"]).count()"
   ]
  },
  {
   "cell_type": "code",
   "execution_count": 0,
   "metadata": {
    "colab": {},
    "colab_type": "code",
    "id": "XrQc_luFfeOu"
   },
   "outputs": [],
   "source": [
    "sequences = df_viruses[\"Sequence\"]\n",
    "families = df_viruses[\"Families\"]"
   ]
  },
  {
   "cell_type": "code",
   "execution_count": 0,
   "metadata": {
    "colab": {},
    "colab_type": "code",
    "id": "EQrA6SvkJxQs"
   },
   "outputs": [],
   "source": [
    "dataset_file=open(dataset_name,\"wb\")\n",
    "pickle.dump((sequences, families),dataset_file)\n",
    "!cp \"$dataset_name\" \"drive/My Drive/Colab Notebooks/final/$dataset_name\""
   ]
  },
  {
   "cell_type": "markdown",
   "metadata": {
    "colab_type": "text",
    "id": "KNrZHeJQOjRW"
   },
   "source": [
    "# Utils"
   ]
  },
  {
   "cell_type": "code",
   "execution_count": 0,
   "metadata": {
    "colab": {},
    "colab_type": "code",
    "id": "Mu502L6gIEdG"
   },
   "outputs": [],
   "source": [
    "from sklearn.utils.multiclass import unique_labels\n",
    "from sklearn.metrics import confusion_matrix\n",
    "from sklearn.metrics import classification_report\n",
    "\n",
    "def plot_confusion_matrix(y_true, y_pred, classes,\n",
    "                          normalize=False,\n",
    "                          title=None,\n",
    "                          cmap=plt.cm.Blues):\n",
    "    \"\"\"\n",
    "    This function prints and plots the confusion matrix.\n",
    "    Normalization can be applied by setting `normalize=True`.\n",
    "    \"\"\"\n",
    "    if not title:\n",
    "        if normalize:\n",
    "            title = 'Normalized confusion matrix'\n",
    "        else:\n",
    "            title = 'Confusion matrix, without normalization'\n",
    "\n",
    "    # Compute confusion matrix\n",
    "    cm = confusion_matrix(y_true, y_pred)\n",
    "    # Only use the labels that appear in the data\n",
    "    classes = unique_labels(y_true, y_pred)\n",
    "    if normalize:\n",
    "        cm = cm.astype('float') / cm.sum(axis=1)[:, np.newaxis]\n",
    "        print(\"Normalized confusion matrix\")\n",
    "    else:\n",
    "        print('Confusion matrix, without normalization')\n",
    "\n",
    "    print(cm)\n",
    "\n",
    "    fig, ax = plt.subplots(figsize = (10,10))\n",
    "    im = ax.imshow(cm, interpolation='nearest', cmap=cmap)\n",
    "    ax.figure.colorbar(im, ax=ax)\n",
    "    # We want to show all ticks...\n",
    "    ax.set(xticks=np.arange(cm.shape[1]),\n",
    "           yticks=np.arange(cm.shape[0]),\n",
    "           # ... and label them with the respective list entries\n",
    "           xticklabels=classes, yticklabels=classes,\n",
    "           title=title,\n",
    "           ylabel='True label',\n",
    "           xlabel='Predicted label')\n",
    "\n",
    "    # Rotate the tick labels and set their alignment.\n",
    "    plt.setp(ax.get_xticklabels(), rotation=45, ha=\"right\",\n",
    "             rotation_mode=\"anchor\")\n",
    "\n",
    "    # Loop over data dimensions and create text annotations.\n",
    "    fmt = '.2f' if normalize else 'd'\n",
    "    thresh = cm.max() / 2.\n",
    "    for i in range(cm.shape[0]):\n",
    "        for j in range(cm.shape[1]):\n",
    "            ax.text(j, i, format(cm[i, j], fmt),\n",
    "                    ha=\"center\", va=\"center\",\n",
    "                    color=\"white\" if cm[i, j] > thresh else \"black\")\n",
    "    fig.tight_layout()\n",
    "    return ax\n"
   ]
  },
  {
   "cell_type": "code",
   "execution_count": 0,
   "metadata": {
    "colab": {},
    "colab_type": "code",
    "id": "0PssyIzevjzu"
   },
   "outputs": [],
   "source": [
    "dataset_path = f\"drive/My Drive/Colab Notebooks/final/{dataset_name}\"\n",
    "read_ds_file=open(dataset_path,\"rb\")\n",
    "(sequences, families) = pickle.load(read_ds_file)"
   ]
  },
  {
   "cell_type": "code",
   "execution_count": 34,
   "metadata": {
    "colab": {
     "base_uri": "https://localhost:8080/",
     "height": 295
    },
    "colab_type": "code",
    "executionInfo": {
     "elapsed": 622,
     "status": "ok",
     "timestamp": 1563230841500,
     "user": {
      "displayName": "Kevin Adrian Rodriguez Ruiz",
      "photoUrl": "https://lh3.googleusercontent.com/a-/AAuE7mC9rc1-jF_Bw874IzWvK7TSZtvsP_gZT7vJdbBIfw=s64",
      "userId": "03560838234263528592"
     },
     "user_tz": 300
    },
    "id": "UJGRane_zJYi",
    "outputId": "f67cb61c-07ea-4b61-aa75-b58be2bbf3a8"
   },
   "outputs": [
    {
     "data": {
      "text/plain": [
       "16629    230278\n",
       "21843    229354\n",
       "23690    223666\n",
       "15696    190289\n",
       "24617    186986\n",
       "22362    185578\n",
       "9196     184439\n",
       "20935    177923\n",
       "21424    172281\n",
       "4891     162519\n",
       "4895     162493\n",
       "4877     162492\n",
       "4886     162490\n",
       "4887     162490\n",
       "4876     162488\n",
       "Name: Sequence, dtype: int64"
      ]
     },
     "execution_count": 34,
     "metadata": {
      "tags": []
     },
     "output_type": "execute_result"
    }
   ],
   "source": [
    "sequences.str.len().sort_values(ascending = False)[:15]"
   ]
  },
  {
   "cell_type": "markdown",
   "metadata": {
    "colab_type": "text",
    "id": "FTK_aF78vCiV"
   },
   "source": [
    "# Classification _n-grams_"
   ]
  },
  {
   "cell_type": "code",
   "execution_count": 0,
   "metadata": {
    "colab": {},
    "colab_type": "code",
    "id": "syYQPVuIxrO7"
   },
   "outputs": [],
   "source": [
    "import time\n",
    "from sklearn.feature_extraction.text import CountVectorizer\n",
    "from sklearn.model_selection import train_test_split\n",
    "from sklearn.svm import LinearSVC, SVC"
   ]
  },
  {
   "cell_type": "code",
   "execution_count": 0,
   "metadata": {
    "colab": {},
    "colab_type": "code",
    "id": "UMXsGtHq2Ios"
   },
   "outputs": [],
   "source": [
    "seqs_train, seqs_test, fams_train, fams_test = train_test_split(sequences, families, test_size=0.2)"
   ]
  },
  {
   "cell_type": "code",
   "execution_count": 40,
   "metadata": {
    "colab": {
     "base_uri": "https://localhost:8080/",
     "height": 34
    },
    "colab_type": "code",
    "executionInfo": {
     "elapsed": 64434,
     "status": "ok",
     "timestamp": 1563235180562,
     "user": {
      "displayName": "Kevin Adrian Rodriguez Ruiz",
      "photoUrl": "https://lh3.googleusercontent.com/a-/AAuE7mC9rc1-jF_Bw874IzWvK7TSZtvsP_gZT7vJdbBIfw=s64",
      "userId": "03560838234263528592"
     },
     "user_tz": 300
    },
    "id": "9Hnlw_mOv7XI",
    "outputId": "4f75ac42-d641-491a-8814-46a80fffb586"
   },
   "outputs": [
    {
     "data": {
      "text/plain": [
       "5376"
      ]
     },
     "execution_count": 40,
     "metadata": {
      "tags": []
     },
     "output_type": "execute_result"
    }
   ],
   "source": [
    "cv = CountVectorizer(analyzer=\"char\", ngram_range=(4,6), lowercase=True)\n",
    "X = cv.fit_transform(sequences)\n",
    "len(cv.get_feature_names())"
   ]
  },
  {
   "cell_type": "code",
   "execution_count": 0,
   "metadata": {
    "colab": {},
    "colab_type": "code",
    "id": "S7pq4XEvGVEV"
   },
   "outputs": [],
   "source": [
    "seqs_train_vect = cv.transform(seqs_train).toarray()"
   ]
  },
  {
   "cell_type": "code",
   "execution_count": 0,
   "metadata": {
    "colab": {},
    "colab_type": "code",
    "id": "Erqprcv6GVGs"
   },
   "outputs": [],
   "source": [
    "seqs_test_vect = cv.transform(seqs_test).toarray()"
   ]
  },
  {
   "cell_type": "code",
   "execution_count": 44,
   "metadata": {
    "colab": {
     "base_uri": "https://localhost:8080/",
     "height": 52
    },
    "colab_type": "code",
    "executionInfo": {
     "elapsed": 761,
     "status": "ok",
     "timestamp": 1563235935739,
     "user": {
      "displayName": "Kevin Adrian Rodriguez Ruiz",
      "photoUrl": "https://lh3.googleusercontent.com/a-/AAuE7mC9rc1-jF_Bw874IzWvK7TSZtvsP_gZT7vJdbBIfw=s64",
      "userId": "03560838234263528592"
     },
     "user_tz": 300
    },
    "id": "MGRVWEuxHgcN",
    "outputId": "0d5f3923-6cb8-47a0-de27-0a4f7d7d6135"
   },
   "outputs": [
    {
     "name": "stdout",
     "output_type": "stream",
     "text": [
      "train: dataset 21222\n",
      "test: dataset 5306\n"
     ]
    }
   ],
   "source": [
    "# Size of test an train datasets\n",
    "print(f\"train: dataset {len(seqs_train_vect)}\")\n",
    "print(f\"test: dataset {len(seqs_test_vect)}\")"
   ]
  },
  {
   "cell_type": "code",
   "execution_count": 45,
   "metadata": {
    "colab": {
     "base_uri": "https://localhost:8080/",
     "height": 141
    },
    "colab_type": "code",
    "executionInfo": {
     "elapsed": 224003,
     "status": "ok",
     "timestamp": 1563236162889,
     "user": {
      "displayName": "Kevin Adrian Rodriguez Ruiz",
      "photoUrl": "https://lh3.googleusercontent.com/a-/AAuE7mC9rc1-jF_Bw874IzWvK7TSZtvsP_gZT7vJdbBIfw=s64",
      "userId": "03560838234263528592"
     },
     "user_tz": 300
    },
    "id": "SmtHooOL-1Ht",
    "outputId": "21b7228d-183f-4592-e1a2-8827e1377a14"
   },
   "outputs": [
    {
     "name": "stderr",
     "output_type": "stream",
     "text": [
      "/usr/local/lib/python3.6/dist-packages/sklearn/svm/base.py:929: ConvergenceWarning: Liblinear failed to converge, increase the number of iterations.\n",
      "  \"the number of iterations.\", ConvergenceWarning)\n"
     ]
    },
    {
     "data": {
      "text/plain": [
       "LinearSVC(C=0.05, class_weight=None, dual=True, fit_intercept=True,\n",
       "          intercept_scaling=1, loss='squared_hinge', max_iter=5000,\n",
       "          multi_class='ovr', penalty='l2', random_state=None, tol=1e-05,\n",
       "          verbose=0)"
      ]
     },
     "execution_count": 45,
     "metadata": {
      "tags": []
     },
     "output_type": "execute_result"
    }
   ],
   "source": [
    "complexity=0.05\n",
    "linear_svm = LinearSVC(C=complexity, max_iter=5000, tol=1e-5)\n",
    "linear_svm.fit(seqs_train_vect, fams_train)\n"
   ]
  },
  {
   "cell_type": "code",
   "execution_count": 0,
   "metadata": {
    "colab": {},
    "colab_type": "code",
    "id": "jErnQAOuIsNR"
   },
   "outputs": [],
   "source": [
    "training_prediction = linear_svm.predict(seqs_train_vect)\n",
    "test_prediction= linear_svm.predict(seqs_test_vect)"
   ]
  },
  {
   "cell_type": "code",
   "execution_count": 47,
   "metadata": {
    "colab": {
     "base_uri": "https://localhost:8080/",
     "height": 382
    },
    "colab_type": "code",
    "executionInfo": {
     "elapsed": 749,
     "status": "ok",
     "timestamp": 1563236198795,
     "user": {
      "displayName": "Kevin Adrian Rodriguez Ruiz",
      "photoUrl": "https://lh3.googleusercontent.com/a-/AAuE7mC9rc1-jF_Bw874IzWvK7TSZtvsP_gZT7vJdbBIfw=s64",
      "userId": "03560838234263528592"
     },
     "user_tz": 300
    },
    "id": "316rjGro-1eJ",
    "outputId": "f228eb72-4946-4c08-8aa0-c379e8a3fe02"
   },
   "outputs": [
    {
     "name": "stdout",
     "output_type": "stream",
     "text": [
      "                  precision    recall  f1-score   support\n",
      "\n",
      "   Caliciviridae       1.00      0.99      1.00       177\n",
      "    Flaviviridae       0.98      0.98      0.98       614\n",
      "  Hepadnaviridae       1.00      0.97      0.98        59\n",
      "   Herpesviridae       0.93      0.92      0.93       275\n",
      "Orthomyxoviridae       0.96      1.00      0.98        45\n",
      "Papillomaviridae       0.94      0.98      0.96        93\n",
      " Paramyxoviridae       0.99      0.99      0.99        85\n",
      "  Picornaviridae       0.96      0.96      0.96        77\n",
      "     Potyviridae       0.98      0.96      0.97        51\n",
      "      Poxviridae       0.94      0.88      0.91        66\n",
      "      Reoviridae       0.96      0.96      0.96        92\n",
      "    Retroviridae       0.99      1.00      1.00      3543\n",
      "   Rhabdoviridae       1.00      0.96      0.98        71\n",
      "     Togaviridae       0.95      0.98      0.97        58\n",
      "\n",
      "        accuracy                           0.99      5306\n",
      "       macro avg       0.97      0.97      0.97      5306\n",
      "    weighted avg       0.99      0.99      0.99      5306\n",
      "\n"
     ]
    }
   ],
   "source": [
    "print(classification_report(fams_test, test_prediction))\n"
   ]
  },
  {
   "cell_type": "code",
   "execution_count": 48,
   "metadata": {
    "colab": {
     "base_uri": "https://localhost:8080/",
     "height": 970
    },
    "colab_type": "code",
    "executionInfo": {
     "elapsed": 2038,
     "status": "ok",
     "timestamp": 1563236222140,
     "user": {
      "displayName": "Kevin Adrian Rodriguez Ruiz",
      "photoUrl": "https://lh3.googleusercontent.com/a-/AAuE7mC9rc1-jF_Bw874IzWvK7TSZtvsP_gZT7vJdbBIfw=s64",
      "userId": "03560838234263528592"
     },
     "user_tz": 300
    },
    "id": "SuMScxh62Irf",
    "outputId": "27b0436f-00d1-4ebe-b84e-44c385a825d5"
   },
   "outputs": [
    {
     "name": "stdout",
     "output_type": "stream",
     "text": [
      "Confusion matrix, without normalization\n",
      "[[ 176    0    0    0    0    0    0    0    0    0    0    1    0    0]\n",
      " [   0  600    0    4    0    1    0    1    0    0    0    8    0    0]\n",
      " [   0    0   57    0    0    1    0    0    0    0    0    1    0    0]\n",
      " [   0    4    0  254    0    3    0    0    1    4    2    5    0    2]\n",
      " [   0    0    0    0   45    0    0    0    0    0    0    0    0    0]\n",
      " [   0    1    0    1    0   91    0    0    0    0    0    0    0    0]\n",
      " [   0    0    0    0    0    0   84    0    0    0    0    1    0    0]\n",
      " [   0    1    0    0    0    0    0   74    0    0    0    2    0    0]\n",
      " [   0    0    0    0    1    0    0    1   49    0    0    0    0    0]\n",
      " [   0    1    0    4    0    0    0    0    0   58    1    2    0    0]\n",
      " [   0    0    0    2    0    0    0    1    0    0   88    1    0    0]\n",
      " [   0    3    0    7    0    0    0    0    0    0    0 3532    0    1]\n",
      " [   0    0    0    0    1    0    1    0    0    0    1    0   68    0]\n",
      " [   0    0    0    0    0    1    0    0    0    0    0    0    0   57]]\n"
     ]
    },
    {
     "data": {
      "text/plain": [
       "<matplotlib.axes._subplots.AxesSubplot at 0x7fbc631fc240>"
      ]
     },
     "execution_count": 48,
     "metadata": {
      "tags": []
     },
     "output_type": "execute_result"
    },
    {
     "data": {
      "image/png": "[encoded data removed]",
      "text/plain": [
       "<Figure size 720x720 with 2 Axes>"
      ]
     },
     "metadata": {
      "tags": []
     },
     "output_type": "display_data"
    }
   ],
   "source": [
    "# Plot non-normalized confusion matrix\n",
    "plot_confusion_matrix(fams_test, test_prediction, classes=np.asarray(frequent_families), title='Confusion matrix, without normalization')"
   ]
  },
  {
   "cell_type": "markdown",
   "metadata": {
    "colab_type": "text",
    "id": "HIjQ1p3a2VdM"
   },
   "source": [
    "Creating the n-grams of size 4 to 6"
   ]
  },
  {
   "cell_type": "markdown",
   "metadata": {
    "colab_type": "text",
    "id": "riuXPUs4cXMZ"
   },
   "source": [
    "# Classification _one-hot_"
   ]
  },
  {
   "cell_type": "code",
   "execution_count": 0,
   "metadata": {
    "colab": {},
    "colab_type": "code",
    "id": "lkK4fK8zbrl5"
   },
   "outputs": [],
   "source": []
  },
  {
   "cell_type": "code",
   "execution_count": 0,
   "metadata": {
    "colab": {},
    "colab_type": "code",
    "id": "7YrGXawqcWIT"
   },
   "outputs": [],
   "source": []
  }
 ],
 "metadata": {
  "colab": {
   "collapsed_sections": [
    "DdUlwx0OmADR"
   ],
   "name": "final-project-kadriand.ipynb",
   "provenance": [],
   "toc_visible": true,
   "version": "0.3.2"
  },
  "kernelspec": {
   "display_name": "Python 3",
   "language": "python",
   "name": "python3"
  },
  "language_info": {
   "codemirror_mode": {
    "name": "ipython",
    "version": 3
   },
   "file_extension": ".py",
   "mimetype": "text/x-python",
   "name": "python",
   "nbconvert_exporter": "python",
   "pygments_lexer": "ipython3",
   "version": "3.7.2"
  }
 },
 "nbformat": 4,
 "nbformat_minor": 1
}
