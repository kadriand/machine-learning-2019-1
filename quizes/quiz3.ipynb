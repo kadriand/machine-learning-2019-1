{
 "cells": [
  {
   "cell_type": "markdown",
   "metadata": {},
   "source": [
    "# Quiz 3\n",
    "# Machine Learning 2019-1\n",
    "\n",
    "____________________"
   ]
  },
  {
   "cell_type": "markdown",
   "metadata": {},
   "source": [
    "### 1. (2.0)\n",
    "Design a function that maps a sample in the ${\\rm I\\!R}^2$ input space to a feature space induced by the kernel $k(x,y)=(2\\langle x,y \\rangle+1)^{2}$."
   ]
  },
  {
   "cell_type": "code",
   "execution_count": 16,
   "metadata": {},
   "outputs": [],
   "source": [
    "import numpy as np\n",
    "\n",
    "def phi(x):\n",
    "    '''\n",
    "    x: a sample in the input space (numpy array of shape (2,))\n",
    "    returns a vector in the feature space corresponding to the image of x (numpy array of shape (6,))\n",
    "    '''\n",
    "    result = np.zeros(6)\n",
    "    sq2 = np.sqrt(2)\n",
    "    result[0] = 2* (x[0] ** 2)\n",
    "    result[1] = 2* (x[1] ** 2)\n",
    "    result[2]= 2*sq2*x[0]*x[1]\n",
    "    result[3] = 2*x[0]\n",
    "    result[4] = 2*x[1]\n",
    "    result[5] = 1\n",
    "    ### Your code here\n",
    "    return result\n",
    "\n"
   ]
  },
  {
   "cell_type": "markdown",
   "metadata": {},
   "source": [
    "### 2. (2.0)\n",
    "A kernel ridge regression (KRR) model was trained with a particular dataset using the kernel $k(x,y)=(2\\langle x,y\\rangle +1)^{2}$. As a result, an  $\\alpha$ vector was obtained.\n",
    "\n",
    "Design a function that calculates the $w$ vector of the KRR model."
   ]
  },
  {
   "cell_type": "code",
   "execution_count": 39,
   "metadata": {},
   "outputs": [],
   "source": [
    "def calculate_w(X, y, alpha):\n",
    "    '''\n",
    "    X: training vectors (numpy array of shape (n, 2))\n",
    "    y: training outputs (numpy array of shape (n,))\n",
    "    alpha: alpha coefficients (numpy array of shape (n,))\n",
    "    returns the vector w in the feature space that defines the separating hyperplane (numpy array of shape (6,))\n",
    "    '''\n",
    "    # Ici: https://www.cs.cmu.edu/~bapoczos/other_presentations/regress_class_kernels_15_10_2009.pdf\n",
    "    w = np.zeros(6)\n",
    "    ### Your code here\n",
    "    \n",
    "    w_a =[alpha[idx]*phi(xi) for idx, xi in enumerate(X)]\n",
    "    w_a = np.array(w_a).T\n",
    "    w=[np.sum(wai) for wai in w_a]\n",
    "    return np.array(w)\n",
    "\n"
   ]
  },
  {
   "cell_type": "markdown",
   "metadata": {},
   "source": [
    "### 3. (1.0) \n",
    "\n",
    "\n",
    "\n",
    "Design a function that calculates the prediction function for the KRR model."
   ]
  },
  {
   "cell_type": "code",
   "execution_count": 40,
   "metadata": {},
   "outputs": [],
   "source": [
    "import numpy as np\n",
    "def prediction(x, X, y, alpha):\n",
    "    '''\n",
    "    x: the sample to predict (numpy array of shape (2,))\n",
    "    X: training vectors (numpy array of shape (n, 2))\n",
    "    y: training outputs (numpy array of shape (n,))\n",
    "    alpha: alpha coefficients (numpy array of shape (n,))\n",
    "    returns the value of the KRR model evaluated on x\n",
    "    '''\n",
    "    w = calculate_w(X, y, alpha)\n",
    "    result = [np.dot(alpha[idx],np.dot(phi(xi),phi(x))) for idx, xi in enumerate(X)]\n",
    "    ### Your code here\n",
    "    return np.sum(result)\n",
    "\n"
   ]
  },
  {
   "cell_type": "markdown",
   "metadata": {},
   "source": [
    "### Grader\n",
    "Run the following cell to grade your quiz."
   ]
  },
  {
   "cell_type": "code",
   "execution_count": 41,
   "metadata": {},
   "outputs": [
    {
     "name": "stdout",
     "output_type": "stream",
     "text": [
      "Score:  5.0 / 5.0\n"
     ]
    }
   ],
   "source": [
    "def compare(val1, val2, error):\n",
    "    if abs(val1 - val2) > error:\n",
    "        return False\n",
    "    return True\n",
    "\n",
    "def compare_array(array1, array2, error):\n",
    "    if array1.shape != array2.shape :\n",
    "        return False\n",
    "    ar1 = np.array(array1)\n",
    "    ar2 = np.array(array2)\n",
    "    ar1.sort()\n",
    "    ar2.sort()\n",
    "    for i in range(ar1.shape[0]):\n",
    "        if not compare(ar1[i], ar2[i], error):\n",
    "            return False\n",
    "    return True\n",
    "\n",
    "X = np.array([[1, 2], [3, 1], [0,1], [2,0], [0,0]])\n",
    "y = np.array([7 ,8 ,2 ,3 ,1 ,4 ,3])\n",
    "alpha = np.array([0.0763, 0.0026, 0.0643, 0.0146, 0.4017])\n",
    "X_test = np.array([[1, 2], [3, 1], [0,1], [2,0], [0,0], [-1,2], [2, -3]])\n",
    "y_test = np.array([11.9211 ,13.8267 ,2.9259 ,3.9955 ,0.5595 ,5.8819 ,7.0579])\n",
    "ws = [np.array([ 0.1994    ,  0.6156    ,  0.45367971,  0.1682    ,  0.3104    ,  0.0789    ]) ,\n",
    "      np.array([ 0.1994    ,  0.7442    ,  0.45367971,  0.1682    ,  0.439     ,  0.1432    ]) ,\n",
    "      np.array([ 0.3162    ,  0.7442    ,  0.45367971,  0.2266    ,  0.439     ,  0.1578    ]) ,\n",
    "      np.array([ 0.3162    ,  0.7442    ,  0.45367971,  0.2266    ,  0.439     ,  0.5595    ])]\n",
    "\n",
    "def t1():\n",
    "    for i in range(X_test.shape[0] ):\n",
    "        for j in range(i, X_test.shape[0]):\n",
    "            phi1 = phi(X_test[i])\n",
    "            phi2 = phi(X_test[j])\n",
    "            dot1 = (2*np.dot(X_test[i], X_test[j]) + 1) ** 2\n",
    "            dot2 = np.dot(phi1, phi2)\n",
    "            if not compare(dot1, dot2, 0.001):\n",
    "                return False\n",
    "    return True\n",
    "\n",
    "def t2():\n",
    "    #print(\"[\", end='')\n",
    "    for i in range(2, X.shape[0] + 1):\n",
    "        #print(repr(calculate_w(X[:i], y[:i], alpha[:i])), \",\", end='')\n",
    "        if not compare_array(calculate_w(X[:i], y[:i], alpha[:i]), ws[i-2], 0.001):\n",
    "            return False\n",
    "    return True\n",
    "\n",
    "def t3():\n",
    "    #print(\"[\", end='')\n",
    "    for i in range(X_test.shape[0]):\n",
    "        #print(prediction(X_test[i], X, y, alpha), \",\", end='')\n",
    "        if not compare(y_test[i], prediction(X_test[i], X, y, alpha), 0.001):\n",
    "            return False\n",
    "    return True\n",
    "\n",
    "def evaluate():\n",
    "    score = 0 \n",
    "    tests = [t1, t2, t3]\n",
    "    vals = [2., 2, 1]\n",
    "    for i in range(len(tests)):\n",
    "        if tests[i]():\n",
    "            score += vals[i]\n",
    "    return score\n",
    "\n",
    "print (\"Score: \", evaluate(), \"/ 5.0\")\n"
   ]
  },
  {
   "cell_type": "code",
   "execution_count": 0,
   "metadata": {
    "collapsed": true
   },
   "outputs": [],
   "source": []
  }
 ],
 "metadata": {
  "kernelspec": {
   "display_name": "Python 3",
   "language": "python",
   "name": "python3"
  },
  "language_info": {
   "codemirror_mode": {
    "name": "ipython",
    "version": 3
   },
   "file_extension": ".py",
   "mimetype": "text/x-python",
   "name": "python",
   "nbconvert_exporter": "python",
   "pygments_lexer": "ipython3",
   "version": "3.7.2"
  }
 },
 "nbformat": 4,
 "nbformat_minor": 1
}
