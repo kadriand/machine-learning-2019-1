{
 "cells": [
  {
   "cell_type": "markdown",
   "metadata": {
    "collapsed": false
   },
   "source": [
    "# Final Exam\n",
    "# Machine Learning 2019-1\n",
    "Keep saving your notebook to guarantee that you don't lose your work. Whenever the end of the exam is announced save the current version. \n",
    "\n",
    "---"
   ]
  },
  {
   "cell_type": "code",
   "execution_count": 3,
   "metadata": {
    "collapsed": false
   },
   "outputs": [
   ],
   "source": [
    "import numpy as np\n",
    "import pylab as pl\n",
    "\n",
    "%matplotlib inline"
   ]
  },
  {
   "cell_type": "markdown",
   "metadata": {
    "collapsed": false
   },
   "source": [
    "## 1. (1.0)\n",
    "\n",
    "Consider the following kernel regression model:\n",
    "\n",
    "$$ f_w(x) = w\\phi(x) + w_0$$\n",
    "\n",
    "where \n",
    "\n",
    "$$ w=\\sum_{x_{i}\\in X}\\alpha_{i}\\phi(x_{i}) $$\n",
    "\n",
    "and $\\phi()$ is the feature map associated to a kernel $k(\\_,\\_)$\n",
    "\n",
    "Also consider the following loss function:\n",
    "\n",
    "$$E(w, x, y) = | y -  f_w(x))|$$\n",
    "\n",
    "Implement this model modifying the following functions:"
   ]
  },
  {
   "cell_type": "code",
   "execution_count": 4,
   "metadata": {
    "collapsed": false
   },
   "outputs": [
   ],
   "source": [
    "def predict(alpha, X, kernel, x):\n",
    "    '''\n",
    "     alpha:  vector of shape (n,) where n is the number of samples\n",
    "     X:      matrix of shape (n, 2) \n",
    "     kernel: a kernel function\n",
    "     x:      vector of shape (2,)\n",
    "    returns:\n",
    "     the result of evaluating f_w(x)\n",
    "    '''\n",
    "    w_=[alpha[i] * kernel(xi,x) for i, xi in enumerate(X)]\n",
    "    w=np.sum(w_)\n",
    "    result = w\n",
    "    # your code here\n",
    "    return result\n",
    "\n",
    "def loss(alpha, X, kernel, x, y):\n",
    "    '''\n",
    "     alpha:  vector of shape (n,) where n is the number of samples\n",
    "     X:      matrix of shape (n, 2), training input samples\n",
    "     kernel: a kernel function\n",
    "     x:      vector of shape (2,), input sample \n",
    "     y:      scalar, target output sample\n",
    "    returns:\n",
    "     the result of evaluating the loss function for a sample (x, y)\n",
    "    '''\n",
    "    # your code here\n",
    "    return  np.abs(predict(alpha, X, kernel, x) - y)\n",
    "\n"
   ]
  },
  {
   "cell_type": "markdown",
   "metadata": {
    "collapsed": false
   },
   "source": [
    "## 2. (2.0)\n",
    "\n",
    "Write an expression to calculate the gradient of the loss with respect to the alpha parameter:\n",
    "\n",
    "$$ \\frac{\\partial E(w, x, y)}{\\partial \\alpha}= $$\n",
    "\n",
    "Write a function that calculates the gradient:"
   ]
  },
  {
   "cell_type": "code",
   "execution_count": 5,
   "metadata": {
    "collapsed": false
   },
   "outputs": [
   ],
   "source": [
    "def de_dalpha(alpha, X, kernel, x, y):\n",
    "    '''\n",
    "     alpha:  vector of shape (n,) where n is the number of samples\n",
    "     X:      matrix of shape (n, 2), training input samples\n",
    "     kernel: a kernel function\n",
    "     x:      vector of shape (2,), input sample \n",
    "     y:      scalar, target output sample\n",
    "    returns:\n",
    "     a vector of shape (n, ) where the position i corresponds to dE(x)/d\\alpha_i\n",
    "    '''\n",
    "    E = predict(alpha, X, kernel, x) - y\n",
    "    de_ = [kernel(xi,x) for xi in X]\n",
    "    de=np.array(de_)\n",
    "    # your code here\n",
    "    return E/np.abs(E)*de"
   ]
  },
  {
   "cell_type": "markdown",
   "metadata": {
    "collapsed": false
   },
   "source": [
    "## 3. (2.0)\n",
    "\n",
    "Implement batch gradient descent to train the model."
   ]
  },
  {
   "cell_type": "code",
   "execution_count": 28,
   "metadata": {
    "collapsed": false
   },
   "outputs": [
   ],
   "source": [
    "def train(X, Y, epochs, eta, alpha_ini, kernel):\n",
    "    '''\n",
    "     X:      matrix of shape (n, 2), training input samples\n",
    "     Y:      vector of shape (n, ), training output samples\n",
    "     epochs: number of epochs\n",
    "     eta:    learning rate\n",
    "     alpha_ini:  vector of shape (n,), initial values of alpha\n",
    "     kernel: a kernel function\n",
    "    returns:\n",
    "     a tuple (alpha, losses) where:\n",
    "       alpha: vector of shape (n, ) with resulting alpha values\n",
    "       losses: a vector of shape (epochs, ) with the loss values for each epoch\n",
    "    '''\n",
    "    losses = np.ones(len(X))\n",
    "    alpha = alpha_ini\n",
    "    # your code here\n",
    "    for ep in range(epochs):\n",
    "        E=[loss(alpha_ini, X, kernel, xi, Y[i]) for i,xi in enumerate(X)]\n",
    "#         print(E)\n",
    "        alpha=[-E[i]/de_dalpha(alpha_ini,  X, kernel, X[i], Y[i])[i] + a  for i,a in enumerate(alpha_ini) ]\n",
    "        alpha_ini=alpha\n",
    "    losses=np.array([loss(alpha, X, kernel, xi, Y[i]) for i,xi in enumerate(X)])\n",
    "    return np.array(alpha), losses"
   ]
  },
  {
   "cell_type": "markdown",
   "metadata": {
    "collapsed": false
   },
   "source": [
    "The following code executes the model using batch gradient descent. It should produce a plot that looks like this:\n",
    "\n",
    "![loss plot](loss.png)\n"
   ]
  },
  {
   "cell_type": "code",
   "execution_count": 27,
   "metadata": {
    "collapsed": false
   },
   "outputs": [
    {
     "name": "stdout",
     "output_type": "stream",
     "text": [
      "[ 0.06064612  0.00459544  0.01629844 -0.01586575]\n",
      "0.9999999999999993\n",
      "0.9999999999999998\n",
      "0.9999999999999996\n",
      "-1.0000000000000009\n"
     ]
    },
    {
     "data": {
      "image/png": "[encoded data removed]",
      "text/plain": [
       "<Figure size 432x288 with 1 Axes>"
      ]
     },
     "execution_count": 27,
     "metadata": {
      "image/png": {
       "height": 258,
       "width": 364
      }
     },
     "output_type": "execute_result"
    }
   ],
   "source": [
    "def k1(x, y):\n",
    "    return np.dot(x, y)\n",
    "\n",
    "\n",
    "def k2(x, y):\n",
    "    return (np.dot(x, y) + 1)**2\n",
    "\n",
    "\n",
    "X = [[-2, -1], [-1, 3], [2.5, -1.5], [4, 2]]\n",
    "Y = [1, 1, 1, -1]\n",
    "alpha, losses = train(X, Y, 2000, 0.000001, [0.1, 0.0, -0.1, 0.0], k2)\n",
    "pl.plot(losses)\n",
    "print(alpha)\n",
    "for x in X:\n",
    "    print(predict(alpha, X, k2, x))"
   ]
  },
  {
   "cell_type": "markdown",
   "metadata": {
    "collapsed": false
   },
   "source": [
    "## Grader\n",
    "Run the following code to grade your exam"
   ]
  },
  {
   "cell_type": "code",
   "execution_count": 22,
   "metadata": {
    "collapsed": false
   },
   "outputs": [
    {
     "name": "stdout",
     "output_type": "stream",
     "text": [
      "Score:  30 / 50\n"
     ]
    }
   ],
   "source": [
    "# Grader\n",
    "\n",
    "def k1(x, y):\n",
    "    return np.dot(x, y)\n",
    "\n",
    "def k2(x, y):\n",
    "    return (np.dot(x, y) + 1) ** 2\n",
    "\n",
    "def test1():\n",
    "    X = [[-2, -1],\n",
    "         [-1, 3],\n",
    "         [2.5, -1.5],\n",
    "         [4, 2]]\n",
    "    Y = [-1, 1, 1, -1]\n",
    "    epsilon = 0.0001\n",
    "    test1 = [1.85 , 6.6 , 7.7 , 0.7]\n",
    "    test2 = [40.175 , 32.1 , 9.4 , 145.4]\n",
    "    alpha = [0.5, 0.4, -0.5, 0.3]\n",
    "    for i, x_i in enumerate(X):\n",
    "        if abs(loss(alpha, X, k1, x_i, Y[i]) - test1[i]) > epsilon:\n",
    "            return False\n",
    "    for i, x_i in enumerate(X):\n",
    "        if abs(loss(alpha, X, k2, x_i, Y[i]) - test2[i]) > epsilon:\n",
    "            return False\n",
    "    return True\n",
    "\n",
    "def num_de_dalpha(alpha, X, kernel, x, y, epsilon):\n",
    "    deltas = np.identity(len(alpha)) * epsilon\n",
    "    de = np.zeros(len(alpha))\n",
    "    for i in range(len(alpha)):\n",
    "        de[i] = (loss(alpha + deltas[i, :], X, kernel, x, y) - \n",
    "                 loss(alpha - deltas[i, :], X, kernel, x, y)) / (2 * epsilon)\n",
    "    return de\n",
    "\n",
    "def test_de_dalpha(kernel):\n",
    "    if not test1():\n",
    "        return False\n",
    "    num_tests = 100\n",
    "    epsilon = 0.0001\n",
    "    X = [[-2, -1],\n",
    "         [-1, 3],\n",
    "         [2.5, -1.5],\n",
    "         [4, 2]]\n",
    "    for i in range(num_tests):\n",
    "        talpha = np.random.randn(len(X))\n",
    "        tx = np.random.randn(2)\n",
    "        ty = np.random.randn(1)\n",
    "        if np.linalg.norm(de_dalpha(talpha, X, kernel, tx, ty) - \n",
    "                          num_de_dalpha(talpha, X, kernel, tx, ty, epsilon)) > epsilon:\n",
    "            return False\n",
    "    return True\n",
    "\n",
    "def test2():\n",
    "    return test_de_dalpha(k1) and test_de_dalpha(k2)\n",
    "\n",
    "def evaluate_loss(alpha, X, kernel, X_test, Y_test):\n",
    "    result = 0\n",
    "    for i, x in enumerate(X_test):\n",
    "        result += loss(alpha, X, kernel, x, Y_test[i])\n",
    "    return result\n",
    "\n",
    "def test3():\n",
    "    if not test1():\n",
    "        return False\n",
    "    X = [[-2, -1],\n",
    "         [-1, 3],\n",
    "         [2.5, -1.5],\n",
    "         [4, 2]]\n",
    "    Y = [1, 1, 1, -1]\n",
    "    alpha, losses = train(X, Y, 2000, 0.000001, [0.1, 0.0, -0.1, 0.0], k2)\n",
    "    loss = evaluate_loss(alpha, X, k2, X, Y)\n",
    "    if loss != losses[-1]:\n",
    "        return False\n",
    "    if loss < 5.0:\n",
    "        return True\n",
    "    else:\n",
    "        return False\n",
    "    alpha, losses = train(X, Y, 300, 0.001, [1, -2, 3, 0.0], k1)\n",
    "    loss = evaluate_loss(alpha, X, k1, X, Y)\n",
    "    if loss != losses[-1]:\n",
    "        return False\n",
    "    if loss < 5.0:\n",
    "        return True\n",
    "    else:\n",
    "        return False\n",
    "\n",
    "\n",
    "def evaluation():\n",
    "    score = 0 \n",
    "    for test, sc in [(test1, 10), (test2, 20), (test3, 20)]:\n",
    "        if test():\n",
    "            score += sc\n",
    "    return score\n",
    "\n",
    "print(\"Score: \", evaluation(), \"/ 50\")"
   ]
  }
 ],
 "metadata": {
  "kernelspec": {
   "display_name": "Python 3 (system-wide)",
   "language": "python",
   "metadata": {
    "cocalc": {
     "description": "Python 3 programming language",
     "priority": 100,
     "url": "https://www.python.org/"
    }
   },
   "name": "python3"
  },
  "language_info": {
   "codemirror_mode": {
    "name": "ipython",
    "version": 3
   },
   "file_extension": ".py",
   "mimetype": "text/x-python",
   "name": "python",
   "nbconvert_exporter": "python",
   "pygments_lexer": "ipython3",
   "version": "3.6.8"
  }
 },
 "nbformat": 4,
 "nbformat_minor": 0
}