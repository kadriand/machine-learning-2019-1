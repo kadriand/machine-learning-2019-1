{
 "cells": [
  {
   "cell_type": "markdown",
   "metadata": {},
   "source": [
    "\n",
    "# Quiz 4\n",
    "# Machine Learning 2019-1\n",
    "\n",
    "\n",
    "Keep saving your notebook to guarantee that you don't lose your work. Whenever the end of the quiz is announced save the current version. \n",
    "\n",
    "---\n",
    "\n"
   ]
  },
  {
   "cell_type": "code",
   "execution_count": 3,
   "metadata": {},
   "outputs": [],
   "source": [
    "import numpy as np\n",
    "import pylab as pl\n",
    "\n",
    "%matplotlib inline"
   ]
  },
  {
   "cell_type": "markdown",
   "metadata": {},
   "source": [
    "### 1. (2.0)\n",
    "The following code implements a feed-forward neural network:"
   ]
  },
  {
   "cell_type": "code",
   "execution_count": 4,
   "metadata": {},
   "outputs": [],
   "source": [
    "def sigmoid(x):\n",
    "    return 1.0/(1.0 + np.exp(-x))\n",
    "\n",
    "def relu(x):\n",
    "    return max(0, x)\n",
    "\n",
    "def predict(w, x):\n",
    "    z = np.zeros((3,))\n",
    "    z[0] = relu(x @ w[3:5] + w[0])\n",
    "    z[1] = relu(z[0]*w[5] + x[1]*w[6] + w[1])\n",
    "    z[2] = sigmoid(x[0]*w[7] + z[1]*w[8] + w[2])\n",
    "    return z[2]"
   ]
  },
  {
   "cell_type": "markdown",
   "metadata": {},
   "source": [
    "Find a weight vector such that the neural network calculates the negated AND function:\n",
    "    \n",
    "$$f(x,y)=\\neg(x\\land y)$$\n",
    "\n",
    "Use the following variable to put the weight vector:"
   ]
  },
  {
   "cell_type": "code",
   "execution_count": 32,
   "metadata": {},
   "outputs": [],
   "source": [
    "W1=np.array([1.5,\n",
    "    0,\n",
    "    -10,\n",
    "    -1,\n",
    "    -1,\n",
    "   1,\n",
    "   0,\n",
    "   0,\n",
    "    100 ])"
   ]
  },
  {
   "cell_type": "code",
   "execution_count": 6,
   "metadata": {},
   "outputs": [
    {
     "name": "stdout",
     "output_type": "stream",
     "text": [
      "4.5397868702434395e-05\n",
      "1.0\n",
      "1.0\n",
      "1.0\n"
     ]
    }
   ],
   "source": [
    "print(predict(W1, [1,1]))\n",
    "print(predict(W1, [1,0]))\n",
    "print(predict(W1, [0,1]))\n",
    "print(predict(W1, [0,0]))\n"
   ]
  },
  {
   "cell_type": "code",
   "execution_count": 7,
   "metadata": {},
   "outputs": [
    {
     "data": {
      "text/plain": [
       "-3.0"
      ]
     },
     "execution_count": 7,
     "metadata": {},
     "output_type": "execute_result"
    }
   ],
   "source": [
    "[1,2] @ W1[3:5]"
   ]
  },
  {
   "cell_type": "markdown",
   "metadata": {},
   "source": [
    "### 2. (3.0)\n",
    "\n",
    "Assuming the following loss function:"
   ]
  },
  {
   "cell_type": "code",
   "execution_count": 8,
   "metadata": {},
   "outputs": [],
   "source": [
    "def loss(w, x, y):\n",
    "    return (y - predict(w, x))**2/2."
   ]
  },
  {
   "cell_type": "markdown",
   "metadata": {},
   "source": [
    "Write a function that uses backpropagation to calculate:\n",
    "    \n",
    "$$\\frac{\\partial E(w, x, y)}{\\partial w_5}$$\n",
    "\n",
    "Where $E$ is the loss function defined before. Explicitely write the expressions that you derive:\n",
    "\n",
    "$$\\delta_1=$$\n",
    "\n",
    "$$\\delta_2 =\\frac{\\partial z_2}{\\partial z_1}\\frac{\\partial z_1}{\\partial z_0}\\frac{\\partial z_0}{\\partial w_5}=w_8 \\frac{e^{x_0w_7+z_1w_8+z_1w_8+w_2}}{(1+ e^{x_0w_7+z_1w_8+z_1w_8+w_2})^2}$$\n",
    "\n",
    "$$\\frac{\\partial E(w, x, y)}{\\partial w_5} = \\delta_2*\\delta_2$$"
   ]
  },
  {
   "cell_type": "code",
   "execution_count": 30,
   "metadata": {},
   "outputs": [],
   "source": [
    "def dE_dw5(w, x, y):\n",
    "    z0 = relu(x @ w[3:5] + w[0])\n",
    "    z1 = relu(z0*w[5] + x[1]*w[6] + w[1])\n",
    "    z2 = sigmoid(x[0]*w[7] + z1*w[8] + w[2])\n",
    "    z2_in=x[0]*w[7] + z1*w[8] + w[2] \n",
    "    if z1 == 0:\n",
    "        return 0\n",
    "    dE_dz2=y-predict(w, x)\n",
    "    dz2_dz1=-w[8]*np.exp(-z2_in)*((1 + np.exp(-z2_in))**-2)\n",
    "    dz1_dw5=z0\n",
    "    return dE_dz2*dz2_dz1*dz1_dw5"
   ]
  },
  {
   "cell_type": "markdown",
   "metadata": {},
   "source": [
    "## Grader\n",
    "Run the following code to grade your exam"
   ]
  },
  {
   "cell_type": "code",
   "execution_count": 33,
   "metadata": {
    "scrolled": true
   },
   "outputs": [
    {
     "name": "stdout",
     "output_type": "stream",
     "text": [
      "Score:  50 / 50\n"
     ]
    }
   ],
   "source": [
    "def approx_equal(val1, val2):\n",
    "    return abs(val1-val2) <= 0.00001\n",
    "\n",
    "def test_dict(test, answer):\n",
    "    if sorted(test.keys()) != sorted(answer.keys()): return False\n",
    "    for k,v in test.items():\n",
    "        if not approx_equal(v,answer[k]):\n",
    "            return False\n",
    "    return True\n",
    "\n",
    "def test1():\n",
    "    epsilon = 0.001\n",
    "    X = [[0, 0],\n",
    "     [0, 1],\n",
    "     [1, 0],\n",
    "     [1, 1]]\n",
    "    Y = [1, 1, 1, 0]\n",
    "    for i, x in enumerate(X):\n",
    "        if np.abs(predict(W1, x) - Y[i]) > epsilon: \n",
    "            return False\n",
    "    return True\n",
    "\n",
    "def num_dE_dw5(w, x, y, epsilon):\n",
    "    delta = np.zeros(len(w))\n",
    "    delta[5] = epsilon\n",
    "    de = (loss(w + delta, x, y) - loss(w - delta, x, y)) / (2 * epsilon)\n",
    "    return de\n",
    "\n",
    "def test2():\n",
    "    num_tests = 100\n",
    "    epsilon = 0.0001\n",
    "    for i in range(num_tests):\n",
    "        tw = np.random.randn(9)\n",
    "        tx = np.random.randn(2)\n",
    "        ty = np.random.randn(1)\n",
    "        if np.linalg.norm(dE_dw5(tw, tx,ty) - num_dE_dw5(tw, tx, ty, epsilon)) > epsilon:\n",
    "            return False\n",
    "    return True\n",
    "\n",
    "\n",
    "def evaluate():\n",
    "    score = 0 \n",
    "    for test, sc in [(test1, 20), (test2, 30)]:\n",
    "        if test():\n",
    "            score += sc\n",
    "    return score\n",
    "\n",
    "print(\"Score: \", evaluate(), \"/ 50\")"
   ]
  },
  {
   "cell_type": "code",
   "execution_count": 0,
   "metadata": {
    "collapsed": true
   },
   "outputs": [],
   "source": []
  }
 ],
 "metadata": {
  "kernelspec": {
   "display_name": "Python 3",
   "language": "python",
   "name": "python3"
  },
  "language_info": {
   "codemirror_mode": {
    "name": "ipython",
    "version": 3
   },
   "file_extension": ".py",
   "mimetype": "text/x-python",
   "name": "python",
   "nbconvert_exporter": "python",
   "pygments_lexer": "ipython3",
   "version": "3.7.2"
  }
 },
 "nbformat": 4,
 "nbformat_minor": 1
}
