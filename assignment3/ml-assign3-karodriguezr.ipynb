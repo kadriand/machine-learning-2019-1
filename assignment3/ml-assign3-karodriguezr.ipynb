{
 "cells": [
  {
   "cell_type": "markdown",
   "metadata": {
    "pycharm": {
     "metadata": false
    }
   },
   "source": [
    "# Assignment 3\n",
    "by: _Kevin Adrián Rodríguez Ruiz_\n",
    "\n",
    "karodriguezr@unal.edu.co"
   ]
  },
  {
   "cell_type": "markdown",
   "metadata": {
    "pycharm": {
     "metadata": false
    }
   },
   "source": [
    "## Common vars and functions\n",
    "\n",
    "The next functions are intended to hel in common utilites"
   ]
  },
  {
   "cell_type": "code",
   "execution_count": 1,
   "metadata": {
    "pycharm": {
     "metadata": false,
     "name": "#%%\n"
    },
    "scrolled": true
   },
   "outputs": [],
   "source": [
    "%matplotlib inline"
   ]
  },
  {
   "cell_type": "code",
   "execution_count": 2,
   "metadata": {},
   "outputs": [],
   "source": [
    "import numpy as np\n",
    "import matplotlib.pyplot as plt\n",
    "from sklearn import datasets\n",
    "from scipy import random\n",
    "from sklearn.svm import LinearSVC, SVC\n",
    "from sklearn.feature_extraction.text import CountVectorizer\n",
    "from sklearn.metrics.pairwise import cosine_similarity, chi2_kernel"
   ]
  },
  {
   "cell_type": "markdown",
   "metadata": {
    "pycharm": {
     "metadata": false
    }
   },
   "source": [
    "# Point 1\n",
    "Let $x={x_1,...,x_n}$ be a subset of an input data set X. Consider a kernel functionk: $X\\times X\\rightarrow \\mathbb{R}$, which induces a feature space $\\phi(X)$:"
   ]
  },
  {
   "cell_type": "markdown",
   "metadata": {
    "pycharm": {
     "metadata": false
    }
   },
   "source": [
    "## (a)\n",
    "Deduce an expression (using kernels) that, given a vector $w\\in X$, calculates the norm ofthe projection of the image of a point $x,\\phi(x)$, onto the image of the vector $w,\\phi(w)$:\n",
    "\n",
    "$$P_w=\\frac{\\langle \\phi(w),\\phi(x) \\rangle}{\\parallel\\phi(w)\\parallel}$$\n",
    "\n",
    "### Solution\n",
    "\n",
    "Takin into account that the length of a vector can be expressed as follows \n",
    "$$\\parallel\\phi(w)\\parallel=\\sqrt{\\langle w,w \\rangle}$$ \n",
    "and introducing and the kernel \n",
    "$$k(x_{1},x_{2}) = \\langle x_{1},x_{2} \\rangle$$ \n",
    "the equation for $P_w$ can be transformed into:\n",
    "\n",
    "$$P_w=\\frac{k(w,x) \\rangle}{\\sqrt{k(w,w)}}$$"
   ]
  },
  {
   "cell_type": "markdown",
   "metadata": {
    "pycharm": {
     "metadata": false,
     "name": "#%%\n"
    }
   },
   "source": [
    "## (b)\n",
    "Deduce an expression (using kernels) to calculate the sample variance of the projectionsin the feature space of a set of points along a vector$w$:\n",
    "\n",
    "$$var_{\\phi(w)}(x)=\\frac{1}{n}\\sum_{x_i  \\in x}(P_w(x_i)-\\mu)^2$$\n",
    "\n",
    "where \n",
    "$$\\mu=\\frac{1}{n}\\sum_{x_i  \\in x}P_w(x_i)$$\n",
    "### Solution\n",
    "\n",
    "Replacing $\\mu$ in $var_{\\phi(w)}(x)$\n",
    "\n",
    "$$var_{\\phi(w)}(x)=\\frac{1}{n}\\sum_{x_i  \\in x}\\bigg(P_w(x_i)-\\frac{1}{n}\\sum_{x_j  \\in x}P_w(x_j)\\bigg)^2$$\n",
    "\n",
    "Replacing $P_w(x_i)$ by the expression obtained in the last point\n",
    "\n",
    "$$var_{\\phi(w)}(x)=\\frac{1}{n}\\sum_{x_i  \\in x}\\bigg(\\frac{k(w,x_i) }{\\sqrt{k(w,w)}}-\\frac{1}{n}\\sum_{x_j  \\in x}\\frac{k(w,x_j) }{\\sqrt{k(w,w)}}\\bigg)^2$$\n",
    "\n",
    "$$var_{\\phi(w)}(x)=\\frac{1}{n}\\sum_{x_i  \\in x}\\bigg(\\frac{1}{\\sqrt{k(w,w)}}\\bigg)^2\\bigg(k(w,x_i) -\\frac{1}{n}\\sum_{x_j  \\in x}k(w,x_j)\\bigg)^2$$\n",
    "\n",
    "$$var_{\\phi(w)}(x)=\\frac{1}{n·k(w,w)}\\sum_{x_i  \\in x}\\bigg(k(w,x_i) -\\frac{1}{n}\\sum_{x_j  \\in x}k(w,x_j)\\bigg)^2$$"
   ]
  },
  {
   "cell_type": "markdown",
   "metadata": {},
   "source": [
    "## (b)\n",
    "Use the previous expression to calculate the variance of the projections of the images ofthe elements of the following point set in $\\mathbb{R}^2$, $x =\\{(0,1),(−1,3),(2,4),(3,−1),(−1,−2)\\}$ over the images of the vectors $w_1=(1,1)$ and $w_2= (−1,1)$, in the feature spaces inducedby the following kernels:\n",
    "\n",
    "#### i. $k(x,y)=\\langle x,y\\rangle$\n",
    "#### ii. $k(x,y) = \\langle x,y\\rangle^2$\n",
    "#### iii. $k(x,y) = (\\langle x,y\\rangle+1)^5$\n",
    "#### iv. $Gaussian\\; kernel\\; with\\; \\sigma=1$"
   ]
  },
  {
   "cell_type": "code",
   "execution_count": 3,
   "metadata": {},
   "outputs": [
    {
     "name": "stdout",
     "output_type": "stream",
     "text": [
      "w = (1,1)\n",
      "i. 4.12\n",
      "ii. 41.34\n",
      "iii. 183362.81909465027\n",
      "iv. 0.056746553733116524\n",
      "\n",
      "w = (-1,1)\n",
      "i. 3.7200000000000006\n",
      "ii. 12.059999999999999\n",
      "iii. 6494.993580246915\n",
      "iv. 0.05457468115143238\n"
     ]
    }
   ],
   "source": [
    "def variance(kernel, points_x, vector_w):\n",
    "    \"\"\"\n",
    "    :param kernel: k(x,y)\n",
    "    :param points_x: x\n",
    "    :param vector_w: w\n",
    "    :return:\n",
    "    \"\"\"\n",
    "    sum_i = 0\n",
    "    n = len(points_x)\n",
    "    for x_i in points_x:\n",
    "        k_i = kernel(vector_w, x_i)\n",
    "        sum_j = sum(kernel(vector_w, x_j) for x_j in points_x)\n",
    "        sum_i += np.power(k_i - 1 / n * sum_j, 2)\n",
    "    return 1 / n / kernel(vector_w, vector_w) * sum_i\n",
    "\n",
    "\n",
    "def kernel_i(x_1, x_2):\n",
    "    return np.dot(x_1, x_2)\n",
    "\n",
    "\n",
    "def kernel_ii(x_1, x_2):\n",
    "    return np.power(np.dot(x_1, x_2), 2)\n",
    "\n",
    "\n",
    "def kernel_iii(x_1, x_2):\n",
    "    return np.power(np.dot(x_1, x_2) + 1, 5)\n",
    "\n",
    "\n",
    "def kernel_iv(x, z, sigma=1):\n",
    "    x_minus_z = np.subtract(x, z)\n",
    "    return np.exp(-np.dot(x_minus_z, x_minus_z) / 2 / sigma ** 2)\n",
    "\n",
    "\n",
    "def point_c():\n",
    "    x = [[0, 1], [-1, 3], [2, 4], [3, -1], [-1, -2]]\n",
    "    w = [[1, 1], [-1, 1]]\n",
    "\n",
    "    print(\"w = (1,1)\")\n",
    "    variance_i = variance(kernel_i, x, w[0])\n",
    "    variance_ii = variance(kernel_ii, x, w[0])\n",
    "    variance_iii = variance(kernel_iii, x, w[0])\n",
    "    variance_iv = variance(kernel_iv, x, w[0])\n",
    "\n",
    "    print(f\"i. {variance_i}\")\n",
    "    print(f\"ii. {variance_ii}\")\n",
    "    print(f\"iii. {variance_iii}\")\n",
    "    print(f\"iv. {variance_iv}\")\n",
    "\n",
    "    print(\"\\nw = (-1,1)\")\n",
    "    variance_i = variance(kernel_i, x, w[1])\n",
    "    variance_ii = variance(kernel_ii, x, w[1])\n",
    "    variance_iii = variance(kernel_iii, x, w[1])\n",
    "    variance_iv = variance(kernel_iv, x, w[1])\n",
    "\n",
    "    print(f\"i. {variance_i}\")\n",
    "    print(f\"ii. {variance_ii}\")\n",
    "    print(f\"iii. {variance_iii}\")\n",
    "    print(f\"iv. {variance_iv}\")\n",
    "\n",
    "\n",
    "point_c()"
   ]
  },
  {
   "cell_type": "markdown",
   "metadata": {},
   "source": [
    "# Point 2.\n",
    "#### Digit recognition model understanding.\n",
    "\n",
    "## (a) \n",
    "Get the data for the MNIST data set: http://scikit-learn.org/stable/datasets/index.html#downloading-datasets-from-the-mldata-org-repository.\n",
    "\n"
   ]
  },
  {
   "cell_type": "code",
   "execution_count": 4,
   "metadata": {},
   "outputs": [
    {
     "name": "stdout",
     "output_type": "stream",
     "text": [
      "Data shape: (1797, 64)\n"
     ]
    },
    {
     "data": {
      "text/plain": [
       "<Figure size 432x288 with 0 Axes>"
      ]
     },
     "execution_count": 4,
     "metadata": {},
     "output_type": "execute_result"
    },
    {
     "data": {
      "image/png": "[encoded data removed]",
      "text/plain": [
       "<Figure size 288x288 with 1 Axes>"
      ]
     },
     "execution_count": 4,
     "metadata": {
      "needs_background": "light"
     },
     "output_type": "execute_result"
    },
    {
     "data": {
      "text/plain": [
       "<Figure size 432x288 with 0 Axes>"
      ]
     },
     "execution_count": 4,
     "metadata": {},
     "output_type": "execute_result"
    },
    {
     "data": {
      "image/png": "[encoded data removed]",
      "text/plain": [
       "<Figure size 288x288 with 1 Axes>"
      ]
     },
     "execution_count": 4,
     "metadata": {
      "needs_background": "light"
     },
     "output_type": "execute_result"
    }
   ],
   "source": [
    "digits = datasets.load_digits()\n",
    "digits_data = digits.data\n",
    "print(f\"Data shape: {digits.data.shape}\")\n",
    "\n",
    "plt.gray()\n",
    "plt.matshow(digits.images[0])\n",
    "plt.show()\n",
    "plt.gray()\n",
    "plt.matshow(digits.images[9])\n",
    "plt.show()"
   ]
  },
  {
   "cell_type": "markdown",
   "metadata": {},
   "source": [
    "## (b) \n",
    "Normalize your features so that each one has mean 0 and standard deviation 1.\n",
    "\n",
    "#### Solution\n",
    "The waty to make the mean of a dataset $X$ equals to zero is by substracting the mean from every point of the dataset.\n",
    "\n",
    "$$X_{mean\\ zero}=X-\\bar{x}$$\n",
    "\n",
    "To make the standard deviation equals to one, assuming a mean for the dataset of zero value, is necessary to multiply the dataset by a factor $k$. The formula to reach $k$ is:\n",
    "\n",
    "$$std=\\sqrt{\\frac{\\sum_{x_i}^X{{\\lvert k\\ x_i \\rvert}^2}}{n}}=1$$\n",
    "$$\\frac{\\sum_{x_i}^X{{\\lvert k\\ x_i \\rvert}^2}}{n}=1$$\n",
    "$$\\sum_{x_i}^X{{\\lvert k\\ x_i \\rvert}^2}=n$$\n",
    "\n",
    "$$k=\\sqrt{\\frac{n}{\\sum_{x_i}^X{{\\lvert x_i \\rvert}^2}}}$$\n"
   ]
  },
  {
   "cell_type": "code",
   "execution_count": 5,
   "metadata": {},
   "outputs": [],
   "source": [
    "def normalize_b():\n",
    "    digits_mean_zero = digits_data - digits_data.mean()\n",
    "    sum_digits_sq = np.multiply(digits_mean_zero, digits_mean_zero).sum()\n",
    "    factor = np.sqrt(len(digits_data) * len(digits_data[0]) / sum_digits_sq)\n",
    "    digits_std_one = digits_mean_zero * factor\n",
    "    return digits_std_one"
   ]
  },
  {
   "cell_type": "code",
   "execution_count": 6,
   "metadata": {},
   "outputs": [
    {
     "name": "stdout",
     "output_type": "stream",
     "text": [
      "Original data min: 0.0\n",
      "Original data max: 16.0\n",
      "Original data mean: 4.884164579855314\n",
      "Original data std: 6.016787548672236\n",
      "Normalized mean: 6.301766750793877e-18\n",
      "Normalized std: 1.0000000000000002\n"
     ]
    }
   ],
   "source": [
    "print(f\"Original data min: {digits_data.min()}\")\n",
    "print(f\"Original data max: {digits_data.max()}\")\n",
    "print(f\"Original data mean: {digits_data.mean()}\")\n",
    "print(f\"Original data std: {digits_data.std()}\")\n",
    "digits_std_one = normalize_b()\n",
    "print(f\"Normalized mean: {digits_std_one.mean()}\")\n",
    "print(f\"Normalized std: {digits_std_one.std()}\")"
   ]
  },
  {
   "cell_type": "markdown",
   "metadata": {},
   "source": [
    "## (c) \n",
    "Choose two classes (e.g. 1 and 0, or 6 and 9) and train a linear SVM to discriminate between them. Find an optimal complexity parameter, C, plotting the training and test error vs. the regularization parameter. Use a logarithmic scale for C,$\\{2^{−15} ,2^{−14} ,...,2^{10}\\}$. Discuss the results.\n",
    "\n",
    "### Note:\n",
    "The digits studied were **5** and __8__ do cross validation. The size of the training set was of 70%,\n",
    "The training set was choosen randomly, then re-running the script will produce different results.\n"
   ]
  },
  {
   "cell_type": "code",
   "execution_count": 7,
   "metadata": {},
   "outputs": [],
   "source": [
    "training_fraction = 0.7\n",
    "\n",
    "\n",
    "def filter_classes_c(class_one, class_two):\n",
    "    digits_std_one = normalize_b()\n",
    "    classes_idx = np.append(np.where(digits.target == class_one), np.where(digits.target == class_two))\n",
    "    digits_data_filtered = digits_std_one[classes_idx, :]\n",
    "    digits_classes_filtered = digits.target[classes_idx]\n",
    "    return digits_data_filtered, digits_classes_filtered\n",
    "\n",
    "\n",
    "def classify_c(training_data, training_classes, test_data, test_classes, complexities):\n",
    "    training_errors = np.zeros(len(complexities))\n",
    "    test_errors = np.zeros(len(complexities))\n",
    "    for idx, complexity in enumerate(complexities):\n",
    "        linear_svm = LinearSVC(C=complexity, max_iter=5000, tol=1e-5)\n",
    "        linear_svm.fit(training_data, training_classes)\n",
    "        training_errors[idx] = 1.0 - linear_svm.score(training_data, training_classes)\n",
    "        test_errors[idx] = 1.0 - linear_svm.score(test_data, test_classes)\n",
    "\n",
    "    return training_errors, test_errors\n",
    "\n",
    "\n",
    "def optimal_C_c(complexities_C, digit_1, digit_2):\n",
    "    digits_filtered, digits_filtered_classes = filter_classes_c(digit_1, digit_2)\n",
    "    digits_idxs = [i for i in range(len(digits_filtered))]\n",
    "    random.shuffle(digits_idxs)\n",
    "    samples_size = int(len(digits_idxs) * training_fraction)\n",
    "    \n",
    "    digits_training = digits_filtered[digits_idxs[0:samples_size]]\n",
    "    digits_training_classes = digits_filtered_classes[digits_idxs[0:samples_size]]\n",
    "    digits_test = digits_filtered[digits_idxs[samples_size - 1:len(digits_filtered)]]\n",
    "    digits_test_classes = digits_filtered_classes[digits_idxs[samples_size - 1:len(digits_filtered)]]\n",
    "    \n",
    "    training_errors, test_errors = classify_c(digits_training, digits_training_classes, digits_test, digits_test_classes, complexities_C)\n",
    "    optimal_idx = (test_errors + training_errors).argmin()\n",
    "    return optimal_idx, test_errors, training_errors, digits_idxs\n",
    "\n",
    "\n",
    "def plot_regularization_parameters_c(complexities_C, optimal_C, test_errors, training_errors, title=f\"Cross Validation Plot\"):\n",
    "    plt.plot(complexities_C, training_errors, label='Training set')\n",
    "    plt.plot(complexities_C, test_errors, label='Test set')\n",
    "    max_val = test_errors.max() if test_errors.max() > training_errors.max() else training_errors.max()\n",
    "    plt.plot([optimal_C, optimal_C], [0, max_val], linestyle=':', label=f'Optimal C: 2^{int(np.log2(optimal_C))}')\n",
    "    plt.xlabel('Regularization parameter')\n",
    "    plt.ylabel('Error')\n",
    "    plt.title(title)\n",
    "    plt.xscale('log', basex=2)\n",
    "    plt.legend()\n",
    "    plt.show()"
   ]
  },
  {
   "cell_type": "code",
   "execution_count": 8,
   "metadata": {},
   "outputs": [
    {
     "name": "stdout",
     "output_type": "stream",
     "text": [
      "Optimal C: 0.0078125\n"
     ]
    },
    {
     "data": {
      "image/png": "[encoded data removed]",
      "text/plain": [
       "<Figure size 432x288 with 1 Axes>"
      ]
     },
     "execution_count": 8,
     "metadata": {
      "needs_background": "light"
     },
     "output_type": "execute_result"
    }
   ],
   "source": [
    "complexities_C = np.logspace(-15.0, 10.0, num=26, base=2)\n",
    "optimal_idx, test_errors, training_errors, digits_idxs = optimal_C_c(complexities_C, 5, 8)\n",
    "optimal_C = complexities_C[optimal_idx]\n",
    "print(f\"Optimal C: {optimal_C}\")\n",
    "plot_regularization_parameters_c(complexities_C, optimal_C, test_errors, training_errors)"
   ]
  },
  {
   "cell_type": "markdown",
   "metadata": {},
   "source": [
    "### Discussion\n",
    "\n",
    "From the plot can be remarked:\n",
    "* With high values for the Regulation parameter, the classifier gets more overfit. This produces an error near to zero for the training data and an increasing error for the test set.\n",
    "* With low values for the Regulation parameter, the error gets higher for both the training and the test set. It occurrs due to the little weight of the errors in the classifier.\n",
    "* The optimal Regulation parameter can be found between $2^{-8}$ and $2^{-4}$"
   ]
  },
  {
   "cell_type": "markdown",
   "metadata": {},
   "source": [
    "## (d)\n",
    "Extract the weights of the classification model found in (b).\n"
   ]
  },
  {
   "cell_type": "code",
   "execution_count": 17,
   "metadata": {},
   "outputs": [],
   "source": [
    "def weights_vector_d(digits_idxs, optimal_C, digit_1, digit_2):\n",
    "    digits_filtered, digits_filtered_classes = filter_classes_c(digit_1, digit_2)\n",
    "    samples_size = int(len(digits_idxs) * training_fraction)\n",
    "    digits_training = digits_filtered[digits_idxs[0:samples_size]]\n",
    "    digits_training_classes = digits_filtered_classes[digits_idxs[0:samples_size]]\n",
    "    linear_svm = LinearSVC(C=optimal_C, max_iter=5000, tol=1e-5)\n",
    "    linear_svm.fit(digits_training, digits_training_classes)\n",
    "    weights_vector = linear_svm.coef_[0]\n",
    "    return weights_vector"
   ]
  },
  {
   "cell_type": "code",
   "execution_count": 18,
   "metadata": {},
   "outputs": [
    {
     "name": "stdout",
     "output_type": "stream",
     "text": [
      "Weights vector:\n",
      " [-0.01009457 -0.02929139 -0.10740779 -0.03311561  0.00745138 -0.0315155\n",
      " -0.10728754 -0.01451274 -0.00823378 -0.01930777 -0.04832672 -0.09314387\n",
      " -0.02332795  0.12790203 -0.02478905 -0.01672121 -0.00916417 -0.02938209\n",
      " -0.06695131 -0.04405019  0.21478909  0.26717074  0.07548673 -0.01009457\n",
      " -0.01009457 -0.09032365 -0.15711647  0.07918148  0.03087229  0.03462845\n",
      " -0.02337263 -0.01009457 -0.01009457 -0.0581822  -0.05779058  0.10888186\n",
      "  0.06021408 -0.03946957 -0.07192556 -0.01009457 -0.01009457  0.05095003\n",
      "  0.17560427  0.18972209  0.08026587  0.00299576  0.00325003 -0.01009457\n",
      " -0.01009457  0.03874555  0.02601125 -0.00080908 -0.07132235  0.03175074\n",
      "  0.04117565 -0.00962581 -0.01009457 -0.01944588 -0.12199443 -0.06477537\n",
      "  0.06995895  0.0908611  -0.00569975 -0.01009457]\n"
     ]
    }
   ],
   "source": [
    "complexities_C = np.logspace(-15.0, 10.0, num=26, base=2)\n",
    "optimal_idx, test_errors, training_errors, digits_idxs = optimal_C_c(complexities_C, 5, 8)\n",
    "optimal_C = complexities_C[optimal_idx]\n",
    "weights_vector = weights_vector_d(digits_idxs, optimal_C, 5, 8)\n",
    "print(f\"Weights vector:\\n {weights_vector}\")"
   ]
  },
  {
   "cell_type": "markdown",
   "metadata": {},
   "source": [
    "## (e) \n",
    "Plot the discriminant function weights as follows:\n",
    "\n",
    "__i.__ Arrange the weights in a matrix with the same shape as the input image.\n",
    "\n",
    "__ii.__ Use a function such as pcolor http://matplotlib.org/api/pyplot_api.html#matplotlib.pyplot.pcolor to produce a color plot of the matrix.\n",
    "\n",
    "__iii.__ Use a diverging colormap that emphasizes negative and positive values http://matplotlib.org/examples/color/colormaps_reference.html.\n",
    "\n",
    "__iv.__ Discuss the results.\n"
   ]
  },
  {
   "cell_type": "code",
   "execution_count": 19,
   "metadata": {},
   "outputs": [
    {
     "data": {
      "image/png": "[encoded data removed]",
      "text/plain": [
       "<Figure size 432x288 with 1 Axes>"
      ]
     },
     "execution_count": 19,
     "metadata": {
      "needs_background": "light"
     },
     "output_type": "execute_result"
    },
    {
     "data": {
      "image/png": "[encoded data removed]",
      "text/plain": [
       "<Figure size 432x288 with 1 Axes>"
      ]
     },
     "execution_count": 19,
     "metadata": {
      "needs_background": "light"
     },
     "output_type": "execute_result"
    }
   ],
   "source": [
    "complexities_C = np.logspace(-15.0, 10.0, num=26, base=2)\n",
    "optimal_idx, test_errors, training_errors, digits_idxs = optimal_C_c(complexities_C, 5, 8)\n",
    "optimal_C = complexities_C[optimal_idx]\n",
    "weights_vector = weights_vector_d(digits_idxs, optimal_C, 5, 8)\n",
    "#  POINT E.i\n",
    "weights_mesh = weights_vector.reshape((8, 8))\n",
    "#  POINT E.ii\n",
    "plt.pcolor(weights_mesh)\n",
    "plt.show()\n",
    "#  POINT E.iii\n",
    "plt.pcolor(weights_mesh, cmap='bwr')\n",
    "plt.title(\"Color map\")\n",
    "plt.show()"
   ]
  },
  {
   "cell_type": "markdown",
   "metadata": {},
   "source": [
    "### Discussion\n",
    "\n",
    "The most intense colors are located in the center of the image, it means that the weight vector have the higest values in this part and for a given \"digit image\", this region have a high influence over the results of the classifier."
   ]
  },
  {
   "cell_type": "markdown",
   "metadata": {},
   "source": [
    "## (f) \n",
    "Play with different pairs of digits and with different values for the C parameter (smaller values could produce smoother plots). Discuss the results."
   ]
  },
  {
   "cell_type": "code",
   "execution_count": 20,
   "metadata": {},
   "outputs": [],
   "source": [
    "def digits_classifier_f(complexities_C, digit_1, digit_2):\n",
    "    print(f\"Digits {digit_1} and {digit_2}\")\n",
    "    optimal_idx, test_errors, training_errors, digits_idxs = optimal_C_c(complexities_C, digit_1, digit_2)\n",
    "    optimal_C = complexities_C[optimal_idx]\n",
    "    print(f\"Optimal C: {optimal_C}\")\n",
    "    plot_regularization_parameters_c(complexities_C, optimal_C, test_errors, training_errors, title=f\"Cross Validation Plot. Digits {digit_1} and {digit_2}\")\n",
    "    weights_vector = weights_vector_d(digits_idxs, optimal_C, digit_1, digit_2)\n",
    "    print(f\"Weights vector:\\n {weights_vector}\")\n",
    "    weights_mesh = weights_vector.reshape((8, 8))\n",
    "    plt.pcolor(weights_mesh, cmap='bwr')\n",
    "    plt.title(f\"Color map. Digits {digit_1} and {digit_2}\")\n",
    "    plt.show()"
   ]
  },
  {
   "cell_type": "code",
   "execution_count": 21,
   "metadata": {},
   "outputs": [
    {
     "name": "stdout",
     "output_type": "stream",
     "text": [
      "Digits 0 and 6\n",
      "Optimal C: 0.00257716388822831\n"
     ]
    },
    {
     "data": {
      "image/png": "[encoded data removed]",
      "text/plain": [
       "<Figure size 432x288 with 1 Axes>"
      ]
     },
     "execution_count": 21,
     "metadata": {
      "needs_background": "light"
     },
     "output_type": "execute_result"
    },
    {
     "name": "stdout",
     "output_type": "stream",
     "text": [
      "Weights vector:\n",
      " [ 2.02457572e-03  8.82388647e-04 -2.24681612e-02 -1.58720835e-02\n",
      " -1.76024430e-02  1.62562614e-03  2.44671951e-03  2.02457572e-03\n",
      "  2.02457572e-03 -1.22483535e-02 -3.20220957e-02  2.90647300e-03\n",
      " -6.84678307e-02 -1.02203341e-01 -7.43661866e-03  2.02457572e-03\n",
      "  2.02457572e-03 -2.21976096e-02 -5.89151776e-03  1.78429592e-02\n",
      " -1.22346497e-02 -1.42220736e-01 -2.87355249e-02  2.02457572e-03\n",
      "  2.02457572e-03 -2.76016245e-03  7.19480119e-03  5.08816672e-02\n",
      "  6.52134872e-02 -8.04978133e-02 -6.54982394e-02  2.02457572e-03\n",
      "  2.02457572e-03  4.77357188e-03  2.89161901e-02  1.15650804e-01\n",
      "  1.21401388e-01  1.48458721e-03 -5.00047359e-02  2.02457572e-03\n",
      "  2.02457572e-03  2.84718351e-04  1.43263825e-02  7.08731580e-02\n",
      "  5.35291266e-02 -3.52039592e-03  9.42772747e-03  2.29975785e-03\n",
      "  2.02457572e-03 -1.10852947e-04 -1.25015759e-02  1.48344515e-02\n",
      " -5.05376972e-02 -7.05960144e-03  5.16387323e-02  3.52506849e-03\n",
      "  2.02457572e-03  1.84500189e-03 -1.49867975e-02 -2.10398096e-02\n",
      "  1.43653254e-02  6.37292407e-02  2.26019541e-02  2.54285429e-03]\n"
     ]
    },
    {
     "data": {
      "image/png": "[encoded data removed]",
      "text/plain": [
       "<Figure size 432x288 with 1 Axes>"
      ]
     },
     "execution_count": 21,
     "metadata": {
      "needs_background": "light"
     },
     "output_type": "execute_result"
    },
    {
     "name": "stdout",
     "output_type": "stream",
     "text": [
      "Digits 0 and 9\n",
      "Optimal C: 3.270793037525308e-05\n"
     ]
    },
    {
     "data": {
      "image/png": "[encoded data removed]",
      "text/plain": [
       "<Figure size 432x288 with 1 Axes>"
      ]
     },
     "execution_count": 21,
     "metadata": {
      "needs_background": "light"
     },
     "output_type": "execute_result"
    },
    {
     "name": "stdout",
     "output_type": "stream",
     "text": [
      "Weights vector:\n",
      " [-1.16227112e-04 -1.43115206e-05  1.44026107e-03 -1.84455334e-03\n",
      " -3.15796942e-04  3.90923632e-03  2.04904712e-03  1.00621169e-04\n",
      " -1.16227112e-04  1.63941550e-03 -2.31740655e-04 -4.22481345e-03\n",
      " -1.32202857e-03  1.78932089e-04  2.32087240e-03  1.01421801e-04\n",
      " -1.16227112e-04 -3.81472228e-04 -2.09545626e-03  9.25061912e-04\n",
      "  7.88664654e-03  2.46121735e-03 -3.55344993e-04 -3.71400348e-05\n",
      " -1.16227112e-04 -4.30473460e-03 -2.55758197e-03  1.29152471e-02\n",
      "  1.61837559e-02  6.41575949e-03 -3.42740456e-03 -1.16227112e-04\n",
      " -1.16227112e-04 -7.05848014e-03 -1.05260039e-02  5.48649800e-03\n",
      "  5.95457195e-03  4.09968195e-03 -3.06648197e-03 -1.16227112e-04\n",
      " -1.16227112e-04 -4.50433592e-03 -1.57592616e-02 -1.46388698e-03\n",
      "  1.10439411e-03 -1.52388763e-03 -3.04161861e-04 -7.74654633e-05\n",
      " -1.16227112e-04 -4.60146283e-04 -9.09351235e-03 -6.26682016e-03\n",
      " -5.41228733e-03 -3.58543742e-03  3.22875310e-03  7.96497453e-05\n",
      " -1.16227112e-04 -1.58339841e-05  1.46709384e-03 -2.13620095e-03\n",
      " -3.59171735e-04  3.93464642e-03  2.40970367e-03 -1.76177381e-05]\n"
     ]
    },
    {
     "data": {
      "image/png": "[encoded data removed]",
      "text/plain": [
       "<Figure size 432x288 with 1 Axes>"
      ]
     },
     "execution_count": 21,
     "metadata": {
      "needs_background": "light"
     },
     "output_type": "execute_result"
    },
    {
     "name": "stdout",
     "output_type": "stream",
     "text": [
      "Digits 3 and 8\n",
      "Optimal C: 0.005920767837931241\n"
     ]
    },
    {
     "data": {
      "image/png": "[encoded data removed]",
      "text/plain": [
       "<Figure size 432x288 with 1 Axes>"
      ]
     },
     "execution_count": 21,
     "metadata": {
      "needs_background": "light"
     },
     "output_type": "execute_result"
    },
    {
     "name": "stdout",
     "output_type": "stream",
     "text": [
      "Weights vector:\n",
      " [-1.76443683e-04 -1.27428771e-02 -2.07250832e-02 -5.33279739e-02\n",
      " -7.29378185e-02 -2.96957024e-02 -3.44021729e-02 -1.99041533e-03\n",
      "  2.51670278e-03 -3.58219048e-02 -2.41105746e-02 -1.62998365e-02\n",
      " -4.62589136e-02  3.83588164e-03  5.25215463e-03 -2.15634495e-03\n",
      "  5.62047429e-04  2.40007534e-02  1.51262028e-01  9.03720008e-02\n",
      " -9.13482342e-02  6.42762659e-02  2.75929309e-02 -1.76443683e-04\n",
      " -1.76443683e-04  3.62622854e-03  1.58427347e-01  1.28256522e-01\n",
      " -1.01830084e-02  6.23359285e-02  2.17006819e-02 -1.76443683e-04\n",
      " -1.76443683e-04  7.81942549e-03  1.02068679e-01  1.05597904e-01\n",
      "  3.77464614e-02 -4.28932719e-02 -4.25127953e-02 -1.76443683e-04\n",
      " -1.76443683e-04  1.71510133e-02  2.22641486e-01  1.92060726e-01\n",
      "  1.92678267e-02 -3.23895901e-02 -6.99509979e-02 -1.76443683e-04\n",
      " -1.76443683e-04 -6.21596215e-03  4.38037067e-02  2.82583549e-02\n",
      " -7.25116441e-02 -4.28616563e-02 -7.64871113e-02 -2.22366860e-03\n",
      " -1.76443683e-04 -1.15858382e-02 -7.18464725e-02 -4.45756451e-02\n",
      "  1.48562242e-02 -1.20798233e-03 -3.07224528e-02 -1.76286719e-03]\n"
     ]
    },
    {
     "data": {
      "image/png": "[encoded data removed]",
      "text/plain": [
       "<Figure size 432x288 with 1 Axes>"
      ]
     },
     "execution_count": 21,
     "metadata": {
      "needs_background": "light"
     },
     "output_type": "execute_result"
    },
    {
     "name": "stdout",
     "output_type": "stream",
     "text": [
      "Digits 4 and 9\n",
      "Optimal C: 0.016746460352129577\n"
     ]
    },
    {
     "data": {
      "image/png": "[encoded data removed]",
      "text/plain": [
       "<Figure size 432x288 with 1 Axes>"
      ]
     },
     "execution_count": 21,
     "metadata": {
      "needs_background": "light"
     },
     "output_type": "execute_result"
    },
    {
     "name": "stdout",
     "output_type": "stream",
     "text": [
      "Weights vector:\n",
      " [ 1.14565051e-03  1.51842730e-03  4.65454505e-02  4.76608968e-02\n",
      "  6.35365270e-02  2.04729637e-01  1.21070282e-01 -8.38496383e-03\n",
      "  1.14565051e-03  5.30099878e-02  9.62129917e-02  2.05998010e-02\n",
      "  9.15266645e-02  1.23082074e-01  5.74838884e-02 -5.32872076e-02\n",
      "  1.14565051e-03  5.58458398e-02  2.92634461e-02 -6.35422284e-02\n",
      " -4.17623191e-02  5.62860302e-02 -1.14887081e-02 -4.16282423e-02\n",
      "  8.19773713e-04 -4.62425522e-02 -8.56216400e-03  3.70369649e-02\n",
      "  3.16425951e-02  1.91559950e-02 -1.19633112e-01 -2.56428067e-03\n",
      "  1.14565051e-03 -1.31664907e-01 -1.29840013e-01 -5.78269545e-02\n",
      " -8.51772686e-02 -5.13988847e-03 -5.94446690e-02  1.14565051e-03\n",
      "  1.14565051e-03 -3.45919972e-02 -7.96457049e-02 -1.82385272e-01\n",
      " -1.34277497e-01  2.31774952e-02  4.01702550e-02  1.14565051e-03\n",
      "  1.14565051e-03 -7.23749042e-05 -4.39261672e-02 -5.99801437e-02\n",
      " -4.08765617e-02  5.13082719e-02  5.95021848e-02  3.98840012e-03\n",
      "  1.14565051e-03  1.49215724e-03  2.84487659e-02  1.98345638e-02\n",
      "  2.32256469e-02  5.02188603e-02  2.92441082e-02  1.82739548e-03]\n"
     ]
    },
    {
     "data": {
      "image/png": "[encoded data removed]",
      "text/plain": [
       "<Figure size 432x288 with 1 Axes>"
      ]
     },
     "execution_count": 21,
     "metadata": {
      "needs_background": "light"
     },
     "output_type": "execute_result"
    }
   ],
   "source": [
    "complexities_C = np.logspace(-20.0, 10.0, num=101, base=2)\n",
    "digits_classifier_f(complexities_C, 0, 6)\n",
    "digits_classifier_f(complexities_C, 0, 9)\n",
    "digits_classifier_f(complexities_C, 3, 8)\n",
    "digits_classifier_f(complexities_C, 4, 9)"
   ]
  },
  {
   "cell_type": "markdown",
   "metadata": {},
   "source": [
    "### Discussion\n",
    "\n",
    "In the case of digits 0 and 9, this pair holds the lowest optimal C (In a regular run: $C=2^{-15}$). One reason can be due to both digits are the most visually different of the four pairs evaluated, then a big error is not necessary for a good classification. In addition, the colormap for this pair have the less intense colors.\n",
    "\n",
    "In the case of digits 4 and 9, this pair have the highest optimal C (In a regular run: $C=2^{-5}$). It means that a big weight for errors is required for a good classification. In addition, the training and the test data reach the lower error with the same $C$, which is a good sign.\n",
    "\n",
    "In the case of digits 3 and 8, this pair presents a higer sensibilty to C compared with the others. That is reflected in the error plot for this pair, which contains more peaks compared with the others. In addition, the colormap contains more regions with intense colors, hence there are more decisive regions at the moment of classifying a digit between 3 and 8."
   ]
  },
  {
   "cell_type": "markdown",
   "metadata": {},
   "source": [
    "# Point 3.\n",
    "### Train an SVM for detecting whether a word belongs to French or Spanish.\n",
    "\n",
    "## (a)\n",
    "Build training and test data sets. You can use the most frequent words in http://en.wiktionary.org/wiki/Wiktionary:Frequency_lists. Consider words at least 4 characters long and ignore accents.\n",
    "\n",
    "### Solution\n",
    "Using the datasets labeled as:\n",
    "* [The 500 most frequently used French words](http://frequencylists.blogspot.com.br/2016/05/the-500-most-frequently-used-french.html)\n",
    "* [The 500 most frequently used Spanish words](http://frequencylists.blogspot.com.br/2016/05/the-500-most-frequently-used-spanish.html)\n",
    "\n",
    "The preprocessing consisted in the replacement of the vowels with accent by the clear vowels and the removal of all the words with less than four letters.\n",
    "The set was randomly rearranged, the 70% of the words became in the training set and the remaining  30% in the testing set."
   ]
  },
  {
   "cell_type": "code",
   "execution_count": 3,
   "metadata": {},
   "outputs": [
    {
     "name": "stdout",
     "output_type": "stream",
     "text": [
      "Entire dataset size: 791\n",
      "Training set size: 553\n",
      "Test set size: 238\n"
     ]
    }
   ],
   "source": [
    "spanish_words_file = \"./spanish_words_500.data\"\n",
    "french_words_file = \"./french_words_500.data\"\n",
    "misclassified_words = {}\n",
    "\n",
    "with open(spanish_words_file, 'r') as words_file:\n",
    "    spanish_words = [line.replace('\\n', '') for line in words_file.readlines()]\n",
    "with open(french_words_file, 'r') as words_file:\n",
    "    french_words = [line.replace('\\n', '') for line in words_file.readlines()]\n",
    "\n",
    "# spanish_words = spanish_words[0:100]\n",
    "# french_words = french_words[0:100]\n",
    "\n",
    "words_data = np.append(spanish_words, french_words)\n",
    "words_classes = np.append(np.full(len(spanish_words), 'S'), np.full(len(french_words), 'F'))\n",
    "\n",
    "training_fraction = 0.7\n",
    "words_idxs = [i for i in range(len(words_data))]\n",
    "random.shuffle(words_idxs)\n",
    "training_size = int(len(words_idxs) * training_fraction)\n",
    "words_training = words_data[words_idxs[0:training_size]]\n",
    "words_training_classes = words_classes[words_idxs[0:training_size]]\n",
    "words_test = words_data[words_idxs[training_size - 1:len(words_data)]]\n",
    "words_test_classes = words_classes[words_idxs[training_size - 1:len(words_data)]]\n",
    "\n",
    "print(f\"Entire dataset size: {len(words_data)}\")\n",
    "print(f\"Training set size: {training_size}\")\n",
    "print(f\"Test set size: {len(words_data) - training_size}\")"
   ]
  },
  {
   "cell_type": "markdown",
   "metadata": {},
   "source": [
    "## (b) \n",
    "Implement different string kernels:\n",
    "\n",
    "__i.__ Histogram cosine kernel: calculate a bag of n-grams representation (use the CountVectorizer from scikit-learn) and apply the cosine_similarity from scikit-learn.\n",
    "    \n",
    "__ii.__ Histogram intersection: calculate a bag of n-grams representation, normalize it (the sum of the bins must be equal to 1) and calculate the sum of the minimum for each bin of the histogram.\n",
    "    \n",
    "__iii.__ $X^2$ kernel: calculate a bag of n-grams representation and apply the chi2_kernel from scikit-learn.\n",
    "    \n",
    " __iv.__ SSK kernel: use the code available at this repository https://github.com/helq/python-ssk.\n",
    " "
   ]
  },
  {
   "cell_type": "code",
   "execution_count": 16,
   "metadata": {},
   "outputs": [
    {
     "name": "stdout",
     "output_type": "stream",
     "text": [
      "n-grams features:\n",
      "Size: 26\n",
      "Features:\n",
      "['a', 'b', 'c', 'd', 'e', 'f', 'g', 'h', 'i', 'j', 'l', 'm', 'n', 'o', 'p', 'q', 'r', 's', 't', 'u', 'v', 'x', 'y', 'z', 'ç', 'ñ']\n"
     ]
    }
   ],
   "source": [
    "import pyximport; pyximport.install()\n",
    "from string_kernel import ssk, string_kernel\n",
    "\n",
    "words_vectorizer = CountVectorizer(analyzer=\"char\", ngram_range=(1, 1))\n",
    "# words_data = [re.sub(r'(.)', r'\\1 ', word) for word in words_data]\n",
    "words_term_document = words_vectorizer.fit_transform(words_training)\n",
    "feature_names = words_vectorizer.get_feature_names()\n",
    "print(\"n-grams features:\")\n",
    "print(f\"Size: {len(feature_names)}\")\n",
    "print(f\"Features:\\n{feature_names}\")\n",
    "\n",
    "def cosine_kernel(word_one, word_two, vectorizer=words_vectorizer):\n",
    "    word_one_terms, word_two_terms = tuple(vectorizer.transform([word_one, word_two]).toarray())\n",
    "    return cosine_similarity([word_one_terms], [word_two_terms])[0][0]\n",
    "\n",
    "\n",
    "def intersection_kernel(word_one, word_two, vectorizer=words_vectorizer):\n",
    "    word_one_terms, word_two_terms = tuple(vectorizer.transform([word_one, word_two]).toarray())\n",
    "    word_one_terms, word_two_terms = (word_one_terms / word_one_terms.sum(), word_two_terms / word_two_terms.sum())\n",
    "    intersection = [letter_term if letter_term < word_two_terms[idx] else word_two_terms[idx] for idx, letter_term in enumerate(word_one_terms)]\n",
    "    return np.sum(intersection)\n",
    "\n",
    "\n",
    "def chi_square_kernel(word_one, word_two, vectorizer=words_vectorizer):\n",
    "    word_one_terms, word_two_terms = tuple(vectorizer.transform([word_one, word_two]).toarray())\n",
    "    return chi2_kernel([word_one_terms], [word_two_terms])[0][0]\n",
    "\n",
    "\n",
    "def ssk_kernel(word_one, word_two, vectorizer=words_vectorizer):\n",
    "    max_substring = vectorizer.ngram_range[1]\n",
    "    return ssk(word_one, word_two, max_substring, .5, accum=True)"
   ]
  },
  {
   "cell_type": "code",
   "execution_count": 17,
   "metadata": {},
   "outputs": [
    {
     "name": "stdout",
     "output_type": "stream",
     "text": [
      "\n",
      "Comparing kernel result for words [gato, perro] (1), [gato, gatto] (2), and [gato, gata](3)\n",
      "\n",
      "\n",
      "cosine_kernel\n",
      "1. 0.1889822365046136\n",
      "2. 0.9449111825230679\n",
      "3. 0.8164965809277261\n",
      "\n",
      "intersection_kernel\n",
      "1. 0.2\n",
      "2. 0.8500000000000001\n",
      "3. 0.75\n",
      "\n",
      "chi_square_kernel\n",
      "1. 0.0009118819655545162\n",
      "2. 0.7165313105737893\n",
      "3. 0.26359713811572677\n",
      "\n",
      "ssk_kernel\n",
      "1. 0.25\n",
      "2. 1.25\n",
      "3. 1.0\n"
     ]
    }
   ],
   "source": [
    "print(\"\\nComparing kernel result for words [gato, perro] (1), [gato, gatto] (2), and [gato, gata](3)\\n\")\n",
    "print(\"\\ncosine_kernel\")\n",
    "print(f'1. {cosine_kernel(\"gato\", \"perro\")}')\n",
    "print(f'2. {cosine_kernel(\"gato\", \"gatto\")}')\n",
    "print(f'3. {cosine_kernel(\"gato\", \"gata\")}')\n",
    "\n",
    "# point b.ii\n",
    "print(\"\\nintersection_kernel\")\n",
    "print(f'1. {intersection_kernel(\"gato\", \"perro\")}')\n",
    "print(f'2. {intersection_kernel(\"gato\", \"gatto\")}')\n",
    "print(f'3. {intersection_kernel(\"gato\", \"gata\")}')\n",
    "\n",
    "# point b.iii\n",
    "print(\"\\nchi_square_kernel\")\n",
    "print(f'1. {chi_square_kernel(\"gato\", \"perro\")}')\n",
    "print(f'2. {chi_square_kernel(\"gato\", \"gatto\")}')\n",
    "print(f'3. {chi_square_kernel(\"gato\", \"gata\")}')\n",
    "\n",
    "# point b.iv\n",
    "print(\"\\nssk_kernel\")\n",
    "print(f'1. {ssk_kernel(\"gato\", \"perro\")}')\n",
    "print(f'2. {ssk_kernel(\"gato\", \"gatto\")}')\n",
    "print(f'3. {ssk_kernel(\"gato\", \"gata\")}')\n"
   ]
  },
  {
   "cell_type": "markdown",
   "metadata": {},
   "source": [
    "## (c)\n",
    "Use scikit-learn to train different SVMs using precomputed kernels. Use cross validation to find appropriate regularization parameters. Try different configurations of the\n",
    "parameters (in particular different n values for the n-grams).\n",
    "#### note\n",
    "In the case of the kernel SSK, the parameter decay parameter was set in $\\lambda=0.5$ and the max_substring parameter was set the same as the max number in the $n-grams_{range}$\n"
   ]
  },
  {
   "cell_type": "code",
   "execution_count": 19,
   "metadata": {},
   "outputs": [],
   "source": [
    "misclassified_words = {}\n",
    "def make_training_kernel_matrix(kernel, training_data, vectorizer=words_vectorizer):\n",
    "    kernel_matrix = np.zeros((len(training_data), len(training_data)))\n",
    "    for idx, data_col in enumerate(training_data):\n",
    "        kernel_matrix[idx][idx] = kernel(data_col, data_col, vectorizer=vectorizer)\n",
    "        for jdx, data_row in enumerate(training_data):\n",
    "            if jdx > idx:\n",
    "                kernel_val = kernel(data_col, data_row, vectorizer=vectorizer)\n",
    "                kernel_matrix[idx][jdx] = kernel_val\n",
    "                kernel_matrix[jdx][idx] = kernel_val\n",
    "    return kernel_matrix\n",
    "\n",
    "\n",
    "def make_kernel_matrix(kernel, test_data, training_data, vectorizer=words_vectorizer):\n",
    "    kernel_matrix = np.zeros((len(test_data), len(training_data)))\n",
    "    for idx, data_col in enumerate(test_data):\n",
    "        for jdx, data_row in enumerate(training_data):\n",
    "            kernel_matrix[idx][jdx] = kernel(data_col, data_row, vectorizer=vectorizer)\n",
    "    return kernel_matrix\n",
    "\n",
    "\n",
    "def cross_validation_scores(ngram_maxs, kernels, complexities):\n",
    "    scores = np.zeros((len(ngram_maxs), len(kernels), len(complexities), 2))\n",
    "    for idx, ngram_max in enumerate(ngram_maxs):\n",
    "        vectorizer = CountVectorizer(analyzer=\"char\", ngram_range=(1, ngram_max))\n",
    "        vectorizer.fit(words_training)\n",
    "        features = vectorizer.get_feature_names()\n",
    "        print(f\"Number of features: {len(features)}\")\n",
    "        print(f\"Features:\\n{features}\")\n",
    "        scores[idx] = [cross_validation_complexities(vectorizer, kernel, complexities) for kernel in kernels]\n",
    "    return scores\n",
    "\n",
    "\n",
    "def cross_validation_complexities(vectorizer, kernel, complexities):\n",
    "    kernel_training = make_training_kernel_matrix(kernel, words_training, vectorizer)\n",
    "    kernel_test = make_kernel_matrix(kernel, words_test, words_training, vectorizer)\n",
    "    scores = np.zeros((len(complexities), 2))\n",
    "    for idx, complexity in enumerate(complexities):\n",
    "        svm = SVC(kernel='precomputed', C=complexity)\n",
    "        svm.fit(kernel_training, words_training_classes)\n",
    "        prediction_training = svm.predict(kernel_training)\n",
    "        prediction_test = svm.predict(kernel_test)\n",
    "        # score_training = svm.score(kernel_training, words_training_classes)\n",
    "        # score_test = svm.score(kernel_test, words_test_classes)\n",
    "\n",
    "        score_test, score_training = compute_scores(prediction_test, prediction_training)\n",
    "        scores[idx] = [score_training, score_test]\n",
    "    print(f\"scores: {scores}\")\n",
    "    return scores\n",
    "\n",
    "\n",
    "def compute_scores(prediction_test, prediction_training):\n",
    "    differences_training = prediction_training == words_training_classes\n",
    "    differences_test = prediction_test == words_test_classes\n",
    "    score_training = differences_training.sum() / len(differences_training)\n",
    "    score_test = differences_test.sum() / len(differences_test)\n",
    "    misclassified = np.append(words_training[differences_training], words_test[differences_test])\n",
    "    for word in misclassified:\n",
    "        misclassified_words[word] = 1 if word not in misclassified_words else misclassified_words[word] + 1\n",
    "    return score_test, score_training"
   ]
  },
  {
   "cell_type": "code",
   "execution_count": 21,
   "metadata": {},
   "outputs": [
    {
     "name": "stdout",
     "output_type": "stream",
     "text": [
      "Number of features: 26\n",
      "Features:\n",
      "['a', 'b', 'c', 'd', 'e', 'f', 'g', 'h', 'i', 'j', 'l', 'm', 'n', 'o', 'p', 'q', 'r', 's', 't', 'u', 'v', 'x', 'y', 'z', 'ç', 'ñ']\n",
      "scores: [[0.52260398 0.44769874]\n",
      " [0.52260398 0.44769874]\n",
      " [0.55515371 0.49372385]\n",
      " [0.69981917 0.65690377]\n",
      " [0.71790235 0.66945607]]\n",
      "scores: [[0.52260398 0.44769874]\n",
      " [0.52260398 0.44769874]\n",
      " [0.5244123  0.44769874]\n",
      " [0.73960217 0.70292887]\n",
      " [0.7920434  0.69874477]]\n",
      "scores: [[0.52260398 0.44769874]\n",
      " [0.52260398 0.44769874]\n",
      " [0.52260398 0.44769874]\n",
      " [0.98553345 0.67782427]\n",
      " [0.98553345 0.66945607]]\n",
      "scores: [[0.52260398 0.44769874]\n",
      " [0.52260398 0.44769874]\n",
      " [0.66726944 0.59414226]\n",
      " [0.69801085 0.65690377]\n",
      " [0.69439421 0.65271967]]\n",
      "Number of features: 266\n",
      "Features:\n",
      "['a', 'ab', 'ac', 'ad', 'af', 'ag', 'ai', 'aj', 'al', 'am', 'an', 'ap', 'aq', 'ar', 'as', 'at', 'au', 'av', 'ay', 'az', 'añ', 'b', 'ba', 'be', 'bi', 'bl', 'bo', 'br', 'bu', 'c', 'ca', 'cc', 'ce', 'ch', 'ci', 'cl', 'co', 'cr', 'cu', 'd', 'da', 'de', 'di', 'do', 'dr', 'ds', 'du', 'e', 'ea', 'eb', 'ec', 'ed', 'ee', 'ef', 'eg', 'ei', 'ej', 'el', 'em', 'en', 'eo', 'ep', 'er', 'es', 'et', 'eu', 'ev', 'ez', 'eñ', 'f', 'fa', 'fe', 'ff', 'fi', 'fo', 'fr', 'fu', 'g', 'ga', 'ge', 'gn', 'go', 'gr', 'gt', 'gu', 'h', 'ha', 'he', 'hi', 'ho', 'hu', 'i', 'ia', 'ib', 'ic', 'id', 'ie', 'if', 'ig', 'ij', 'il', 'im', 'in', 'io', 'ip', 'iq', 'ir', 'is', 'it', 'iu', 'iv', 'iz', 'iñ', 'j', 'ja', 'je', 'ji', 'jo', 'ju', 'l', 'la', 'ld', 'le', 'lg', 'li', 'll', 'lm', 'lo', 'lp', 'lq', 'lu', 'm', 'ma', 'mb', 'me', 'mi', 'mm', 'mo', 'mp', 'mu', 'n', 'na', 'nc', 'nd', 'ne', 'nf', 'ng', 'ni', 'nj', 'nm', 'nn', 'no', 'ns', 'nt', 'nu', 'nv', 'o', 'ob', 'oc', 'od', 'oi', 'oj', 'ol', 'om', 'on', 'op', 'or', 'os', 'ot', 'ou', 'ov', 'oy', 'p', 'pa', 'pe', 'ph', 'pi', 'pl', 'po', 'pp', 'pr', 'ps', 'pu', 'q', 'qu', 'r', 'ra', 'rc', 'rd', 're', 'rf', 'rg', 'ri', 'rl', 'rm', 'rn', 'ro', 'rp', 'rq', 'rr', 'rs', 'rt', 'ru', 'rç', 's', 'sa', 'sc', 'sd', 'se', 'si', 'sm', 'so', 'sp', 'sq', 'ss', 'st', 'su', 't', 'ta', 'te', 'ti', 'to', 'tr', 'ts', 'tt', 'tu', 'u', 'ua', 'ub', 'uc', 'ud', 'ue', 'uf', 'ug', 'ui', 'uj', 'ul', 'um', 'un', 'uo', 'up', 'ur', 'us', 'ut', 'uv', 'ux', 'v', 'va', 've', 'vi', 'vo', 'vr', 'x', 'y', 'ya', 'ye', 'ys', 'yu', 'z', 'za', 'zo', 'ç', 'ço', 'ñ', 'ña', 'ño']\n",
      "scores: [[0.52260398 0.44769874]\n",
      " [0.52260398 0.44769874]\n",
      " [0.52260398 0.44769874]\n",
      " [0.90777577 0.81589958]\n",
      " [0.97287523 0.79916318]]\n",
      "scores: [[0.52260398 0.44769874]\n",
      " [0.52260398 0.44769874]\n",
      " [0.52260398 0.44769874]\n",
      " [0.93490054 0.80334728]\n",
      " [0.99276673 0.78661088]]\n",
      "scores: [[0.52260398 0.44769874]\n",
      " [0.52260398 0.44769874]\n",
      " [0.52260398 0.44769874]\n",
      " [0.99276673 0.56903766]\n",
      " [0.99276673 0.56903766]]\n",
      "scores: [[0.52260398 0.44769874]\n",
      " [0.52260398 0.44769874]\n",
      " [0.68896926 0.61924686]\n",
      " [0.91320072 0.83682008]\n",
      " [0.98372514 0.82426778]]\n",
      "Number of features: 1120\n",
      "Features:\n",
      "['a', 'ab', 'aba', 'abe', 'abi', 'abl', 'ac', 'acc', 'ace', 'aci', 'acu', 'ad', 'ade', 'ado', 'adr', 'af', 'aff', 'ag', 'aga', 'age', 'ago', 'agu', 'ai', 'aid', 'aie', 'ail', 'aim', 'ain', 'air', 'ais', 'ait', 'aj', 'aja', 'ajo', 'al', 'ald', 'ale', 'alg', 'ali', 'all', 'alm', 'alo', 'alu', 'am', 'ama', 'amb', 'ame', 'ami', 'amo', 'an', 'ana', 'anc', 'and', 'ang', 'ano', 'ans', 'ant', 'ap', 'apa', 'api', 'app', 'apr', 'aq', 'aqu', 'ar', 'arc', 'ard', 'are', 'arf', 'arg', 'ari', 'arl', 'aro', 'arr', 'art', 'arç', 'as', 'asa', 'asi', 'ass', 'ast', 'at', 'ati', 'atr', 'att', 'au', 'auc', 'aur', 'aus', 'aut', 'auv', 'av', 'ava', 'ave', 'avi', 'avo', 'ay', 'aya', 'ays', 'ayu', 'az', 'azo', 'añ', 'aña', 'año', 'b', 'ba', 'baj', 'bas', 'be', 'bea', 'beb', 'bem', 'ben', 'ber', 'bes', 'bez', 'bi', 'bia', 'bie', 'bl', 'bla', 'ble', 'bo', 'bon', 'br', 'bre', 'bu', 'bue', 'bur', 'c', 'ca', 'cab', 'cal', 'cam', 'cap', 'car', 'cas', 'cc', 'cco', 'ce', 'cec', 'cel', 'cen', 'cer', 'ces', 'cet', 'ceu', 'ch', 'cha', 'che', 'chi', 'cho', 'ci', 'cia', 'cie', 'cil', 'ciu', 'cl', 'cla', 'clu', 'co', 'coc', 'col', 'com', 'con', 'cor', 'cos', 'cou', 'cr', 'cre', 'cro', 'cu', 'cua', 'cuc', 'cue', 'cul', 'cun', 'd', 'da', 'dad', 'dam', 'dan', 'das', 'dav', 'de', 'deb', 'ded', 'dee', 'dej', 'del', 'dem', 'der', 'des', 'dev', 'dez', 'di', 'dia', 'dic', 'die', 'dif', 'dig', 'dij', 'dim', 'dio', 'dir', 'dit', 'do', 'doi', 'dol', 'don', 'dor', 'dos', 'dr', 'dra', 'dre', 'dro', 'ds', 'du', 'e', 'ea', 'eal', 'eau', 'eb', 'ebe', 'ebo', 'ec', 'ece', 'ech', 'eci', 'eco', 'ed', 'eda', 'ede', 'edi', 'ee', 'ees', 'ef', 'efe', 'eg', 'ega', 'ego', 'egu', 'ei', 'eig', 'eil', 'ein', 'ej', 'eja', 'ejo', 'el', 'ela', 'ele', 'eli', 'ell', 'elq', 'elu', 'em', 'ema', 'emb', 'eme', 'emi', 'emm', 'emo', 'emp', 'en', 'ena', 'enc', 'end', 'ene', 'enf', 'eng', 'eni', 'ens', 'ent', 'enu', 'env', 'eo', 'ep', 'eph', 'er', 'era', 'erc', 'erd', 'ere', 'eri', 'erl', 'erm', 'ern', 'ero', 'erp', 'err', 'ers', 'ert', 'es', 'esc', 'esd', 'ese', 'esi', 'eso', 'esp', 'esq', 'ess', 'est', 'et', 'eta', 'ete', 'eti', 'eto', 'etr', 'ett', 'eu', 'eul', 'eun', 'eur', 'eut', 'eux', 'ev', 'eva', 'eve', 'evi', 'evr', 'ez', 'eza', 'eñ', 'eño', 'f', 'fa', 'fai', 'fam', 'fan', 'fau', 'fav', 'fe', 'fel', 'fem', 'fer', 'ff', 'ffa', 'ffi', 'fi', 'fic', 'fie', 'fil', 'fin', 'fit', 'fo', 'foi', 'fr', 'fre', 'fu', 'fue', 'g', 'ga', 'gar', 'ge', 'gen', 'gn', 'gne', 'gni', 'go', 'gr', 'gra', 'gre', 'gro', 'gt', 'gte', 'gu', 'gua', 'gue', 'gun', 'gur', 'h', 'ha', 'hab', 'hac', 'hag', 'ham', 'han', 'har', 'has', 'hay', 'he', 'hec', 'hef', 'hem', 'her', 'hes', 'heu', 'hi', 'hic', 'hie', 'hij', 'his', 'hiz', 'ho', 'hol', 'hom', 'hon', 'hor', 'hos', 'hu', 'hub', 'i', 'ia', 'iad', 'iag', 'ial', 'ias', 'ib', 'ibl', 'ic', 'ica', 'ice', 'ich', 'ici', 'ico', 'id', 'ida', 'ide', 'ido', 'ie', 'iej', 'iem', 'ien', 'ier', 'ies', 'ieu', 'if', 'ifi', 'ig', 'ign', 'igo', 'igu', 'ij', 'ije', 'iji', 'ijo', 'il', 'ili', 'ill', 'ilm', 'im', 'ime', 'in', 'inc', 'ine', 'ini', 'ino', 'ins', 'int', 'inu', 'io', 'ion', 'ios', 'ip', 'ipo', 'iq', 'iqu', 'ir', 'ira', 'ire', 'is', 'isi', 'ism', 'iso', 'iss', 'ist', 'it', 'ita', 'ite', 'ito', 'itu', 'iu', 'iud', 'iv', 'ive', 'ivi', 'ivr', 'iz', 'iza', 'izo', 'iñ', 'iño', 'j', 'ja', 'jam', 'jar', 'je', 'jef', 'jer', 'jeu', 'ji', 'jis', 'jo', 'jor', 'jos', 'jou', 'jov', 'ju', 'jun', 'jus', 'l', 'la', 'lac', 'lad', 'lai', 'lam', 'lan', 'lar', 'ld', 'ldi', 'le', 'lee', 'leg', 'lei', 'lej', 'lem', 'lep', 'ler', 'les', 'leu', 'lez', 'lg', 'lgo', 'lgu', 'li', 'lia', 'lic', 'lid', 'lis', 'liz', 'll', 'lla', 'lle', 'lli', 'llo', 'lm', 'lme', 'lo', 'loi', 'lon', 'lor', 'los', 'lp', 'lpa', 'lq', 'lqu', 'lu', 'lue', 'lug', 'lui', 'lus', 'lut', 'm', 'ma', 'mad', 'mai', 'mal', 'mam', 'man', 'mar', 'mas', 'mat', 'mañ', 'mb', 'mbe', 'mbi', 'mbl', 'mbr', 'me', 'med', 'mei', 'mej', 'mem', 'men', 'mer', 'mes', 'met', 'mi', 'mid', 'mie', 'mig', 'mil', 'min', 'mir', 'mis', 'mm', 'mme', 'mo', 'moi', 'mom', 'mon', 'mor', 'mos', 'mou', 'mp', 'mpo', 'mpr', 'mps', 'mu', 'muc', 'mue', 'muj', 'mun', 'mus', 'n', 'na', 'nai', 'nan', 'nas', 'nc', 'nce', 'ncl', 'nco', 'nd', 'nde', 'ndo', 'ndr', 'nds', 'ndu', 'ne', 'nec', 'nee', 'nem', 'ner', 'nes', 'neu', 'nez', 'nf', 'nfa', 'ng', 'nga', 'ngo', 'ngr', 'ngt', 'ni', 'nia', 'nic', 'nid', 'nie', 'nif', 'nir', 'niñ', 'nj', 'njo', 'nm', 'nmi', 'nn', 'nna', 'nne', 'no', 'noc', 'nos', 'not', 'nou', 'ns', 'nsa', 'nse', 'nsi', 'nso', 'nst', 'nt', 'nta', 'nte', 'nti', 'nto', 'ntr', 'nts', 'nu', 'nue', 'nui', 'num', 'nut', 'nv', 'nvi', 'o', 'ob', 'obl', 'obr', 'oc', 'och', 'oco', 'od', 'oda', 'ode', 'odi', 'odo', 'oi', 'oin', 'oir', 'ois', 'oit', 'oj', 'ojo', 'ol', 'ola', 'ole', 'oli', 'olo', 'om', 'oma', 'omb', 'ome', 'omi', 'omm', 'omo', 'omp', 'on', 'ona', 'onc', 'ond', 'one', 'ong', 'onj', 'onm', 'onn', 'ons', 'ont', 'op', 'or', 'ora', 'ord', 'ore', 'ori', 'orm', 'orp', 'orq', 'ors', 'ort', 'os', 'osa', 'ose', 'osi', 'oso', 'ot', 'otr', 'ou', 'oud', 'oue', 'ouj', 'oul', 'oup', 'our', 'ous', 'out', 'ouv', 'ov', 'ove', 'oy', 'oya', 'p', 'pa', 'pad', 'pap', 'par', 'pas', 'pau', 'pay', 'pe', 'pei', 'pel', 'pen', 'per', 'pet', 'peu', 'ph', 'pho', 'pi', 'pid', 'pit', 'pl', 'pla', 'ple', 'plu', 'po', 'poc', 'pod', 'pol', 'por', 'pos', 'pou', 'pp', 'ppe', 'pr', 'pre', 'pri', 'pro', 'ps', 'pu', 'pue', 'pui', 'put', 'q', 'qu', 'qua', 'que', 'qui', 'quo', 'r', 'ra', 'rab', 'rac', 'rai', 'ran', 'rap', 'rar', 'ras', 'rav', 'raz', 'rc', 'rce', 'rch', 'rd', 'rda', 'rde', 'rdo', 'rdu', 're', 'rea', 'ree', 'reg', 'rem', 'ren', 'reo', 'rer', 'res', 'ret', 'reu', 'rev', 'rf', 'rfa', 'rfo', 'rg', 'rge', 'ri', 'ria', 'rid', 'rie', 'rim', 'rir', 'ris', 'riv', 'riñ', 'rl', 'rle', 'rlo', 'rm', 'rma', 'rme', 'rmi', 'rn', 'rne', 'rni', 'ro', 'rob', 'roi', 'ron', 'rop', 'ros', 'rou', 'roy', 'rp', 'rpo', 'rps', 'rq', 'rqu', 'rr', 'rra', 'rre', 'rri', 'rs', 'rso', 'rt', 'rte', 'rti', 'ru', 'ruc', 'rç', 'rço', 's', 'sa', 'sab', 'sai', 'sal', 'san', 'sar', 'sas', 'sav', 'sc', 'scu', 'sd', 'sde', 'se', 'seg', 'sei', 'sem', 'sen', 'ser', 'ses', 'seu', 'sez', 'señ', 'si', 'sia', 'sib', 'sid', 'sie', 'sig', 'siq', 'sir', 'sit', 'sm', 'sma', 'smo', 'so', 'sob', 'soi', 'sol', 'som', 'son', 'sor', 'sos', 'sot', 'sou', 'sp', 'spe', 'sq', 'squ', 'ss', 'ssa', 'sse', 'ssi', 'st', 'sta', 'ste', 'sto', 'str', 'su', 'sue', 'suf', 'sui', 'sup', 't', 'ta', 'tab', 'tad', 'tai', 'tam', 'tan', 'tar', 'tas', 'te', 'ted', 'tel', 'tem', 'ten', 'ter', 'tes', 'tet', 'tez', 'ti', 'tie', 'tig', 'tin', 'tio', 'tip', 'tir', 'tit', 'to', 'tod', 'toi', 'tom', 'tor', 'tos', 'tot', 'tou', 'toy', 'tr', 'tra', 'tre', 'tro', 'tru', 'ts', 'tt', 'tte', 'ttr', 'tu', 'tue', 'tur', 'u', 'ua', 'ual', 'uan', 'uat', 'ub', 'ubi', 'uc', 'uch', 'uco', 'ucu', 'ud', 'uda', 'udr', 'ue', 'ued', 'ueg', 'uel', 'uen', 'uer', 'ues', 'uev', 'uf', 'uff', 'ufi', 'ug', 'uga', 'ui', 'uie', 'uis', 'uit', 'uiz', 'uj', 'uje', 'ujo', 'ul', 'ula', 'ule', 'ulp', 'um', 'ume', 'un', 'und', 'une', 'uni', 'uno', 'unt', 'uo', 'uoi', 'up', 'upe', 'upu', 'ur', 'ura', 'ure', 'uri', 'urn', 'uro', 'urr', 'urs', 'us', 'usi', 'uso', 'uss', 'ust', 'ut', 'uta', 'ute', 'uto', 'utr', 'uv', 'uve', 'uvi', 'uvr', 'ux', 'v', 'va', 'vai', 'val', 'van', 'vay', 've', 'vec', 'vel', 'ven', 'ver', 'vet', 'veu', 'vez', 'vi', 'via', 'vid', 'vie', 'vil', 'vin', 'vir', 'vis', 'vit', 'viv', 'vo', 'voi', 'von', 'vor', 'vot', 'vou', 'vr', 'vra', 'vre', 'x', 'y', 'ya', 'yai', 'ye', 'yeu', 'ys', 'yu', 'yud', 'z', 'za', 'zo', 'zon', 'ç', 'ço', 'çon', 'ñ', 'ña', 'ñan', 'ño', 'ñor', 'ños']\n"
     ]
    },
    {
     "name": "stdout",
     "output_type": "stream",
     "text": [
      "scores: [[0.52260398 0.44769874]\n",
      " [0.52260398 0.44769874]\n",
      " [0.52260398 0.44769874]\n",
      " [0.95840868 0.84100418]\n",
      " [0.99095841 0.82845188]]\n",
      "scores: [[0.52260398 0.44769874]\n",
      " [0.52260398 0.44769874]\n",
      " [0.52260398 0.44769874]\n",
      " [0.97106691 0.82845188]\n",
      " [0.99276673 0.82845188]]\n",
      "scores: [[0.52260398 0.44769874]\n",
      " [0.52260398 0.44769874]\n",
      " [0.52260398 0.44769874]\n",
      " [0.99276673 0.54393305]\n",
      " [0.99276673 0.54393305]]\n",
      "scores: [[0.52260398 0.44769874]\n",
      " [0.52260398 0.44769874]\n",
      " [0.68716094 0.62343096]\n",
      " [0.92947559 0.83682008]\n",
      " [0.99276673 0.80753138]]\n"
     ]
    }
   ],
   "source": [
    "ngram_maxs = [1, 2, 3]\n",
    "kernels = [cosine_kernel, intersection_kernel, chi_square_kernel, ssk_kernel]\n",
    "complexities = [2 ** -15, 2 ** -10, 2 ** -5, 2, 2 ** 5]\n",
    "cross_validation = cross_validation_scores(ngram_maxs, kernels, complexities)\n"
   ]
  },
  {
   "cell_type": "markdown",
   "metadata": {},
   "source": [
    "## (d) \n",
    "Evaluate the performance of the SVMs in the test data set:\n",
    "\n",
    "__i.__ Report the results in a table for the different evaluated configurations.\n",
    "\n",
    "__ii.__ Illustrate examples of errors (French words mistaken as Spanish, Spanish words mistaken as French). Give a possible explanation for these mistakes.\n",
    "\n",
    "__iii.__ Discuss the results."
   ]
  },
  {
   "cell_type": "code",
   "execution_count": 24,
   "metadata": {},
   "outputs": [],
   "source": [
    "class ListTable(list):\n",
    "    \"\"\" Overridden list class which takes a 2-dimensional list of\n",
    "        the form [[1,2,3],[4,5,6]], and renders an HTML Table in\n",
    "        IPython Notebook. \"\"\"\n",
    "\n",
    "    def _repr_html_(self):\n",
    "        html = [\"<table>\"]\n",
    "        for ridx, row in enumerate(self):\n",
    "            html.append(\"<tr>\")\n",
    "            for col in row:\n",
    "                html.append(f\"<td>{col}</td>\" if ridx != 0 else f\"<th>{col}</th>\")\n",
    "            html.append(\"</tr>\")\n",
    "        html.append(\"</table>\")\n",
    "        return ''.join(html)\n"
   ]
  },
  {
   "cell_type": "markdown",
   "metadata": {},
   "source": [
    "## i.\n",
    "The table below present the scores for training and test set for all the possible configurations between the next parameters:\n",
    "\n",
    "$$n-grams_{range}=\\big[(1,1),(1,2),(1,3)\\big]$$\n",
    "\n",
    "$$kernels=\\big[histogram\\ cosine,\\ histogram\\ intersection,\\ \\chi^2,\\ SSK \\big]$$\n",
    "\n",
    "$$C=\\big[2^{-10},2^{-5},2,2^5\\big]$$"
   ]
  },
  {
   "cell_type": "code",
   "execution_count": 26,
   "metadata": {},
   "outputs": [
    {
     "name": "stdout",
     "output_type": "stream",
     "text": [
      "Table 3.d.i.\n"
     ]
    },
    {
     "data": {
      "text/html": [
       "<table><tr><th>Kernel</th><th>Regulation parameter</th><th>Max. n-gram</th><th>Score training set</th><th>Score test set</th></tr><tr><td>cosine_kernel</td><td>2^-15</td><td>1</td><td>52.26%</td><td>44.77%</td></tr><tr><td>cosine_kernel</td><td>2^-10</td><td>1</td><td>52.26%</td><td>44.77%</td></tr><tr><td>cosine_kernel</td><td>2^-5</td><td>1</td><td>55.52%</td><td>49.37%</td></tr><tr><td>cosine_kernel</td><td>2^1</td><td>1</td><td>69.98%</td><td>65.69%</td></tr><tr><td>cosine_kernel</td><td>2^5</td><td>1</td><td>71.79%</td><td>66.95%</td></tr><tr><td>intersection_kernel</td><td>2^-15</td><td>1</td><td>52.26%</td><td>44.77%</td></tr><tr><td>intersection_kernel</td><td>2^-10</td><td>1</td><td>52.26%</td><td>44.77%</td></tr><tr><td>intersection_kernel</td><td>2^-5</td><td>1</td><td>52.44%</td><td>44.77%</td></tr><tr><td>intersection_kernel</td><td>2^1</td><td>1</td><td>73.96%</td><td>70.29%</td></tr><tr><td>intersection_kernel</td><td>2^5</td><td>1</td><td>79.20%</td><td>69.87%</td></tr><tr><td>chi_square_kernel</td><td>2^-15</td><td>1</td><td>52.26%</td><td>44.77%</td></tr><tr><td>chi_square_kernel</td><td>2^-10</td><td>1</td><td>52.26%</td><td>44.77%</td></tr><tr><td>chi_square_kernel</td><td>2^-5</td><td>1</td><td>52.26%</td><td>44.77%</td></tr><tr><td>chi_square_kernel</td><td>2^1</td><td>1</td><td>98.55%</td><td>67.78%</td></tr><tr><td>chi_square_kernel</td><td>2^5</td><td>1</td><td>98.55%</td><td>66.95%</td></tr><tr><td>ssk_kernel</td><td>2^-15</td><td>1</td><td>52.26%</td><td>44.77%</td></tr><tr><td>ssk_kernel</td><td>2^-10</td><td>1</td><td>52.26%</td><td>44.77%</td></tr><tr><td>ssk_kernel</td><td>2^-5</td><td>1</td><td>66.73%</td><td>59.41%</td></tr><tr><td>ssk_kernel</td><td>2^1</td><td>1</td><td>69.80%</td><td>65.69%</td></tr><tr><td>ssk_kernel</td><td>2^5</td><td>1</td><td>69.44%</td><td>65.27%</td></tr><tr><td>cosine_kernel</td><td>2^-15</td><td>2</td><td>52.26%</td><td>44.77%</td></tr><tr><td>cosine_kernel</td><td>2^-10</td><td>2</td><td>52.26%</td><td>44.77%</td></tr><tr><td>cosine_kernel</td><td>2^-5</td><td>2</td><td>52.26%</td><td>44.77%</td></tr><tr><td>cosine_kernel</td><td>2^1</td><td>2</td><td>90.78%</td><td>81.59%</td></tr><tr><td>cosine_kernel</td><td>2^5</td><td>2</td><td>97.29%</td><td>79.92%</td></tr><tr><td>intersection_kernel</td><td>2^-15</td><td>2</td><td>52.26%</td><td>44.77%</td></tr><tr><td>intersection_kernel</td><td>2^-10</td><td>2</td><td>52.26%</td><td>44.77%</td></tr><tr><td>intersection_kernel</td><td>2^-5</td><td>2</td><td>52.26%</td><td>44.77%</td></tr><tr><td>intersection_kernel</td><td>2^1</td><td>2</td><td>93.49%</td><td>80.33%</td></tr><tr><td>intersection_kernel</td><td>2^5</td><td>2</td><td>99.28%</td><td>78.66%</td></tr><tr><td>chi_square_kernel</td><td>2^-15</td><td>2</td><td>52.26%</td><td>44.77%</td></tr><tr><td>chi_square_kernel</td><td>2^-10</td><td>2</td><td>52.26%</td><td>44.77%</td></tr><tr><td>chi_square_kernel</td><td>2^-5</td><td>2</td><td>52.26%</td><td>44.77%</td></tr><tr><td>chi_square_kernel</td><td>2^1</td><td>2</td><td>99.28%</td><td>56.90%</td></tr><tr><td>chi_square_kernel</td><td>2^5</td><td>2</td><td>99.28%</td><td>56.90%</td></tr><tr><td>ssk_kernel</td><td>2^-15</td><td>2</td><td>52.26%</td><td>44.77%</td></tr><tr><td>ssk_kernel</td><td>2^-10</td><td>2</td><td>52.26%</td><td>44.77%</td></tr><tr><td>ssk_kernel</td><td>2^-5</td><td>2</td><td>68.90%</td><td>61.92%</td></tr><tr><td>ssk_kernel</td><td>2^1</td><td>2</td><td>91.32%</td><td>83.68%</td></tr><tr><td>ssk_kernel</td><td>2^5</td><td>2</td><td>98.37%</td><td>82.43%</td></tr><tr><td>cosine_kernel</td><td>2^-15</td><td>3</td><td>52.26%</td><td>44.77%</td></tr><tr><td>cosine_kernel</td><td>2^-10</td><td>3</td><td>52.26%</td><td>44.77%</td></tr><tr><td>cosine_kernel</td><td>2^-5</td><td>3</td><td>52.26%</td><td>44.77%</td></tr><tr><td>cosine_kernel</td><td>2^1</td><td>3</td><td>95.84%</td><td>84.10%</td></tr><tr><td>cosine_kernel</td><td>2^5</td><td>3</td><td>99.10%</td><td>82.85%</td></tr><tr><td>intersection_kernel</td><td>2^-15</td><td>3</td><td>52.26%</td><td>44.77%</td></tr><tr><td>intersection_kernel</td><td>2^-10</td><td>3</td><td>52.26%</td><td>44.77%</td></tr><tr><td>intersection_kernel</td><td>2^-5</td><td>3</td><td>52.26%</td><td>44.77%</td></tr><tr><td>intersection_kernel</td><td>2^1</td><td>3</td><td>97.11%</td><td>82.85%</td></tr><tr><td>intersection_kernel</td><td>2^5</td><td>3</td><td>99.28%</td><td>82.85%</td></tr><tr><td>chi_square_kernel</td><td>2^-15</td><td>3</td><td>52.26%</td><td>44.77%</td></tr><tr><td>chi_square_kernel</td><td>2^-10</td><td>3</td><td>52.26%</td><td>44.77%</td></tr><tr><td>chi_square_kernel</td><td>2^-5</td><td>3</td><td>52.26%</td><td>44.77%</td></tr><tr><td>chi_square_kernel</td><td>2^1</td><td>3</td><td>99.28%</td><td>54.39%</td></tr><tr><td>chi_square_kernel</td><td>2^5</td><td>3</td><td>99.28%</td><td>54.39%</td></tr><tr><td>ssk_kernel</td><td>2^-15</td><td>3</td><td>52.26%</td><td>44.77%</td></tr><tr><td>ssk_kernel</td><td>2^-10</td><td>3</td><td>52.26%</td><td>44.77%</td></tr><tr><td>ssk_kernel</td><td>2^-5</td><td>3</td><td>68.72%</td><td>62.34%</td></tr><tr><td>ssk_kernel</td><td>2^1</td><td>3</td><td>92.95%</td><td>83.68%</td></tr><tr><td>ssk_kernel</td><td>2^5</td><td>3</td><td>99.28%</td><td>80.75%</td></tr></table>"
      ],
      "text/plain": [
       "[['Kernel',\n",
       "  'Regulation parameter',\n",
       "  'Max. n-gram',\n",
       "  'Score training set',\n",
       "  'Score test set'],\n",
       " ['cosine_kernel', '2^-15', 1, '52.26%', '44.77%'],\n",
       " ['cosine_kernel', '2^-10', 1, '52.26%', '44.77%'],\n",
       " ['cosine_kernel', '2^-5', 1, '55.52%', '49.37%'],\n",
       " ['cosine_kernel', '2^1', 1, '69.98%', '65.69%'],\n",
       " ['cosine_kernel', '2^5', 1, '71.79%', '66.95%'],\n",
       " ['intersection_kernel', '2^-15', 1, '52.26%', '44.77%'],\n",
       " ['intersection_kernel', '2^-10', 1, '52.26%', '44.77%'],\n",
       " ['intersection_kernel', '2^-5', 1, '52.44%', '44.77%'],\n",
       " ['intersection_kernel', '2^1', 1, '73.96%', '70.29%'],\n",
       " ['intersection_kernel', '2^5', 1, '79.20%', '69.87%'],\n",
       " ['chi_square_kernel', '2^-15', 1, '52.26%', '44.77%'],\n",
       " ['chi_square_kernel', '2^-10', 1, '52.26%', '44.77%'],\n",
       " ['chi_square_kernel', '2^-5', 1, '52.26%', '44.77%'],\n",
       " ['chi_square_kernel', '2^1', 1, '98.55%', '67.78%'],\n",
       " ['chi_square_kernel', '2^5', 1, '98.55%', '66.95%'],\n",
       " ['ssk_kernel', '2^-15', 1, '52.26%', '44.77%'],\n",
       " ['ssk_kernel', '2^-10', 1, '52.26%', '44.77%'],\n",
       " ['ssk_kernel', '2^-5', 1, '66.73%', '59.41%'],\n",
       " ['ssk_kernel', '2^1', 1, '69.80%', '65.69%'],\n",
       " ['ssk_kernel', '2^5', 1, '69.44%', '65.27%'],\n",
       " ['cosine_kernel', '2^-15', 2, '52.26%', '44.77%'],\n",
       " ['cosine_kernel', '2^-10', 2, '52.26%', '44.77%'],\n",
       " ['cosine_kernel', '2^-5', 2, '52.26%', '44.77%'],\n",
       " ['cosine_kernel', '2^1', 2, '90.78%', '81.59%'],\n",
       " ['cosine_kernel', '2^5', 2, '97.29%', '79.92%'],\n",
       " ['intersection_kernel', '2^-15', 2, '52.26%', '44.77%'],\n",
       " ['intersection_kernel', '2^-10', 2, '52.26%', '44.77%'],\n",
       " ['intersection_kernel', '2^-5', 2, '52.26%', '44.77%'],\n",
       " ['intersection_kernel', '2^1', 2, '93.49%', '80.33%'],\n",
       " ['intersection_kernel', '2^5', 2, '99.28%', '78.66%'],\n",
       " ['chi_square_kernel', '2^-15', 2, '52.26%', '44.77%'],\n",
       " ['chi_square_kernel', '2^-10', 2, '52.26%', '44.77%'],\n",
       " ['chi_square_kernel', '2^-5', 2, '52.26%', '44.77%'],\n",
       " ['chi_square_kernel', '2^1', 2, '99.28%', '56.90%'],\n",
       " ['chi_square_kernel', '2^5', 2, '99.28%', '56.90%'],\n",
       " ['ssk_kernel', '2^-15', 2, '52.26%', '44.77%'],\n",
       " ['ssk_kernel', '2^-10', 2, '52.26%', '44.77%'],\n",
       " ['ssk_kernel', '2^-5', 2, '68.90%', '61.92%'],\n",
       " ['ssk_kernel', '2^1', 2, '91.32%', '83.68%'],\n",
       " ['ssk_kernel', '2^5', 2, '98.37%', '82.43%'],\n",
       " ['cosine_kernel', '2^-15', 3, '52.26%', '44.77%'],\n",
       " ['cosine_kernel', '2^-10', 3, '52.26%', '44.77%'],\n",
       " ['cosine_kernel', '2^-5', 3, '52.26%', '44.77%'],\n",
       " ['cosine_kernel', '2^1', 3, '95.84%', '84.10%'],\n",
       " ['cosine_kernel', '2^5', 3, '99.10%', '82.85%'],\n",
       " ['intersection_kernel', '2^-15', 3, '52.26%', '44.77%'],\n",
       " ['intersection_kernel', '2^-10', 3, '52.26%', '44.77%'],\n",
       " ['intersection_kernel', '2^-5', 3, '52.26%', '44.77%'],\n",
       " ['intersection_kernel', '2^1', 3, '97.11%', '82.85%'],\n",
       " ['intersection_kernel', '2^5', 3, '99.28%', '82.85%'],\n",
       " ['chi_square_kernel', '2^-15', 3, '52.26%', '44.77%'],\n",
       " ['chi_square_kernel', '2^-10', 3, '52.26%', '44.77%'],\n",
       " ['chi_square_kernel', '2^-5', 3, '52.26%', '44.77%'],\n",
       " ['chi_square_kernel', '2^1', 3, '99.28%', '54.39%'],\n",
       " ['chi_square_kernel', '2^5', 3, '99.28%', '54.39%'],\n",
       " ['ssk_kernel', '2^-15', 3, '52.26%', '44.77%'],\n",
       " ['ssk_kernel', '2^-10', 3, '52.26%', '44.77%'],\n",
       " ['ssk_kernel', '2^-5', 3, '68.72%', '62.34%'],\n",
       " ['ssk_kernel', '2^1', 3, '92.95%', '83.68%'],\n",
       " ['ssk_kernel', '2^5', 3, '99.28%', '80.75%']]"
      ]
     },
     "execution_count": 26,
     "metadata": {},
     "output_type": "execute_result"
    }
   ],
   "source": [
    "kernel_names = ['cosine_kernel', 'intersection_kernel', 'chi_square_kernel', 'ssk_kernel']\n",
    "scores_table = ListTable()\n",
    "scores_table.append(['Kernel', 'Regulation parameter', 'Max. n-gram', 'Score training set', 'Score test set'])\n",
    "for n, ngram in enumerate(cross_validation):\n",
    "    for k, kernel in enumerate(ngram):\n",
    "        for c, complexity_scores in enumerate(kernel):\n",
    "            scores_table.append([kernel_names[k], f\"2^{int(np.log2(complexities[c]))}\", ngram_maxs[n], f\"{complexity_scores[0] * 100:.2f}%\", f\"{complexity_scores[1] * 100:.2f}%\"])\n",
    "\n",
    "print(\"Table 3.d.i.\")\n",
    "scores_table"
   ]
  },
  {
   "cell_type": "markdown",
   "metadata": {},
   "source": [
    "## ii.\n",
    "The first table presented below contains the forty words with more misclassifications along all the $3\\times3\\times 4$ ($n-grams\\ \\times kernel \\times C's$) cross validations done in the last point __3.c__. The second table contains a sum with all the misclassifications words present in the spanish and french datasets"
   ]
  },
  {
   "cell_type": "code",
   "execution_count": 27,
   "metadata": {},
   "outputs": [
    {
     "name": "stdout",
     "output_type": "stream",
     "text": [
      "Table 3.d.ii.a.\n"
     ]
    },
    {
     "data": {
      "text/html": [
       "<table><tr><th>#</th><th>Word</th><th>Language</th><th>Misclassifications</th></tr><tr><td>1</td><td>passe</td><td>FR</td><td>150</td></tr><tr><td>2</td><td>trouve</td><td>FR</td><td>150</td></tr><tr><td>3</td><td>arrive</td><td>FR</td><td>150</td></tr><tr><td>4</td><td>parle</td><td>FR</td><td>150</td></tr><tr><td>5</td><td>donne</td><td>FR</td><td>140</td></tr><tr><td>6</td><td>demande</td><td>FR</td><td>136</td></tr><tr><td>7</td><td>mettre</td><td>FR</td><td>75</td></tr><tr><td>8</td><td>celui</td><td>FR</td><td>75</td></tr><tr><td>9</td><td>main</td><td>FR</td><td>75</td></tr><tr><td>10</td><td>parfois</td><td>FR</td><td>75</td></tr><tr><td>11</td><td>suite</td><td>FR</td><td>75</td></tr><tr><td>12</td><td>voulait</td><td>FR</td><td>75</td></tr><tr><td>13</td><td>papa</td><td>ES</td><td>75</td></tr><tr><td>14</td><td>vient</td><td>FR</td><td>75</td></tr><tr><td>15</td><td>puis</td><td>FR</td><td>75</td></tr><tr><td>16</td><td>petit</td><td>FR</td><td>75</td></tr><tr><td>17</td><td>meilleur</td><td>FR</td><td>75</td></tr><tr><td>18</td><td>dire</td><td>FR</td><td>75</td></tr><tr><td>19</td><td>allez</td><td>FR</td><td>75</td></tr><tr><td>20</td><td>envie</td><td>FR</td><td>75</td></tr><tr><td>21</td><td>prie</td><td>FR</td><td>75</td></tr><tr><td>22</td><td>toutes</td><td>FR</td><td>75</td></tr><tr><td>23</td><td>affaires</td><td>FR</td><td>75</td></tr><tr><td>24</td><td>attention</td><td>FR</td><td>75</td></tr><tr><td>25</td><td>voudrais</td><td>FR</td><td>75</td></tr><tr><td>26</td><td>toute</td><td>FR</td><td>75</td></tr><tr><td>27</td><td>fois</td><td>FR</td><td>75</td></tr><tr><td>28</td><td>semaine</td><td>FR</td><td>75</td></tr><tr><td>29</td><td>heureux</td><td>FR</td><td>75</td></tr><tr><td>30</td><td>venir</td><td>ES</td><td>75</td></tr><tr><td>31</td><td>terre</td><td>FR</td><td>75</td></tr><tr><td>32</td><td>tour</td><td>FR</td><td>75</td></tr><tr><td>33</td><td>voit</td><td>FR</td><td>75</td></tr><tr><td>34</td><td>film</td><td>FR</td><td>75</td></tr><tr><td>35</td><td>grande</td><td>ES</td><td>75</td></tr><tr><td>36</td><td>tout</td><td>FR</td><td>75</td></tr><tr><td>37</td><td>sortir</td><td>FR</td><td>75</td></tr><tr><td>38</td><td>peine</td><td>FR</td><td>75</td></tr><tr><td>39</td><td>parler</td><td>FR</td><td>75</td></tr><tr><td>40</td><td>peut</td><td>FR</td><td>75</td></tr></table>"
      ],
      "text/plain": [
       "[['#', 'Word', 'Language', 'Misclassifications'],\n",
       " [1, 'passe', 'FR', 150],\n",
       " [2, 'trouve', 'FR', 150],\n",
       " [3, 'arrive', 'FR', 150],\n",
       " [4, 'parle', 'FR', 150],\n",
       " [5, 'donne', 'FR', 140],\n",
       " [6, 'demande', 'FR', 136],\n",
       " [7, 'mettre', 'FR', 75],\n",
       " [8, 'celui', 'FR', 75],\n",
       " [9, 'main', 'FR', 75],\n",
       " [10, 'parfois', 'FR', 75],\n",
       " [11, 'suite', 'FR', 75],\n",
       " [12, 'voulait', 'FR', 75],\n",
       " [13, 'papa', 'ES', 75],\n",
       " [14, 'vient', 'FR', 75],\n",
       " [15, 'puis', 'FR', 75],\n",
       " [16, 'petit', 'FR', 75],\n",
       " [17, 'meilleur', 'FR', 75],\n",
       " [18, 'dire', 'FR', 75],\n",
       " [19, 'allez', 'FR', 75],\n",
       " [20, 'envie', 'FR', 75],\n",
       " [21, 'prie', 'FR', 75],\n",
       " [22, 'toutes', 'FR', 75],\n",
       " [23, 'affaires', 'FR', 75],\n",
       " [24, 'attention', 'FR', 75],\n",
       " [25, 'voudrais', 'FR', 75],\n",
       " [26, 'toute', 'FR', 75],\n",
       " [27, 'fois', 'FR', 75],\n",
       " [28, 'semaine', 'FR', 75],\n",
       " [29, 'heureux', 'FR', 75],\n",
       " [30, 'venir', 'ES', 75],\n",
       " [31, 'terre', 'FR', 75],\n",
       " [32, 'tour', 'FR', 75],\n",
       " [33, 'voit', 'FR', 75],\n",
       " [34, 'film', 'FR', 75],\n",
       " [35, 'grande', 'ES', 75],\n",
       " [36, 'tout', 'FR', 75],\n",
       " [37, 'sortir', 'FR', 75],\n",
       " [38, 'peine', 'FR', 75],\n",
       " [39, 'parler', 'FR', 75],\n",
       " [40, 'peut', 'FR', 75]]"
      ]
     },
     "execution_count": 27,
     "metadata": {},
     "output_type": "execute_result"
    }
   ],
   "source": [
    "misclassification_table = ListTable()\n",
    "misclassification_table.append(['#', 'Word', 'Language', 'Misclassifications'])\n",
    "misclassified_top = sorted(misclassified_words, key=misclassified_words.get, reverse=True)[0:40]\n",
    "for word in misclassified_top:\n",
    "    misclassification_table.append([len(misclassification_table), word, 'ES' if word in spanish_words else 'FR', misclassified_words[word]])\n",
    "print(\"Table 3.d.ii.a.\")\n",
    "misclassification_table"
   ]
  },
  {
   "cell_type": "code",
   "execution_count": 28,
   "metadata": {},
   "outputs": [
    {
     "name": "stdout",
     "output_type": "stream",
     "text": [
      "Table 3.d.ii.b.\n"
     ]
    },
    {
     "data": {
      "text/html": [
       "<table><tr><th>Language</th><th>Total misclassifications</th><th>Porcentual misclassifications</th></tr><tr><td>Spanish</td><td>11292</td><td>28.53%</td></tr><tr><td>French</td><td>28294</td><td>71.47%</td></tr></table>"
      ],
      "text/plain": [
       "[['Language', 'Total misclassifications', 'Porcentual misclassifications'],\n",
       " ['Spanish', 11292, '28.53%'],\n",
       " ['French', 28294, '71.47%']]"
      ]
     },
     "execution_count": 28,
     "metadata": {},
     "output_type": "execute_result"
    }
   ],
   "source": [
    "french_mc = np.sum([misclassified_words[key] for key in misclassified_words if key in french_words])\n",
    "spanish_mc = np.sum([misclassified_words[key] for key in misclassified_words if key in spanish_words])\n",
    "miscl_by_lang_table = ListTable()\n",
    "miscl_by_lang_table.append(['Language', 'Total misclassifications', 'Porcentual misclassifications'])\n",
    "miscl_by_lang_table.append(['Spanish', spanish_mc, f\"{spanish_mc / (spanish_mc + french_mc) * 100:.2f}%\"])\n",
    "miscl_by_lang_table.append(['French', french_mc, f\"{french_mc / (spanish_mc + french_mc) * 100:.2f}%\"])\n",
    "print(\"Table 3.d.ii.b.\")\n",
    "miscl_by_lang_table"
   ]
  },
  {
   "cell_type": "markdown",
   "metadata": {},
   "source": [
    "## iii.\n",
    "The table of __3.d.i.__ presents the following features:\n",
    "* Regardless the configuration of $n-gram{range}$ and $kernel$, the score of the training dataset improves with higher values of $C$, due to the overfit effect. Most of the cross validation runs achieved scores up to 99% for most of the kernels.\n",
    "* Regardless the configuration of $n-gram{range}$ and the $kernel$, the score of the test dataset has the highest peak at the values of $C=2$, hence that value is the optimal for the regulation parameter.\n",
    "* In the case of $kernel=[\\chi^2]$, the training set doesn't present a maximum peak. It increases till $C=2$, and after that it remains in plateau.\n",
    "* As expected, the $n-gram{range}=(1,1)$ presents the poorest performance, reaching a maximum of score of 70.29% for test dataset (with _histogram intersection_ kernel and $C=2$). On the other hand, the best perfomance overall is achieved with $n-gram{range}=(2)$ and $n-gram{range}=(1,3)$, presenting a score of 84.1% (with _cosine intersection_ kernel and $C=2$). The best peformance of both $n-gram{range}=(1,3)$ is related with the fact that n-grams bigger than one allow the inclussion of syllables in the features space, syllables and bigger substrings are elements more represenative for language than single letters.\n",
    "\n",
    "The tables __3.d.ii.__ presents the following features:\n",
    "* Most of the misclassified words belong to the french language. In addition, those french words mostly don't belong neither the spanish words set used in the classification nor the known spanish language. On the other hand, the few words from the spanish words set presented in the table do belong to french vocabulary.\n",
    "* Calculating the proportions of words misclassified by languages, the porcentual misclassification corresponding to spanish words was 28.5%, while the misclassification for french was 71.5%.\n"
   ]
  },
  {
   "cell_type": "code",
   "execution_count": 0,
   "metadata": {},
   "outputs": [],
   "source": []
  }
 ],
 "metadata": {
  "kernelspec": {
   "display_name": "Python 3",
   "language": "python",
   "name": "python3"
  },
  "language_info": {
   "codemirror_mode": {
    "name": "ipython",
    "version": 3
   },
   "file_extension": ".py",
   "mimetype": "text/x-python",
   "name": "python",
   "nbconvert_exporter": "python",
   "pygments_lexer": "ipython3",
   "version": "3.7.2"
  },
  "stem_cell": {
   "cell_type": "raw",
   "metadata": {
    "pycharm": {
     "metadata": false
    }
   },
   "source": ""
  }
 },
 "nbformat": 4,
 "nbformat_minor": 1
}
