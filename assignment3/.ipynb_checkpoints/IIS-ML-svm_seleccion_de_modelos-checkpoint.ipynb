{
 "cells": [
  {
   "cell_type": "markdown",
   "metadata": {
    "colab_type": "text",
    "id": "wL-yAA-M4mWc"
   },
   "source": [
    "# Introducción  a los Sistemas Inteligentes\n",
    "# 2018-2\n",
    "# Máquinas de vectores de soporte y selección de modelos\n",
    "\n",
    "Definimos primero unas librerías y funciones que vamos a usar a durante la sesión:"
   ]
  },
  {
   "cell_type": "code",
   "execution_count": 1,
   "metadata": {
    "colab": {},
    "colab_type": "code",
    "id": "s2e16aec4mWf"
   },
   "outputs": [],
   "source": [
    "%matplotlib inline\n",
    "import matplotlib.pyplot as plt\n",
    "import numpy as np\n",
    "import pylab as pl\n",
    "from sklearn.datasets import make_circles\n",
    "from matplotlib.colors import Normalize\n",
    "\n",
    "\n",
    "# Función para visualizar un conjunto de datos en 2D\n",
    "def plot_data(X, y):\n",
    "    y_unique = np.unique(y)\n",
    "    colors = pl.cm.rainbow(np.linspace(0.0, 1.0, y_unique.size))\n",
    "    for this_y, color in zip(y_unique, colors):\n",
    "        this_X = X[y == this_y]\n",
    "        pl.scatter(this_X[:, 0], this_X[:, 1],  c=color,\n",
    "                    alpha=0.5, edgecolor='k',\n",
    "                    label=\"Class %s\" % this_y)\n",
    "    pl.legend(loc=\"best\")\n",
    "    pl.title(\"Data\")\n",
    "    \n",
    "# Función para visualizar de la superficie de decisión de un clasificador\n",
    "def plot_decision_region(X, pred_fun):\n",
    "    min_x = np.min(X[:, 0])\n",
    "    max_x = np.max(X[:, 0])\n",
    "    min_y = np.min(X[:, 1])\n",
    "    max_y = np.max(X[:, 1])\n",
    "    min_x = min_x - (max_x - min_x) * 0.05\n",
    "    max_x = max_x + (max_x - min_x) * 0.05\n",
    "    min_y = min_y - (max_y - min_y) * 0.05\n",
    "    max_y = max_y + (max_y - min_y) * 0.05\n",
    "    x_vals = np.linspace(min_x, max_x, 100)\n",
    "    y_vals = np.linspace(min_y, max_y, 100)\n",
    "    XX, YY = np.meshgrid(x_vals, y_vals)\n",
    "    grid_r, grid_c = XX.shape\n",
    "    ZZ = np.zeros((grid_r, grid_c))\n",
    "    for i in range(grid_r):\n",
    "        for j in range(grid_c):\n",
    "            ZZ[i, j] = pred_fun(XX[i, j], YY[i, j])\n",
    "    pl.contourf(XX, YY, ZZ, 100, cmap = pl.cm.coolwarm, vmin= -1, vmax=2)\n",
    "    pl.colorbar()\n",
    "    pl.xlabel(\"x\")\n",
    "    pl.ylabel(\"y\")\n",
    "    \n",
    "class MidpointNormalize(Normalize):\n",
    "\n",
    "    def __init__(self, vmin=None, vmax=None, midpoint=None, clip=False):\n",
    "        self.midpoint = midpoint\n",
    "        Normalize.__init__(self, vmin, vmax, clip)\n",
    "\n",
    "    def __call__(self, value, clip=None):\n",
    "        x, y = [self.vmin, self.midpoint, self.vmax], [0, 0.5, 1]\n",
    "        return np.ma.masked_array(np.interp(value, x, y))\n",
    "    \n",
    "def gen_pred_fun(clf):\n",
    "    def pred_fun(x1, x2):\n",
    "        x = np.array([[x1, x2]])\n",
    "        return clf.predict(x)[0]\n",
    "    return pred_fun\n",
    "\n",
    "def plot_labels(n_folds, n_classes, list_labels):\n",
    "    ind = np.arange(n_folds)\n",
    "    width = 0.15\n",
    "    \n",
    "    countings = []\n",
    "    for labels in list_labels:\n",
    "        labels = np.array(labels)\n",
    "        countings.append([np.count_nonzero(labels == x) for x in range(n_classes)])\n",
    "    \n",
    "    class_bars = []\n",
    "    for cls in range(n_classes):\n",
    "        class_bars.append([l[cls] for l in countings])\n",
    "    \n",
    "    fig, ax = pl.subplots()\n",
    "    i = 0\n",
    "    for class_bar in class_bars:\n",
    "        ax.bar(ind + width*i, class_bar, width, label='Clase '+str(i))\n",
    "        i += 1\n",
    "        \n",
    "    ax.set_xticks(ind + 2*width / 3)\n",
    "    ax.set_xticklabels(['Pliegue {}'.format(k) for k in range(n_folds)])\n",
    "    pl.legend(loc=\"best\")\n",
    "    pl.title(\"Etiquetas\")"
   ]
  },
  {
   "cell_type": "markdown",
   "metadata": {
    "colab_type": "text",
    "id": "o4Q1mqlV4mWp"
   },
   "source": [
    "# Máquinas de vectores de soporte"
   ]
  },
  {
   "cell_type": "markdown",
   "metadata": {
    "colab_type": "text",
    "id": "H-WoP70a4mWt"
   },
   "source": [
    "Las máquinas de vectores de soporte son un modelo de aprendizaje supervisado en el cual los ejemplos son representados en un nuevo espacio, de tal forma que aquellos ejemplos de diferentes categorías sea posible, en principio, separarlos linealmente. Considere el siguiente ejemplo de un conjunto de datos."
   ]
  },
  {
   "cell_type": "code",
   "execution_count": 2,
   "metadata": {
    "colab": {},
    "colab_type": "code",
    "id": "PJsr26kJ4mWw"
   },
   "outputs": [],
   "source": [
    "from sklearn.datasets import make_circles, make_moons\n",
    "\n",
    "np.random.seed(0)\n",
    "\n",
    "X, y = make_circles(n_samples=1000, factor=.3, noise=.05)"
   ]
  },
  {
   "cell_type": "markdown",
   "metadata": {
    "colab_type": "text",
    "id": "VOZ22ssG4mW5"
   },
   "source": [
    "Se trata de un conjunto de datos que no es linealmente separable"
   ]
  },
  {
   "cell_type": "code",
   "execution_count": 3,
   "metadata": {
    "colab": {
     "base_uri": "https://localhost:8080/",
     "height": 445
    },
    "colab_type": "code",
    "executionInfo": {
     "elapsed": 913,
     "status": "ok",
     "timestamp": 1558098748060,
     "user": {
      "displayName": "Fabio Augusto Gonzalez Osorio",
      "photoUrl": "https://lh5.googleusercontent.com/-jcmRx3yeVv4/AAAAAAAAAAI/AAAAAAAAAic/QZe3kSPTExE/s64/photo.jpg",
      "userId": "12068829047521495105"
     },
     "user_tz": 300
    },
    "id": "uWJMsccZ4mW8",
    "outputId": "cd71d286-e96e-4ce1-88ea-f79ef036c378"
   },
   "outputs": [
    {
     "name": "stderr",
     "output_type": "stream",
     "text": [
      "'c' argument looks like a single numeric RGB or RGBA sequence, which should be avoided as value-mapping will have precedence in case its length matches with 'x' & 'y'.  Please use a 2-D array with a single row if you really want to specify the same RGB or RGBA value for all points.\n",
      "'c' argument looks like a single numeric RGB or RGBA sequence, which should be avoided as value-mapping will have precedence in case its length matches with 'x' & 'y'.  Please use a 2-D array with a single row if you really want to specify the same RGB or RGBA value for all points.\n"
     ]
    },
    {
     "data": {
      "image/png": "[encoded data removed]",
      "text/plain": [
       "<Figure size 720x432 with 1 Axes>"
      ]
     },
     "metadata": {
      "needs_background": "light"
     },
     "output_type": "display_data"
    }
   ],
   "source": [
    "pl.figure(figsize = (10, 6))\n",
    "plot_data(X, y)"
   ]
  },
  {
   "cell_type": "markdown",
   "metadata": {
    "colab_type": "text",
    "id": "UJWd3J764mXN"
   },
   "source": [
    "**¿Se pueden separar las clases con una función lineal?**"
   ]
  },
  {
   "cell_type": "markdown",
   "metadata": {
    "colab_type": "text",
    "id": "AVNuTUoC4mXO"
   },
   "source": [
    "SVM  crea, implícitamente, un espacio de representación de mayor dimensionalidad en el cual podemos separar de forma clara nuestros datos. Por ejemplo:\n",
    "\n",
    "<img src=\"https://drive.google.com/uc?export=view&id=1NuYvzWfEb_nOZ9pWbsycdQWiHhad5_BI\">"
   ]
  },
  {
   "cell_type": "markdown",
   "metadata": {
    "colab_type": "text",
    "id": "y96W22zGoFhV"
   },
   "source": [
    "Para el ejemplo anterior, podemos llevar los datos a un nuevo espacio donde las características corresponden al cuadrado de las características originales:\n",
    "\n",
    "$$\\begin{equation}\n",
    "\\begin{split}\n",
    "\\phi:& \\mathbb{R}^2  & \\longrightarrow & \\mathbb{R}^2 \\\\\n",
    "  & (x,y) & \\longmapsto & (x^2,y^2)\n",
    "\\end{split}\n",
    "\\end{equation}$$"
   ]
  },
  {
   "cell_type": "code",
   "execution_count": 4,
   "metadata": {
    "colab": {
     "base_uri": "https://localhost:8080/",
     "height": 409
    },
    "colab_type": "code",
    "executionInfo": {
     "elapsed": 902,
     "status": "ok",
     "timestamp": 1539035714724,
     "user": {
      "displayName": "Fabio A. Gonzalez",
      "photoUrl": "",
      "userId": "12068829047521495105"
     },
     "user_tz": 300
    },
    "id": "KrnFHcC2noU8",
    "outputId": "5efa954a-85bf-4a7c-9ec8-f078f1df5a9c"
   },
   "outputs": [
    {
     "name": "stderr",
     "output_type": "stream",
     "text": [
      "'c' argument looks like a single numeric RGB or RGBA sequence, which should be avoided as value-mapping will have precedence in case its length matches with 'x' & 'y'.  Please use a 2-D array with a single row if you really want to specify the same RGB or RGBA value for all points.\n",
      "'c' argument looks like a single numeric RGB or RGBA sequence, which should be avoided as value-mapping will have precedence in case its length matches with 'x' & 'y'.  Please use a 2-D array with a single row if you really want to specify the same RGB or RGBA value for all points.\n"
     ]
    },
    {
     "data": {
      "image/png": "[encoded data removed]",
      "text/plain": [
       "<Figure size 720x432 with 1 Axes>"
      ]
     },
     "metadata": {
      "needs_background": "light"
     },
     "output_type": "display_data"
    }
   ],
   "source": [
    "X_square = X * X\n",
    "pl.figure(figsize = (10, 6))\n",
    "plot_data(X_square, y)"
   ]
  },
  {
   "cell_type": "markdown",
   "metadata": {
    "colab_type": "text",
    "id": "i5Nf--3GrDi9"
   },
   "source": [
    "En este nuevo espacio de representación, es posible separar los datos con un discriminante lineal."
   ]
  },
  {
   "cell_type": "markdown",
   "metadata": {
    "colab_type": "text",
    "id": "N0j9YLhU4mXR"
   },
   "source": [
    "## Kernel trick\n",
    "\n",
    "SVM usa una función conocida como kernel. Intuitivamente, esta función $k$ define qué tan parecidas son dos instancias del conjunto de datos. Formalmente, la función $k$ calcula el producto punto en el espacio de caracterísiticas donde se representarán los datos. Dependiendo del kernel, este espacio de características es de mayor dimensionalidad, y facilita la  definición de un \"*hiperplano*\" que separe los ejemplos de ambas características. \n",
    "\n",
    "Existen varias opciones para las funciones de kernel. Primero vamos a cargar dos conjuntos de datos sobre los cuales vamos a comparar la superficie de decisión generada por cada tipo de kernel. "
   ]
  },
  {
   "cell_type": "code",
   "execution_count": 5,
   "metadata": {
    "colab": {},
    "colab_type": "code",
    "id": "ii0cvDyH4mXV"
   },
   "outputs": [],
   "source": [
    "from sklearn.datasets import load_iris\n",
    "from sklearn.model_selection import train_test_split\n",
    "\n",
    "iris = load_iris()\n",
    "\n",
    "X_iris = iris.data[:,[0, 2]] \n",
    "y_iris = iris.target\n",
    "X_train_iris, X_test_iris, y_train_iris, y_test_iris = train_test_split(X_iris, \n",
    "                                                                        y_iris, \n",
    "                                                                        test_size=0.3, \n",
    "                                                                        random_state=1)\n",
    "\n",
    "X_moons, y_moons = make_moons(n_samples=600, noise=0.3, random_state=0)\n",
    "X_train_moons, X_test_moons, y_train_moons, y_test_moons = train_test_split(X_moons, \n",
    "                                                                            y_moons, \n",
    "                                                                            test_size=0.3, \n",
    "                                                                            random_state=1)"
   ]
  },
  {
   "cell_type": "code",
   "execution_count": 6,
   "metadata": {
    "colab": {
     "base_uri": "https://localhost:8080/",
     "height": 463
    },
    "colab_type": "code",
    "executionInfo": {
     "elapsed": 658,
     "status": "ok",
     "timestamp": 1558098856418,
     "user": {
      "displayName": "Fabio Augusto Gonzalez Osorio",
      "photoUrl": "https://lh5.googleusercontent.com/-jcmRx3yeVv4/AAAAAAAAAAI/AAAAAAAAAic/QZe3kSPTExE/s64/photo.jpg",
      "userId": "12068829047521495105"
     },
     "user_tz": 300
    },
    "id": "x72Fwx5z4mXc",
    "outputId": "ab8157b5-3d03-41eb-86f3-efab0d2662db"
   },
   "outputs": [
    {
     "name": "stderr",
     "output_type": "stream",
     "text": [
      "'c' argument looks like a single numeric RGB or RGBA sequence, which should be avoided as value-mapping will have precedence in case its length matches with 'x' & 'y'.  Please use a 2-D array with a single row if you really want to specify the same RGB or RGBA value for all points.\n",
      "'c' argument looks like a single numeric RGB or RGBA sequence, which should be avoided as value-mapping will have precedence in case its length matches with 'x' & 'y'.  Please use a 2-D array with a single row if you really want to specify the same RGB or RGBA value for all points.\n",
      "'c' argument looks like a single numeric RGB or RGBA sequence, which should be avoided as value-mapping will have precedence in case its length matches with 'x' & 'y'.  Please use a 2-D array with a single row if you really want to specify the same RGB or RGBA value for all points.\n"
     ]
    },
    {
     "data": {
      "image/png": "[encoded data removed]",
      "text/plain": [
       "<Figure size 720x432 with 1 Axes>"
      ]
     },
     "metadata": {
      "needs_background": "light"
     },
     "output_type": "display_data"
    }
   ],
   "source": [
    "pl.figure(figsize = (10, 6))\n",
    "plot_data(X_iris, y_iris)"
   ]
  },
  {
   "cell_type": "code",
   "execution_count": 7,
   "metadata": {
    "colab": {
     "base_uri": "https://localhost:8080/",
     "height": 445
    },
    "colab_type": "code",
    "executionInfo": {
     "elapsed": 819,
     "status": "ok",
     "timestamp": 1558098857867,
     "user": {
      "displayName": "Fabio Augusto Gonzalez Osorio",
      "photoUrl": "https://lh5.googleusercontent.com/-jcmRx3yeVv4/AAAAAAAAAAI/AAAAAAAAAic/QZe3kSPTExE/s64/photo.jpg",
      "userId": "12068829047521495105"
     },
     "user_tz": 300
    },
    "id": "cT_g94DE4mXl",
    "outputId": "008c6e03-8b0c-4df0-ab80-d5e5a42044fd"
   },
   "outputs": [
    {
     "name": "stderr",
     "output_type": "stream",
     "text": [
      "'c' argument looks like a single numeric RGB or RGBA sequence, which should be avoided as value-mapping will have precedence in case its length matches with 'x' & 'y'.  Please use a 2-D array with a single row if you really want to specify the same RGB or RGBA value for all points.\n",
      "'c' argument looks like a single numeric RGB or RGBA sequence, which should be avoided as value-mapping will have precedence in case its length matches with 'x' & 'y'.  Please use a 2-D array with a single row if you really want to specify the same RGB or RGBA value for all points.\n"
     ]
    },
    {
     "data": {
      "image/png": "[encoded data removed]",
      "text/plain": [
       "<Figure size 720x432 with 1 Axes>"
      ]
     },
     "metadata": {
      "needs_background": "light"
     },
     "output_type": "display_data"
    }
   ],
   "source": [
    "pl.figure(figsize = (10, 6))\n",
    "plot_data(X_moons, y_moons)"
   ]
  },
  {
   "cell_type": "markdown",
   "metadata": {
    "colab_type": "text",
    "id": "DsXKMf-Y4mXw"
   },
   "source": [
    "## Kernel Lineal\n",
    "\n",
    "La función $k$ está definida como:\n",
    "$$\n",
    "k(x,y) = \\langle x, y\\rangle = xy'\n",
    "$$\n",
    "\n",
    "Esta implementación puede ser consultada a través de `sklearn.svm.LinearSVC`."
   ]
  },
  {
   "cell_type": "code",
   "execution_count": 8,
   "metadata": {
    "colab": {
     "base_uri": "https://localhost:8080/",
     "height": 72
    },
    "colab_type": "code",
    "executionInfo": {
     "elapsed": 430,
     "status": "ok",
     "timestamp": 1558098860054,
     "user": {
      "displayName": "Fabio Augusto Gonzalez Osorio",
      "photoUrl": "https://lh5.googleusercontent.com/-jcmRx3yeVv4/AAAAAAAAAAI/AAAAAAAAAic/QZe3kSPTExE/s64/photo.jpg",
      "userId": "12068829047521495105"
     },
     "user_tz": 300
    },
    "id": "oNwNoxWQ4mXz",
    "outputId": "52336e4d-c94e-4b24-f01c-9d3c8af633a4"
   },
   "outputs": [
    {
     "name": "stderr",
     "output_type": "stream",
     "text": [
      "c:\\python37\\lib\\site-packages\\sklearn\\svm\\base.py:931: ConvergenceWarning: Liblinear failed to converge, increase the number of iterations.\n",
      "  \"the number of iterations.\", ConvergenceWarning)\n"
     ]
    }
   ],
   "source": [
    "from sklearn.svm import LinearSVC\n",
    "\n",
    "linear_iris = LinearSVC()\n",
    "linear_moons = LinearSVC()\n",
    "\n",
    "linear_iris.fit(X_train_iris, y_train_iris)\n",
    "linear_moons.fit(X_train_moons, y_train_moons);"
   ]
  },
  {
   "cell_type": "code",
   "execution_count": 50,
   "metadata": {},
   "outputs": [
    {
     "data": {
      "text/plain": [
       "array([[ 0.52773017, -1.14582116],\n",
       "       [-0.22325496,  0.18224982],\n",
       "       [-1.18503884,  1.84266645]])"
      ]
     },
     "execution_count": 50,
     "metadata": {},
     "output_type": "execute_result"
    }
   ],
   "source": [
    "linear_iris.coef_"
   ]
  },
  {
   "cell_type": "markdown",
   "metadata": {
    "colab_type": "text",
    "id": "3tevZ6Yw4mX9"
   },
   "source": [
    "Ahora visualizamos los datos de ambos:"
   ]
  },
  {
   "cell_type": "code",
   "execution_count": 9,
   "metadata": {
    "colab": {
     "base_uri": "https://localhost:8080/",
     "height": 477
    },
    "colab_type": "code",
    "executionInfo": {
     "elapsed": 1373,
     "status": "ok",
     "timestamp": 1558098864933,
     "user": {
      "displayName": "Fabio Augusto Gonzalez Osorio",
      "photoUrl": "https://lh5.googleusercontent.com/-jcmRx3yeVv4/AAAAAAAAAAI/AAAAAAAAAic/QZe3kSPTExE/s64/photo.jpg",
      "userId": "12068829047521495105"
     },
     "user_tz": 300
    },
    "id": "GBoQbimq4mYA",
    "outputId": "d42f0e6c-61ce-41b7-85c6-792a46249729"
   },
   "outputs": [
    {
     "name": "stderr",
     "output_type": "stream",
     "text": [
      "'c' argument looks like a single numeric RGB or RGBA sequence, which should be avoided as value-mapping will have precedence in case its length matches with 'x' & 'y'.  Please use a 2-D array with a single row if you really want to specify the same RGB or RGBA value for all points.\n",
      "'c' argument looks like a single numeric RGB or RGBA sequence, which should be avoided as value-mapping will have precedence in case its length matches with 'x' & 'y'.  Please use a 2-D array with a single row if you really want to specify the same RGB or RGBA value for all points.\n",
      "'c' argument looks like a single numeric RGB or RGBA sequence, which should be avoided as value-mapping will have precedence in case its length matches with 'x' & 'y'.  Please use a 2-D array with a single row if you really want to specify the same RGB or RGBA value for all points.\n"
     ]
    },
    {
     "data": {
      "image/png": "[encoded data removed]",
      "text/plain": [
       "<Figure size 720x432 with 2 Axes>"
      ]
     },
     "metadata": {
      "needs_background": "light"
     },
     "output_type": "display_data"
    }
   ],
   "source": [
    "pl.figure(figsize = (10, 6))    \n",
    "plot_decision_region(X_test_iris, gen_pred_fun(linear_iris))\n",
    "plot_data(X_test_iris, y_test_iris)"
   ]
  },
  {
   "cell_type": "markdown",
   "metadata": {
    "colab_type": "text",
    "id": "pk_E8pCo4mYJ"
   },
   "source": [
    "El error en el conjunto de entrenamiento y prueba es el siguiente:"
   ]
  },
  {
   "cell_type": "code",
   "execution_count": 10,
   "metadata": {
    "colab": {
     "base_uri": "https://localhost:8080/",
     "height": 52
    },
    "colab_type": "code",
    "executionInfo": {
     "elapsed": 426,
     "status": "ok",
     "timestamp": 1558098965226,
     "user": {
      "displayName": "Fabio Augusto Gonzalez Osorio",
      "photoUrl": "https://lh5.googleusercontent.com/-jcmRx3yeVv4/AAAAAAAAAAI/AAAAAAAAAic/QZe3kSPTExE/s64/photo.jpg",
      "userId": "12068829047521495105"
     },
     "user_tz": 300
    },
    "id": "XoOvluwv4mYL",
    "outputId": "b26105c8-89f6-4567-c6ff-c20dead2929f"
   },
   "outputs": [
    {
     "name": "stdout",
     "output_type": "stream",
     "text": [
      "Error en entrenamiento: 0.04761904761904767\n",
      "Error en prueba: 0.11111111111111116\n"
     ]
    }
   ],
   "source": [
    "print(\"Error en entrenamiento: {}\".format(1-linear_iris.score(X_train_iris, y_train_iris)))\n",
    "print(\"Error en prueba: {}\".format(1-linear_iris.score(X_test_iris, y_test_iris)))"
   ]
  },
  {
   "cell_type": "markdown",
   "metadata": {
    "colab_type": "text",
    "id": "E5JpH4A94mYV"
   },
   "source": [
    "Ahora hacemos los mismo para el conjunto de datos generado artificialmente:"
   ]
  },
  {
   "cell_type": "code",
   "execution_count": 11,
   "metadata": {
    "colab": {
     "base_uri": "https://localhost:8080/",
     "height": 459
    },
    "colab_type": "code",
    "executionInfo": {
     "elapsed": 1867,
     "status": "ok",
     "timestamp": 1558098969072,
     "user": {
      "displayName": "Fabio Augusto Gonzalez Osorio",
      "photoUrl": "https://lh5.googleusercontent.com/-jcmRx3yeVv4/AAAAAAAAAAI/AAAAAAAAAic/QZe3kSPTExE/s64/photo.jpg",
      "userId": "12068829047521495105"
     },
     "user_tz": 300
    },
    "id": "19r59ffV4mYX",
    "outputId": "d2e8f6d7-ab13-42cd-84c9-9e221773ce41"
   },
   "outputs": [
    {
     "name": "stderr",
     "output_type": "stream",
     "text": [
      "'c' argument looks like a single numeric RGB or RGBA sequence, which should be avoided as value-mapping will have precedence in case its length matches with 'x' & 'y'.  Please use a 2-D array with a single row if you really want to specify the same RGB or RGBA value for all points.\n",
      "'c' argument looks like a single numeric RGB or RGBA sequence, which should be avoided as value-mapping will have precedence in case its length matches with 'x' & 'y'.  Please use a 2-D array with a single row if you really want to specify the same RGB or RGBA value for all points.\n"
     ]
    },
    {
     "data": {
      "image/png": "[encoded data removed]",
      "text/plain": [
       "<Figure size 720x432 with 2 Axes>"
      ]
     },
     "metadata": {
      "needs_background": "light"
     },
     "output_type": "display_data"
    }
   ],
   "source": [
    "pl.figure(figsize = (10, 6))    \n",
    "plot_decision_region(X_moons, gen_pred_fun(linear_moons))\n",
    "plot_data(X_moons, y_moons)"
   ]
  },
  {
   "cell_type": "code",
   "execution_count": 12,
   "metadata": {
    "colab": {
     "base_uri": "https://localhost:8080/",
     "height": 52
    },
    "colab_type": "code",
    "executionInfo": {
     "elapsed": 529,
     "status": "ok",
     "timestamp": 1558098978955,
     "user": {
      "displayName": "Fabio Augusto Gonzalez Osorio",
      "photoUrl": "https://lh5.googleusercontent.com/-jcmRx3yeVv4/AAAAAAAAAAI/AAAAAAAAAic/QZe3kSPTExE/s64/photo.jpg",
      "userId": "12068829047521495105"
     },
     "user_tz": 300
    },
    "id": "Lj2USego4mYg",
    "outputId": "fea8ef1e-c78f-4807-e24e-00111a9facb4"
   },
   "outputs": [
    {
     "name": "stdout",
     "output_type": "stream",
     "text": [
      "Error en entrenamiento: 0.12380952380952381\n",
      "Error en prueba: 0.15000000000000002\n"
     ]
    }
   ],
   "source": [
    "print(\"Error en entrenamiento: {}\".format(1-linear_moons.score(X_train_moons, y_train_moons)))\n",
    "print(\"Error en prueba: {}\".format(1-linear_moons.score(X_test_moons, y_test_moons)))"
   ]
  },
  {
   "cell_type": "markdown",
   "metadata": {
    "colab_type": "text",
    "id": "aewYKK0_4mYo"
   },
   "source": [
    "## Kernel polinomial\n",
    "\n",
    "La función $k$ está definida como:\n",
    "$$\n",
    "k(x,y) = (\\gamma \\langle x, y\\rangle + r)^d\n",
    "$$\n",
    "dónde $d$ corresponde al grado del polinomio. De manera similar podemos acceder a la implementación de este kernel a través de `sklearn.svm.SVC`. Definimos primero un kernel polinomial de grado 2."
   ]
  },
  {
   "cell_type": "code",
   "execution_count": 13,
   "metadata": {
    "colab": {
     "base_uri": "https://localhost:8080/",
     "height": 72
    },
    "colab_type": "code",
    "executionInfo": {
     "elapsed": 439,
     "status": "ok",
     "timestamp": 1558099005742,
     "user": {
      "displayName": "Fabio Augusto Gonzalez Osorio",
      "photoUrl": "https://lh5.googleusercontent.com/-jcmRx3yeVv4/AAAAAAAAAAI/AAAAAAAAAic/QZe3kSPTExE/s64/photo.jpg",
      "userId": "12068829047521495105"
     },
     "user_tz": 300
    },
    "id": "KIkDxd5T4mY0",
    "outputId": "63afcf62-58b9-4210-9f4d-7d10782ad1d6"
   },
   "outputs": [
    {
     "name": "stderr",
     "output_type": "stream",
     "text": [
      "c:\\python37\\lib\\site-packages\\sklearn\\svm\\base.py:196: FutureWarning: The default value of gamma will change from 'auto' to 'scale' in version 0.22 to account better for unscaled features. Set gamma explicitly to 'auto' or 'scale' to avoid this warning.\n",
      "  \"avoid this warning.\", FutureWarning)\n"
     ]
    }
   ],
   "source": [
    "from sklearn.svm import SVC\n",
    "\n",
    "poly_svm = SVC(kernel='poly', degree=2, coef0=1)\n",
    "poly_svm.fit(X_train_moons, y_train_moons);"
   ]
  },
  {
   "cell_type": "code",
   "execution_count": 14,
   "metadata": {
    "colab": {
     "base_uri": "https://localhost:8080/",
     "height": 459
    },
    "colab_type": "code",
    "executionInfo": {
     "elapsed": 1596,
     "status": "ok",
     "timestamp": 1558099008000,
     "user": {
      "displayName": "Fabio Augusto Gonzalez Osorio",
      "photoUrl": "https://lh5.googleusercontent.com/-jcmRx3yeVv4/AAAAAAAAAAI/AAAAAAAAAic/QZe3kSPTExE/s64/photo.jpg",
      "userId": "12068829047521495105"
     },
     "user_tz": 300
    },
    "id": "zaQ6rg4w4mZC",
    "outputId": "2d701882-5e8b-4f53-ec4a-5db140c426c4"
   },
   "outputs": [
    {
     "name": "stderr",
     "output_type": "stream",
     "text": [
      "'c' argument looks like a single numeric RGB or RGBA sequence, which should be avoided as value-mapping will have precedence in case its length matches with 'x' & 'y'.  Please use a 2-D array with a single row if you really want to specify the same RGB or RGBA value for all points.\n",
      "'c' argument looks like a single numeric RGB or RGBA sequence, which should be avoided as value-mapping will have precedence in case its length matches with 'x' & 'y'.  Please use a 2-D array with a single row if you really want to specify the same RGB or RGBA value for all points.\n"
     ]
    },
    {
     "data": {
      "image/png": "[encoded data removed]",
      "text/plain": [
       "<Figure size 720x432 with 2 Axes>"
      ]
     },
     "metadata": {
      "needs_background": "light"
     },
     "output_type": "display_data"
    }
   ],
   "source": [
    "pl.figure(figsize = (10, 6))    \n",
    "plot_decision_region(X_test_moons, gen_pred_fun(poly_svm))\n",
    "plot_data(X_test_moons, y_test_moons)"
   ]
  },
  {
   "cell_type": "markdown",
   "metadata": {
    "colab_type": "text",
    "id": "4seyo1xk4mZX"
   },
   "source": [
    "Aunque si lo intentamos con un polinomio de grado $3$:"
   ]
  },
  {
   "cell_type": "code",
   "execution_count": 15,
   "metadata": {
    "colab": {
     "base_uri": "https://localhost:8080/",
     "height": 494
    },
    "colab_type": "code",
    "executionInfo": {
     "elapsed": 1433,
     "status": "ok",
     "timestamp": 1558099108461,
     "user": {
      "displayName": "Fabio Augusto Gonzalez Osorio",
      "photoUrl": "https://lh5.googleusercontent.com/-jcmRx3yeVv4/AAAAAAAAAAI/AAAAAAAAAic/QZe3kSPTExE/s64/photo.jpg",
      "userId": "12068829047521495105"
     },
     "user_tz": 300
    },
    "id": "abizCYp34mZZ",
    "outputId": "1883e790-1f80-497d-9b56-e747f7fddd04"
   },
   "outputs": [
    {
     "name": "stderr",
     "output_type": "stream",
     "text": [
      "c:\\python37\\lib\\site-packages\\sklearn\\svm\\base.py:196: FutureWarning: The default value of gamma will change from 'auto' to 'scale' in version 0.22 to account better for unscaled features. Set gamma explicitly to 'auto' or 'scale' to avoid this warning.\n",
      "  \"avoid this warning.\", FutureWarning)\n",
      "'c' argument looks like a single numeric RGB or RGBA sequence, which should be avoided as value-mapping will have precedence in case its length matches with 'x' & 'y'.  Please use a 2-D array with a single row if you really want to specify the same RGB or RGBA value for all points.\n",
      "'c' argument looks like a single numeric RGB or RGBA sequence, which should be avoided as value-mapping will have precedence in case its length matches with 'x' & 'y'.  Please use a 2-D array with a single row if you really want to specify the same RGB or RGBA value for all points.\n"
     ]
    },
    {
     "data": {
      "image/png": "[encoded data removed]",
      "text/plain": [
       "<Figure size 720x432 with 2 Axes>"
      ]
     },
     "metadata": {
      "needs_background": "light"
     },
     "output_type": "display_data"
    }
   ],
   "source": [
    "poly_svm = SVC(kernel='poly', degree=3, coef0=1)\n",
    "poly_svm.fit(X_train_moons, y_train_moons)\n",
    "\n",
    "pl.figure(figsize = (10, 6))    \n",
    "plot_decision_region(X_test_moons, gen_pred_fun(poly_svm))\n",
    "plot_data(X_test_moons, y_test_moons)"
   ]
  },
  {
   "cell_type": "markdown",
   "metadata": {
    "colab_type": "text",
    "id": "9j2ZmW_y4mZn"
   },
   "source": [
    "Medimos el error en entrenamiento y prueba"
   ]
  },
  {
   "cell_type": "code",
   "execution_count": 16,
   "metadata": {
    "colab": {
     "base_uri": "https://localhost:8080/",
     "height": 52
    },
    "colab_type": "code",
    "executionInfo": {
     "elapsed": 450,
     "status": "ok",
     "timestamp": 1558099113781,
     "user": {
      "displayName": "Fabio Augusto Gonzalez Osorio",
      "photoUrl": "https://lh5.googleusercontent.com/-jcmRx3yeVv4/AAAAAAAAAAI/AAAAAAAAAic/QZe3kSPTExE/s64/photo.jpg",
      "userId": "12068829047521495105"
     },
     "user_tz": 300
    },
    "id": "lr-9PSBx4mZq",
    "outputId": "718cb049-1386-45c0-a913-6500cad9a4c4"
   },
   "outputs": [
    {
     "name": "stdout",
     "output_type": "stream",
     "text": [
      "Error en entrenamiento: 0.09523809523809523\n",
      "Error en prueba: 0.12777777777777777\n"
     ]
    }
   ],
   "source": [
    "print(\"Error en entrenamiento: {}\".format(1-poly_svm.score(X_train_moons, y_train_moons)))\n",
    "print(\"Error en prueba: {}\".format(1-poly_svm.score(X_test_moons, y_test_moons)))"
   ]
  },
  {
   "cell_type": "markdown",
   "metadata": {
    "colab_type": "text",
    "id": "o1UsS2h44mZy"
   },
   "source": [
    "Ahora probamos con el conjunto de datos IRIS:"
   ]
  },
  {
   "cell_type": "code",
   "execution_count": 17,
   "metadata": {
    "colab": {
     "base_uri": "https://localhost:8080/",
     "height": 511
    },
    "colab_type": "code",
    "executionInfo": {
     "elapsed": 1553,
     "status": "ok",
     "timestamp": 1558099116574,
     "user": {
      "displayName": "Fabio Augusto Gonzalez Osorio",
      "photoUrl": "https://lh5.googleusercontent.com/-jcmRx3yeVv4/AAAAAAAAAAI/AAAAAAAAAic/QZe3kSPTExE/s64/photo.jpg",
      "userId": "12068829047521495105"
     },
     "user_tz": 300
    },
    "id": "jch9K6h74mZ0",
    "outputId": "2e7af7d5-e3c8-4657-9f9d-73dc7dd94eb1"
   },
   "outputs": [
    {
     "name": "stderr",
     "output_type": "stream",
     "text": [
      "c:\\python37\\lib\\site-packages\\sklearn\\svm\\base.py:196: FutureWarning: The default value of gamma will change from 'auto' to 'scale' in version 0.22 to account better for unscaled features. Set gamma explicitly to 'auto' or 'scale' to avoid this warning.\n",
      "  \"avoid this warning.\", FutureWarning)\n",
      "'c' argument looks like a single numeric RGB or RGBA sequence, which should be avoided as value-mapping will have precedence in case its length matches with 'x' & 'y'.  Please use a 2-D array with a single row if you really want to specify the same RGB or RGBA value for all points.\n",
      "'c' argument looks like a single numeric RGB or RGBA sequence, which should be avoided as value-mapping will have precedence in case its length matches with 'x' & 'y'.  Please use a 2-D array with a single row if you really want to specify the same RGB or RGBA value for all points.\n",
      "'c' argument looks like a single numeric RGB or RGBA sequence, which should be avoided as value-mapping will have precedence in case its length matches with 'x' & 'y'.  Please use a 2-D array with a single row if you really want to specify the same RGB or RGBA value for all points.\n"
     ]
    },
    {
     "data": {
      "image/png": "[encoded data removed]",
      "text/plain": [
       "<Figure size 720x432 with 2 Axes>"
      ]
     },
     "metadata": {
      "needs_background": "light"
     },
     "output_type": "display_data"
    }
   ],
   "source": [
    "poly_svm = SVC(kernel='poly', degree=3)\n",
    "poly_svm.fit(X_train_iris, y_train_iris)\n",
    "\n",
    "pl.figure(figsize = (10, 6))    \n",
    "plot_decision_region(X_test_iris, gen_pred_fun(poly_svm))\n",
    "plot_data(X_test_iris, y_test_iris)"
   ]
  },
  {
   "cell_type": "code",
   "execution_count": 18,
   "metadata": {
    "colab": {
     "base_uri": "https://localhost:8080/",
     "height": 52
    },
    "colab_type": "code",
    "executionInfo": {
     "elapsed": 520,
     "status": "ok",
     "timestamp": 1558099119978,
     "user": {
      "displayName": "Fabio Augusto Gonzalez Osorio",
      "photoUrl": "https://lh5.googleusercontent.com/-jcmRx3yeVv4/AAAAAAAAAAI/AAAAAAAAAic/QZe3kSPTExE/s64/photo.jpg",
      "userId": "12068829047521495105"
     },
     "user_tz": 300
    },
    "id": "hHCvU7C64mZ-",
    "outputId": "0081f176-55f6-444a-f330-9f8969bf2dee"
   },
   "outputs": [
    {
     "name": "stdout",
     "output_type": "stream",
     "text": [
      "Error en entrenamiento: 0.03809523809523807\n",
      "Error en prueba: 0.022222222222222254\n"
     ]
    }
   ],
   "source": [
    "print(\"Error en entrenamiento: {}\".format(1-poly_svm.score(X_train_iris, y_train_iris)))\n",
    "print(\"Error en prueba: {}\".format(1-poly_svm.score(X_test_iris, y_test_iris)))"
   ]
  },
  {
   "cell_type": "markdown",
   "metadata": {
    "colab_type": "text",
    "id": "1zsaCnGa4maD"
   },
   "source": [
    "## Kernel Gaussiano\n",
    "\n",
    "\n",
    "$$\n",
    "K(x, x') = \\exp\\left(-\\frac{\\|x-x'\\|^2}{2\\sigma^2}\\right)\n",
    "$$\n",
    "la cual se puede simplificar como\n",
    "$$\n",
    "K(x, x') = \\exp(-\\gamma \\|x-x'\\|^2)\n",
    "$$\n",
    "$$\n",
    "\\gamma \\ = \\frac{1}{2\\sigma^2}\n",
    "$$\n",
    "En la literatura este método tambien se encuentra como kernel usando una función de base radial (**RBF** por sus siglas en ingles). En el siguiente ejemplo probamos con un valor de $\\gamma$ pequeño:"
   ]
  },
  {
   "cell_type": "code",
   "execution_count": 19,
   "metadata": {
    "colab": {},
    "colab_type": "code",
    "id": "kFc0e-HH4maD"
   },
   "outputs": [],
   "source": [
    "rbf_svm = SVC(kernel='rbf', gamma = 0.001)\n",
    "rbf_svm.fit(X_train_moons, y_train_moons);"
   ]
  },
  {
   "cell_type": "code",
   "execution_count": 20,
   "metadata": {
    "colab": {
     "base_uri": "https://localhost:8080/",
     "height": 459
    },
    "colab_type": "code",
    "executionInfo": {
     "elapsed": 1715,
     "status": "ok",
     "timestamp": 1558099134117,
     "user": {
      "displayName": "Fabio Augusto Gonzalez Osorio",
      "photoUrl": "https://lh5.googleusercontent.com/-jcmRx3yeVv4/AAAAAAAAAAI/AAAAAAAAAic/QZe3kSPTExE/s64/photo.jpg",
      "userId": "12068829047521495105"
     },
     "user_tz": 300
    },
    "id": "bxGx0He-4maG",
    "outputId": "6e00cb81-b1cb-4e1c-f1b4-122025310936"
   },
   "outputs": [
    {
     "name": "stderr",
     "output_type": "stream",
     "text": [
      "'c' argument looks like a single numeric RGB or RGBA sequence, which should be avoided as value-mapping will have precedence in case its length matches with 'x' & 'y'.  Please use a 2-D array with a single row if you really want to specify the same RGB or RGBA value for all points.\n",
      "'c' argument looks like a single numeric RGB or RGBA sequence, which should be avoided as value-mapping will have precedence in case its length matches with 'x' & 'y'.  Please use a 2-D array with a single row if you really want to specify the same RGB or RGBA value for all points.\n"
     ]
    },
    {
     "data": {
      "image/png": "[encoded data removed]",
      "text/plain": [
       "<Figure size 720x432 with 2 Axes>"
      ]
     },
     "metadata": {
      "needs_background": "light"
     },
     "output_type": "display_data"
    }
   ],
   "source": [
    "pl.figure(figsize = (10, 6))    \n",
    "plot_decision_region(X_test_moons, gen_pred_fun(rbf_svm))\n",
    "plot_data(X_test_moons, y_test_moons)"
   ]
  },
  {
   "cell_type": "markdown",
   "metadata": {
    "colab_type": "text",
    "id": "Jh-WoG4c4maK"
   },
   "source": [
    "Reportamos el error de entrenamiento y prueba:"
   ]
  },
  {
   "cell_type": "code",
   "execution_count": 21,
   "metadata": {
    "colab": {
     "base_uri": "https://localhost:8080/",
     "height": 52
    },
    "colab_type": "code",
    "executionInfo": {
     "elapsed": 399,
     "status": "ok",
     "timestamp": 1558099145527,
     "user": {
      "displayName": "Fabio Augusto Gonzalez Osorio",
      "photoUrl": "https://lh5.googleusercontent.com/-jcmRx3yeVv4/AAAAAAAAAAI/AAAAAAAAAic/QZe3kSPTExE/s64/photo.jpg",
      "userId": "12068829047521495105"
     },
     "user_tz": 300
    },
    "id": "N1a1BQFr4maQ",
    "outputId": "b18be8e5-0660-4025-9225-a3370d7369ef"
   },
   "outputs": [
    {
     "name": "stdout",
     "output_type": "stream",
     "text": [
      "Error en entrenamiento: 0.19999999999999996\n",
      "Error en prueba: 0.21111111111111114\n"
     ]
    }
   ],
   "source": [
    "print(\"Error en entrenamiento: {}\".format(1-rbf_svm.score(X_train_moons, y_train_moons)))\n",
    "print(\"Error en prueba: {}\".format(1-rbf_svm.score(X_test_moons, y_test_moons)))"
   ]
  },
  {
   "cell_type": "markdown",
   "metadata": {
    "colab_type": "text",
    "id": "J3He4jvS4maS"
   },
   "source": [
    "Usamos un $\\gamma$ más grande"
   ]
  },
  {
   "cell_type": "code",
   "execution_count": 22,
   "metadata": {
    "colab": {
     "base_uri": "https://localhost:8080/",
     "height": 459
    },
    "colab_type": "code",
    "executionInfo": {
     "elapsed": 2166,
     "status": "ok",
     "timestamp": 1558099149667,
     "user": {
      "displayName": "Fabio Augusto Gonzalez Osorio",
      "photoUrl": "https://lh5.googleusercontent.com/-jcmRx3yeVv4/AAAAAAAAAAI/AAAAAAAAAic/QZe3kSPTExE/s64/photo.jpg",
      "userId": "12068829047521495105"
     },
     "user_tz": 300
    },
    "id": "cXV-WVoP4maV",
    "outputId": "01d2f289-4df0-4b5d-d1f2-83b7f422982a"
   },
   "outputs": [
    {
     "name": "stderr",
     "output_type": "stream",
     "text": [
      "'c' argument looks like a single numeric RGB or RGBA sequence, which should be avoided as value-mapping will have precedence in case its length matches with 'x' & 'y'.  Please use a 2-D array with a single row if you really want to specify the same RGB or RGBA value for all points.\n",
      "'c' argument looks like a single numeric RGB or RGBA sequence, which should be avoided as value-mapping will have precedence in case its length matches with 'x' & 'y'.  Please use a 2-D array with a single row if you really want to specify the same RGB or RGBA value for all points.\n"
     ]
    },
    {
     "data": {
      "image/png": "[encoded data removed]",
      "text/plain": [
       "<Figure size 720x432 with 2 Axes>"
      ]
     },
     "metadata": {
      "needs_background": "light"
     },
     "output_type": "display_data"
    }
   ],
   "source": [
    "rbf_svm = SVC(kernel='rbf', gamma = 1000)\n",
    "rbf_svm.fit(X_train_moons, y_train_moons)\n",
    "\n",
    "pl.figure(figsize = (10, 6))    \n",
    "plot_decision_region(X_test_moons, gen_pred_fun(rbf_svm))\n",
    "plot_data(X_test_moons, y_test_moons)"
   ]
  },
  {
   "cell_type": "markdown",
   "metadata": {
    "colab_type": "text",
    "id": "cTdfd2NT4mao"
   },
   "source": [
    "Ahora reportamos el error de entrenamiento y prueba:"
   ]
  },
  {
   "cell_type": "code",
   "execution_count": 23,
   "metadata": {
    "colab": {
     "base_uri": "https://localhost:8080/",
     "height": 52
    },
    "colab_type": "code",
    "executionInfo": {
     "elapsed": 409,
     "status": "ok",
     "timestamp": 1558099165172,
     "user": {
      "displayName": "Fabio Augusto Gonzalez Osorio",
      "photoUrl": "https://lh5.googleusercontent.com/-jcmRx3yeVv4/AAAAAAAAAAI/AAAAAAAAAic/QZe3kSPTExE/s64/photo.jpg",
      "userId": "12068829047521495105"
     },
     "user_tz": 300
    },
    "id": "hN9OWsrg4mar",
    "outputId": "47077511-17a5-4b1a-c237-608fba2ad3bb"
   },
   "outputs": [
    {
     "name": "stdout",
     "output_type": "stream",
     "text": [
      "Error en entrenamiento: 0.0\n",
      "Error en prueba: 0.22777777777777775\n"
     ]
    }
   ],
   "source": [
    "print(\"Error en entrenamiento: {}\".format(1-rbf_svm.score(X_train_moons, y_train_moons)))\n",
    "print(\"Error en prueba: {}\".format(1-rbf_svm.score(X_test_moons, y_test_moons)))"
   ]
  },
  {
   "cell_type": "markdown",
   "metadata": {
    "colab_type": "text",
    "id": "bbNDjoaF4maw"
   },
   "source": [
    "Ahora escogemos un valor de $\\gamma$ intermedio"
   ]
  },
  {
   "cell_type": "code",
   "execution_count": 24,
   "metadata": {
    "colab": {
     "base_uri": "https://localhost:8080/",
     "height": 459
    },
    "colab_type": "code",
    "executionInfo": {
     "elapsed": 1773,
     "status": "ok",
     "timestamp": 1558099187605,
     "user": {
      "displayName": "Fabio Augusto Gonzalez Osorio",
      "photoUrl": "https://lh5.googleusercontent.com/-jcmRx3yeVv4/AAAAAAAAAAI/AAAAAAAAAic/QZe3kSPTExE/s64/photo.jpg",
      "userId": "12068829047521495105"
     },
     "user_tz": 300
    },
    "id": "raTWjAl_4may",
    "outputId": "2a001057-79a0-4b78-ad87-c87e06cf333a"
   },
   "outputs": [
    {
     "name": "stderr",
     "output_type": "stream",
     "text": [
      "'c' argument looks like a single numeric RGB or RGBA sequence, which should be avoided as value-mapping will have precedence in case its length matches with 'x' & 'y'.  Please use a 2-D array with a single row if you really want to specify the same RGB or RGBA value for all points.\n",
      "'c' argument looks like a single numeric RGB or RGBA sequence, which should be avoided as value-mapping will have precedence in case its length matches with 'x' & 'y'.  Please use a 2-D array with a single row if you really want to specify the same RGB or RGBA value for all points.\n"
     ]
    },
    {
     "data": {
      "image/png": "[encoded data removed]",
      "text/plain": [
       "<Figure size 720x432 with 2 Axes>"
      ]
     },
     "metadata": {
      "needs_background": "light"
     },
     "output_type": "display_data"
    }
   ],
   "source": [
    "rbf_svm = SVC(kernel='rbf', gamma = 0.7)\n",
    "rbf_svm.fit(X_train_moons, y_train_moons)\n",
    "\n",
    "pl.figure(figsize = (10, 6))    \n",
    "plot_decision_region(X_test_moons, gen_pred_fun(rbf_svm))\n",
    "plot_data(X_test_moons, y_test_moons)"
   ]
  },
  {
   "cell_type": "code",
   "execution_count": 25,
   "metadata": {
    "colab": {
     "base_uri": "https://localhost:8080/",
     "height": 52
    },
    "colab_type": "code",
    "executionInfo": {
     "elapsed": 407,
     "status": "ok",
     "timestamp": 1558099200443,
     "user": {
      "displayName": "Fabio Augusto Gonzalez Osorio",
      "photoUrl": "https://lh5.googleusercontent.com/-jcmRx3yeVv4/AAAAAAAAAAI/AAAAAAAAAic/QZe3kSPTExE/s64/photo.jpg",
      "userId": "12068829047521495105"
     },
     "user_tz": 300
    },
    "id": "SkcTzLg-4ma4",
    "outputId": "243dc570-c4d6-4b85-90bb-dd98c9eaad10"
   },
   "outputs": [
    {
     "name": "stdout",
     "output_type": "stream",
     "text": [
      "Error en entrenamiento: 0.08809523809523812\n",
      "Error en prueba: 0.1444444444444445\n"
     ]
    }
   ],
   "source": [
    "print(\"Error en entrenamiento: {}\".format(1-rbf_svm.score(X_train_moons, y_train_moons)))\n",
    "print(\"Error en prueba: {}\".format(1-rbf_svm.score(X_test_moons, y_test_moons)))"
   ]
  },
  {
   "cell_type": "markdown",
   "metadata": {
    "colab_type": "text",
    "id": "ULwfwNmH4ma7"
   },
   "source": [
    "Probamos sobre el conjunto de datos iris"
   ]
  },
  {
   "cell_type": "code",
   "execution_count": 26,
   "metadata": {
    "colab": {
     "base_uri": "https://localhost:8080/",
     "height": 477
    },
    "colab_type": "code",
    "executionInfo": {
     "elapsed": 1550,
     "status": "ok",
     "timestamp": 1558099220250,
     "user": {
      "displayName": "Fabio Augusto Gonzalez Osorio",
      "photoUrl": "https://lh5.googleusercontent.com/-jcmRx3yeVv4/AAAAAAAAAAI/AAAAAAAAAic/QZe3kSPTExE/s64/photo.jpg",
      "userId": "12068829047521495105"
     },
     "user_tz": 300
    },
    "id": "TZY0ewQp4ma9",
    "outputId": "ca5eb3ce-ea3a-429a-9aa3-06704e9d6b19"
   },
   "outputs": [
    {
     "name": "stderr",
     "output_type": "stream",
     "text": [
      "'c' argument looks like a single numeric RGB or RGBA sequence, which should be avoided as value-mapping will have precedence in case its length matches with 'x' & 'y'.  Please use a 2-D array with a single row if you really want to specify the same RGB or RGBA value for all points.\n",
      "'c' argument looks like a single numeric RGB or RGBA sequence, which should be avoided as value-mapping will have precedence in case its length matches with 'x' & 'y'.  Please use a 2-D array with a single row if you really want to specify the same RGB or RGBA value for all points.\n",
      "'c' argument looks like a single numeric RGB or RGBA sequence, which should be avoided as value-mapping will have precedence in case its length matches with 'x' & 'y'.  Please use a 2-D array with a single row if you really want to specify the same RGB or RGBA value for all points.\n"
     ]
    },
    {
     "data": {
      "image/png": "[encoded data removed]",
      "text/plain": [
       "<Figure size 720x432 with 2 Axes>"
      ]
     },
     "metadata": {
      "needs_background": "light"
     },
     "output_type": "display_data"
    }
   ],
   "source": [
    "rbf_svm = SVC(kernel='rbf', gamma = 0.7)\n",
    "rbf_svm.fit(X_train_iris, y_train_iris)\n",
    "\n",
    "pl.figure(figsize = (10, 6))    \n",
    "plot_decision_region(X_test_iris, gen_pred_fun(rbf_svm))\n",
    "plot_data(X_test_iris, y_test_iris)"
   ]
  },
  {
   "cell_type": "markdown",
   "metadata": {
    "colab_type": "text",
    "id": "ZoZJ1WLi4mbB"
   },
   "source": [
    "Finalmente reportamos el error en entrenamiento y prueba:"
   ]
  },
  {
   "cell_type": "code",
   "execution_count": 27,
   "metadata": {
    "colab": {
     "base_uri": "https://localhost:8080/",
     "height": 52
    },
    "colab_type": "code",
    "executionInfo": {
     "elapsed": 402,
     "status": "ok",
     "timestamp": 1558099223298,
     "user": {
      "displayName": "Fabio Augusto Gonzalez Osorio",
      "photoUrl": "https://lh5.googleusercontent.com/-jcmRx3yeVv4/AAAAAAAAAAI/AAAAAAAAAic/QZe3kSPTExE/s64/photo.jpg",
      "userId": "12068829047521495105"
     },
     "user_tz": 300
    },
    "id": "AqwCfefp4mbC",
    "outputId": "322b44cd-5f58-4593-e6c8-32b95431b879"
   },
   "outputs": [
    {
     "name": "stdout",
     "output_type": "stream",
     "text": [
      "Error en entrenamiento: 0.02857142857142858\n",
      "Error en prueba: 0.022222222222222254\n"
     ]
    }
   ],
   "source": [
    "print(\"Error en entrenamiento: {}\".format(1-rbf_svm.score(X_train_iris, y_train_iris)))\n",
    "print(\"Error en prueba: {}\".format(1-rbf_svm.score(X_test_iris, y_test_iris)))"
   ]
  },
  {
   "cell_type": "markdown",
   "metadata": {
    "colab_type": "text",
    "id": "bxQp0Wfx4mbF"
   },
   "source": [
    "# Estimando de una forma más robusta los hiperparámetros del modelo\n",
    "\n",
    "Hasta el momento nos hemos concentrado en evaluar nuestros modelos en una partición de prueba. Sin embargo, es común introducir sobreajuste a través de la modificación manual de los hiperparámetros de un modelo conforme vamos reportando el error de generalización sobre el conjunto de prueba.\n",
    "\n",
    "<img src=\"https://drive.google.com/uc?export=view&id=1brLudEu094L7H3-cFqnrIRZnDrFIfrNW\">\n",
    "\n",
    "En la anterior imagen, introducimos una nueva partición, conocida como partición de \"**validación**\". Esta partición es resultado de tomar la partición de entrenamiento y volver a dividirla (en entrenamiento y validación) de tal forma que cualquier configuración de parámetros que se use para entrenar un modelo, pueda ser reportada en **validación**. Una vez estemos seguros que tenemos el modelo con el mejor desempeño en **validación**, volvemos a unir ambas particiones, entrenamos un modelo sobre la partición original de entrenamiento y reportamos **una sola vez** en el conjunto de prueba."
   ]
  },
  {
   "cell_type": "markdown",
   "metadata": {
    "colab_type": "text",
    "id": "31NQepzl4mbF"
   },
   "source": [
    "# Validación cruzada de  k pliegues"
   ]
  },
  {
   "cell_type": "markdown",
   "metadata": {
    "colab_type": "text",
    "id": "Wj4ecIP54mbI"
   },
   "source": [
    "A pesar de que se introdujo una nueva partición para validar los parámetros de un modelo, se sigue usando una partición reducida para entrenar el conjunto de datos. La validación cruzada nos permite usar una mayor parte de los datos para construír el modelo y generar un estimador más robusto y con mayor capacidad de generalización. En validación cruzada, los datos son particionados varias veces en entrenamiento y validación de forma repetida. Finalmente el desempeño del clasificador es agregado sobre las diferentes particiones de validación para obtener un estimador más robusto.\n",
    "\n",
    "La validación cruzada se hace comúnmente de la siguiente manera:\n",
    "* Se divide el conjunto de entrenamiento en k-pliegues o particiones (usualmente 3, 5 o 10).\n",
    "* Estas particiones deben ser del mismo tamaño\n",
    "* En cada iteración uno de los pliegues es usado como la partición de validación, mientras el resto es usado como la partición de entrenamiento.\n",
    "* Se reporta y guarda el desempeño sobre esa partición de validación\n",
    "\n",
    "<img src=\"https://drive.google.com/uc?export=view&id=12nCvyPDNOgHuxpToJrlR-m71nt3SOrKo\">"
   ]
  },
  {
   "cell_type": "markdown",
   "metadata": {
    "colab_type": "text",
    "id": "Z9zTjnsV4mby"
   },
   "source": [
    "## Validación cruzada usando Scikit-Learn\n",
    "\n",
    "Scikit-Learn provee una implementación muy eficiente para realizar **validación cruzada** usando `sklearn.model_selection`. `sklearn.model_selection.cross_val_score` recibe un estimador y un conjunto de datos, luego \n",
    "hace el particionamiento y entrena un modelo sobre cada partición de validación."
   ]
  },
  {
   "cell_type": "code",
   "execution_count": 28,
   "metadata": {
    "colab": {},
    "colab_type": "code",
    "id": "FVG0O_O04mbz"
   },
   "outputs": [],
   "source": [
    "from sklearn.model_selection import cross_val_score, KFold, StratifiedKFold\n",
    "X = iris.data\n",
    "y = iris.target\n",
    "\n",
    "classifier = LinearSVC()\n"
   ]
  },
  {
   "cell_type": "markdown",
   "metadata": {
    "colab_type": "text",
    "id": "OeoxnT4P4mb1"
   },
   "source": [
    "El parámetro `cv` en `cross_val_score` controla el número de pliegues a usar."
   ]
  },
  {
   "cell_type": "code",
   "execution_count": 29,
   "metadata": {
    "colab": {
     "base_uri": "https://localhost:8080/",
     "height": 245
    },
    "colab_type": "code",
    "executionInfo": {
     "elapsed": 494,
     "status": "ok",
     "timestamp": 1558099334855,
     "user": {
      "displayName": "Fabio Augusto Gonzalez Osorio",
      "photoUrl": "https://lh5.googleusercontent.com/-jcmRx3yeVv4/AAAAAAAAAAI/AAAAAAAAAic/QZe3kSPTExE/s64/photo.jpg",
      "userId": "12068829047521495105"
     },
     "user_tz": 300
    },
    "id": "j_pig3JR4mb2",
    "outputId": "4024dc18-3f39-42d1-cd1b-d909621dbfa3"
   },
   "outputs": [
    {
     "name": "stdout",
     "output_type": "stream",
     "text": [
      "Accuracy por cada pliegue: [1.         1.         0.93333333 0.9        1.        ]\n",
      "Accuracy promedio sobre los 5 pliegues: 0.9666666666666668\n"
     ]
    },
    {
     "name": "stderr",
     "output_type": "stream",
     "text": [
      "c:\\python37\\lib\\site-packages\\sklearn\\svm\\base.py:931: ConvergenceWarning: Liblinear failed to converge, increase the number of iterations.\n",
      "  \"the number of iterations.\", ConvergenceWarning)\n",
      "c:\\python37\\lib\\site-packages\\sklearn\\svm\\base.py:931: ConvergenceWarning: Liblinear failed to converge, increase the number of iterations.\n",
      "  \"the number of iterations.\", ConvergenceWarning)\n",
      "c:\\python37\\lib\\site-packages\\sklearn\\svm\\base.py:931: ConvergenceWarning: Liblinear failed to converge, increase the number of iterations.\n",
      "  \"the number of iterations.\", ConvergenceWarning)\n",
      "c:\\python37\\lib\\site-packages\\sklearn\\svm\\base.py:931: ConvergenceWarning: Liblinear failed to converge, increase the number of iterations.\n",
      "  \"the number of iterations.\", ConvergenceWarning)\n",
      "c:\\python37\\lib\\site-packages\\sklearn\\svm\\base.py:931: ConvergenceWarning: Liblinear failed to converge, increase the number of iterations.\n",
      "  \"the number of iterations.\", ConvergenceWarning)\n"
     ]
    }
   ],
   "source": [
    "X = iris.data\n",
    "y = iris.target\n",
    "\n",
    "scores = cross_val_score(classifier, X, y, cv=5)\n",
    "print('Accuracy por cada pliegue: {}'.format(scores))\n",
    "print('Accuracy promedio sobre los 5 pliegues: {}'.format(np.mean(scores)))"
   ]
  },
  {
   "cell_type": "markdown",
   "metadata": {
    "colab_type": "text",
    "id": "pKpJSO3i4mb5"
   },
   "source": [
    "`cross_val_score` realiza por defecto una partición estratificada usando `sklearn.model_selection.StratifiedKFold`. Esta estrategia consiste en hacer un particionamiento de tal forma que cada partición tenga la misma distribución de etiquetas $y$. En caso que no se quiera hacer una partición estratificada, se puede usar `sklearn.model_selection.KFold`.\n",
    "\n",
    "`sklearn.model_selection.StratifiedKFold` genera de forma automática la partición estratificada, sin necesidad de hacer una permutación de los datos como lo hicimos anteriormente. A continuación revisamos los índices que genera `StratifiedKFold`:"
   ]
  },
  {
   "cell_type": "code",
   "execution_count": 30,
   "metadata": {
    "colab": {
     "base_uri": "https://localhost:8080/",
     "height": 373
    },
    "colab_type": "code",
    "executionInfo": {
     "elapsed": 524,
     "status": "ok",
     "timestamp": 1539036388897,
     "user": {
      "displayName": "Fabio A. Gonzalez",
      "photoUrl": "",
      "userId": "12068829047521495105"
     },
     "user_tz": 300
    },
    "id": "TYUiBzS84mb7",
    "outputId": "6236dac5-326f-4170-8320-5d8847147c9f"
   },
   "outputs": [
    {
     "name": "stdout",
     "output_type": "stream",
     "text": [
      "[  0   1   2   3   4   5   6   7   8   9  50  51  52  53  54  55  56  57\n",
      "  58  59 100 101 102 103 104 105 106 107 108 109]\n",
      "Tamaño entrenamiento: 120\n",
      "Tamaño validación: 30\n",
      "[ 10  11  12  13  14  15  16  17  18  19  60  61  62  63  64  65  66  67\n",
      "  68  69 110 111 112 113 114 115 116 117 118 119]\n",
      "Tamaño entrenamiento: 120\n",
      "Tamaño validación: 30\n",
      "[ 20  21  22  23  24  25  26  27  28  29  70  71  72  73  74  75  76  77\n",
      "  78  79 120 121 122 123 124 125 126 127 128 129]\n",
      "Tamaño entrenamiento: 120\n",
      "Tamaño validación: 30\n",
      "[ 30  31  32  33  34  35  36  37  38  39  80  81  82  83  84  85  86  87\n",
      "  88  89 130 131 132 133 134 135 136 137 138 139]\n",
      "Tamaño entrenamiento: 120\n",
      "Tamaño validación: 30\n",
      "[ 40  41  42  43  44  45  46  47  48  49  90  91  92  93  94  95  96  97\n",
      "  98  99 140 141 142 143 144 145 146 147 148 149]\n",
      "Tamaño entrenamiento: 120\n",
      "Tamaño validación: 30\n"
     ]
    }
   ],
   "source": [
    "cv = StratifiedKFold(n_splits=5)\n",
    "\n",
    "for train, val in cv.split(iris.data, iris.target):\n",
    "    print(val)\n",
    "    print('Tamaño entrenamiento: {}'.format(len(train)))\n",
    "    print('Tamaño validación: {}'.format(len(val)))"
   ]
  },
  {
   "cell_type": "markdown",
   "metadata": {
    "colab_type": "text",
    "id": "RQJ4YcrL4mb-"
   },
   "source": [
    "Usando una función definida previamente, vamos a validar la distribución de las etiquetas por clase."
   ]
  },
  {
   "cell_type": "code",
   "execution_count": 31,
   "metadata": {
    "colab": {
     "base_uri": "https://localhost:8080/",
     "height": 280
    },
    "colab_type": "code",
    "executionInfo": {
     "elapsed": 516,
     "status": "ok",
     "timestamp": 1539036402824,
     "user": {
      "displayName": "Fabio A. Gonzalez",
      "photoUrl": "",
      "userId": "12068829047521495105"
     },
     "user_tz": 300
    },
    "id": "xOEzcWxL4mb-",
    "outputId": "28e523fa-c04d-4f4c-abb7-7eabb4f5cbec"
   },
   "outputs": [
    {
     "data": {
      "image/png": "[encoded data removed]",
      "text/plain": [
       "<Figure size 432x288 with 1 Axes>"
      ]
     },
     "metadata": {
      "needs_background": "light"
     },
     "output_type": "display_data"
    }
   ],
   "source": [
    "n_folds = 5\n",
    "cv_str = StratifiedKFold(n_splits=n_folds)\n",
    "y = iris.target\n",
    "\n",
    "y_labels = []\n",
    "for _, val in cv_str.split(iris.data, iris.target):\n",
    "    y_labels.append(y[val])\n",
    "\n",
    "plot_labels(n_folds, 3, y_labels)"
   ]
  },
  {
   "cell_type": "code",
   "execution_count": 32,
   "metadata": {
    "colab": {
     "base_uri": "https://localhost:8080/",
     "height": 70
    },
    "colab_type": "code",
    "executionInfo": {
     "elapsed": 517,
     "status": "ok",
     "timestamp": 1539036467245,
     "user": {
      "displayName": "Fabio A. Gonzalez",
      "photoUrl": "",
      "userId": "12068829047521495105"
     },
     "user_tz": 300
    },
    "id": "5i_VMVyhxjei",
    "outputId": "ff682cad-4592-40b7-e4cd-15801b840f26"
   },
   "outputs": [
    {
     "name": "stdout",
     "output_type": "stream",
     "text": [
      "Accuracy por cada pliegue: [1.         1.         0.93333333 0.9        1.        ]\n",
      "Accuracy promedio sobre los 5 pliegues: 0.9666666666666668\n"
     ]
    },
    {
     "name": "stderr",
     "output_type": "stream",
     "text": [
      "c:\\python37\\lib\\site-packages\\sklearn\\svm\\base.py:931: ConvergenceWarning: Liblinear failed to converge, increase the number of iterations.\n",
      "  \"the number of iterations.\", ConvergenceWarning)\n",
      "c:\\python37\\lib\\site-packages\\sklearn\\svm\\base.py:931: ConvergenceWarning: Liblinear failed to converge, increase the number of iterations.\n",
      "  \"the number of iterations.\", ConvergenceWarning)\n",
      "c:\\python37\\lib\\site-packages\\sklearn\\svm\\base.py:931: ConvergenceWarning: Liblinear failed to converge, increase the number of iterations.\n",
      "  \"the number of iterations.\", ConvergenceWarning)\n",
      "c:\\python37\\lib\\site-packages\\sklearn\\svm\\base.py:931: ConvergenceWarning: Liblinear failed to converge, increase the number of iterations.\n",
      "  \"the number of iterations.\", ConvergenceWarning)\n",
      "c:\\python37\\lib\\site-packages\\sklearn\\svm\\base.py:931: ConvergenceWarning: Liblinear failed to converge, increase the number of iterations.\n",
      "  \"the number of iterations.\", ConvergenceWarning)\n"
     ]
    }
   ],
   "source": [
    "scores = cross_val_score(classifier, X, y, cv=cv_str)\n",
    "print('Accuracy por cada pliegue: {}'.format(scores))\n",
    "print('Accuracy promedio sobre los 5 pliegues: {}'.format(np.mean(scores)))"
   ]
  },
  {
   "cell_type": "markdown",
   "metadata": {
    "colab_type": "text",
    "id": "Z954KdDm4mcC"
   },
   "source": [
    "Por otro lado, usando `KFold` podemos obtener un particionamiento de tantos pliegues como se especifiquen. Sin embargo, se corre el riesgo de no generar particiones balanceadas, por lo tanto lo estimadores no van a tener el desempeño esperado. Por ejemplo en el **Pliegue 0** solo hay datos de la clase $0$."
   ]
  },
  {
   "cell_type": "code",
   "execution_count": 33,
   "metadata": {
    "colab": {
     "base_uri": "https://localhost:8080/",
     "height": 280
    },
    "colab_type": "code",
    "executionInfo": {
     "elapsed": 487,
     "status": "ok",
     "timestamp": 1539036475014,
     "user": {
      "displayName": "Fabio A. Gonzalez",
      "photoUrl": "",
      "userId": "12068829047521495105"
     },
     "user_tz": 300
    },
    "id": "-TAhlRqz4mcD",
    "outputId": "56bdeb59-2ca5-4240-db0b-f269b35a5ff2"
   },
   "outputs": [
    {
     "data": {
      "image/png": "[encoded data removed]",
      "text/plain": [
       "<Figure size 432x288 with 1 Axes>"
      ]
     },
     "metadata": {
      "needs_background": "light"
     },
     "output_type": "display_data"
    }
   ],
   "source": [
    "n_folds = 5\n",
    "cv_nostr = KFold(n_splits=n_folds)\n",
    "y = iris.target\n",
    "\n",
    "y_labels = []\n",
    "for _, val in cv_nostr.split(iris.data, iris.target):\n",
    "    y_labels.append(y[val])\n",
    "\n",
    "plot_labels(n_folds, 3, y_labels)"
   ]
  },
  {
   "cell_type": "code",
   "execution_count": 34,
   "metadata": {
    "colab": {
     "base_uri": "https://localhost:8080/",
     "height": 70
    },
    "colab_type": "code",
    "executionInfo": {
     "elapsed": 425,
     "status": "ok",
     "timestamp": 1539036486074,
     "user": {
      "displayName": "Fabio A. Gonzalez",
      "photoUrl": "",
      "userId": "12068829047521495105"
     },
     "user_tz": 300
    },
    "id": "JQ7G_0-hxsr-",
    "outputId": "6f6c54c7-fd00-4dbe-9d03-52cd90b51dc7"
   },
   "outputs": [
    {
     "name": "stdout",
     "output_type": "stream",
     "text": [
      "Accuracy por cada pliegue: [1.         1.         0.66666667 0.96666667 0.66666667]\n",
      "Accuracy promedio sobre los 5 pliegues: 0.86\n"
     ]
    },
    {
     "name": "stderr",
     "output_type": "stream",
     "text": [
      "c:\\python37\\lib\\site-packages\\sklearn\\svm\\base.py:931: ConvergenceWarning: Liblinear failed to converge, increase the number of iterations.\n",
      "  \"the number of iterations.\", ConvergenceWarning)\n",
      "c:\\python37\\lib\\site-packages\\sklearn\\svm\\base.py:931: ConvergenceWarning: Liblinear failed to converge, increase the number of iterations.\n",
      "  \"the number of iterations.\", ConvergenceWarning)\n",
      "c:\\python37\\lib\\site-packages\\sklearn\\svm\\base.py:931: ConvergenceWarning: Liblinear failed to converge, increase the number of iterations.\n",
      "  \"the number of iterations.\", ConvergenceWarning)\n",
      "c:\\python37\\lib\\site-packages\\sklearn\\svm\\base.py:931: ConvergenceWarning: Liblinear failed to converge, increase the number of iterations.\n",
      "  \"the number of iterations.\", ConvergenceWarning)\n",
      "c:\\python37\\lib\\site-packages\\sklearn\\svm\\base.py:931: ConvergenceWarning: Liblinear failed to converge, increase the number of iterations.\n",
      "  \"the number of iterations.\", ConvergenceWarning)\n"
     ]
    }
   ],
   "source": [
    "scores = cross_val_score(classifier, X, y, cv=cv_nostr)\n",
    "print('Accuracy por cada pliegue: {}'.format(scores))\n",
    "print('Accuracy promedio sobre los 5 pliegues: {}'.format(np.mean(scores)))"
   ]
  },
  {
   "cell_type": "markdown",
   "metadata": {
    "colab_type": "text",
    "id": "t-iqgqFr4mcG"
   },
   "source": [
    "# Grid search"
   ]
  },
  {
   "cell_type": "markdown",
   "metadata": {
    "colab_type": "text",
    "id": "fDz2uko74mcG"
   },
   "source": [
    "SVM usando RBF comúnmente requiere el ajuste de dos parámetros:\n",
    "* `gamma`\n",
    "* `C`\n",
    "\n",
    "Ambos parámetros pueden ser explorados usando un retículo (grid) de parámetros y evaluando su desempeño usando validación cruzada de $k$ pliegues. A continuación, creamos una partición entrenamiento y prueba sobre el conjunto de datos IRIS."
   ]
  },
  {
   "cell_type": "code",
   "execution_count": 35,
   "metadata": {
    "colab": {},
    "colab_type": "code",
    "id": "90tMB4Sj4mcG"
   },
   "outputs": [],
   "source": [
    "from sklearn.model_selection import train_test_split, GridSearchCV\n",
    "\n",
    "X_train, X_test, y_train, y_test = train_test_split(X, y, test_size=0.3, random_state=1)"
   ]
  },
  {
   "cell_type": "markdown",
   "metadata": {
    "colab_type": "text",
    "id": "wTDnNHTp4mcS"
   },
   "source": [
    "Definimos los siguientes valores para $C$ y $\\textit{gamma}$."
   ]
  },
  {
   "cell_type": "code",
   "execution_count": 36,
   "metadata": {
    "colab": {},
    "colab_type": "code",
    "id": "q6XXD8U54mcU"
   },
   "outputs": [],
   "source": [
    "grid = [i for i in range(-5, 7, 1)]\n",
    "param_grid = {'C': [2**i for i in grid], 'gamma': [2**i for i in grid]}"
   ]
  },
  {
   "cell_type": "markdown",
   "metadata": {
    "colab_type": "text",
    "id": "7KBcxPY64mcc"
   },
   "source": [
    "Valores de $C$:"
   ]
  },
  {
   "cell_type": "code",
   "execution_count": 37,
   "metadata": {
    "colab": {
     "base_uri": "https://localhost:8080/",
     "height": 35
    },
    "colab_type": "code",
    "executionInfo": {
     "elapsed": 465,
     "status": "ok",
     "timestamp": 1558099566187,
     "user": {
      "displayName": "Fabio Augusto Gonzalez Osorio",
      "photoUrl": "https://lh5.googleusercontent.com/-jcmRx3yeVv4/AAAAAAAAAAI/AAAAAAAAAic/QZe3kSPTExE/s64/photo.jpg",
      "userId": "12068829047521495105"
     },
     "user_tz": 300
    },
    "id": "S-hARTcE4mcd",
    "outputId": "c11eb296-f2c0-421f-a15a-a946744a279b"
   },
   "outputs": [
    {
     "name": "stdout",
     "output_type": "stream",
     "text": [
      "[0.03125, 0.0625, 0.125, 0.25, 0.5, 1, 2, 4, 8, 16, 32, 64]\n"
     ]
    }
   ],
   "source": [
    "print(param_grid['C'])"
   ]
  },
  {
   "cell_type": "markdown",
   "metadata": {
    "colab_type": "text",
    "id": "2-6Z8Go94mci"
   },
   "source": [
    "Valores de $\\textit{gamma}$:"
   ]
  },
  {
   "cell_type": "code",
   "execution_count": 38,
   "metadata": {
    "colab": {
     "base_uri": "https://localhost:8080/",
     "height": 35
    },
    "colab_type": "code",
    "executionInfo": {
     "elapsed": 527,
     "status": "ok",
     "timestamp": 1558099566762,
     "user": {
      "displayName": "Fabio Augusto Gonzalez Osorio",
      "photoUrl": "https://lh5.googleusercontent.com/-jcmRx3yeVv4/AAAAAAAAAAI/AAAAAAAAAic/QZe3kSPTExE/s64/photo.jpg",
      "userId": "12068829047521495105"
     },
     "user_tz": 300
    },
    "id": "D6UY5V-F4mci",
    "outputId": "145d04ed-b1b8-40e1-a933-f3e7b639e43a"
   },
   "outputs": [
    {
     "name": "stdout",
     "output_type": "stream",
     "text": [
      "[0.03125, 0.0625, 0.125, 0.25, 0.5, 1, 2, 4, 8, 16, 32, 64]\n"
     ]
    }
   ],
   "source": [
    "print(param_grid['gamma'])"
   ]
  },
  {
   "cell_type": "code",
   "execution_count": 39,
   "metadata": {
    "colab": {
     "base_uri": "https://localhost:8080/",
     "height": 52
    },
    "colab_type": "code",
    "executionInfo": {
     "elapsed": 563,
     "status": "ok",
     "timestamp": 1558099567540,
     "user": {
      "displayName": "Fabio Augusto Gonzalez Osorio",
      "photoUrl": "https://lh5.googleusercontent.com/-jcmRx3yeVv4/AAAAAAAAAAI/AAAAAAAAAic/QZe3kSPTExE/s64/photo.jpg",
      "userId": "12068829047521495105"
     },
     "user_tz": 300
    },
    "id": "YvIFKj9c4mcn",
    "outputId": "64c18eb5-4181-4ade-dd3d-cc4a378ae4ba"
   },
   "outputs": [
    {
     "data": {
      "text/plain": [
       "{'C': [0.03125, 0.0625, 0.125, 0.25, 0.5, 1, 2, 4, 8, 16, 32, 64],\n",
       " 'gamma': [0.03125, 0.0625, 0.125, 0.25, 0.5, 1, 2, 4, 8, 16, 32, 64]}"
      ]
     },
     "execution_count": 39,
     "metadata": {},
     "output_type": "execute_result"
    }
   ],
   "source": [
    "param_grid"
   ]
  },
  {
   "cell_type": "markdown",
   "metadata": {
    "colab_type": "text",
    "id": "olCCRaVw4mdM"
   },
   "source": [
    "`GridSearchCV` recibe dos elementos fundamentales:\n",
    "* `estimator`: Modelo de Scikit-Learn. Puede ser `SVC(kernel='rbf')`.\n",
    "* `param_grid`: Diccionario que contiene los parámetros que se van a explorar usando validación cruzada."
   ]
  },
  {
   "cell_type": "code",
   "execution_count": 40,
   "metadata": {
    "colab": {
     "base_uri": "https://localhost:8080/",
     "height": 15308
    },
    "colab_type": "code",
    "executionInfo": {
     "elapsed": 1314,
     "status": "ok",
     "timestamp": 1558099570127,
     "user": {
      "displayName": "Fabio Augusto Gonzalez Osorio",
      "photoUrl": "https://lh5.googleusercontent.com/-jcmRx3yeVv4/AAAAAAAAAAI/AAAAAAAAAic/QZe3kSPTExE/s64/photo.jpg",
      "userId": "12068829047521495105"
     },
     "user_tz": 300
    },
    "id": "jmQBKukE4mdO",
    "outputId": "4d47b1f8-a4f8-41b3-d7a7-a63098270239"
   },
   "outputs": [
    {
     "name": "stdout",
     "output_type": "stream",
     "text": [
      "Fitting 3 folds for each of 144 candidates, totalling 432 fits\n",
      "[CV] C=0.03125, gamma=0.03125 ........................................\n",
      "[CV] ......................... C=0.03125, gamma=0.03125, total=   0.0s\n",
      "[CV] C=0.03125, gamma=0.03125 ........................................\n",
      "[CV] ......................... C=0.03125, gamma=0.03125, total=   0.0s\n",
      "[CV] C=0.03125, gamma=0.03125 ........................................\n",
      "[CV] ......................... C=0.03125, gamma=0.03125, total=   0.0s\n",
      "[CV] C=0.03125, gamma=0.0625 .........................................\n",
      "[CV] .......................... C=0.03125, gamma=0.0625, total=   0.0s\n",
      "[CV] C=0.03125, gamma=0.0625 .........................................\n",
      "[CV] .......................... C=0.03125, gamma=0.0625, total=   0.0s\n",
      "[CV] C=0.03125, gamma=0.0625 .........................................\n",
      "[CV] .......................... C=0.03125, gamma=0.0625, total=   0.0s\n",
      "[CV] C=0.03125, gamma=0.125 ..........................................\n",
      "[CV] ........................... C=0.03125, gamma=0.125, total=   0.0s\n",
      "[CV] C=0.03125, gamma=0.125 ..........................................\n",
      "[CV] ........................... C=0.03125, gamma=0.125, total=   0.0s\n",
      "[CV] C=0.03125, gamma=0.125 ..........................................\n",
      "[CV] ........................... C=0.03125, gamma=0.125, total=   0.0s\n",
      "[CV] C=0.03125, gamma=0.25 ...........................................\n",
      "[CV] ............................ C=0.03125, gamma=0.25, total=   0.0s\n",
      "[CV] C=0.03125, gamma=0.25 ...........................................\n",
      "[CV] ............................ C=0.03125, gamma=0.25, total=   0.0s\n",
      "[CV] C=0.03125, gamma=0.25 ...........................................\n",
      "[CV] ............................ C=0.03125, gamma=0.25, total=   0.0s\n",
      "[CV] C=0.03125, gamma=0.5 ............................................\n",
      "[CV] ............................. C=0.03125, gamma=0.5, total=   0.0s\n",
      "[CV] C=0.03125, gamma=0.5 ............................................\n",
      "[CV] ............................. C=0.03125, gamma=0.5, total=   0.0s\n"
     ]
    },
    {
     "name": "stderr",
     "output_type": "stream",
     "text": [
      "c:\\python37\\lib\\site-packages\\sklearn\\model_selection\\_split.py:2053: FutureWarning: You should specify a value for 'cv' instead of relying on the default value. The default value will change from 3 to 5 in version 0.22.\n",
      "  warnings.warn(CV_WARNING, FutureWarning)\n",
      "[Parallel(n_jobs=1)]: Using backend SequentialBackend with 1 concurrent workers.\n",
      "[Parallel(n_jobs=1)]: Done   1 out of   1 | elapsed:    0.0s remaining:    0.0s\n"
     ]
    },
    {
     "name": "stdout",
     "output_type": "stream",
     "text": [
      "[CV] C=0.03125, gamma=0.5 ............................................\n",
      "[CV] ............................. C=0.03125, gamma=0.5, total=   0.0s\n",
      "[CV] C=0.03125, gamma=1 ..............................................\n",
      "[CV] ............................... C=0.03125, gamma=1, total=   0.0s\n",
      "[CV] C=0.03125, gamma=1 ..............................................\n",
      "[CV] ............................... C=0.03125, gamma=1, total=   0.0s\n",
      "[CV] C=0.03125, gamma=1 ..............................................\n",
      "[CV] ............................... C=0.03125, gamma=1, total=   0.0s\n",
      "[CV] C=0.03125, gamma=2 ..............................................\n",
      "[CV] ............................... C=0.03125, gamma=2, total=   0.0s\n",
      "[CV] C=0.03125, gamma=2 ..............................................\n",
      "[CV] ............................... C=0.03125, gamma=2, total=   0.0s\n",
      "[CV] C=0.03125, gamma=2 ..............................................\n",
      "[CV] ............................... C=0.03125, gamma=2, total=   0.0s\n",
      "[CV] C=0.03125, gamma=4 ..............................................\n",
      "[CV] ............................... C=0.03125, gamma=4, total=   0.0s\n",
      "[CV] C=0.03125, gamma=4 ..............................................\n",
      "[CV] ............................... C=0.03125, gamma=4, total=   0.0s\n",
      "[CV] C=0.03125, gamma=4 ..............................................\n",
      "[CV] ............................... C=0.03125, gamma=4, total=   0.0s\n",
      "[CV] C=0.03125, gamma=8 ..............................................\n",
      "[CV] ............................... C=0.03125, gamma=8, total=   0.0s\n",
      "[CV] C=0.03125, gamma=8 ..............................................\n",
      "[CV] ............................... C=0.03125, gamma=8, total=   0.0s\n",
      "[CV] C=0.03125, gamma=8 ..............................................\n",
      "[CV] ............................... C=0.03125, gamma=8, total=   0.0s\n",
      "[CV] C=0.03125, gamma=16 .............................................\n",
      "[CV] .............................. C=0.03125, gamma=16, total=   0.0s\n",
      "[CV] C=0.03125, gamma=16 .............................................\n",
      "[CV] .............................. C=0.03125, gamma=16, total=   0.0s\n",
      "[CV] C=0.03125, gamma=16 .............................................\n",
      "[CV] .............................. C=0.03125, gamma=16, total=   0.0s\n",
      "[CV] C=0.03125, gamma=32 .............................................\n",
      "[CV] .............................. C=0.03125, gamma=32, total=   0.0s\n",
      "[CV] C=0.03125, gamma=32 .............................................\n",
      "[CV] .............................. C=0.03125, gamma=32, total=   0.0s\n",
      "[CV] C=0.03125, gamma=32 .............................................\n",
      "[CV] .............................. C=0.03125, gamma=32, total=   0.0s\n",
      "[CV] C=0.03125, gamma=64 .............................................\n",
      "[CV] .............................. C=0.03125, gamma=64, total=   0.0s\n",
      "[CV] C=0.03125, gamma=64 .............................................\n",
      "[CV] .............................. C=0.03125, gamma=64, total=   0.0s\n",
      "[CV] C=0.03125, gamma=64 .............................................\n",
      "[CV] .............................. C=0.03125, gamma=64, total=   0.0s\n",
      "[CV] C=0.0625, gamma=0.03125 .........................................\n",
      "[CV] .......................... C=0.0625, gamma=0.03125, total=   0.0s\n",
      "[CV] C=0.0625, gamma=0.03125 .........................................\n",
      "[CV] .......................... C=0.0625, gamma=0.03125, total=   0.0s\n",
      "[CV] C=0.0625, gamma=0.03125 .........................................\n",
      "[CV] .......................... C=0.0625, gamma=0.03125, total=   0.0s\n",
      "[CV] C=0.0625, gamma=0.0625 ..........................................\n",
      "[CV] ........................... C=0.0625, gamma=0.0625, total=   0.0s\n",
      "[CV] C=0.0625, gamma=0.0625 ..........................................\n",
      "[CV] ........................... C=0.0625, gamma=0.0625, total=   0.0s\n",
      "[CV] C=0.0625, gamma=0.0625 ..........................................\n",
      "[CV] ........................... C=0.0625, gamma=0.0625, total=   0.0s\n",
      "[CV] C=0.0625, gamma=0.125 ...........................................\n",
      "[CV] ............................ C=0.0625, gamma=0.125, total=   0.0s\n",
      "[CV] C=0.0625, gamma=0.125 ...........................................\n",
      "[CV] ............................ C=0.0625, gamma=0.125, total=   0.0s\n",
      "[CV] C=0.0625, gamma=0.125 ...........................................\n",
      "[CV] ............................ C=0.0625, gamma=0.125, total=   0.0s\n",
      "[CV] C=0.0625, gamma=0.25 ............................................\n",
      "[CV] ............................. C=0.0625, gamma=0.25, total=   0.0s\n",
      "[CV] C=0.0625, gamma=0.25 ............................................\n",
      "[CV] ............................. C=0.0625, gamma=0.25, total=   0.0s\n",
      "[CV] C=0.0625, gamma=0.25 ............................................\n",
      "[CV] ............................. C=0.0625, gamma=0.25, total=   0.0s\n",
      "[CV] C=0.0625, gamma=0.5 .............................................\n",
      "[CV] .............................. C=0.0625, gamma=0.5, total=   0.0s\n",
      "[CV] C=0.0625, gamma=0.5 .............................................\n",
      "[CV] .............................. C=0.0625, gamma=0.5, total=   0.0s\n",
      "[CV] C=0.0625, gamma=0.5 .............................................\n",
      "[CV] .............................. C=0.0625, gamma=0.5, total=   0.0s\n",
      "[CV] C=0.0625, gamma=1 ...............................................\n",
      "[CV] ................................ C=0.0625, gamma=1, total=   0.0s\n",
      "[CV] C=0.0625, gamma=1 ...............................................\n",
      "[CV] ................................ C=0.0625, gamma=1, total=   0.0s\n",
      "[CV] C=0.0625, gamma=1 ...............................................\n",
      "[CV] ................................ C=0.0625, gamma=1, total=   0.0s\n",
      "[CV] C=0.0625, gamma=2 ...............................................\n",
      "[CV] ................................ C=0.0625, gamma=2, total=   0.0s\n",
      "[CV] C=0.0625, gamma=2 ...............................................\n",
      "[CV] ................................ C=0.0625, gamma=2, total=   0.0s\n",
      "[CV] C=0.0625, gamma=2 ...............................................\n",
      "[CV] ................................ C=0.0625, gamma=2, total=   0.0s\n",
      "[CV] C=0.0625, gamma=4 ...............................................\n",
      "[CV] ................................ C=0.0625, gamma=4, total=   0.0s\n",
      "[CV] C=0.0625, gamma=4 ...............................................\n",
      "[CV] ................................ C=0.0625, gamma=4, total=   0.0s\n",
      "[CV] C=0.0625, gamma=4 ...............................................\n",
      "[CV] ................................ C=0.0625, gamma=4, total=   0.0s\n",
      "[CV] C=0.0625, gamma=8 ...............................................\n",
      "[CV] ................................ C=0.0625, gamma=8, total=   0.0s\n",
      "[CV] C=0.0625, gamma=8 ...............................................\n",
      "[CV] ................................ C=0.0625, gamma=8, total=   0.0s\n",
      "[CV] C=0.0625, gamma=8 ...............................................\n",
      "[CV] ................................ C=0.0625, gamma=8, total=   0.0s\n",
      "[CV] C=0.0625, gamma=16 ..............................................\n",
      "[CV] ............................... C=0.0625, gamma=16, total=   0.0s\n",
      "[CV] C=0.0625, gamma=16 ..............................................\n",
      "[CV] ............................... C=0.0625, gamma=16, total=   0.0s\n",
      "[CV] C=0.0625, gamma=16 ..............................................\n",
      "[CV] ............................... C=0.0625, gamma=16, total=   0.0s\n",
      "[CV] C=0.0625, gamma=32 ..............................................\n",
      "[CV] ............................... C=0.0625, gamma=32, total=   0.0s\n",
      "[CV] C=0.0625, gamma=32 ..............................................\n",
      "[CV] ............................... C=0.0625, gamma=32, total=   0.0s\n",
      "[CV] C=0.0625, gamma=32 ..............................................\n",
      "[CV] ............................... C=0.0625, gamma=32, total=   0.0s\n",
      "[CV] C=0.0625, gamma=64 ..............................................\n",
      "[CV] ............................... C=0.0625, gamma=64, total=   0.0s\n",
      "[CV] C=0.0625, gamma=64 ..............................................\n",
      "[CV] ............................... C=0.0625, gamma=64, total=   0.0s\n",
      "[CV] C=0.0625, gamma=64 ..............................................\n",
      "[CV] ............................... C=0.0625, gamma=64, total=   0.0s\n",
      "[CV] C=0.125, gamma=0.03125 ..........................................\n",
      "[CV] ........................... C=0.125, gamma=0.03125, total=   0.0s\n",
      "[CV] C=0.125, gamma=0.03125 ..........................................\n",
      "[CV] ........................... C=0.125, gamma=0.03125, total=   0.0s\n",
      "[CV] C=0.125, gamma=0.03125 ..........................................\n",
      "[CV] ........................... C=0.125, gamma=0.03125, total=   0.0s\n",
      "[CV] C=0.125, gamma=0.0625 ...........................................\n",
      "[CV] ............................ C=0.125, gamma=0.0625, total=   0.0s\n",
      "[CV] C=0.125, gamma=0.0625 ...........................................\n",
      "[CV] ............................ C=0.125, gamma=0.0625, total=   0.0s\n",
      "[CV] C=0.125, gamma=0.0625 ...........................................\n",
      "[CV] ............................ C=0.125, gamma=0.0625, total=   0.0s\n",
      "[CV] C=0.125, gamma=0.125 ............................................\n",
      "[CV] ............................. C=0.125, gamma=0.125, total=   0.0s\n",
      "[CV] C=0.125, gamma=0.125 ............................................\n",
      "[CV] ............................. C=0.125, gamma=0.125, total=   0.0s\n",
      "[CV] C=0.125, gamma=0.125 ............................................\n",
      "[CV] ............................. C=0.125, gamma=0.125, total=   0.0s\n",
      "[CV] C=0.125, gamma=0.25 .............................................\n",
      "[CV] .............................. C=0.125, gamma=0.25, total=   0.0s\n",
      "[CV] C=0.125, gamma=0.25 .............................................\n",
      "[CV] .............................. C=0.125, gamma=0.25, total=   0.0s\n",
      "[CV] C=0.125, gamma=0.25 .............................................\n",
      "[CV] .............................. C=0.125, gamma=0.25, total=   0.0s\n",
      "[CV] C=0.125, gamma=0.5 ..............................................\n",
      "[CV] ............................... C=0.125, gamma=0.5, total=   0.0s\n",
      "[CV] C=0.125, gamma=0.5 ..............................................\n"
     ]
    },
    {
     "name": "stdout",
     "output_type": "stream",
     "text": [
      "[CV] ............................... C=0.125, gamma=0.5, total=   0.0s\n",
      "[CV] C=0.125, gamma=0.5 ..............................................\n",
      "[CV] ............................... C=0.125, gamma=0.5, total=   0.0s\n",
      "[CV] C=0.125, gamma=1 ................................................\n",
      "[CV] ................................. C=0.125, gamma=1, total=   0.0s\n",
      "[CV] C=0.125, gamma=1 ................................................\n",
      "[CV] ................................. C=0.125, gamma=1, total=   0.0s\n",
      "[CV] C=0.125, gamma=1 ................................................\n",
      "[CV] ................................. C=0.125, gamma=1, total=   0.0s\n",
      "[CV] C=0.125, gamma=2 ................................................\n",
      "[CV] ................................. C=0.125, gamma=2, total=   0.0s\n",
      "[CV] C=0.125, gamma=2 ................................................\n",
      "[CV] ................................. C=0.125, gamma=2, total=   0.0s\n",
      "[CV] C=0.125, gamma=2 ................................................\n",
      "[CV] ................................. C=0.125, gamma=2, total=   0.0s\n",
      "[CV] C=0.125, gamma=4 ................................................\n",
      "[CV] ................................. C=0.125, gamma=4, total=   0.0s\n",
      "[CV] C=0.125, gamma=4 ................................................\n",
      "[CV] ................................. C=0.125, gamma=4, total=   0.0s\n",
      "[CV] C=0.125, gamma=4 ................................................\n",
      "[CV] ................................. C=0.125, gamma=4, total=   0.0s\n",
      "[CV] C=0.125, gamma=8 ................................................\n",
      "[CV] ................................. C=0.125, gamma=8, total=   0.0s\n",
      "[CV] C=0.125, gamma=8 ................................................\n",
      "[CV] ................................. C=0.125, gamma=8, total=   0.0s\n",
      "[CV] C=0.125, gamma=8 ................................................\n",
      "[CV] ................................. C=0.125, gamma=8, total=   0.0s\n",
      "[CV] C=0.125, gamma=16 ...............................................\n",
      "[CV] ................................ C=0.125, gamma=16, total=   0.0s\n",
      "[CV] C=0.125, gamma=16 ...............................................\n",
      "[CV] ................................ C=0.125, gamma=16, total=   0.0s\n",
      "[CV] C=0.125, gamma=16 ...............................................\n",
      "[CV] ................................ C=0.125, gamma=16, total=   0.0s\n",
      "[CV] C=0.125, gamma=32 ...............................................\n",
      "[CV] ................................ C=0.125, gamma=32, total=   0.0s\n",
      "[CV] C=0.125, gamma=32 ...............................................\n",
      "[CV] ................................ C=0.125, gamma=32, total=   0.0s\n",
      "[CV] C=0.125, gamma=32 ...............................................\n",
      "[CV] ................................ C=0.125, gamma=32, total=   0.0s\n",
      "[CV] C=0.125, gamma=64 ...............................................\n",
      "[CV] ................................ C=0.125, gamma=64, total=   0.0s\n",
      "[CV] C=0.125, gamma=64 ...............................................\n",
      "[CV] ................................ C=0.125, gamma=64, total=   0.0s\n",
      "[CV] C=0.125, gamma=64 ...............................................\n",
      "[CV] ................................ C=0.125, gamma=64, total=   0.0s\n",
      "[CV] C=0.25, gamma=0.03125 ...........................................\n",
      "[CV] ............................ C=0.25, gamma=0.03125, total=   0.0s\n",
      "[CV] C=0.25, gamma=0.03125 ...........................................\n",
      "[CV] ............................ C=0.25, gamma=0.03125, total=   0.0s\n",
      "[CV] C=0.25, gamma=0.03125 ...........................................\n",
      "[CV] ............................ C=0.25, gamma=0.03125, total=   0.0s\n",
      "[CV] C=0.25, gamma=0.0625 ............................................\n",
      "[CV] ............................. C=0.25, gamma=0.0625, total=   0.0s\n",
      "[CV] C=0.25, gamma=0.0625 ............................................\n",
      "[CV] ............................. C=0.25, gamma=0.0625, total=   0.0s\n",
      "[CV] C=0.25, gamma=0.0625 ............................................\n",
      "[CV] ............................. C=0.25, gamma=0.0625, total=   0.0s\n",
      "[CV] C=0.25, gamma=0.125 .............................................\n",
      "[CV] .............................. C=0.25, gamma=0.125, total=   0.0s\n",
      "[CV] C=0.25, gamma=0.125 .............................................\n",
      "[CV] .............................. C=0.25, gamma=0.125, total=   0.0s\n",
      "[CV] C=0.25, gamma=0.125 .............................................\n",
      "[CV] .............................. C=0.25, gamma=0.125, total=   0.0s\n",
      "[CV] C=0.25, gamma=0.25 ..............................................\n",
      "[CV] ............................... C=0.25, gamma=0.25, total=   0.0s\n",
      "[CV] C=0.25, gamma=0.25 ..............................................\n",
      "[CV] ............................... C=0.25, gamma=0.25, total=   0.0s\n",
      "[CV] C=0.25, gamma=0.25 ..............................................\n",
      "[CV] ............................... C=0.25, gamma=0.25, total=   0.0s\n",
      "[CV] C=0.25, gamma=0.5 ...............................................\n",
      "[CV] ................................ C=0.25, gamma=0.5, total=   0.0s\n",
      "[CV] C=0.25, gamma=0.5 ...............................................\n",
      "[CV] ................................ C=0.25, gamma=0.5, total=   0.0s\n",
      "[CV] C=0.25, gamma=0.5 ...............................................\n",
      "[CV] ................................ C=0.25, gamma=0.5, total=   0.0s\n",
      "[CV] C=0.25, gamma=1 .................................................\n",
      "[CV] .................................. C=0.25, gamma=1, total=   0.0s\n",
      "[CV] C=0.25, gamma=1 .................................................\n",
      "[CV] .................................. C=0.25, gamma=1, total=   0.0s\n",
      "[CV] C=0.25, gamma=1 .................................................\n",
      "[CV] .................................. C=0.25, gamma=1, total=   0.0s\n",
      "[CV] C=0.25, gamma=2 .................................................\n",
      "[CV] .................................. C=0.25, gamma=2, total=   0.0s\n",
      "[CV] C=0.25, gamma=2 .................................................\n",
      "[CV] .................................. C=0.25, gamma=2, total=   0.0s\n",
      "[CV] C=0.25, gamma=2 .................................................\n",
      "[CV] .................................. C=0.25, gamma=2, total=   0.0s\n",
      "[CV] C=0.25, gamma=4 .................................................\n",
      "[CV] .................................. C=0.25, gamma=4, total=   0.0s\n",
      "[CV] C=0.25, gamma=4 .................................................\n",
      "[CV] .................................. C=0.25, gamma=4, total=   0.0s\n",
      "[CV] C=0.25, gamma=4 .................................................\n",
      "[CV] .................................. C=0.25, gamma=4, total=   0.0s\n",
      "[CV] C=0.25, gamma=8 .................................................\n",
      "[CV] .................................. C=0.25, gamma=8, total=   0.0s\n",
      "[CV] C=0.25, gamma=8 .................................................\n",
      "[CV] .................................. C=0.25, gamma=8, total=   0.0s\n",
      "[CV] C=0.25, gamma=8 .................................................\n",
      "[CV] .................................. C=0.25, gamma=8, total=   0.0s\n",
      "[CV] C=0.25, gamma=16 ................................................\n",
      "[CV] ................................. C=0.25, gamma=16, total=   0.0s\n",
      "[CV] C=0.25, gamma=16 ................................................\n",
      "[CV] ................................. C=0.25, gamma=16, total=   0.0s\n",
      "[CV] C=0.25, gamma=16 ................................................\n",
      "[CV] ................................. C=0.25, gamma=16, total=   0.0s\n",
      "[CV] C=0.25, gamma=32 ................................................\n",
      "[CV] ................................. C=0.25, gamma=32, total=   0.0s\n",
      "[CV] C=0.25, gamma=32 ................................................\n",
      "[CV] ................................. C=0.25, gamma=32, total=   0.0s\n",
      "[CV] C=0.25, gamma=32 ................................................\n",
      "[CV] ................................. C=0.25, gamma=32, total=   0.0s\n",
      "[CV] C=0.25, gamma=64 ................................................\n",
      "[CV] ................................. C=0.25, gamma=64, total=   0.0s\n",
      "[CV] C=0.25, gamma=64 ................................................\n",
      "[CV] ................................. C=0.25, gamma=64, total=   0.0s\n",
      "[CV] C=0.25, gamma=64 ................................................\n",
      "[CV] ................................. C=0.25, gamma=64, total=   0.0s\n",
      "[CV] C=0.5, gamma=0.03125 ............................................\n",
      "[CV] ............................. C=0.5, gamma=0.03125, total=   0.0s\n",
      "[CV] C=0.5, gamma=0.03125 ............................................\n",
      "[CV] ............................. C=0.5, gamma=0.03125, total=   0.0s\n",
      "[CV] C=0.5, gamma=0.03125 ............................................\n",
      "[CV] ............................. C=0.5, gamma=0.03125, total=   0.0s\n",
      "[CV] C=0.5, gamma=0.0625 .............................................\n",
      "[CV] .............................. C=0.5, gamma=0.0625, total=   0.0s\n",
      "[CV] C=0.5, gamma=0.0625 .............................................\n",
      "[CV] .............................. C=0.5, gamma=0.0625, total=   0.0s\n",
      "[CV] C=0.5, gamma=0.0625 .............................................\n",
      "[CV] .............................. C=0.5, gamma=0.0625, total=   0.0s\n",
      "[CV] C=0.5, gamma=0.125 ..............................................\n",
      "[CV] ............................... C=0.5, gamma=0.125, total=   0.0s\n",
      "[CV] C=0.5, gamma=0.125 ..............................................\n",
      "[CV] ............................... C=0.5, gamma=0.125, total=   0.0s\n",
      "[CV] C=0.5, gamma=0.125 ..............................................\n",
      "[CV] ............................... C=0.5, gamma=0.125, total=   0.0s\n",
      "[CV] C=0.5, gamma=0.25 ...............................................\n",
      "[CV] ................................ C=0.5, gamma=0.25, total=   0.0s\n",
      "[CV] C=0.5, gamma=0.25 ...............................................\n",
      "[CV] ................................ C=0.5, gamma=0.25, total=   0.0s\n",
      "[CV] C=0.5, gamma=0.25 ...............................................\n",
      "[CV] ................................ C=0.5, gamma=0.25, total=   0.0s\n",
      "[CV] C=0.5, gamma=0.5 ................................................\n",
      "[CV] ................................. C=0.5, gamma=0.5, total=   0.0s\n",
      "[CV] C=0.5, gamma=0.5 ................................................\n"
     ]
    },
    {
     "name": "stdout",
     "output_type": "stream",
     "text": [
      "[CV] ................................. C=0.5, gamma=0.5, total=   0.0s\n",
      "[CV] C=0.5, gamma=0.5 ................................................\n",
      "[CV] ................................. C=0.5, gamma=0.5, total=   0.0s\n",
      "[CV] C=0.5, gamma=1 ..................................................\n",
      "[CV] ................................... C=0.5, gamma=1, total=   0.0s\n",
      "[CV] C=0.5, gamma=1 ..................................................\n",
      "[CV] ................................... C=0.5, gamma=1, total=   0.0s\n",
      "[CV] C=0.5, gamma=1 ..................................................\n",
      "[CV] ................................... C=0.5, gamma=1, total=   0.0s\n",
      "[CV] C=0.5, gamma=2 ..................................................\n",
      "[CV] ................................... C=0.5, gamma=2, total=   0.0s\n",
      "[CV] C=0.5, gamma=2 ..................................................\n",
      "[CV] ................................... C=0.5, gamma=2, total=   0.0s\n",
      "[CV] C=0.5, gamma=2 ..................................................\n",
      "[CV] ................................... C=0.5, gamma=2, total=   0.0s\n",
      "[CV] C=0.5, gamma=4 ..................................................\n",
      "[CV] ................................... C=0.5, gamma=4, total=   0.0s\n",
      "[CV] C=0.5, gamma=4 ..................................................\n",
      "[CV] ................................... C=0.5, gamma=4, total=   0.0s\n",
      "[CV] C=0.5, gamma=4 ..................................................\n",
      "[CV] ................................... C=0.5, gamma=4, total=   0.0s\n",
      "[CV] C=0.5, gamma=8 ..................................................\n",
      "[CV] ................................... C=0.5, gamma=8, total=   0.0s\n",
      "[CV] C=0.5, gamma=8 ..................................................\n",
      "[CV] ................................... C=0.5, gamma=8, total=   0.0s\n",
      "[CV] C=0.5, gamma=8 ..................................................\n",
      "[CV] ................................... C=0.5, gamma=8, total=   0.0s\n",
      "[CV] C=0.5, gamma=16 .................................................\n",
      "[CV] .................................. C=0.5, gamma=16, total=   0.0s\n",
      "[CV] C=0.5, gamma=16 .................................................\n",
      "[CV] .................................. C=0.5, gamma=16, total=   0.0s\n",
      "[CV] C=0.5, gamma=16 .................................................\n",
      "[CV] .................................. C=0.5, gamma=16, total=   0.0s\n",
      "[CV] C=0.5, gamma=32 .................................................\n",
      "[CV] .................................. C=0.5, gamma=32, total=   0.0s\n",
      "[CV] C=0.5, gamma=32 .................................................\n",
      "[CV] .................................. C=0.5, gamma=32, total=   0.0s\n",
      "[CV] C=0.5, gamma=32 .................................................\n",
      "[CV] .................................. C=0.5, gamma=32, total=   0.0s\n",
      "[CV] C=0.5, gamma=64 .................................................\n",
      "[CV] .................................. C=0.5, gamma=64, total=   0.0s\n",
      "[CV] C=0.5, gamma=64 .................................................\n",
      "[CV] .................................. C=0.5, gamma=64, total=   0.0s\n",
      "[CV] C=0.5, gamma=64 .................................................\n",
      "[CV] .................................. C=0.5, gamma=64, total=   0.0s\n",
      "[CV] C=1, gamma=0.03125 ..............................................\n",
      "[CV] ............................... C=1, gamma=0.03125, total=   0.0s\n",
      "[CV] C=1, gamma=0.03125 ..............................................\n",
      "[CV] ............................... C=1, gamma=0.03125, total=   0.0s\n",
      "[CV] C=1, gamma=0.03125 ..............................................\n",
      "[CV] ............................... C=1, gamma=0.03125, total=   0.0s\n",
      "[CV] C=1, gamma=0.0625 ...............................................\n",
      "[CV] ................................ C=1, gamma=0.0625, total=   0.0s\n",
      "[CV] C=1, gamma=0.0625 ...............................................\n",
      "[CV] ................................ C=1, gamma=0.0625, total=   0.0s\n",
      "[CV] C=1, gamma=0.0625 ...............................................\n",
      "[CV] ................................ C=1, gamma=0.0625, total=   0.0s\n",
      "[CV] C=1, gamma=0.125 ................................................\n",
      "[CV] ................................. C=1, gamma=0.125, total=   0.0s\n",
      "[CV] C=1, gamma=0.125 ................................................\n",
      "[CV] ................................. C=1, gamma=0.125, total=   0.0s\n",
      "[CV] C=1, gamma=0.125 ................................................\n",
      "[CV] ................................. C=1, gamma=0.125, total=   0.0s\n",
      "[CV] C=1, gamma=0.25 .................................................\n",
      "[CV] .................................. C=1, gamma=0.25, total=   0.0s\n",
      "[CV] C=1, gamma=0.25 .................................................\n",
      "[CV] .................................. C=1, gamma=0.25, total=   0.0s\n",
      "[CV] C=1, gamma=0.25 .................................................\n",
      "[CV] .................................. C=1, gamma=0.25, total=   0.0s\n",
      "[CV] C=1, gamma=0.5 ..................................................\n",
      "[CV] ................................... C=1, gamma=0.5, total=   0.0s\n",
      "[CV] C=1, gamma=0.5 ..................................................\n",
      "[CV] ................................... C=1, gamma=0.5, total=   0.0s\n",
      "[CV] C=1, gamma=0.5 ..................................................\n",
      "[CV] ................................... C=1, gamma=0.5, total=   0.0s\n",
      "[CV] C=1, gamma=1 ....................................................\n",
      "[CV] ..................................... C=1, gamma=1, total=   0.0s\n",
      "[CV] C=1, gamma=1 ....................................................\n",
      "[CV] ..................................... C=1, gamma=1, total=   0.0s\n",
      "[CV] C=1, gamma=1 ....................................................\n",
      "[CV] ..................................... C=1, gamma=1, total=   0.0s\n",
      "[CV] C=1, gamma=2 ....................................................\n",
      "[CV] ..................................... C=1, gamma=2, total=   0.0s\n",
      "[CV] C=1, gamma=2 ....................................................\n",
      "[CV] ..................................... C=1, gamma=2, total=   0.0s\n",
      "[CV] C=1, gamma=2 ....................................................\n",
      "[CV] ..................................... C=1, gamma=2, total=   0.0s\n",
      "[CV] C=1, gamma=4 ....................................................\n",
      "[CV] ..................................... C=1, gamma=4, total=   0.0s\n",
      "[CV] C=1, gamma=4 ....................................................\n",
      "[CV] ..................................... C=1, gamma=4, total=   0.0s\n",
      "[CV] C=1, gamma=4 ....................................................\n",
      "[CV] ..................................... C=1, gamma=4, total=   0.0s\n",
      "[CV] C=1, gamma=8 ....................................................\n",
      "[CV] ..................................... C=1, gamma=8, total=   0.0s\n",
      "[CV] C=1, gamma=8 ....................................................\n",
      "[CV] ..................................... C=1, gamma=8, total=   0.0s\n",
      "[CV] C=1, gamma=8 ....................................................\n",
      "[CV] ..................................... C=1, gamma=8, total=   0.0s\n",
      "[CV] C=1, gamma=16 ...................................................\n",
      "[CV] .................................... C=1, gamma=16, total=   0.0s\n",
      "[CV] C=1, gamma=16 ...................................................\n",
      "[CV] .................................... C=1, gamma=16, total=   0.0s\n",
      "[CV] C=1, gamma=16 ...................................................\n",
      "[CV] .................................... C=1, gamma=16, total=   0.0s\n",
      "[CV] C=1, gamma=32 ...................................................\n",
      "[CV] .................................... C=1, gamma=32, total=   0.0s\n",
      "[CV] C=1, gamma=32 ...................................................\n",
      "[CV] .................................... C=1, gamma=32, total=   0.0s\n",
      "[CV] C=1, gamma=32 ...................................................\n",
      "[CV] .................................... C=1, gamma=32, total=   0.0s\n",
      "[CV] C=1, gamma=64 ...................................................\n",
      "[CV] .................................... C=1, gamma=64, total=   0.0s\n",
      "[CV] C=1, gamma=64 ...................................................\n",
      "[CV] .................................... C=1, gamma=64, total=   0.0s\n",
      "[CV] C=1, gamma=64 ...................................................\n",
      "[CV] .................................... C=1, gamma=64, total=   0.0s\n",
      "[CV] C=2, gamma=0.03125 ..............................................\n",
      "[CV] ............................... C=2, gamma=0.03125, total=   0.0s\n",
      "[CV] C=2, gamma=0.03125 ..............................................\n"
     ]
    },
    {
     "name": "stdout",
     "output_type": "stream",
     "text": [
      "[CV] ............................... C=2, gamma=0.03125, total=   0.0s\n",
      "[CV] C=2, gamma=0.03125 ..............................................\n",
      "[CV] ............................... C=2, gamma=0.03125, total=   0.0s\n",
      "[CV] C=2, gamma=0.0625 ...............................................\n",
      "[CV] ................................ C=2, gamma=0.0625, total=   0.0s\n",
      "[CV] C=2, gamma=0.0625 ...............................................\n",
      "[CV] ................................ C=2, gamma=0.0625, total=   0.0s\n",
      "[CV] C=2, gamma=0.0625 ...............................................\n",
      "[CV] ................................ C=2, gamma=0.0625, total=   0.0s\n",
      "[CV] C=2, gamma=0.125 ................................................\n",
      "[CV] ................................. C=2, gamma=0.125, total=   0.0s\n",
      "[CV] C=2, gamma=0.125 ................................................\n",
      "[CV] ................................. C=2, gamma=0.125, total=   0.0s\n",
      "[CV] C=2, gamma=0.125 ................................................\n",
      "[CV] ................................. C=2, gamma=0.125, total=   0.0s\n",
      "[CV] C=2, gamma=0.25 .................................................\n",
      "[CV] .................................. C=2, gamma=0.25, total=   0.0s\n",
      "[CV] C=2, gamma=0.25 .................................................\n",
      "[CV] .................................. C=2, gamma=0.25, total=   0.0s\n",
      "[CV] C=2, gamma=0.25 .................................................\n",
      "[CV] .................................. C=2, gamma=0.25, total=   0.0s\n",
      "[CV] C=2, gamma=0.5 ..................................................\n",
      "[CV] ................................... C=2, gamma=0.5, total=   0.0s\n",
      "[CV] C=2, gamma=0.5 ..................................................\n",
      "[CV] ................................... C=2, gamma=0.5, total=   0.0s\n",
      "[CV] C=2, gamma=0.5 ..................................................\n",
      "[CV] ................................... C=2, gamma=0.5, total=   0.0s\n",
      "[CV] C=2, gamma=1 ....................................................\n",
      "[CV] ..................................... C=2, gamma=1, total=   0.0s\n",
      "[CV] C=2, gamma=1 ....................................................\n",
      "[CV] ..................................... C=2, gamma=1, total=   0.0s\n",
      "[CV] C=2, gamma=1 ....................................................\n",
      "[CV] ..................................... C=2, gamma=1, total=   0.0s\n",
      "[CV] C=2, gamma=2 ....................................................\n",
      "[CV] ..................................... C=2, gamma=2, total=   0.0s\n",
      "[CV] C=2, gamma=2 ....................................................\n",
      "[CV] ..................................... C=2, gamma=2, total=   0.0s\n",
      "[CV] C=2, gamma=2 ....................................................\n",
      "[CV] ..................................... C=2, gamma=2, total=   0.0s\n",
      "[CV] C=2, gamma=4 ....................................................\n",
      "[CV] ..................................... C=2, gamma=4, total=   0.0s\n",
      "[CV] C=2, gamma=4 ....................................................\n",
      "[CV] ..................................... C=2, gamma=4, total=   0.0s\n",
      "[CV] C=2, gamma=4 ....................................................\n",
      "[CV] ..................................... C=2, gamma=4, total=   0.0s\n",
      "[CV] C=2, gamma=8 ....................................................\n",
      "[CV] ..................................... C=2, gamma=8, total=   0.0s\n",
      "[CV] C=2, gamma=8 ....................................................\n",
      "[CV] ..................................... C=2, gamma=8, total=   0.0s\n",
      "[CV] C=2, gamma=8 ....................................................\n",
      "[CV] ..................................... C=2, gamma=8, total=   0.0s\n",
      "[CV] C=2, gamma=16 ...................................................\n",
      "[CV] .................................... C=2, gamma=16, total=   0.0s\n",
      "[CV] C=2, gamma=16 ...................................................\n",
      "[CV] .................................... C=2, gamma=16, total=   0.0s\n",
      "[CV] C=2, gamma=16 ...................................................\n",
      "[CV] .................................... C=2, gamma=16, total=   0.0s\n",
      "[CV] C=2, gamma=32 ...................................................\n",
      "[CV] .................................... C=2, gamma=32, total=   0.0s\n",
      "[CV] C=2, gamma=32 ...................................................\n",
      "[CV] .................................... C=2, gamma=32, total=   0.0s\n",
      "[CV] C=2, gamma=32 ...................................................\n",
      "[CV] .................................... C=2, gamma=32, total=   0.0s\n",
      "[CV] C=2, gamma=64 ...................................................\n",
      "[CV] .................................... C=2, gamma=64, total=   0.0s\n",
      "[CV] C=2, gamma=64 ...................................................\n",
      "[CV] .................................... C=2, gamma=64, total=   0.0s\n",
      "[CV] C=2, gamma=64 ...................................................\n",
      "[CV] .................................... C=2, gamma=64, total=   0.0s\n",
      "[CV] C=4, gamma=0.03125 ..............................................\n",
      "[CV] ............................... C=4, gamma=0.03125, total=   0.0s\n",
      "[CV] C=4, gamma=0.03125 ..............................................\n",
      "[CV] ............................... C=4, gamma=0.03125, total=   0.0s\n",
      "[CV] C=4, gamma=0.03125 ..............................................\n",
      "[CV] ............................... C=4, gamma=0.03125, total=   0.0s\n",
      "[CV] C=4, gamma=0.0625 ...............................................\n",
      "[CV] ................................ C=4, gamma=0.0625, total=   0.0s\n",
      "[CV] C=4, gamma=0.0625 ...............................................\n",
      "[CV] ................................ C=4, gamma=0.0625, total=   0.0s\n",
      "[CV] C=4, gamma=0.0625 ...............................................\n",
      "[CV] ................................ C=4, gamma=0.0625, total=   0.0s\n",
      "[CV] C=4, gamma=0.125 ................................................\n",
      "[CV] ................................. C=4, gamma=0.125, total=   0.0s\n",
      "[CV] C=4, gamma=0.125 ................................................\n",
      "[CV] ................................. C=4, gamma=0.125, total=   0.0s\n",
      "[CV] C=4, gamma=0.125 ................................................\n",
      "[CV] ................................. C=4, gamma=0.125, total=   0.0s\n",
      "[CV] C=4, gamma=0.25 .................................................\n",
      "[CV] .................................. C=4, gamma=0.25, total=   0.0s\n",
      "[CV] C=4, gamma=0.25 .................................................\n",
      "[CV] .................................. C=4, gamma=0.25, total=   0.0s\n",
      "[CV] C=4, gamma=0.25 .................................................\n",
      "[CV] .................................. C=4, gamma=0.25, total=   0.0s\n",
      "[CV] C=4, gamma=0.5 ..................................................\n",
      "[CV] ................................... C=4, gamma=0.5, total=   0.0s\n",
      "[CV] C=4, gamma=0.5 ..................................................\n",
      "[CV] ................................... C=4, gamma=0.5, total=   0.0s\n",
      "[CV] C=4, gamma=0.5 ..................................................\n",
      "[CV] ................................... C=4, gamma=0.5, total=   0.0s\n",
      "[CV] C=4, gamma=1 ....................................................\n",
      "[CV] ..................................... C=4, gamma=1, total=   0.0s\n",
      "[CV] C=4, gamma=1 ....................................................\n",
      "[CV] ..................................... C=4, gamma=1, total=   0.0s\n",
      "[CV] C=4, gamma=1 ....................................................\n",
      "[CV] ..................................... C=4, gamma=1, total=   0.0s\n",
      "[CV] C=4, gamma=2 ....................................................\n",
      "[CV] ..................................... C=4, gamma=2, total=   0.0s\n",
      "[CV] C=4, gamma=2 ....................................................\n",
      "[CV] ..................................... C=4, gamma=2, total=   0.0s\n",
      "[CV] C=4, gamma=2 ....................................................\n",
      "[CV] ..................................... C=4, gamma=2, total=   0.0s\n",
      "[CV] C=4, gamma=4 ....................................................\n",
      "[CV] ..................................... C=4, gamma=4, total=   0.0s\n",
      "[CV] C=4, gamma=4 ....................................................\n",
      "[CV] ..................................... C=4, gamma=4, total=   0.0s\n",
      "[CV] C=4, gamma=4 ....................................................\n",
      "[CV] ..................................... C=4, gamma=4, total=   0.0s\n",
      "[CV] C=4, gamma=8 ....................................................\n",
      "[CV] ..................................... C=4, gamma=8, total=   0.0s\n",
      "[CV] C=4, gamma=8 ....................................................\n",
      "[CV] ..................................... C=4, gamma=8, total=   0.0s\n",
      "[CV] C=4, gamma=8 ....................................................\n",
      "[CV] ..................................... C=4, gamma=8, total=   0.0s\n",
      "[CV] C=4, gamma=16 ...................................................\n",
      "[CV] .................................... C=4, gamma=16, total=   0.0s\n",
      "[CV] C=4, gamma=16 ...................................................\n",
      "[CV] .................................... C=4, gamma=16, total=   0.0s\n",
      "[CV] C=4, gamma=16 ...................................................\n",
      "[CV] .................................... C=4, gamma=16, total=   0.0s\n",
      "[CV] C=4, gamma=32 ...................................................\n",
      "[CV] .................................... C=4, gamma=32, total=   0.0s\n",
      "[CV] C=4, gamma=32 ...................................................\n",
      "[CV] .................................... C=4, gamma=32, total=   0.0s\n",
      "[CV] C=4, gamma=32 ...................................................\n",
      "[CV] .................................... C=4, gamma=32, total=   0.0s\n",
      "[CV] C=4, gamma=64 ...................................................\n",
      "[CV] .................................... C=4, gamma=64, total=   0.0s\n",
      "[CV] C=4, gamma=64 ...................................................\n",
      "[CV] .................................... C=4, gamma=64, total=   0.0s\n",
      "[CV] C=4, gamma=64 ...................................................\n",
      "[CV] .................................... C=4, gamma=64, total=   0.0s\n",
      "[CV] C=8, gamma=0.03125 ..............................................\n",
      "[CV] ............................... C=8, gamma=0.03125, total=   0.0s\n",
      "[CV] C=8, gamma=0.03125 ..............................................\n",
      "[CV] ............................... C=8, gamma=0.03125, total=   0.0s\n",
      "[CV] C=8, gamma=0.03125 ..............................................\n",
      "[CV] ............................... C=8, gamma=0.03125, total=   0.0s\n",
      "[CV] C=8, gamma=0.0625 ...............................................\n",
      "[CV] ................................ C=8, gamma=0.0625, total=   0.0s\n",
      "[CV] C=8, gamma=0.0625 ...............................................\n",
      "[CV] ................................ C=8, gamma=0.0625, total=   0.0s\n",
      "[CV] C=8, gamma=0.0625 ...............................................\n",
      "[CV] ................................ C=8, gamma=0.0625, total=   0.0s\n",
      "[CV] C=8, gamma=0.125 ................................................\n",
      "[CV] ................................. C=8, gamma=0.125, total=   0.0s\n"
     ]
    },
    {
     "name": "stdout",
     "output_type": "stream",
     "text": [
      "[CV] C=8, gamma=0.125 ................................................\n",
      "[CV] ................................. C=8, gamma=0.125, total=   0.0s\n",
      "[CV] C=8, gamma=0.125 ................................................\n",
      "[CV] ................................. C=8, gamma=0.125, total=   0.0s\n",
      "[CV] C=8, gamma=0.25 .................................................\n",
      "[CV] .................................. C=8, gamma=0.25, total=   0.0s\n",
      "[CV] C=8, gamma=0.25 .................................................\n",
      "[CV] .................................. C=8, gamma=0.25, total=   0.0s\n",
      "[CV] C=8, gamma=0.25 .................................................\n",
      "[CV] .................................. C=8, gamma=0.25, total=   0.0s\n",
      "[CV] C=8, gamma=0.5 ..................................................\n",
      "[CV] ................................... C=8, gamma=0.5, total=   0.0s\n",
      "[CV] C=8, gamma=0.5 ..................................................\n",
      "[CV] ................................... C=8, gamma=0.5, total=   0.0s\n",
      "[CV] C=8, gamma=0.5 ..................................................\n",
      "[CV] ................................... C=8, gamma=0.5, total=   0.0s\n",
      "[CV] C=8, gamma=1 ....................................................\n",
      "[CV] ..................................... C=8, gamma=1, total=   0.0s\n",
      "[CV] C=8, gamma=1 ....................................................\n",
      "[CV] ..................................... C=8, gamma=1, total=   0.0s\n",
      "[CV] C=8, gamma=1 ....................................................\n",
      "[CV] ..................................... C=8, gamma=1, total=   0.0s\n",
      "[CV] C=8, gamma=2 ....................................................\n",
      "[CV] ..................................... C=8, gamma=2, total=   0.0s\n",
      "[CV] C=8, gamma=2 ....................................................\n",
      "[CV] ..................................... C=8, gamma=2, total=   0.0s\n",
      "[CV] C=8, gamma=2 ....................................................\n",
      "[CV] ..................................... C=8, gamma=2, total=   0.0s\n",
      "[CV] C=8, gamma=4 ....................................................\n",
      "[CV] ..................................... C=8, gamma=4, total=   0.0s\n",
      "[CV] C=8, gamma=4 ....................................................\n",
      "[CV] ..................................... C=8, gamma=4, total=   0.0s\n",
      "[CV] C=8, gamma=4 ....................................................\n",
      "[CV] ..................................... C=8, gamma=4, total=   0.0s\n",
      "[CV] C=8, gamma=8 ....................................................\n",
      "[CV] ..................................... C=8, gamma=8, total=   0.0s\n",
      "[CV] C=8, gamma=8 ....................................................\n",
      "[CV] ..................................... C=8, gamma=8, total=   0.0s\n",
      "[CV] C=8, gamma=8 ....................................................\n",
      "[CV] ..................................... C=8, gamma=8, total=   0.0s\n",
      "[CV] C=8, gamma=16 ...................................................\n",
      "[CV] .................................... C=8, gamma=16, total=   0.0s\n",
      "[CV] C=8, gamma=16 ...................................................\n",
      "[CV] .................................... C=8, gamma=16, total=   0.0s\n",
      "[CV] C=8, gamma=16 ...................................................\n",
      "[CV] .................................... C=8, gamma=16, total=   0.0s\n",
      "[CV] C=8, gamma=32 ...................................................\n",
      "[CV] .................................... C=8, gamma=32, total=   0.0s\n",
      "[CV] C=8, gamma=32 ...................................................\n",
      "[CV] .................................... C=8, gamma=32, total=   0.0s\n",
      "[CV] C=8, gamma=32 ...................................................\n",
      "[CV] .................................... C=8, gamma=32, total=   0.0s\n",
      "[CV] C=8, gamma=64 ...................................................\n",
      "[CV] .................................... C=8, gamma=64, total=   0.0s\n",
      "[CV] C=8, gamma=64 ...................................................\n",
      "[CV] .................................... C=8, gamma=64, total=   0.0s\n",
      "[CV] C=8, gamma=64 ...................................................\n",
      "[CV] .................................... C=8, gamma=64, total=   0.0s\n",
      "[CV] C=16, gamma=0.03125 .............................................\n",
      "[CV] .............................. C=16, gamma=0.03125, total=   0.0s\n",
      "[CV] C=16, gamma=0.03125 .............................................\n",
      "[CV] .............................. C=16, gamma=0.03125, total=   0.0s\n",
      "[CV] C=16, gamma=0.03125 .............................................\n",
      "[CV] .............................. C=16, gamma=0.03125, total=   0.0s\n",
      "[CV] C=16, gamma=0.0625 ..............................................\n",
      "[CV] ............................... C=16, gamma=0.0625, total=   0.0s\n",
      "[CV] C=16, gamma=0.0625 ..............................................\n",
      "[CV] ............................... C=16, gamma=0.0625, total=   0.0s\n",
      "[CV] C=16, gamma=0.0625 ..............................................\n",
      "[CV] ............................... C=16, gamma=0.0625, total=   0.0s\n",
      "[CV] C=16, gamma=0.125 ...............................................\n",
      "[CV] ................................ C=16, gamma=0.125, total=   0.0s\n",
      "[CV] C=16, gamma=0.125 ...............................................\n",
      "[CV] ................................ C=16, gamma=0.125, total=   0.0s\n",
      "[CV] C=16, gamma=0.125 ...............................................\n",
      "[CV] ................................ C=16, gamma=0.125, total=   0.0s\n",
      "[CV] C=16, gamma=0.25 ................................................\n",
      "[CV] ................................. C=16, gamma=0.25, total=   0.0s\n",
      "[CV] C=16, gamma=0.25 ................................................\n",
      "[CV] ................................. C=16, gamma=0.25, total=   0.0s\n",
      "[CV] C=16, gamma=0.25 ................................................\n",
      "[CV] ................................. C=16, gamma=0.25, total=   0.0s\n",
      "[CV] C=16, gamma=0.5 .................................................\n",
      "[CV] .................................. C=16, gamma=0.5, total=   0.0s\n",
      "[CV] C=16, gamma=0.5 .................................................\n",
      "[CV] .................................. C=16, gamma=0.5, total=   0.0s\n",
      "[CV] C=16, gamma=0.5 .................................................\n",
      "[CV] .................................. C=16, gamma=0.5, total=   0.0s\n",
      "[CV] C=16, gamma=1 ...................................................\n",
      "[CV] .................................... C=16, gamma=1, total=   0.0s\n",
      "[CV] C=16, gamma=1 ...................................................\n",
      "[CV] .................................... C=16, gamma=1, total=   0.0s\n",
      "[CV] C=16, gamma=1 ...................................................\n",
      "[CV] .................................... C=16, gamma=1, total=   0.0s\n",
      "[CV] C=16, gamma=2 ...................................................\n",
      "[CV] .................................... C=16, gamma=2, total=   0.0s\n",
      "[CV] C=16, gamma=2 ...................................................\n",
      "[CV] .................................... C=16, gamma=2, total=   0.0s\n",
      "[CV] C=16, gamma=2 ...................................................\n",
      "[CV] .................................... C=16, gamma=2, total=   0.0s\n",
      "[CV] C=16, gamma=4 ...................................................\n",
      "[CV] .................................... C=16, gamma=4, total=   0.0s\n",
      "[CV] C=16, gamma=4 ...................................................\n",
      "[CV] .................................... C=16, gamma=4, total=   0.0s\n",
      "[CV] C=16, gamma=4 ...................................................\n",
      "[CV] .................................... C=16, gamma=4, total=   0.0s\n",
      "[CV] C=16, gamma=8 ...................................................\n",
      "[CV] .................................... C=16, gamma=8, total=   0.0s\n",
      "[CV] C=16, gamma=8 ...................................................\n",
      "[CV] .................................... C=16, gamma=8, total=   0.0s\n",
      "[CV] C=16, gamma=8 ...................................................\n",
      "[CV] .................................... C=16, gamma=8, total=   0.0s\n",
      "[CV] C=16, gamma=16 ..................................................\n",
      "[CV] ................................... C=16, gamma=16, total=   0.0s\n",
      "[CV] C=16, gamma=16 ..................................................\n",
      "[CV] ................................... C=16, gamma=16, total=   0.0s\n",
      "[CV] C=16, gamma=16 ..................................................\n",
      "[CV] ................................... C=16, gamma=16, total=   0.0s\n",
      "[CV] C=16, gamma=32 ..................................................\n",
      "[CV] ................................... C=16, gamma=32, total=   0.0s\n",
      "[CV] C=16, gamma=32 ..................................................\n",
      "[CV] ................................... C=16, gamma=32, total=   0.0s\n",
      "[CV] C=16, gamma=32 ..................................................\n",
      "[CV] ................................... C=16, gamma=32, total=   0.0s\n",
      "[CV] C=16, gamma=64 ..................................................\n",
      "[CV] ................................... C=16, gamma=64, total=   0.0s\n",
      "[CV] C=16, gamma=64 ..................................................\n",
      "[CV] ................................... C=16, gamma=64, total=   0.0s\n",
      "[CV] C=16, gamma=64 ..................................................\n",
      "[CV] ................................... C=16, gamma=64, total=   0.0s\n",
      "[CV] C=32, gamma=0.03125 .............................................\n",
      "[CV] .............................. C=32, gamma=0.03125, total=   0.0s\n",
      "[CV] C=32, gamma=0.03125 .............................................\n",
      "[CV] .............................. C=32, gamma=0.03125, total=   0.0s\n",
      "[CV] C=32, gamma=0.03125 .............................................\n",
      "[CV] .............................. C=32, gamma=0.03125, total=   0.0s\n",
      "[CV] C=32, gamma=0.0625 ..............................................\n",
      "[CV] ............................... C=32, gamma=0.0625, total=   0.0s\n",
      "[CV] C=32, gamma=0.0625 ..............................................\n",
      "[CV] ............................... C=32, gamma=0.0625, total=   0.0s\n"
     ]
    },
    {
     "name": "stdout",
     "output_type": "stream",
     "text": [
      "[CV] C=32, gamma=0.0625 ..............................................\n",
      "[CV] ............................... C=32, gamma=0.0625, total=   0.0s\n",
      "[CV] C=32, gamma=0.125 ...............................................\n",
      "[CV] ................................ C=32, gamma=0.125, total=   0.0s\n",
      "[CV] C=32, gamma=0.125 ...............................................\n",
      "[CV] ................................ C=32, gamma=0.125, total=   0.0s\n",
      "[CV] C=32, gamma=0.125 ...............................................\n",
      "[CV] ................................ C=32, gamma=0.125, total=   0.0s\n",
      "[CV] C=32, gamma=0.25 ................................................\n",
      "[CV] ................................. C=32, gamma=0.25, total=   0.0s\n",
      "[CV] C=32, gamma=0.25 ................................................\n",
      "[CV] ................................. C=32, gamma=0.25, total=   0.0s\n",
      "[CV] C=32, gamma=0.25 ................................................\n",
      "[CV] ................................. C=32, gamma=0.25, total=   0.0s\n",
      "[CV] C=32, gamma=0.5 .................................................\n",
      "[CV] .................................. C=32, gamma=0.5, total=   0.0s\n",
      "[CV] C=32, gamma=0.5 .................................................\n",
      "[CV] .................................. C=32, gamma=0.5, total=   0.0s\n",
      "[CV] C=32, gamma=0.5 .................................................\n",
      "[CV] .................................. C=32, gamma=0.5, total=   0.0s\n",
      "[CV] C=32, gamma=1 ...................................................\n",
      "[CV] .................................... C=32, gamma=1, total=   0.0s\n",
      "[CV] C=32, gamma=1 ...................................................\n",
      "[CV] .................................... C=32, gamma=1, total=   0.0s\n",
      "[CV] C=32, gamma=1 ...................................................\n",
      "[CV] .................................... C=32, gamma=1, total=   0.0s\n",
      "[CV] C=32, gamma=2 ...................................................\n",
      "[CV] .................................... C=32, gamma=2, total=   0.0s\n",
      "[CV] C=32, gamma=2 ...................................................\n",
      "[CV] .................................... C=32, gamma=2, total=   0.0s\n",
      "[CV] C=32, gamma=2 ...................................................\n",
      "[CV] .................................... C=32, gamma=2, total=   0.0s\n",
      "[CV] C=32, gamma=4 ...................................................\n",
      "[CV] .................................... C=32, gamma=4, total=   0.0s\n",
      "[CV] C=32, gamma=4 ...................................................\n",
      "[CV] .................................... C=32, gamma=4, total=   0.0s\n",
      "[CV] C=32, gamma=4 ...................................................\n",
      "[CV] .................................... C=32, gamma=4, total=   0.0s\n",
      "[CV] C=32, gamma=8 ...................................................\n",
      "[CV] .................................... C=32, gamma=8, total=   0.0s\n",
      "[CV] C=32, gamma=8 ...................................................\n",
      "[CV] .................................... C=32, gamma=8, total=   0.0s\n",
      "[CV] C=32, gamma=8 ...................................................\n",
      "[CV] .................................... C=32, gamma=8, total=   0.0s\n",
      "[CV] C=32, gamma=16 ..................................................\n",
      "[CV] ................................... C=32, gamma=16, total=   0.0s\n",
      "[CV] C=32, gamma=16 ..................................................\n",
      "[CV] ................................... C=32, gamma=16, total=   0.0s\n",
      "[CV] C=32, gamma=16 ..................................................\n",
      "[CV] ................................... C=32, gamma=16, total=   0.0s\n",
      "[CV] C=32, gamma=32 ..................................................\n",
      "[CV] ................................... C=32, gamma=32, total=   0.0s\n",
      "[CV] C=32, gamma=32 ..................................................\n",
      "[CV] ................................... C=32, gamma=32, total=   0.0s\n",
      "[CV] C=32, gamma=32 ..................................................\n",
      "[CV] ................................... C=32, gamma=32, total=   0.0s\n",
      "[CV] C=32, gamma=64 ..................................................\n",
      "[CV] ................................... C=32, gamma=64, total=   0.0s\n",
      "[CV] C=32, gamma=64 ..................................................\n",
      "[CV] ................................... C=32, gamma=64, total=   0.0s\n",
      "[CV] C=32, gamma=64 ..................................................\n",
      "[CV] ................................... C=32, gamma=64, total=   0.0s\n",
      "[CV] C=64, gamma=0.03125 .............................................\n",
      "[CV] .............................. C=64, gamma=0.03125, total=   0.0s\n",
      "[CV] C=64, gamma=0.03125 .............................................\n",
      "[CV] .............................. C=64, gamma=0.03125, total=   0.0s\n",
      "[CV] C=64, gamma=0.03125 .............................................\n",
      "[CV] .............................. C=64, gamma=0.03125, total=   0.0s\n",
      "[CV] C=64, gamma=0.0625 ..............................................\n",
      "[CV] ............................... C=64, gamma=0.0625, total=   0.0s\n",
      "[CV] C=64, gamma=0.0625 ..............................................\n",
      "[CV] ............................... C=64, gamma=0.0625, total=   0.0s\n",
      "[CV] C=64, gamma=0.0625 ..............................................\n",
      "[CV] ............................... C=64, gamma=0.0625, total=   0.0s\n",
      "[CV] C=64, gamma=0.125 ...............................................\n",
      "[CV] ................................ C=64, gamma=0.125, total=   0.0s\n",
      "[CV] C=64, gamma=0.125 ...............................................\n",
      "[CV] ................................ C=64, gamma=0.125, total=   0.0s\n",
      "[CV] C=64, gamma=0.125 ...............................................\n",
      "[CV] ................................ C=64, gamma=0.125, total=   0.0s\n",
      "[CV] C=64, gamma=0.25 ................................................\n",
      "[CV] ................................. C=64, gamma=0.25, total=   0.0s\n",
      "[CV] C=64, gamma=0.25 ................................................\n",
      "[CV] ................................. C=64, gamma=0.25, total=   0.0s\n",
      "[CV] C=64, gamma=0.25 ................................................\n",
      "[CV] ................................. C=64, gamma=0.25, total=   0.0s\n",
      "[CV] C=64, gamma=0.5 .................................................\n",
      "[CV] .................................. C=64, gamma=0.5, total=   0.0s\n",
      "[CV] C=64, gamma=0.5 .................................................\n",
      "[CV] .................................. C=64, gamma=0.5, total=   0.0s\n",
      "[CV] C=64, gamma=0.5 .................................................\n",
      "[CV] .................................. C=64, gamma=0.5, total=   0.0s\n",
      "[CV] C=64, gamma=1 ...................................................\n",
      "[CV] .................................... C=64, gamma=1, total=   0.0s\n",
      "[CV] C=64, gamma=1 ...................................................\n",
      "[CV] .................................... C=64, gamma=1, total=   0.0s\n",
      "[CV] C=64, gamma=1 ...................................................\n",
      "[CV] .................................... C=64, gamma=1, total=   0.0s\n",
      "[CV] C=64, gamma=2 ...................................................\n",
      "[CV] .................................... C=64, gamma=2, total=   0.0s\n",
      "[CV] C=64, gamma=2 ...................................................\n",
      "[CV] .................................... C=64, gamma=2, total=   0.0s\n",
      "[CV] C=64, gamma=2 ...................................................\n",
      "[CV] .................................... C=64, gamma=2, total=   0.0s\n",
      "[CV] C=64, gamma=4 ...................................................\n",
      "[CV] .................................... C=64, gamma=4, total=   0.0s\n",
      "[CV] C=64, gamma=4 ...................................................\n",
      "[CV] .................................... C=64, gamma=4, total=   0.0s\n",
      "[CV] C=64, gamma=4 ...................................................\n",
      "[CV] .................................... C=64, gamma=4, total=   0.0s\n",
      "[CV] C=64, gamma=8 ...................................................\n",
      "[CV] .................................... C=64, gamma=8, total=   0.0s\n",
      "[CV] C=64, gamma=8 ...................................................\n",
      "[CV] .................................... C=64, gamma=8, total=   0.0s\n",
      "[CV] C=64, gamma=8 ...................................................\n",
      "[CV] .................................... C=64, gamma=8, total=   0.0s\n",
      "[CV] C=64, gamma=16 ..................................................\n",
      "[CV] ................................... C=64, gamma=16, total=   0.0s\n",
      "[CV] C=64, gamma=16 ..................................................\n",
      "[CV] ................................... C=64, gamma=16, total=   0.0s\n",
      "[CV] C=64, gamma=16 ..................................................\n",
      "[CV] ................................... C=64, gamma=16, total=   0.0s\n",
      "[CV] C=64, gamma=32 ..................................................\n"
     ]
    },
    {
     "name": "stdout",
     "output_type": "stream",
     "text": [
      "[CV] ................................... C=64, gamma=32, total=   0.0s\n",
      "[CV] C=64, gamma=32 ..................................................\n",
      "[CV] ................................... C=64, gamma=32, total=   0.0s\n",
      "[CV] C=64, gamma=32 ..................................................\n",
      "[CV] ................................... C=64, gamma=32, total=   0.0s\n",
      "[CV] C=64, gamma=64 ..................................................\n",
      "[CV] ................................... C=64, gamma=64, total=   0.0s\n",
      "[CV] C=64, gamma=64 ..................................................\n",
      "[CV] ................................... C=64, gamma=64, total=   0.0s\n",
      "[CV] C=64, gamma=64 ..................................................\n",
      "[CV] ................................... C=64, gamma=64, total=   0.0s\n"
     ]
    },
    {
     "name": "stderr",
     "output_type": "stream",
     "text": [
      "[Parallel(n_jobs=1)]: Done 432 out of 432 | elapsed:    1.5s finished\n",
      "c:\\python37\\lib\\site-packages\\sklearn\\model_selection\\_search.py:841: DeprecationWarning: The default of the `iid` parameter will change from True to False in version 0.22 and will be removed in 0.24. This will change numeric results when test-set sizes are unequal.\n",
      "  DeprecationWarning)\n"
     ]
    },
    {
     "data": {
      "text/plain": [
       "GridSearchCV(cv='warn', error_score='raise-deprecating',\n",
       "       estimator=SVC(C=1.0, cache_size=200, class_weight=None, coef0=0.0,\n",
       "  decision_function_shape='ovr', degree=3, gamma='auto_deprecated',\n",
       "  kernel='rbf', max_iter=-1, probability=False, random_state=None,\n",
       "  shrinking=True, tol=0.001, verbose=False),\n",
       "       fit_params=None, iid='warn', n_jobs=None,\n",
       "       param_grid={'C': [0.03125, 0.0625, 0.125, 0.25, 0.5, 1, 2, 4, 8, 16, 32, 64], 'gamma': [0.03125, 0.0625, 0.125, 0.25, 0.5, 1, 2, 4, 8, 16, 32, 64]},\n",
       "       pre_dispatch='2*n_jobs', refit=True, return_train_score=True,\n",
       "       scoring=None, verbose=2)"
      ]
     },
     "execution_count": 40,
     "metadata": {},
     "output_type": "execute_result"
    }
   ],
   "source": [
    "clf = GridSearchCV(SVC(kernel='rbf'), param_grid=param_grid, verbose=2, return_train_score=True)\n",
    "clf.fit(X_train, y_train)"
   ]
  },
  {
   "cell_type": "markdown",
   "metadata": {
    "colab_type": "text",
    "id": "xWSfS_Hg4mdT"
   },
   "source": [
    "Los valores promedio de accuracy para cada combinación de hiperparámetros se pueden extraer usando `GridSearchCV.cv_results_`. Convertimos ese diccionario a un DataFrame de pandas."
   ]
  },
  {
   "cell_type": "code",
   "execution_count": 41,
   "metadata": {
    "colab": {
     "base_uri": "https://localhost:8080/",
     "height": 4569
    },
    "colab_type": "code",
    "executionInfo": {
     "elapsed": 477,
     "status": "ok",
     "timestamp": 1558099625144,
     "user": {
      "displayName": "Fabio Augusto Gonzalez Osorio",
      "photoUrl": "https://lh5.googleusercontent.com/-jcmRx3yeVv4/AAAAAAAAAAI/AAAAAAAAAic/QZe3kSPTExE/s64/photo.jpg",
      "userId": "12068829047521495105"
     },
     "user_tz": 300
    },
    "id": "4CbfZItT4mdU",
    "outputId": "b7a4a3c3-e59f-4d16-c33a-731e32e26b73"
   },
   "outputs": [
    {
     "data": {
      "text/html": [
       "<div>\n",
       "<style scoped>\n",
       "    .dataframe tbody tr th:only-of-type {\n",
       "        vertical-align: middle;\n",
       "    }\n",
       "\n",
       "    .dataframe tbody tr th {\n",
       "        vertical-align: top;\n",
       "    }\n",
       "\n",
       "    .dataframe thead th {\n",
       "        text-align: right;\n",
       "    }\n",
       "</style>\n",
       "<table border=\"1\" class=\"dataframe\">\n",
       "  <thead>\n",
       "    <tr style=\"text-align: right;\">\n",
       "      <th></th>\n",
       "      <th>mean_fit_time</th>\n",
       "      <th>std_fit_time</th>\n",
       "      <th>mean_score_time</th>\n",
       "      <th>std_score_time</th>\n",
       "      <th>param_C</th>\n",
       "      <th>param_gamma</th>\n",
       "      <th>params</th>\n",
       "      <th>split0_test_score</th>\n",
       "      <th>split1_test_score</th>\n",
       "      <th>split2_test_score</th>\n",
       "      <th>mean_test_score</th>\n",
       "      <th>std_test_score</th>\n",
       "      <th>rank_test_score</th>\n",
       "      <th>split0_train_score</th>\n",
       "      <th>split1_train_score</th>\n",
       "      <th>split2_train_score</th>\n",
       "      <th>mean_train_score</th>\n",
       "      <th>std_train_score</th>\n",
       "    </tr>\n",
       "  </thead>\n",
       "  <tbody>\n",
       "    <tr>\n",
       "      <th>0</th>\n",
       "      <td>0.001330</td>\n",
       "      <td>2.356292e-04</td>\n",
       "      <td>0.000666</td>\n",
       "      <td>2.346180e-04</td>\n",
       "      <td>0.03125</td>\n",
       "      <td>0.03125</td>\n",
       "      <td>{'C': 0.03125, 'gamma': 0.03125}</td>\n",
       "      <td>0.694444</td>\n",
       "      <td>0.342857</td>\n",
       "      <td>0.352941</td>\n",
       "      <td>0.466667</td>\n",
       "      <td>0.164578</td>\n",
       "      <td>127</td>\n",
       "      <td>0.695652</td>\n",
       "      <td>0.357143</td>\n",
       "      <td>0.352113</td>\n",
       "      <td>0.468303</td>\n",
       "      <td>0.160774</td>\n",
       "    </tr>\n",
       "    <tr>\n",
       "      <th>1</th>\n",
       "      <td>0.001165</td>\n",
       "      <td>2.348997e-04</td>\n",
       "      <td>0.000831</td>\n",
       "      <td>2.353483e-04</td>\n",
       "      <td>0.03125</td>\n",
       "      <td>0.0625</td>\n",
       "      <td>{'C': 0.03125, 'gamma': 0.0625}</td>\n",
       "      <td>0.694444</td>\n",
       "      <td>0.685714</td>\n",
       "      <td>0.705882</td>\n",
       "      <td>0.695238</td>\n",
       "      <td>0.008194</td>\n",
       "      <td>105</td>\n",
       "      <td>0.695652</td>\n",
       "      <td>0.700000</td>\n",
       "      <td>0.690141</td>\n",
       "      <td>0.695264</td>\n",
       "      <td>0.004034</td>\n",
       "    </tr>\n",
       "    <tr>\n",
       "      <th>2</th>\n",
       "      <td>0.001498</td>\n",
       "      <td>4.071545e-04</td>\n",
       "      <td>0.000664</td>\n",
       "      <td>2.364835e-04</td>\n",
       "      <td>0.03125</td>\n",
       "      <td>0.125</td>\n",
       "      <td>{'C': 0.03125, 'gamma': 0.125}</td>\n",
       "      <td>0.694444</td>\n",
       "      <td>0.685714</td>\n",
       "      <td>0.705882</td>\n",
       "      <td>0.695238</td>\n",
       "      <td>0.008194</td>\n",
       "      <td>105</td>\n",
       "      <td>0.695652</td>\n",
       "      <td>0.700000</td>\n",
       "      <td>0.690141</td>\n",
       "      <td>0.695264</td>\n",
       "      <td>0.004034</td>\n",
       "    </tr>\n",
       "    <tr>\n",
       "      <th>3</th>\n",
       "      <td>0.001663</td>\n",
       "      <td>6.227998e-04</td>\n",
       "      <td>0.000665</td>\n",
       "      <td>6.223537e-04</td>\n",
       "      <td>0.03125</td>\n",
       "      <td>0.25</td>\n",
       "      <td>{'C': 0.03125, 'gamma': 0.25}</td>\n",
       "      <td>0.694444</td>\n",
       "      <td>0.685714</td>\n",
       "      <td>0.705882</td>\n",
       "      <td>0.695238</td>\n",
       "      <td>0.008194</td>\n",
       "      <td>105</td>\n",
       "      <td>0.695652</td>\n",
       "      <td>0.700000</td>\n",
       "      <td>0.690141</td>\n",
       "      <td>0.695264</td>\n",
       "      <td>0.004034</td>\n",
       "    </tr>\n",
       "    <tr>\n",
       "      <th>4</th>\n",
       "      <td>0.002329</td>\n",
       "      <td>4.708647e-04</td>\n",
       "      <td>0.001000</td>\n",
       "      <td>1.632582e-06</td>\n",
       "      <td>0.03125</td>\n",
       "      <td>0.5</td>\n",
       "      <td>{'C': 0.03125, 'gamma': 0.5}</td>\n",
       "      <td>0.694444</td>\n",
       "      <td>0.600000</td>\n",
       "      <td>0.647059</td>\n",
       "      <td>0.647619</td>\n",
       "      <td>0.038829</td>\n",
       "      <td>111</td>\n",
       "      <td>0.695652</td>\n",
       "      <td>0.685714</td>\n",
       "      <td>0.647887</td>\n",
       "      <td>0.676418</td>\n",
       "      <td>0.020578</td>\n",
       "    </tr>\n",
       "    <tr>\n",
       "      <th>5</th>\n",
       "      <td>0.001331</td>\n",
       "      <td>2.357983e-04</td>\n",
       "      <td>0.001664</td>\n",
       "      <td>1.311150e-03</td>\n",
       "      <td>0.03125</td>\n",
       "      <td>1</td>\n",
       "      <td>{'C': 0.03125, 'gamma': 1}</td>\n",
       "      <td>0.694444</td>\n",
       "      <td>0.342857</td>\n",
       "      <td>0.352941</td>\n",
       "      <td>0.466667</td>\n",
       "      <td>0.164578</td>\n",
       "      <td>127</td>\n",
       "      <td>0.695652</td>\n",
       "      <td>0.357143</td>\n",
       "      <td>0.352113</td>\n",
       "      <td>0.468303</td>\n",
       "      <td>0.160774</td>\n",
       "    </tr>\n",
       "    <tr>\n",
       "      <th>6</th>\n",
       "      <td>0.000666</td>\n",
       "      <td>2.352356e-04</td>\n",
       "      <td>0.000332</td>\n",
       "      <td>2.350672e-04</td>\n",
       "      <td>0.03125</td>\n",
       "      <td>2</td>\n",
       "      <td>{'C': 0.03125, 'gamma': 2}</td>\n",
       "      <td>0.694444</td>\n",
       "      <td>0.342857</td>\n",
       "      <td>0.352941</td>\n",
       "      <td>0.466667</td>\n",
       "      <td>0.164578</td>\n",
       "      <td>127</td>\n",
       "      <td>0.681159</td>\n",
       "      <td>0.357143</td>\n",
       "      <td>0.352113</td>\n",
       "      <td>0.463472</td>\n",
       "      <td>0.153942</td>\n",
       "    </tr>\n",
       "    <tr>\n",
       "      <th>7</th>\n",
       "      <td>0.000999</td>\n",
       "      <td>4.082197e-04</td>\n",
       "      <td>0.000499</td>\n",
       "      <td>4.052337e-07</td>\n",
       "      <td>0.03125</td>\n",
       "      <td>4</td>\n",
       "      <td>{'C': 0.03125, 'gamma': 4}</td>\n",
       "      <td>0.666667</td>\n",
       "      <td>0.342857</td>\n",
       "      <td>0.352941</td>\n",
       "      <td>0.457143</td>\n",
       "      <td>0.151397</td>\n",
       "      <td>130</td>\n",
       "      <td>0.652174</td>\n",
       "      <td>0.357143</td>\n",
       "      <td>0.352113</td>\n",
       "      <td>0.453810</td>\n",
       "      <td>0.140280</td>\n",
       "    </tr>\n",
       "    <tr>\n",
       "      <th>8</th>\n",
       "      <td>0.001165</td>\n",
       "      <td>2.351235e-04</td>\n",
       "      <td>0.000333</td>\n",
       "      <td>2.351239e-04</td>\n",
       "      <td>0.03125</td>\n",
       "      <td>8</td>\n",
       "      <td>{'C': 0.03125, 'gamma': 8}</td>\n",
       "      <td>0.638889</td>\n",
       "      <td>0.342857</td>\n",
       "      <td>0.352941</td>\n",
       "      <td>0.447619</td>\n",
       "      <td>0.138218</td>\n",
       "      <td>131</td>\n",
       "      <td>0.637681</td>\n",
       "      <td>0.357143</td>\n",
       "      <td>0.352113</td>\n",
       "      <td>0.448979</td>\n",
       "      <td>0.133448</td>\n",
       "    </tr>\n",
       "    <tr>\n",
       "      <th>9</th>\n",
       "      <td>0.001496</td>\n",
       "      <td>5.619580e-07</td>\n",
       "      <td>0.000333</td>\n",
       "      <td>2.354607e-04</td>\n",
       "      <td>0.03125</td>\n",
       "      <td>16</td>\n",
       "      <td>{'C': 0.03125, 'gamma': 16}</td>\n",
       "      <td>0.611111</td>\n",
       "      <td>0.342857</td>\n",
       "      <td>0.352941</td>\n",
       "      <td>0.438095</td>\n",
       "      <td>0.125039</td>\n",
       "      <td>133</td>\n",
       "      <td>0.695652</td>\n",
       "      <td>0.357143</td>\n",
       "      <td>0.352113</td>\n",
       "      <td>0.468303</td>\n",
       "      <td>0.160774</td>\n",
       "    </tr>\n",
       "    <tr>\n",
       "      <th>10</th>\n",
       "      <td>0.001663</td>\n",
       "      <td>2.340589e-04</td>\n",
       "      <td>0.000833</td>\n",
       "      <td>4.722696e-04</td>\n",
       "      <td>0.03125</td>\n",
       "      <td>32</td>\n",
       "      <td>{'C': 0.03125, 'gamma': 32}</td>\n",
       "      <td>0.611111</td>\n",
       "      <td>0.342857</td>\n",
       "      <td>0.352941</td>\n",
       "      <td>0.438095</td>\n",
       "      <td>0.125039</td>\n",
       "      <td>133</td>\n",
       "      <td>0.695652</td>\n",
       "      <td>0.357143</td>\n",
       "      <td>0.352113</td>\n",
       "      <td>0.468303</td>\n",
       "      <td>0.160774</td>\n",
       "    </tr>\n",
       "    <tr>\n",
       "      <th>11</th>\n",
       "      <td>0.001496</td>\n",
       "      <td>4.071481e-04</td>\n",
       "      <td>0.000333</td>\n",
       "      <td>2.355168e-04</td>\n",
       "      <td>0.03125</td>\n",
       "      <td>64</td>\n",
       "      <td>{'C': 0.03125, 'gamma': 64}</td>\n",
       "      <td>0.361111</td>\n",
       "      <td>0.342857</td>\n",
       "      <td>0.352941</td>\n",
       "      <td>0.352381</td>\n",
       "      <td>0.007514</td>\n",
       "      <td>141</td>\n",
       "      <td>0.695652</td>\n",
       "      <td>0.357143</td>\n",
       "      <td>0.352113</td>\n",
       "      <td>0.468303</td>\n",
       "      <td>0.160774</td>\n",
       "    </tr>\n",
       "    <tr>\n",
       "      <th>12</th>\n",
       "      <td>0.001164</td>\n",
       "      <td>2.347860e-04</td>\n",
       "      <td>0.000832</td>\n",
       "      <td>2.347299e-04</td>\n",
       "      <td>0.0625</td>\n",
       "      <td>0.03125</td>\n",
       "      <td>{'C': 0.0625, 'gamma': 0.03125}</td>\n",
       "      <td>0.694444</td>\n",
       "      <td>0.685714</td>\n",
       "      <td>0.705882</td>\n",
       "      <td>0.695238</td>\n",
       "      <td>0.008194</td>\n",
       "      <td>105</td>\n",
       "      <td>0.695652</td>\n",
       "      <td>0.700000</td>\n",
       "      <td>0.690141</td>\n",
       "      <td>0.695264</td>\n",
       "      <td>0.004034</td>\n",
       "    </tr>\n",
       "    <tr>\n",
       "      <th>13</th>\n",
       "      <td>0.001331</td>\n",
       "      <td>4.703590e-04</td>\n",
       "      <td>0.000666</td>\n",
       "      <td>2.355729e-04</td>\n",
       "      <td>0.0625</td>\n",
       "      <td>0.0625</td>\n",
       "      <td>{'C': 0.0625, 'gamma': 0.0625}</td>\n",
       "      <td>0.694444</td>\n",
       "      <td>0.685714</td>\n",
       "      <td>0.705882</td>\n",
       "      <td>0.695238</td>\n",
       "      <td>0.008194</td>\n",
       "      <td>105</td>\n",
       "      <td>0.695652</td>\n",
       "      <td>0.700000</td>\n",
       "      <td>0.690141</td>\n",
       "      <td>0.695264</td>\n",
       "      <td>0.004034</td>\n",
       "    </tr>\n",
       "    <tr>\n",
       "      <th>14</th>\n",
       "      <td>0.000666</td>\n",
       "      <td>2.356855e-04</td>\n",
       "      <td>0.000665</td>\n",
       "      <td>2.354047e-04</td>\n",
       "      <td>0.0625</td>\n",
       "      <td>0.125</td>\n",
       "      <td>{'C': 0.0625, 'gamma': 0.125}</td>\n",
       "      <td>0.694444</td>\n",
       "      <td>0.685714</td>\n",
       "      <td>0.764706</td>\n",
       "      <td>0.714286</td>\n",
       "      <td>0.035075</td>\n",
       "      <td>103</td>\n",
       "      <td>0.695652</td>\n",
       "      <td>0.700000</td>\n",
       "      <td>0.760563</td>\n",
       "      <td>0.718739</td>\n",
       "      <td>0.029628</td>\n",
       "    </tr>\n",
       "    <tr>\n",
       "      <th>15</th>\n",
       "      <td>0.001165</td>\n",
       "      <td>2.341146e-04</td>\n",
       "      <td>0.000499</td>\n",
       "      <td>8.920806e-07</td>\n",
       "      <td>0.0625</td>\n",
       "      <td>0.25</td>\n",
       "      <td>{'C': 0.0625, 'gamma': 0.25}</td>\n",
       "      <td>0.722222</td>\n",
       "      <td>0.685714</td>\n",
       "      <td>0.852941</td>\n",
       "      <td>0.752381</td>\n",
       "      <td>0.071189</td>\n",
       "      <td>95</td>\n",
       "      <td>0.768116</td>\n",
       "      <td>0.714286</td>\n",
       "      <td>0.887324</td>\n",
       "      <td>0.789909</td>\n",
       "      <td>0.072304</td>\n",
       "    </tr>\n",
       "    <tr>\n",
       "      <th>16</th>\n",
       "      <td>0.001333</td>\n",
       "      <td>4.735628e-04</td>\n",
       "      <td>0.000331</td>\n",
       "      <td>2.339579e-04</td>\n",
       "      <td>0.0625</td>\n",
       "      <td>0.5</td>\n",
       "      <td>{'C': 0.0625, 'gamma': 0.5}</td>\n",
       "      <td>0.833333</td>\n",
       "      <td>0.800000</td>\n",
       "      <td>0.852941</td>\n",
       "      <td>0.828571</td>\n",
       "      <td>0.021730</td>\n",
       "      <td>92</td>\n",
       "      <td>0.811594</td>\n",
       "      <td>0.742857</td>\n",
       "      <td>0.915493</td>\n",
       "      <td>0.823315</td>\n",
       "      <td>0.070964</td>\n",
       "    </tr>\n",
       "    <tr>\n",
       "      <th>17</th>\n",
       "      <td>0.000999</td>\n",
       "      <td>9.798072e-07</td>\n",
       "      <td>0.000333</td>\n",
       "      <td>2.352920e-04</td>\n",
       "      <td>0.0625</td>\n",
       "      <td>1</td>\n",
       "      <td>{'C': 0.0625, 'gamma': 1}</td>\n",
       "      <td>0.722222</td>\n",
       "      <td>0.685714</td>\n",
       "      <td>0.823529</td>\n",
       "      <td>0.742857</td>\n",
       "      <td>0.057808</td>\n",
       "      <td>96</td>\n",
       "      <td>0.739130</td>\n",
       "      <td>0.700000</td>\n",
       "      <td>0.830986</td>\n",
       "      <td>0.756705</td>\n",
       "      <td>0.054900</td>\n",
       "    </tr>\n",
       "    <tr>\n",
       "      <th>18</th>\n",
       "      <td>0.001332</td>\n",
       "      <td>2.341120e-04</td>\n",
       "      <td>0.000333</td>\n",
       "      <td>2.355729e-04</td>\n",
       "      <td>0.0625</td>\n",
       "      <td>2</td>\n",
       "      <td>{'C': 0.0625, 'gamma': 2}</td>\n",
       "      <td>0.694444</td>\n",
       "      <td>0.600000</td>\n",
       "      <td>0.617647</td>\n",
       "      <td>0.638095</td>\n",
       "      <td>0.041325</td>\n",
       "      <td>113</td>\n",
       "      <td>0.681159</td>\n",
       "      <td>0.685714</td>\n",
       "      <td>0.619718</td>\n",
       "      <td>0.662197</td>\n",
       "      <td>0.030095</td>\n",
       "    </tr>\n",
       "    <tr>\n",
       "      <th>19</th>\n",
       "      <td>0.000997</td>\n",
       "      <td>6.836514e-07</td>\n",
       "      <td>0.000167</td>\n",
       "      <td>2.355728e-04</td>\n",
       "      <td>0.0625</td>\n",
       "      <td>4</td>\n",
       "      <td>{'C': 0.0625, 'gamma': 4}</td>\n",
       "      <td>0.666667</td>\n",
       "      <td>0.400000</td>\n",
       "      <td>0.382353</td>\n",
       "      <td>0.485714</td>\n",
       "      <td>0.130900</td>\n",
       "      <td>126</td>\n",
       "      <td>0.652174</td>\n",
       "      <td>0.442857</td>\n",
       "      <td>0.352113</td>\n",
       "      <td>0.482381</td>\n",
       "      <td>0.125647</td>\n",
       "    </tr>\n",
       "    <tr>\n",
       "      <th>20</th>\n",
       "      <td>0.001830</td>\n",
       "      <td>6.245206e-04</td>\n",
       "      <td>0.000831</td>\n",
       "      <td>2.352942e-04</td>\n",
       "      <td>0.0625</td>\n",
       "      <td>8</td>\n",
       "      <td>{'C': 0.0625, 'gamma': 8}</td>\n",
       "      <td>0.638889</td>\n",
       "      <td>0.342857</td>\n",
       "      <td>0.352941</td>\n",
       "      <td>0.447619</td>\n",
       "      <td>0.138218</td>\n",
       "      <td>131</td>\n",
       "      <td>0.637681</td>\n",
       "      <td>0.357143</td>\n",
       "      <td>0.352113</td>\n",
       "      <td>0.448979</td>\n",
       "      <td>0.133448</td>\n",
       "    </tr>\n",
       "    <tr>\n",
       "      <th>21</th>\n",
       "      <td>0.001331</td>\n",
       "      <td>2.358583e-04</td>\n",
       "      <td>0.000831</td>\n",
       "      <td>4.687292e-04</td>\n",
       "      <td>0.0625</td>\n",
       "      <td>16</td>\n",
       "      <td>{'C': 0.0625, 'gamma': 16}</td>\n",
       "      <td>0.611111</td>\n",
       "      <td>0.342857</td>\n",
       "      <td>0.352941</td>\n",
       "      <td>0.438095</td>\n",
       "      <td>0.125039</td>\n",
       "      <td>133</td>\n",
       "      <td>0.695652</td>\n",
       "      <td>0.357143</td>\n",
       "      <td>0.352113</td>\n",
       "      <td>0.468303</td>\n",
       "      <td>0.160774</td>\n",
       "    </tr>\n",
       "    <tr>\n",
       "      <th>22</th>\n",
       "      <td>0.001496</td>\n",
       "      <td>4.495664e-07</td>\n",
       "      <td>0.000500</td>\n",
       "      <td>2.973602e-07</td>\n",
       "      <td>0.0625</td>\n",
       "      <td>32</td>\n",
       "      <td>{'C': 0.0625, 'gamma': 32}</td>\n",
       "      <td>0.611111</td>\n",
       "      <td>0.342857</td>\n",
       "      <td>0.352941</td>\n",
       "      <td>0.438095</td>\n",
       "      <td>0.125039</td>\n",
       "      <td>133</td>\n",
       "      <td>0.695652</td>\n",
       "      <td>0.357143</td>\n",
       "      <td>0.352113</td>\n",
       "      <td>0.468303</td>\n",
       "      <td>0.160774</td>\n",
       "    </tr>\n",
       "    <tr>\n",
       "      <th>23</th>\n",
       "      <td>0.001163</td>\n",
       "      <td>2.356290e-04</td>\n",
       "      <td>0.000666</td>\n",
       "      <td>2.346737e-04</td>\n",
       "      <td>0.0625</td>\n",
       "      <td>64</td>\n",
       "      <td>{'C': 0.0625, 'gamma': 64}</td>\n",
       "      <td>0.361111</td>\n",
       "      <td>0.342857</td>\n",
       "      <td>0.352941</td>\n",
       "      <td>0.352381</td>\n",
       "      <td>0.007514</td>\n",
       "      <td>141</td>\n",
       "      <td>0.695652</td>\n",
       "      <td>0.357143</td>\n",
       "      <td>0.352113</td>\n",
       "      <td>0.468303</td>\n",
       "      <td>0.160774</td>\n",
       "    </tr>\n",
       "    <tr>\n",
       "      <th>24</th>\n",
       "      <td>0.000666</td>\n",
       "      <td>2.350675e-04</td>\n",
       "      <td>0.000333</td>\n",
       "      <td>2.352923e-04</td>\n",
       "      <td>0.125</td>\n",
       "      <td>0.03125</td>\n",
       "      <td>{'C': 0.125, 'gamma': 0.03125}</td>\n",
       "      <td>0.694444</td>\n",
       "      <td>0.685714</td>\n",
       "      <td>0.705882</td>\n",
       "      <td>0.695238</td>\n",
       "      <td>0.008194</td>\n",
       "      <td>105</td>\n",
       "      <td>0.695652</td>\n",
       "      <td>0.700000</td>\n",
       "      <td>0.690141</td>\n",
       "      <td>0.695264</td>\n",
       "      <td>0.004034</td>\n",
       "    </tr>\n",
       "    <tr>\n",
       "      <th>25</th>\n",
       "      <td>0.000665</td>\n",
       "      <td>2.354047e-04</td>\n",
       "      <td>0.000499</td>\n",
       "      <td>4.078298e-04</td>\n",
       "      <td>0.125</td>\n",
       "      <td>0.0625</td>\n",
       "      <td>{'C': 0.125, 'gamma': 0.0625}</td>\n",
       "      <td>0.722222</td>\n",
       "      <td>0.714286</td>\n",
       "      <td>0.852941</td>\n",
       "      <td>0.761905</td>\n",
       "      <td>0.063082</td>\n",
       "      <td>94</td>\n",
       "      <td>0.753623</td>\n",
       "      <td>0.728571</td>\n",
       "      <td>0.915493</td>\n",
       "      <td>0.799229</td>\n",
       "      <td>0.082845</td>\n",
       "    </tr>\n",
       "    <tr>\n",
       "      <th>26</th>\n",
       "      <td>0.000666</td>\n",
       "      <td>2.346802e-04</td>\n",
       "      <td>0.000333</td>\n",
       "      <td>2.351232e-04</td>\n",
       "      <td>0.125</td>\n",
       "      <td>0.125</td>\n",
       "      <td>{'C': 0.125, 'gamma': 0.125}</td>\n",
       "      <td>0.944444</td>\n",
       "      <td>0.914286</td>\n",
       "      <td>0.911765</td>\n",
       "      <td>0.923810</td>\n",
       "      <td>0.014940</td>\n",
       "      <td>80</td>\n",
       "      <td>0.884058</td>\n",
       "      <td>0.871429</td>\n",
       "      <td>0.943662</td>\n",
       "      <td>0.899716</td>\n",
       "      <td>0.031499</td>\n",
       "    </tr>\n",
       "    <tr>\n",
       "      <th>27</th>\n",
       "      <td>0.000500</td>\n",
       "      <td>1.123916e-07</td>\n",
       "      <td>0.000499</td>\n",
       "      <td>4.052337e-07</td>\n",
       "      <td>0.125</td>\n",
       "      <td>0.25</td>\n",
       "      <td>{'C': 0.125, 'gamma': 0.25}</td>\n",
       "      <td>0.972222</td>\n",
       "      <td>0.914286</td>\n",
       "      <td>0.941176</td>\n",
       "      <td>0.942857</td>\n",
       "      <td>0.023847</td>\n",
       "      <td>50</td>\n",
       "      <td>0.898551</td>\n",
       "      <td>0.928571</td>\n",
       "      <td>0.943662</td>\n",
       "      <td>0.923595</td>\n",
       "      <td>0.018750</td>\n",
       "    </tr>\n",
       "    <tr>\n",
       "      <th>28</th>\n",
       "      <td>0.000665</td>\n",
       "      <td>2.332733e-04</td>\n",
       "      <td>0.000832</td>\n",
       "      <td>2.353481e-04</td>\n",
       "      <td>0.125</td>\n",
       "      <td>0.5</td>\n",
       "      <td>{'C': 0.125, 'gamma': 0.5}</td>\n",
       "      <td>0.972222</td>\n",
       "      <td>0.914286</td>\n",
       "      <td>0.911765</td>\n",
       "      <td>0.933333</td>\n",
       "      <td>0.028109</td>\n",
       "      <td>58</td>\n",
       "      <td>0.942029</td>\n",
       "      <td>0.957143</td>\n",
       "      <td>0.943662</td>\n",
       "      <td>0.947611</td>\n",
       "      <td>0.006773</td>\n",
       "    </tr>\n",
       "    <tr>\n",
       "      <th>29</th>\n",
       "      <td>0.000999</td>\n",
       "      <td>3.440358e-06</td>\n",
       "      <td>0.000333</td>\n",
       "      <td>2.351794e-04</td>\n",
       "      <td>0.125</td>\n",
       "      <td>1</td>\n",
       "      <td>{'C': 0.125, 'gamma': 1}</td>\n",
       "      <td>0.972222</td>\n",
       "      <td>0.914286</td>\n",
       "      <td>0.882353</td>\n",
       "      <td>0.923810</td>\n",
       "      <td>0.037287</td>\n",
       "      <td>80</td>\n",
       "      <td>0.956522</td>\n",
       "      <td>0.957143</td>\n",
       "      <td>0.943662</td>\n",
       "      <td>0.952442</td>\n",
       "      <td>0.006214</td>\n",
       "    </tr>\n",
       "    <tr>\n",
       "      <th>...</th>\n",
       "      <td>...</td>\n",
       "      <td>...</td>\n",
       "      <td>...</td>\n",
       "      <td>...</td>\n",
       "      <td>...</td>\n",
       "      <td>...</td>\n",
       "      <td>...</td>\n",
       "      <td>...</td>\n",
       "      <td>...</td>\n",
       "      <td>...</td>\n",
       "      <td>...</td>\n",
       "      <td>...</td>\n",
       "      <td>...</td>\n",
       "      <td>...</td>\n",
       "      <td>...</td>\n",
       "      <td>...</td>\n",
       "      <td>...</td>\n",
       "      <td>...</td>\n",
       "    </tr>\n",
       "    <tr>\n",
       "      <th>114</th>\n",
       "      <td>0.000998</td>\n",
       "      <td>4.052337e-07</td>\n",
       "      <td>0.000333</td>\n",
       "      <td>2.354042e-04</td>\n",
       "      <td>16</td>\n",
       "      <td>2</td>\n",
       "      <td>{'C': 16, 'gamma': 2}</td>\n",
       "      <td>0.972222</td>\n",
       "      <td>0.971429</td>\n",
       "      <td>0.911765</td>\n",
       "      <td>0.952381</td>\n",
       "      <td>0.028109</td>\n",
       "      <td>37</td>\n",
       "      <td>1.000000</td>\n",
       "      <td>1.000000</td>\n",
       "      <td>1.000000</td>\n",
       "      <td>1.000000</td>\n",
       "      <td>0.000000</td>\n",
       "    </tr>\n",
       "    <tr>\n",
       "      <th>115</th>\n",
       "      <td>0.000831</td>\n",
       "      <td>2.350672e-04</td>\n",
       "      <td>0.000333</td>\n",
       "      <td>2.353480e-04</td>\n",
       "      <td>16</td>\n",
       "      <td>4</td>\n",
       "      <td>{'C': 16, 'gamma': 4}</td>\n",
       "      <td>0.972222</td>\n",
       "      <td>0.914286</td>\n",
       "      <td>0.911765</td>\n",
       "      <td>0.933333</td>\n",
       "      <td>0.028109</td>\n",
       "      <td>58</td>\n",
       "      <td>1.000000</td>\n",
       "      <td>1.000000</td>\n",
       "      <td>1.000000</td>\n",
       "      <td>1.000000</td>\n",
       "      <td>0.000000</td>\n",
       "    </tr>\n",
       "    <tr>\n",
       "      <th>116</th>\n",
       "      <td>0.002163</td>\n",
       "      <td>6.220355e-04</td>\n",
       "      <td>0.000499</td>\n",
       "      <td>7.018853e-07</td>\n",
       "      <td>16</td>\n",
       "      <td>8</td>\n",
       "      <td>{'C': 16, 'gamma': 8}</td>\n",
       "      <td>0.972222</td>\n",
       "      <td>0.914286</td>\n",
       "      <td>0.911765</td>\n",
       "      <td>0.933333</td>\n",
       "      <td>0.028109</td>\n",
       "      <td>58</td>\n",
       "      <td>1.000000</td>\n",
       "      <td>1.000000</td>\n",
       "      <td>1.000000</td>\n",
       "      <td>1.000000</td>\n",
       "      <td>0.000000</td>\n",
       "    </tr>\n",
       "    <tr>\n",
       "      <th>117</th>\n",
       "      <td>0.001663</td>\n",
       "      <td>2.361911e-04</td>\n",
       "      <td>0.000499</td>\n",
       "      <td>4.071482e-04</td>\n",
       "      <td>16</td>\n",
       "      <td>16</td>\n",
       "      <td>{'C': 16, 'gamma': 16}</td>\n",
       "      <td>0.861111</td>\n",
       "      <td>0.800000</td>\n",
       "      <td>0.882353</td>\n",
       "      <td>0.847619</td>\n",
       "      <td>0.034770</td>\n",
       "      <td>85</td>\n",
       "      <td>1.000000</td>\n",
       "      <td>1.000000</td>\n",
       "      <td>1.000000</td>\n",
       "      <td>1.000000</td>\n",
       "      <td>0.000000</td>\n",
       "    </tr>\n",
       "    <tr>\n",
       "      <th>118</th>\n",
       "      <td>0.001829</td>\n",
       "      <td>2.351796e-04</td>\n",
       "      <td>0.000499</td>\n",
       "      <td>4.052337e-07</td>\n",
       "      <td>16</td>\n",
       "      <td>32</td>\n",
       "      <td>{'C': 16, 'gamma': 32}</td>\n",
       "      <td>0.722222</td>\n",
       "      <td>0.657143</td>\n",
       "      <td>0.794118</td>\n",
       "      <td>0.723810</td>\n",
       "      <td>0.055525</td>\n",
       "      <td>97</td>\n",
       "      <td>1.000000</td>\n",
       "      <td>1.000000</td>\n",
       "      <td>1.000000</td>\n",
       "      <td>1.000000</td>\n",
       "      <td>0.000000</td>\n",
       "    </tr>\n",
       "    <tr>\n",
       "      <th>119</th>\n",
       "      <td>0.001497</td>\n",
       "      <td>2.973602e-07</td>\n",
       "      <td>0.000499</td>\n",
       "      <td>0.000000e+00</td>\n",
       "      <td>16</td>\n",
       "      <td>64</td>\n",
       "      <td>{'C': 16, 'gamma': 64}</td>\n",
       "      <td>0.638889</td>\n",
       "      <td>0.514286</td>\n",
       "      <td>0.647059</td>\n",
       "      <td>0.600000</td>\n",
       "      <td>0.060701</td>\n",
       "      <td>116</td>\n",
       "      <td>1.000000</td>\n",
       "      <td>1.000000</td>\n",
       "      <td>1.000000</td>\n",
       "      <td>1.000000</td>\n",
       "      <td>0.000000</td>\n",
       "    </tr>\n",
       "    <tr>\n",
       "      <th>120</th>\n",
       "      <td>0.000832</td>\n",
       "      <td>2.345620e-04</td>\n",
       "      <td>0.000499</td>\n",
       "      <td>4.076351e-04</td>\n",
       "      <td>32</td>\n",
       "      <td>0.03125</td>\n",
       "      <td>{'C': 32, 'gamma': 0.03125}</td>\n",
       "      <td>0.972222</td>\n",
       "      <td>0.971429</td>\n",
       "      <td>0.970588</td>\n",
       "      <td>0.971429</td>\n",
       "      <td>0.000667</td>\n",
       "      <td>4</td>\n",
       "      <td>0.985507</td>\n",
       "      <td>0.985714</td>\n",
       "      <td>0.971831</td>\n",
       "      <td>0.981018</td>\n",
       "      <td>0.006496</td>\n",
       "    </tr>\n",
       "    <tr>\n",
       "      <th>121</th>\n",
       "      <td>0.000502</td>\n",
       "      <td>4.064786e-06</td>\n",
       "      <td>0.000496</td>\n",
       "      <td>4.310624e-06</td>\n",
       "      <td>32</td>\n",
       "      <td>0.0625</td>\n",
       "      <td>{'C': 32, 'gamma': 0.0625}</td>\n",
       "      <td>0.972222</td>\n",
       "      <td>0.971429</td>\n",
       "      <td>0.970588</td>\n",
       "      <td>0.971429</td>\n",
       "      <td>0.000667</td>\n",
       "      <td>4</td>\n",
       "      <td>0.971014</td>\n",
       "      <td>0.985714</td>\n",
       "      <td>0.971831</td>\n",
       "      <td>0.976187</td>\n",
       "      <td>0.006745</td>\n",
       "    </tr>\n",
       "    <tr>\n",
       "      <th>122</th>\n",
       "      <td>0.000832</td>\n",
       "      <td>2.361911e-04</td>\n",
       "      <td>0.000333</td>\n",
       "      <td>2.357414e-04</td>\n",
       "      <td>32</td>\n",
       "      <td>0.125</td>\n",
       "      <td>{'C': 32, 'gamma': 0.125}</td>\n",
       "      <td>0.916667</td>\n",
       "      <td>0.971429</td>\n",
       "      <td>0.911765</td>\n",
       "      <td>0.933333</td>\n",
       "      <td>0.027012</td>\n",
       "      <td>58</td>\n",
       "      <td>0.971014</td>\n",
       "      <td>0.985714</td>\n",
       "      <td>0.971831</td>\n",
       "      <td>0.976187</td>\n",
       "      <td>0.006745</td>\n",
       "    </tr>\n",
       "    <tr>\n",
       "      <th>123</th>\n",
       "      <td>0.000833</td>\n",
       "      <td>2.363038e-04</td>\n",
       "      <td>0.000332</td>\n",
       "      <td>2.348423e-04</td>\n",
       "      <td>32</td>\n",
       "      <td>0.25</td>\n",
       "      <td>{'C': 32, 'gamma': 0.25}</td>\n",
       "      <td>0.916667</td>\n",
       "      <td>0.971429</td>\n",
       "      <td>0.911765</td>\n",
       "      <td>0.933333</td>\n",
       "      <td>0.027012</td>\n",
       "      <td>58</td>\n",
       "      <td>0.985507</td>\n",
       "      <td>0.985714</td>\n",
       "      <td>0.971831</td>\n",
       "      <td>0.981018</td>\n",
       "      <td>0.006496</td>\n",
       "    </tr>\n",
       "    <tr>\n",
       "      <th>124</th>\n",
       "      <td>0.000999</td>\n",
       "      <td>1.573482e-06</td>\n",
       "      <td>0.000332</td>\n",
       "      <td>2.346209e-04</td>\n",
       "      <td>32</td>\n",
       "      <td>0.5</td>\n",
       "      <td>{'C': 32, 'gamma': 0.5}</td>\n",
       "      <td>0.916667</td>\n",
       "      <td>0.971429</td>\n",
       "      <td>0.911765</td>\n",
       "      <td>0.933333</td>\n",
       "      <td>0.027012</td>\n",
       "      <td>58</td>\n",
       "      <td>1.000000</td>\n",
       "      <td>0.985714</td>\n",
       "      <td>0.985915</td>\n",
       "      <td>0.990543</td>\n",
       "      <td>0.006687</td>\n",
       "    </tr>\n",
       "    <tr>\n",
       "      <th>125</th>\n",
       "      <td>0.001165</td>\n",
       "      <td>6.234162e-04</td>\n",
       "      <td>0.000499</td>\n",
       "      <td>4.074400e-04</td>\n",
       "      <td>32</td>\n",
       "      <td>1</td>\n",
       "      <td>{'C': 32, 'gamma': 1}</td>\n",
       "      <td>0.972222</td>\n",
       "      <td>0.971429</td>\n",
       "      <td>0.911765</td>\n",
       "      <td>0.952381</td>\n",
       "      <td>0.028109</td>\n",
       "      <td>37</td>\n",
       "      <td>1.000000</td>\n",
       "      <td>1.000000</td>\n",
       "      <td>0.985915</td>\n",
       "      <td>0.995305</td>\n",
       "      <td>0.006640</td>\n",
       "    </tr>\n",
       "    <tr>\n",
       "      <th>126</th>\n",
       "      <td>0.000666</td>\n",
       "      <td>2.345620e-04</td>\n",
       "      <td>0.000332</td>\n",
       "      <td>2.350111e-04</td>\n",
       "      <td>32</td>\n",
       "      <td>2</td>\n",
       "      <td>{'C': 32, 'gamma': 2}</td>\n",
       "      <td>0.972222</td>\n",
       "      <td>0.971429</td>\n",
       "      <td>0.911765</td>\n",
       "      <td>0.952381</td>\n",
       "      <td>0.028109</td>\n",
       "      <td>37</td>\n",
       "      <td>1.000000</td>\n",
       "      <td>1.000000</td>\n",
       "      <td>1.000000</td>\n",
       "      <td>1.000000</td>\n",
       "      <td>0.000000</td>\n",
       "    </tr>\n",
       "    <tr>\n",
       "      <th>127</th>\n",
       "      <td>0.001164</td>\n",
       "      <td>2.348984e-04</td>\n",
       "      <td>0.000666</td>\n",
       "      <td>2.361351e-04</td>\n",
       "      <td>32</td>\n",
       "      <td>4</td>\n",
       "      <td>{'C': 32, 'gamma': 4}</td>\n",
       "      <td>0.972222</td>\n",
       "      <td>0.914286</td>\n",
       "      <td>0.911765</td>\n",
       "      <td>0.933333</td>\n",
       "      <td>0.028109</td>\n",
       "      <td>58</td>\n",
       "      <td>1.000000</td>\n",
       "      <td>1.000000</td>\n",
       "      <td>1.000000</td>\n",
       "      <td>1.000000</td>\n",
       "      <td>0.000000</td>\n",
       "    </tr>\n",
       "    <tr>\n",
       "      <th>128</th>\n",
       "      <td>0.001494</td>\n",
       "      <td>2.880823e-06</td>\n",
       "      <td>0.000499</td>\n",
       "      <td>4.052337e-07</td>\n",
       "      <td>32</td>\n",
       "      <td>8</td>\n",
       "      <td>{'C': 32, 'gamma': 8}</td>\n",
       "      <td>0.972222</td>\n",
       "      <td>0.914286</td>\n",
       "      <td>0.911765</td>\n",
       "      <td>0.933333</td>\n",
       "      <td>0.028109</td>\n",
       "      <td>58</td>\n",
       "      <td>1.000000</td>\n",
       "      <td>1.000000</td>\n",
       "      <td>1.000000</td>\n",
       "      <td>1.000000</td>\n",
       "      <td>0.000000</td>\n",
       "    </tr>\n",
       "    <tr>\n",
       "      <th>129</th>\n",
       "      <td>0.001829</td>\n",
       "      <td>2.353481e-04</td>\n",
       "      <td>0.000499</td>\n",
       "      <td>5.150430e-07</td>\n",
       "      <td>32</td>\n",
       "      <td>16</td>\n",
       "      <td>{'C': 32, 'gamma': 16}</td>\n",
       "      <td>0.861111</td>\n",
       "      <td>0.800000</td>\n",
       "      <td>0.882353</td>\n",
       "      <td>0.847619</td>\n",
       "      <td>0.034770</td>\n",
       "      <td>85</td>\n",
       "      <td>1.000000</td>\n",
       "      <td>1.000000</td>\n",
       "      <td>1.000000</td>\n",
       "      <td>1.000000</td>\n",
       "      <td>0.000000</td>\n",
       "    </tr>\n",
       "    <tr>\n",
       "      <th>130</th>\n",
       "      <td>0.001493</td>\n",
       "      <td>3.622777e-06</td>\n",
       "      <td>0.000499</td>\n",
       "      <td>2.973602e-07</td>\n",
       "      <td>32</td>\n",
       "      <td>32</td>\n",
       "      <td>{'C': 32, 'gamma': 32}</td>\n",
       "      <td>0.722222</td>\n",
       "      <td>0.657143</td>\n",
       "      <td>0.794118</td>\n",
       "      <td>0.723810</td>\n",
       "      <td>0.055525</td>\n",
       "      <td>97</td>\n",
       "      <td>1.000000</td>\n",
       "      <td>1.000000</td>\n",
       "      <td>1.000000</td>\n",
       "      <td>1.000000</td>\n",
       "      <td>0.000000</td>\n",
       "    </tr>\n",
       "    <tr>\n",
       "      <th>131</th>\n",
       "      <td>0.001829</td>\n",
       "      <td>4.703031e-04</td>\n",
       "      <td>0.000666</td>\n",
       "      <td>2.353481e-04</td>\n",
       "      <td>32</td>\n",
       "      <td>64</td>\n",
       "      <td>{'C': 32, 'gamma': 64}</td>\n",
       "      <td>0.638889</td>\n",
       "      <td>0.514286</td>\n",
       "      <td>0.647059</td>\n",
       "      <td>0.600000</td>\n",
       "      <td>0.060701</td>\n",
       "      <td>116</td>\n",
       "      <td>1.000000</td>\n",
       "      <td>1.000000</td>\n",
       "      <td>1.000000</td>\n",
       "      <td>1.000000</td>\n",
       "      <td>0.000000</td>\n",
       "    </tr>\n",
       "    <tr>\n",
       "      <th>132</th>\n",
       "      <td>0.000498</td>\n",
       "      <td>4.495664e-07</td>\n",
       "      <td>0.000669</td>\n",
       "      <td>2.324852e-04</td>\n",
       "      <td>64</td>\n",
       "      <td>0.03125</td>\n",
       "      <td>{'C': 64, 'gamma': 0.03125}</td>\n",
       "      <td>0.972222</td>\n",
       "      <td>0.971429</td>\n",
       "      <td>0.941176</td>\n",
       "      <td>0.961905</td>\n",
       "      <td>0.014348</td>\n",
       "      <td>22</td>\n",
       "      <td>0.985507</td>\n",
       "      <td>0.985714</td>\n",
       "      <td>0.971831</td>\n",
       "      <td>0.981018</td>\n",
       "      <td>0.006496</td>\n",
       "    </tr>\n",
       "    <tr>\n",
       "      <th>133</th>\n",
       "      <td>0.000832</td>\n",
       "      <td>2.357976e-04</td>\n",
       "      <td>0.000499</td>\n",
       "      <td>3.371748e-07</td>\n",
       "      <td>64</td>\n",
       "      <td>0.0625</td>\n",
       "      <td>{'C': 64, 'gamma': 0.0625}</td>\n",
       "      <td>0.944444</td>\n",
       "      <td>0.971429</td>\n",
       "      <td>0.911765</td>\n",
       "      <td>0.942857</td>\n",
       "      <td>0.024208</td>\n",
       "      <td>50</td>\n",
       "      <td>0.971014</td>\n",
       "      <td>0.985714</td>\n",
       "      <td>0.971831</td>\n",
       "      <td>0.976187</td>\n",
       "      <td>0.006745</td>\n",
       "    </tr>\n",
       "    <tr>\n",
       "      <th>134</th>\n",
       "      <td>0.000832</td>\n",
       "      <td>4.709208e-04</td>\n",
       "      <td>0.000666</td>\n",
       "      <td>2.345613e-04</td>\n",
       "      <td>64</td>\n",
       "      <td>0.125</td>\n",
       "      <td>{'C': 64, 'gamma': 0.125}</td>\n",
       "      <td>0.916667</td>\n",
       "      <td>0.971429</td>\n",
       "      <td>0.911765</td>\n",
       "      <td>0.933333</td>\n",
       "      <td>0.027012</td>\n",
       "      <td>58</td>\n",
       "      <td>0.985507</td>\n",
       "      <td>0.985714</td>\n",
       "      <td>0.971831</td>\n",
       "      <td>0.981018</td>\n",
       "      <td>0.006496</td>\n",
       "    </tr>\n",
       "    <tr>\n",
       "      <th>135</th>\n",
       "      <td>0.000831</td>\n",
       "      <td>2.355741e-04</td>\n",
       "      <td>0.000499</td>\n",
       "      <td>4.052337e-07</td>\n",
       "      <td>64</td>\n",
       "      <td>0.25</td>\n",
       "      <td>{'C': 64, 'gamma': 0.25}</td>\n",
       "      <td>0.916667</td>\n",
       "      <td>0.971429</td>\n",
       "      <td>0.911765</td>\n",
       "      <td>0.933333</td>\n",
       "      <td>0.027012</td>\n",
       "      <td>58</td>\n",
       "      <td>0.985507</td>\n",
       "      <td>0.985714</td>\n",
       "      <td>0.985915</td>\n",
       "      <td>0.985712</td>\n",
       "      <td>0.000167</td>\n",
       "    </tr>\n",
       "    <tr>\n",
       "      <th>136</th>\n",
       "      <td>0.000665</td>\n",
       "      <td>2.354611e-04</td>\n",
       "      <td>0.000499</td>\n",
       "      <td>5.619580e-07</td>\n",
       "      <td>64</td>\n",
       "      <td>0.5</td>\n",
       "      <td>{'C': 64, 'gamma': 0.5}</td>\n",
       "      <td>0.972222</td>\n",
       "      <td>0.942857</td>\n",
       "      <td>0.911765</td>\n",
       "      <td>0.942857</td>\n",
       "      <td>0.024672</td>\n",
       "      <td>50</td>\n",
       "      <td>0.985507</td>\n",
       "      <td>0.985714</td>\n",
       "      <td>0.985915</td>\n",
       "      <td>0.985712</td>\n",
       "      <td>0.000167</td>\n",
       "    </tr>\n",
       "    <tr>\n",
       "      <th>137</th>\n",
       "      <td>0.000832</td>\n",
       "      <td>2.351233e-04</td>\n",
       "      <td>0.000499</td>\n",
       "      <td>2.247832e-07</td>\n",
       "      <td>64</td>\n",
       "      <td>1</td>\n",
       "      <td>{'C': 64, 'gamma': 1}</td>\n",
       "      <td>0.972222</td>\n",
       "      <td>0.914286</td>\n",
       "      <td>0.882353</td>\n",
       "      <td>0.923810</td>\n",
       "      <td>0.037287</td>\n",
       "      <td>80</td>\n",
       "      <td>1.000000</td>\n",
       "      <td>1.000000</td>\n",
       "      <td>1.000000</td>\n",
       "      <td>1.000000</td>\n",
       "      <td>0.000000</td>\n",
       "    </tr>\n",
       "    <tr>\n",
       "      <th>138</th>\n",
       "      <td>0.001498</td>\n",
       "      <td>7.060440e-04</td>\n",
       "      <td>0.000498</td>\n",
       "      <td>9.733398e-07</td>\n",
       "      <td>64</td>\n",
       "      <td>2</td>\n",
       "      <td>{'C': 64, 'gamma': 2}</td>\n",
       "      <td>0.972222</td>\n",
       "      <td>0.971429</td>\n",
       "      <td>0.911765</td>\n",
       "      <td>0.952381</td>\n",
       "      <td>0.028109</td>\n",
       "      <td>37</td>\n",
       "      <td>1.000000</td>\n",
       "      <td>1.000000</td>\n",
       "      <td>1.000000</td>\n",
       "      <td>1.000000</td>\n",
       "      <td>0.000000</td>\n",
       "    </tr>\n",
       "    <tr>\n",
       "      <th>139</th>\n",
       "      <td>0.001498</td>\n",
       "      <td>4.082189e-04</td>\n",
       "      <td>0.000831</td>\n",
       "      <td>2.352963e-04</td>\n",
       "      <td>64</td>\n",
       "      <td>4</td>\n",
       "      <td>{'C': 64, 'gamma': 4}</td>\n",
       "      <td>0.972222</td>\n",
       "      <td>0.914286</td>\n",
       "      <td>0.911765</td>\n",
       "      <td>0.933333</td>\n",
       "      <td>0.028109</td>\n",
       "      <td>58</td>\n",
       "      <td>1.000000</td>\n",
       "      <td>1.000000</td>\n",
       "      <td>1.000000</td>\n",
       "      <td>1.000000</td>\n",
       "      <td>0.000000</td>\n",
       "    </tr>\n",
       "    <tr>\n",
       "      <th>140</th>\n",
       "      <td>0.001996</td>\n",
       "      <td>5.947204e-07</td>\n",
       "      <td>0.000499</td>\n",
       "      <td>4.070513e-04</td>\n",
       "      <td>64</td>\n",
       "      <td>8</td>\n",
       "      <td>{'C': 64, 'gamma': 8}</td>\n",
       "      <td>0.972222</td>\n",
       "      <td>0.914286</td>\n",
       "      <td>0.911765</td>\n",
       "      <td>0.933333</td>\n",
       "      <td>0.028109</td>\n",
       "      <td>58</td>\n",
       "      <td>1.000000</td>\n",
       "      <td>1.000000</td>\n",
       "      <td>1.000000</td>\n",
       "      <td>1.000000</td>\n",
       "      <td>0.000000</td>\n",
       "    </tr>\n",
       "    <tr>\n",
       "      <th>141</th>\n",
       "      <td>0.001830</td>\n",
       "      <td>2.357438e-04</td>\n",
       "      <td>0.000499</td>\n",
       "      <td>6.257699e-07</td>\n",
       "      <td>64</td>\n",
       "      <td>16</td>\n",
       "      <td>{'C': 64, 'gamma': 16}</td>\n",
       "      <td>0.861111</td>\n",
       "      <td>0.800000</td>\n",
       "      <td>0.882353</td>\n",
       "      <td>0.847619</td>\n",
       "      <td>0.034770</td>\n",
       "      <td>85</td>\n",
       "      <td>1.000000</td>\n",
       "      <td>1.000000</td>\n",
       "      <td>1.000000</td>\n",
       "      <td>1.000000</td>\n",
       "      <td>0.000000</td>\n",
       "    </tr>\n",
       "    <tr>\n",
       "      <th>142</th>\n",
       "      <td>0.002162</td>\n",
       "      <td>6.224600e-04</td>\n",
       "      <td>0.000666</td>\n",
       "      <td>2.352359e-04</td>\n",
       "      <td>64</td>\n",
       "      <td>32</td>\n",
       "      <td>{'C': 64, 'gamma': 32}</td>\n",
       "      <td>0.722222</td>\n",
       "      <td>0.657143</td>\n",
       "      <td>0.794118</td>\n",
       "      <td>0.723810</td>\n",
       "      <td>0.055525</td>\n",
       "      <td>97</td>\n",
       "      <td>1.000000</td>\n",
       "      <td>1.000000</td>\n",
       "      <td>1.000000</td>\n",
       "      <td>1.000000</td>\n",
       "      <td>0.000000</td>\n",
       "    </tr>\n",
       "    <tr>\n",
       "      <th>143</th>\n",
       "      <td>0.001663</td>\n",
       "      <td>2.344492e-04</td>\n",
       "      <td>0.000832</td>\n",
       "      <td>4.697975e-04</td>\n",
       "      <td>64</td>\n",
       "      <td>64</td>\n",
       "      <td>{'C': 64, 'gamma': 64}</td>\n",
       "      <td>0.638889</td>\n",
       "      <td>0.514286</td>\n",
       "      <td>0.647059</td>\n",
       "      <td>0.600000</td>\n",
       "      <td>0.060701</td>\n",
       "      <td>116</td>\n",
       "      <td>1.000000</td>\n",
       "      <td>1.000000</td>\n",
       "      <td>1.000000</td>\n",
       "      <td>1.000000</td>\n",
       "      <td>0.000000</td>\n",
       "    </tr>\n",
       "  </tbody>\n",
       "</table>\n",
       "<p>144 rows × 18 columns</p>\n",
       "</div>"
      ],
      "text/plain": [
       "     mean_fit_time  std_fit_time  mean_score_time  std_score_time  param_C  \\\n",
       "0         0.001330  2.356292e-04         0.000666    2.346180e-04  0.03125   \n",
       "1         0.001165  2.348997e-04         0.000831    2.353483e-04  0.03125   \n",
       "2         0.001498  4.071545e-04         0.000664    2.364835e-04  0.03125   \n",
       "3         0.001663  6.227998e-04         0.000665    6.223537e-04  0.03125   \n",
       "4         0.002329  4.708647e-04         0.001000    1.632582e-06  0.03125   \n",
       "5         0.001331  2.357983e-04         0.001664    1.311150e-03  0.03125   \n",
       "6         0.000666  2.352356e-04         0.000332    2.350672e-04  0.03125   \n",
       "7         0.000999  4.082197e-04         0.000499    4.052337e-07  0.03125   \n",
       "8         0.001165  2.351235e-04         0.000333    2.351239e-04  0.03125   \n",
       "9         0.001496  5.619580e-07         0.000333    2.354607e-04  0.03125   \n",
       "10        0.001663  2.340589e-04         0.000833    4.722696e-04  0.03125   \n",
       "11        0.001496  4.071481e-04         0.000333    2.355168e-04  0.03125   \n",
       "12        0.001164  2.347860e-04         0.000832    2.347299e-04   0.0625   \n",
       "13        0.001331  4.703590e-04         0.000666    2.355729e-04   0.0625   \n",
       "14        0.000666  2.356855e-04         0.000665    2.354047e-04   0.0625   \n",
       "15        0.001165  2.341146e-04         0.000499    8.920806e-07   0.0625   \n",
       "16        0.001333  4.735628e-04         0.000331    2.339579e-04   0.0625   \n",
       "17        0.000999  9.798072e-07         0.000333    2.352920e-04   0.0625   \n",
       "18        0.001332  2.341120e-04         0.000333    2.355729e-04   0.0625   \n",
       "19        0.000997  6.836514e-07         0.000167    2.355728e-04   0.0625   \n",
       "20        0.001830  6.245206e-04         0.000831    2.352942e-04   0.0625   \n",
       "21        0.001331  2.358583e-04         0.000831    4.687292e-04   0.0625   \n",
       "22        0.001496  4.495664e-07         0.000500    2.973602e-07   0.0625   \n",
       "23        0.001163  2.356290e-04         0.000666    2.346737e-04   0.0625   \n",
       "24        0.000666  2.350675e-04         0.000333    2.352923e-04    0.125   \n",
       "25        0.000665  2.354047e-04         0.000499    4.078298e-04    0.125   \n",
       "26        0.000666  2.346802e-04         0.000333    2.351232e-04    0.125   \n",
       "27        0.000500  1.123916e-07         0.000499    4.052337e-07    0.125   \n",
       "28        0.000665  2.332733e-04         0.000832    2.353481e-04    0.125   \n",
       "29        0.000999  3.440358e-06         0.000333    2.351794e-04    0.125   \n",
       "..             ...           ...              ...             ...      ...   \n",
       "114       0.000998  4.052337e-07         0.000333    2.354042e-04       16   \n",
       "115       0.000831  2.350672e-04         0.000333    2.353480e-04       16   \n",
       "116       0.002163  6.220355e-04         0.000499    7.018853e-07       16   \n",
       "117       0.001663  2.361911e-04         0.000499    4.071482e-04       16   \n",
       "118       0.001829  2.351796e-04         0.000499    4.052337e-07       16   \n",
       "119       0.001497  2.973602e-07         0.000499    0.000000e+00       16   \n",
       "120       0.000832  2.345620e-04         0.000499    4.076351e-04       32   \n",
       "121       0.000502  4.064786e-06         0.000496    4.310624e-06       32   \n",
       "122       0.000832  2.361911e-04         0.000333    2.357414e-04       32   \n",
       "123       0.000833  2.363038e-04         0.000332    2.348423e-04       32   \n",
       "124       0.000999  1.573482e-06         0.000332    2.346209e-04       32   \n",
       "125       0.001165  6.234162e-04         0.000499    4.074400e-04       32   \n",
       "126       0.000666  2.345620e-04         0.000332    2.350111e-04       32   \n",
       "127       0.001164  2.348984e-04         0.000666    2.361351e-04       32   \n",
       "128       0.001494  2.880823e-06         0.000499    4.052337e-07       32   \n",
       "129       0.001829  2.353481e-04         0.000499    5.150430e-07       32   \n",
       "130       0.001493  3.622777e-06         0.000499    2.973602e-07       32   \n",
       "131       0.001829  4.703031e-04         0.000666    2.353481e-04       32   \n",
       "132       0.000498  4.495664e-07         0.000669    2.324852e-04       64   \n",
       "133       0.000832  2.357976e-04         0.000499    3.371748e-07       64   \n",
       "134       0.000832  4.709208e-04         0.000666    2.345613e-04       64   \n",
       "135       0.000831  2.355741e-04         0.000499    4.052337e-07       64   \n",
       "136       0.000665  2.354611e-04         0.000499    5.619580e-07       64   \n",
       "137       0.000832  2.351233e-04         0.000499    2.247832e-07       64   \n",
       "138       0.001498  7.060440e-04         0.000498    9.733398e-07       64   \n",
       "139       0.001498  4.082189e-04         0.000831    2.352963e-04       64   \n",
       "140       0.001996  5.947204e-07         0.000499    4.070513e-04       64   \n",
       "141       0.001830  2.357438e-04         0.000499    6.257699e-07       64   \n",
       "142       0.002162  6.224600e-04         0.000666    2.352359e-04       64   \n",
       "143       0.001663  2.344492e-04         0.000832    4.697975e-04       64   \n",
       "\n",
       "    param_gamma                            params  split0_test_score  \\\n",
       "0       0.03125  {'C': 0.03125, 'gamma': 0.03125}           0.694444   \n",
       "1        0.0625   {'C': 0.03125, 'gamma': 0.0625}           0.694444   \n",
       "2         0.125    {'C': 0.03125, 'gamma': 0.125}           0.694444   \n",
       "3          0.25     {'C': 0.03125, 'gamma': 0.25}           0.694444   \n",
       "4           0.5      {'C': 0.03125, 'gamma': 0.5}           0.694444   \n",
       "5             1        {'C': 0.03125, 'gamma': 1}           0.694444   \n",
       "6             2        {'C': 0.03125, 'gamma': 2}           0.694444   \n",
       "7             4        {'C': 0.03125, 'gamma': 4}           0.666667   \n",
       "8             8        {'C': 0.03125, 'gamma': 8}           0.638889   \n",
       "9            16       {'C': 0.03125, 'gamma': 16}           0.611111   \n",
       "10           32       {'C': 0.03125, 'gamma': 32}           0.611111   \n",
       "11           64       {'C': 0.03125, 'gamma': 64}           0.361111   \n",
       "12      0.03125   {'C': 0.0625, 'gamma': 0.03125}           0.694444   \n",
       "13       0.0625    {'C': 0.0625, 'gamma': 0.0625}           0.694444   \n",
       "14        0.125     {'C': 0.0625, 'gamma': 0.125}           0.694444   \n",
       "15         0.25      {'C': 0.0625, 'gamma': 0.25}           0.722222   \n",
       "16          0.5       {'C': 0.0625, 'gamma': 0.5}           0.833333   \n",
       "17            1         {'C': 0.0625, 'gamma': 1}           0.722222   \n",
       "18            2         {'C': 0.0625, 'gamma': 2}           0.694444   \n",
       "19            4         {'C': 0.0625, 'gamma': 4}           0.666667   \n",
       "20            8         {'C': 0.0625, 'gamma': 8}           0.638889   \n",
       "21           16        {'C': 0.0625, 'gamma': 16}           0.611111   \n",
       "22           32        {'C': 0.0625, 'gamma': 32}           0.611111   \n",
       "23           64        {'C': 0.0625, 'gamma': 64}           0.361111   \n",
       "24      0.03125    {'C': 0.125, 'gamma': 0.03125}           0.694444   \n",
       "25       0.0625     {'C': 0.125, 'gamma': 0.0625}           0.722222   \n",
       "26        0.125      {'C': 0.125, 'gamma': 0.125}           0.944444   \n",
       "27         0.25       {'C': 0.125, 'gamma': 0.25}           0.972222   \n",
       "28          0.5        {'C': 0.125, 'gamma': 0.5}           0.972222   \n",
       "29            1          {'C': 0.125, 'gamma': 1}           0.972222   \n",
       "..          ...                               ...                ...   \n",
       "114           2             {'C': 16, 'gamma': 2}           0.972222   \n",
       "115           4             {'C': 16, 'gamma': 4}           0.972222   \n",
       "116           8             {'C': 16, 'gamma': 8}           0.972222   \n",
       "117          16            {'C': 16, 'gamma': 16}           0.861111   \n",
       "118          32            {'C': 16, 'gamma': 32}           0.722222   \n",
       "119          64            {'C': 16, 'gamma': 64}           0.638889   \n",
       "120     0.03125       {'C': 32, 'gamma': 0.03125}           0.972222   \n",
       "121      0.0625        {'C': 32, 'gamma': 0.0625}           0.972222   \n",
       "122       0.125         {'C': 32, 'gamma': 0.125}           0.916667   \n",
       "123        0.25          {'C': 32, 'gamma': 0.25}           0.916667   \n",
       "124         0.5           {'C': 32, 'gamma': 0.5}           0.916667   \n",
       "125           1             {'C': 32, 'gamma': 1}           0.972222   \n",
       "126           2             {'C': 32, 'gamma': 2}           0.972222   \n",
       "127           4             {'C': 32, 'gamma': 4}           0.972222   \n",
       "128           8             {'C': 32, 'gamma': 8}           0.972222   \n",
       "129          16            {'C': 32, 'gamma': 16}           0.861111   \n",
       "130          32            {'C': 32, 'gamma': 32}           0.722222   \n",
       "131          64            {'C': 32, 'gamma': 64}           0.638889   \n",
       "132     0.03125       {'C': 64, 'gamma': 0.03125}           0.972222   \n",
       "133      0.0625        {'C': 64, 'gamma': 0.0625}           0.944444   \n",
       "134       0.125         {'C': 64, 'gamma': 0.125}           0.916667   \n",
       "135        0.25          {'C': 64, 'gamma': 0.25}           0.916667   \n",
       "136         0.5           {'C': 64, 'gamma': 0.5}           0.972222   \n",
       "137           1             {'C': 64, 'gamma': 1}           0.972222   \n",
       "138           2             {'C': 64, 'gamma': 2}           0.972222   \n",
       "139           4             {'C': 64, 'gamma': 4}           0.972222   \n",
       "140           8             {'C': 64, 'gamma': 8}           0.972222   \n",
       "141          16            {'C': 64, 'gamma': 16}           0.861111   \n",
       "142          32            {'C': 64, 'gamma': 32}           0.722222   \n",
       "143          64            {'C': 64, 'gamma': 64}           0.638889   \n",
       "\n",
       "     split1_test_score  split2_test_score  mean_test_score  std_test_score  \\\n",
       "0             0.342857           0.352941         0.466667        0.164578   \n",
       "1             0.685714           0.705882         0.695238        0.008194   \n",
       "2             0.685714           0.705882         0.695238        0.008194   \n",
       "3             0.685714           0.705882         0.695238        0.008194   \n",
       "4             0.600000           0.647059         0.647619        0.038829   \n",
       "5             0.342857           0.352941         0.466667        0.164578   \n",
       "6             0.342857           0.352941         0.466667        0.164578   \n",
       "7             0.342857           0.352941         0.457143        0.151397   \n",
       "8             0.342857           0.352941         0.447619        0.138218   \n",
       "9             0.342857           0.352941         0.438095        0.125039   \n",
       "10            0.342857           0.352941         0.438095        0.125039   \n",
       "11            0.342857           0.352941         0.352381        0.007514   \n",
       "12            0.685714           0.705882         0.695238        0.008194   \n",
       "13            0.685714           0.705882         0.695238        0.008194   \n",
       "14            0.685714           0.764706         0.714286        0.035075   \n",
       "15            0.685714           0.852941         0.752381        0.071189   \n",
       "16            0.800000           0.852941         0.828571        0.021730   \n",
       "17            0.685714           0.823529         0.742857        0.057808   \n",
       "18            0.600000           0.617647         0.638095        0.041325   \n",
       "19            0.400000           0.382353         0.485714        0.130900   \n",
       "20            0.342857           0.352941         0.447619        0.138218   \n",
       "21            0.342857           0.352941         0.438095        0.125039   \n",
       "22            0.342857           0.352941         0.438095        0.125039   \n",
       "23            0.342857           0.352941         0.352381        0.007514   \n",
       "24            0.685714           0.705882         0.695238        0.008194   \n",
       "25            0.714286           0.852941         0.761905        0.063082   \n",
       "26            0.914286           0.911765         0.923810        0.014940   \n",
       "27            0.914286           0.941176         0.942857        0.023847   \n",
       "28            0.914286           0.911765         0.933333        0.028109   \n",
       "29            0.914286           0.882353         0.923810        0.037287   \n",
       "..                 ...                ...              ...             ...   \n",
       "114           0.971429           0.911765         0.952381        0.028109   \n",
       "115           0.914286           0.911765         0.933333        0.028109   \n",
       "116           0.914286           0.911765         0.933333        0.028109   \n",
       "117           0.800000           0.882353         0.847619        0.034770   \n",
       "118           0.657143           0.794118         0.723810        0.055525   \n",
       "119           0.514286           0.647059         0.600000        0.060701   \n",
       "120           0.971429           0.970588         0.971429        0.000667   \n",
       "121           0.971429           0.970588         0.971429        0.000667   \n",
       "122           0.971429           0.911765         0.933333        0.027012   \n",
       "123           0.971429           0.911765         0.933333        0.027012   \n",
       "124           0.971429           0.911765         0.933333        0.027012   \n",
       "125           0.971429           0.911765         0.952381        0.028109   \n",
       "126           0.971429           0.911765         0.952381        0.028109   \n",
       "127           0.914286           0.911765         0.933333        0.028109   \n",
       "128           0.914286           0.911765         0.933333        0.028109   \n",
       "129           0.800000           0.882353         0.847619        0.034770   \n",
       "130           0.657143           0.794118         0.723810        0.055525   \n",
       "131           0.514286           0.647059         0.600000        0.060701   \n",
       "132           0.971429           0.941176         0.961905        0.014348   \n",
       "133           0.971429           0.911765         0.942857        0.024208   \n",
       "134           0.971429           0.911765         0.933333        0.027012   \n",
       "135           0.971429           0.911765         0.933333        0.027012   \n",
       "136           0.942857           0.911765         0.942857        0.024672   \n",
       "137           0.914286           0.882353         0.923810        0.037287   \n",
       "138           0.971429           0.911765         0.952381        0.028109   \n",
       "139           0.914286           0.911765         0.933333        0.028109   \n",
       "140           0.914286           0.911765         0.933333        0.028109   \n",
       "141           0.800000           0.882353         0.847619        0.034770   \n",
       "142           0.657143           0.794118         0.723810        0.055525   \n",
       "143           0.514286           0.647059         0.600000        0.060701   \n",
       "\n",
       "     rank_test_score  split0_train_score  split1_train_score  \\\n",
       "0                127            0.695652            0.357143   \n",
       "1                105            0.695652            0.700000   \n",
       "2                105            0.695652            0.700000   \n",
       "3                105            0.695652            0.700000   \n",
       "4                111            0.695652            0.685714   \n",
       "5                127            0.695652            0.357143   \n",
       "6                127            0.681159            0.357143   \n",
       "7                130            0.652174            0.357143   \n",
       "8                131            0.637681            0.357143   \n",
       "9                133            0.695652            0.357143   \n",
       "10               133            0.695652            0.357143   \n",
       "11               141            0.695652            0.357143   \n",
       "12               105            0.695652            0.700000   \n",
       "13               105            0.695652            0.700000   \n",
       "14               103            0.695652            0.700000   \n",
       "15                95            0.768116            0.714286   \n",
       "16                92            0.811594            0.742857   \n",
       "17                96            0.739130            0.700000   \n",
       "18               113            0.681159            0.685714   \n",
       "19               126            0.652174            0.442857   \n",
       "20               131            0.637681            0.357143   \n",
       "21               133            0.695652            0.357143   \n",
       "22               133            0.695652            0.357143   \n",
       "23               141            0.695652            0.357143   \n",
       "24               105            0.695652            0.700000   \n",
       "25                94            0.753623            0.728571   \n",
       "26                80            0.884058            0.871429   \n",
       "27                50            0.898551            0.928571   \n",
       "28                58            0.942029            0.957143   \n",
       "29                80            0.956522            0.957143   \n",
       "..               ...                 ...                 ...   \n",
       "114               37            1.000000            1.000000   \n",
       "115               58            1.000000            1.000000   \n",
       "116               58            1.000000            1.000000   \n",
       "117               85            1.000000            1.000000   \n",
       "118               97            1.000000            1.000000   \n",
       "119              116            1.000000            1.000000   \n",
       "120                4            0.985507            0.985714   \n",
       "121                4            0.971014            0.985714   \n",
       "122               58            0.971014            0.985714   \n",
       "123               58            0.985507            0.985714   \n",
       "124               58            1.000000            0.985714   \n",
       "125               37            1.000000            1.000000   \n",
       "126               37            1.000000            1.000000   \n",
       "127               58            1.000000            1.000000   \n",
       "128               58            1.000000            1.000000   \n",
       "129               85            1.000000            1.000000   \n",
       "130               97            1.000000            1.000000   \n",
       "131              116            1.000000            1.000000   \n",
       "132               22            0.985507            0.985714   \n",
       "133               50            0.971014            0.985714   \n",
       "134               58            0.985507            0.985714   \n",
       "135               58            0.985507            0.985714   \n",
       "136               50            0.985507            0.985714   \n",
       "137               80            1.000000            1.000000   \n",
       "138               37            1.000000            1.000000   \n",
       "139               58            1.000000            1.000000   \n",
       "140               58            1.000000            1.000000   \n",
       "141               85            1.000000            1.000000   \n",
       "142               97            1.000000            1.000000   \n",
       "143              116            1.000000            1.000000   \n",
       "\n",
       "     split2_train_score  mean_train_score  std_train_score  \n",
       "0              0.352113          0.468303         0.160774  \n",
       "1              0.690141          0.695264         0.004034  \n",
       "2              0.690141          0.695264         0.004034  \n",
       "3              0.690141          0.695264         0.004034  \n",
       "4              0.647887          0.676418         0.020578  \n",
       "5              0.352113          0.468303         0.160774  \n",
       "6              0.352113          0.463472         0.153942  \n",
       "7              0.352113          0.453810         0.140280  \n",
       "8              0.352113          0.448979         0.133448  \n",
       "9              0.352113          0.468303         0.160774  \n",
       "10             0.352113          0.468303         0.160774  \n",
       "11             0.352113          0.468303         0.160774  \n",
       "12             0.690141          0.695264         0.004034  \n",
       "13             0.690141          0.695264         0.004034  \n",
       "14             0.760563          0.718739         0.029628  \n",
       "15             0.887324          0.789909         0.072304  \n",
       "16             0.915493          0.823315         0.070964  \n",
       "17             0.830986          0.756705         0.054900  \n",
       "18             0.619718          0.662197         0.030095  \n",
       "19             0.352113          0.482381         0.125647  \n",
       "20             0.352113          0.448979         0.133448  \n",
       "21             0.352113          0.468303         0.160774  \n",
       "22             0.352113          0.468303         0.160774  \n",
       "23             0.352113          0.468303         0.160774  \n",
       "24             0.690141          0.695264         0.004034  \n",
       "25             0.915493          0.799229         0.082845  \n",
       "26             0.943662          0.899716         0.031499  \n",
       "27             0.943662          0.923595         0.018750  \n",
       "28             0.943662          0.947611         0.006773  \n",
       "29             0.943662          0.952442         0.006214  \n",
       "..                  ...               ...              ...  \n",
       "114            1.000000          1.000000         0.000000  \n",
       "115            1.000000          1.000000         0.000000  \n",
       "116            1.000000          1.000000         0.000000  \n",
       "117            1.000000          1.000000         0.000000  \n",
       "118            1.000000          1.000000         0.000000  \n",
       "119            1.000000          1.000000         0.000000  \n",
       "120            0.971831          0.981018         0.006496  \n",
       "121            0.971831          0.976187         0.006745  \n",
       "122            0.971831          0.976187         0.006745  \n",
       "123            0.971831          0.981018         0.006496  \n",
       "124            0.985915          0.990543         0.006687  \n",
       "125            0.985915          0.995305         0.006640  \n",
       "126            1.000000          1.000000         0.000000  \n",
       "127            1.000000          1.000000         0.000000  \n",
       "128            1.000000          1.000000         0.000000  \n",
       "129            1.000000          1.000000         0.000000  \n",
       "130            1.000000          1.000000         0.000000  \n",
       "131            1.000000          1.000000         0.000000  \n",
       "132            0.971831          0.981018         0.006496  \n",
       "133            0.971831          0.976187         0.006745  \n",
       "134            0.971831          0.981018         0.006496  \n",
       "135            0.985915          0.985712         0.000167  \n",
       "136            0.985915          0.985712         0.000167  \n",
       "137            1.000000          1.000000         0.000000  \n",
       "138            1.000000          1.000000         0.000000  \n",
       "139            1.000000          1.000000         0.000000  \n",
       "140            1.000000          1.000000         0.000000  \n",
       "141            1.000000          1.000000         0.000000  \n",
       "142            1.000000          1.000000         0.000000  \n",
       "143            1.000000          1.000000         0.000000  \n",
       "\n",
       "[144 rows x 18 columns]"
      ]
     },
     "execution_count": 41,
     "metadata": {},
     "output_type": "execute_result"
    }
   ],
   "source": [
    "import pandas as pd\n",
    "\n",
    "cv_results = pd.DataFrame(clf.cv_results_)\n",
    "cv_results"
   ]
  },
  {
   "cell_type": "markdown",
   "metadata": {
    "colab_type": "text",
    "id": "82rDvTJZ4mdp"
   },
   "source": [
    "A continuación, observamos que el número de filas de ese DataFrame corresponde al número de configuraciones de hiperparámetros que se están explorando:"
   ]
  },
  {
   "cell_type": "code",
   "execution_count": 42,
   "metadata": {
    "colab": {
     "base_uri": "https://localhost:8080/",
     "height": 50
    },
    "colab_type": "code",
    "executionInfo": {
     "elapsed": 590,
     "status": "ok",
     "timestamp": 1539036821985,
     "user": {
      "displayName": "Fabio A. Gonzalez",
      "photoUrl": "",
      "userId": "12068829047521495105"
     },
     "user_tz": 300
    },
    "id": "H7_kTqMp4mdq",
    "outputId": "e0d9a7c4-b782-4145-8048-2501a1b05dd7"
   },
   "outputs": [
    {
     "name": "stdout",
     "output_type": "stream",
     "text": [
      "144\n",
      "144\n"
     ]
    }
   ],
   "source": [
    "print(len(cv_results))\n",
    "print(len(param_grid['C'])*len(param_grid['gamma']))"
   ]
  },
  {
   "cell_type": "markdown",
   "metadata": {
    "colab_type": "text",
    "id": "P1I3xvsv4mdu"
   },
   "source": [
    "Usando la columna `mean_test_score`, extraemos los accuracy promedio de la siguiente forma:"
   ]
  },
  {
   "cell_type": "code",
   "execution_count": 43,
   "metadata": {
    "colab": {},
    "colab_type": "code",
    "id": "wQGNbpnv4mdw"
   },
   "outputs": [],
   "source": [
    "scores = clf.cv_results_['mean_test_score'].reshape(len(param_grid['C']),\n",
    "                                                    len(param_grid['gamma']))"
   ]
  },
  {
   "cell_type": "code",
   "execution_count": 44,
   "metadata": {
    "colab": {
     "base_uri": "https://localhost:8080/",
     "height": 641
    },
    "colab_type": "code",
    "executionInfo": {
     "elapsed": 307,
     "status": "ok",
     "timestamp": 1558099680084,
     "user": {
      "displayName": "Fabio Augusto Gonzalez Osorio",
      "photoUrl": "https://lh5.googleusercontent.com/-jcmRx3yeVv4/AAAAAAAAAAI/AAAAAAAAAic/QZe3kSPTExE/s64/photo.jpg",
      "userId": "12068829047521495105"
     },
     "user_tz": 300
    },
    "id": "ee_mCKYl4md6",
    "outputId": "99257bd3-89ed-43e9-b717-6b772f0aeda7"
   },
   "outputs": [
    {
     "data": {
      "text/plain": [
       "array([[0.46666667, 0.6952381 , 0.6952381 , 0.6952381 , 0.64761905,\n",
       "        0.46666667, 0.46666667, 0.45714286, 0.44761905, 0.43809524,\n",
       "        0.43809524, 0.35238095],\n",
       "       [0.6952381 , 0.6952381 , 0.71428571, 0.75238095, 0.82857143,\n",
       "        0.74285714, 0.63809524, 0.48571429, 0.44761905, 0.43809524,\n",
       "        0.43809524, 0.35238095],\n",
       "       [0.6952381 , 0.76190476, 0.92380952, 0.94285714, 0.93333333,\n",
       "        0.92380952, 0.87619048, 0.64761905, 0.5047619 , 0.43809524,\n",
       "        0.43809524, 0.35238095],\n",
       "       [0.82857143, 0.93333333, 0.95238095, 0.96190476, 0.96190476,\n",
       "        0.96190476, 0.95238095, 0.93333333, 0.62857143, 0.51428571,\n",
       "        0.43809524, 0.35238095],\n",
       "       [0.94285714, 0.96190476, 0.96190476, 0.97142857, 0.96190476,\n",
       "        0.96190476, 0.95238095, 0.95238095, 0.9047619 , 0.62857143,\n",
       "        0.51428571, 0.36190476],\n",
       "       [0.96190476, 0.96190476, 0.97142857, 0.97142857, 0.97142857,\n",
       "        0.97142857, 0.97142857, 0.96190476, 0.93333333, 0.83809524,\n",
       "        0.71428571, 0.57142857],\n",
       "       [0.96190476, 0.97142857, 0.97142857, 0.97142857, 0.97142857,\n",
       "        0.95238095, 0.96190476, 0.93333333, 0.93333333, 0.84761905,\n",
       "        0.72380952, 0.6       ],\n",
       "       [0.97142857, 0.98095238, 0.97142857, 0.97142857, 0.95238095,\n",
       "        0.94285714, 0.95238095, 0.93333333, 0.93333333, 0.84761905,\n",
       "        0.72380952, 0.6       ],\n",
       "       [0.98095238, 0.97142857, 0.97142857, 0.96190476, 0.94285714,\n",
       "        0.94285714, 0.95238095, 0.93333333, 0.93333333, 0.84761905,\n",
       "        0.72380952, 0.6       ],\n",
       "       [0.98095238, 0.97142857, 0.96190476, 0.94285714, 0.93333333,\n",
       "        0.95238095, 0.95238095, 0.93333333, 0.93333333, 0.84761905,\n",
       "        0.72380952, 0.6       ],\n",
       "       [0.97142857, 0.97142857, 0.93333333, 0.93333333, 0.93333333,\n",
       "        0.95238095, 0.95238095, 0.93333333, 0.93333333, 0.84761905,\n",
       "        0.72380952, 0.6       ],\n",
       "       [0.96190476, 0.94285714, 0.93333333, 0.93333333, 0.94285714,\n",
       "        0.92380952, 0.95238095, 0.93333333, 0.93333333, 0.84761905,\n",
       "        0.72380952, 0.6       ]])"
      ]
     },
     "execution_count": 44,
     "metadata": {},
     "output_type": "execute_result"
    }
   ],
   "source": [
    "scores"
   ]
  },
  {
   "cell_type": "markdown",
   "metadata": {
    "colab_type": "text",
    "id": "5LfRh9PB4meA"
   },
   "source": [
    "A continuación, presentamos una forma de visualizar esta exploración sobre la malla de hiperparámetros"
   ]
  },
  {
   "cell_type": "code",
   "execution_count": 45,
   "metadata": {
    "colab": {
     "base_uri": "https://localhost:8080/",
     "height": 451
    },
    "colab_type": "code",
    "executionInfo": {
     "elapsed": 595,
     "status": "ok",
     "timestamp": 1558099684081,
     "user": {
      "displayName": "Fabio Augusto Gonzalez Osorio",
      "photoUrl": "https://lh5.googleusercontent.com/-jcmRx3yeVv4/AAAAAAAAAAI/AAAAAAAAAic/QZe3kSPTExE/s64/photo.jpg",
      "userId": "12068829047521495105"
     },
     "user_tz": 300
    },
    "id": "_7wDO3zW4meA",
    "outputId": "238d57b6-e5b5-45b2-fc33-947ad0a840b2"
   },
   "outputs": [
    {
     "data": {
      "image/png": "[encoded data removed]",
      "text/plain": [
       "<Figure size 720x432 with 2 Axes>"
      ]
     },
     "metadata": {
      "needs_background": "light"
     },
     "output_type": "display_data"
    }
   ],
   "source": [
    "plt.figure(figsize=(10, 6))\n",
    "plt.subplots_adjust(left=.2, right=0.95, bottom=0.15, top=0.95)\n",
    "plt.imshow(scores, interpolation='nearest', cmap=plt.cm.hot,\n",
    "           norm=MidpointNormalize(vmin=0.2, midpoint=0.92, vmax=1.))\n",
    "plt.xlabel('gamma')\n",
    "plt.ylabel('C')\n",
    "plt.colorbar()\n",
    "plt.xticks(np.arange(len(param_grid['gamma'])), param_grid['gamma'], rotation=45)\n",
    "plt.yticks(np.arange(len(param_grid['C'])), param_grid['C'])\n",
    "plt.title('Accuracy en validación')\n",
    "plt.show()"
   ]
  },
  {
   "cell_type": "markdown",
   "metadata": {
    "colab_type": "text",
    "id": "I7aLornt4meF"
   },
   "source": [
    "Encontramos que existen tres modelos con el mejor desempeño usando validación cruzada:\n",
    "* $C=4$ y $\\gamma=0.0625$\n",
    "* $C=8$ y $\\gamma=0.03125$\n",
    "* $C=16$ y $\\gamma=0.03125$\n",
    " \n",
    "Para validar esta información, `GridSearchCV` nos ofrece una serie de métodos que nos permite consultar:\n",
    "* La lista de resultados por elemento en la malla de parámetros (`cv_results_`)\n",
    "* La configuración con el mejor desempeño (`best_params_`)\n",
    "* El accuracy promediado sobre todos los pliegues de la mejor configuración (`best_score_`)\n",
    "\n",
    "Para encontrar las mejores configuraciones, ordenamos la tabla de resultados de la siguiente manera:"
   ]
  },
  {
   "cell_type": "code",
   "execution_count": 46,
   "metadata": {
    "colab": {
     "base_uri": "https://localhost:8080/",
     "height": 202
    },
    "colab_type": "code",
    "executionInfo": {
     "elapsed": 393,
     "status": "ok",
     "timestamp": 1558099736655,
     "user": {
      "displayName": "Fabio Augusto Gonzalez Osorio",
      "photoUrl": "https://lh5.googleusercontent.com/-jcmRx3yeVv4/AAAAAAAAAAI/AAAAAAAAAic/QZe3kSPTExE/s64/photo.jpg",
      "userId": "12068829047521495105"
     },
     "user_tz": 300
    },
    "id": "KpjsJLe74meF",
    "outputId": "2e189cbf-d663-4fc0-f694-c37cd092b059"
   },
   "outputs": [
    {
     "data": {
      "text/html": [
       "<div>\n",
       "<style scoped>\n",
       "    .dataframe tbody tr th:only-of-type {\n",
       "        vertical-align: middle;\n",
       "    }\n",
       "\n",
       "    .dataframe tbody tr th {\n",
       "        vertical-align: top;\n",
       "    }\n",
       "\n",
       "    .dataframe thead th {\n",
       "        text-align: right;\n",
       "    }\n",
       "</style>\n",
       "<table border=\"1\" class=\"dataframe\">\n",
       "  <thead>\n",
       "    <tr style=\"text-align: right;\">\n",
       "      <th></th>\n",
       "      <th>param_C</th>\n",
       "      <th>param_gamma</th>\n",
       "      <th>mean_test_score</th>\n",
       "    </tr>\n",
       "  </thead>\n",
       "  <tbody>\n",
       "    <tr>\n",
       "      <th>96</th>\n",
       "      <td>8</td>\n",
       "      <td>0.03125</td>\n",
       "      <td>0.980952</td>\n",
       "    </tr>\n",
       "    <tr>\n",
       "      <th>85</th>\n",
       "      <td>4</td>\n",
       "      <td>0.0625</td>\n",
       "      <td>0.980952</td>\n",
       "    </tr>\n",
       "    <tr>\n",
       "      <th>108</th>\n",
       "      <td>16</td>\n",
       "      <td>0.03125</td>\n",
       "      <td>0.980952</td>\n",
       "    </tr>\n",
       "    <tr>\n",
       "      <th>97</th>\n",
       "      <td>8</td>\n",
       "      <td>0.0625</td>\n",
       "      <td>0.971429</td>\n",
       "    </tr>\n",
       "    <tr>\n",
       "      <th>87</th>\n",
       "      <td>4</td>\n",
       "      <td>0.25</td>\n",
       "      <td>0.971429</td>\n",
       "    </tr>\n",
       "  </tbody>\n",
       "</table>\n",
       "</div>"
      ],
      "text/plain": [
       "    param_C param_gamma  mean_test_score\n",
       "96        8     0.03125         0.980952\n",
       "85        4      0.0625         0.980952\n",
       "108      16     0.03125         0.980952\n",
       "97        8      0.0625         0.971429\n",
       "87        4        0.25         0.971429"
      ]
     },
     "execution_count": 46,
     "metadata": {},
     "output_type": "execute_result"
    }
   ],
   "source": [
    "cv_results = cv_results[['param_C', 'param_gamma', 'mean_test_score']]\n",
    "cv_results.sort_values(by='mean_test_score', ascending=False).head()"
   ]
  },
  {
   "cell_type": "markdown",
   "metadata": {
    "colab_type": "text",
    "id": "Z35hiFLk4meH"
   },
   "source": [
    "Esta información también se puede consultar usando `.best_params_` y `.best_score_`."
   ]
  },
  {
   "cell_type": "code",
   "execution_count": 47,
   "metadata": {
    "colab": {
     "base_uri": "https://localhost:8080/",
     "height": 34
    },
    "colab_type": "code",
    "executionInfo": {
     "elapsed": 490,
     "status": "ok",
     "timestamp": 1539036865967,
     "user": {
      "displayName": "Fabio A. Gonzalez",
      "photoUrl": "",
      "userId": "12068829047521495105"
     },
     "user_tz": 300
    },
    "id": "xFElZaL-4meH",
    "outputId": "b644c001-1485-4b4d-f942-959298966aac"
   },
   "outputs": [
    {
     "name": "stdout",
     "output_type": "stream",
     "text": [
      "{'C': 4, 'gamma': 0.0625}\n"
     ]
    }
   ],
   "source": [
    "print(clf.best_params_)"
   ]
  },
  {
   "cell_type": "code",
   "execution_count": 48,
   "metadata": {
    "colab": {
     "base_uri": "https://localhost:8080/",
     "height": 34
    },
    "colab_type": "code",
    "executionInfo": {
     "elapsed": 388,
     "status": "ok",
     "timestamp": 1539036867116,
     "user": {
      "displayName": "Fabio A. Gonzalez",
      "photoUrl": "",
      "userId": "12068829047521495105"
     },
     "user_tz": 300
    },
    "id": "bxGMvKbr4meP",
    "outputId": "130eecc4-14a0-45b9-8747-7a9bb6022cd4"
   },
   "outputs": [
    {
     "name": "stdout",
     "output_type": "stream",
     "text": [
      "0.9809523809523809\n"
     ]
    }
   ],
   "source": [
    "print(clf.best_score_)"
   ]
  },
  {
   "cell_type": "markdown",
   "metadata": {
    "colab_type": "text",
    "id": "bRIvxs8u4meW"
   },
   "source": [
    "Una vez se haya entrenado el modelo usando validación cruzada, `GridSearchCV` escoge automáticamente la mejor configuración y vuelve a entrenar un modelo sobre todo el conjunto de datos de entrenamiento. Por lo tanto se pueden hacer llamados a funciones como `predict()` y `score()`.\n",
    "\n",
    "Para reportar sobre el conjunto de prueba basta con:"
   ]
  },
  {
   "cell_type": "code",
   "execution_count": 49,
   "metadata": {
    "colab": {
     "base_uri": "https://localhost:8080/",
     "height": 34
    },
    "colab_type": "code",
    "executionInfo": {
     "elapsed": 2457,
     "status": "ok",
     "timestamp": 1539036904523,
     "user": {
      "displayName": "Fabio A. Gonzalez",
      "photoUrl": "",
      "userId": "12068829047521495105"
     },
     "user_tz": 300
    },
    "id": "NFM0OPD_4meW",
    "outputId": "f0625c22-be61-4353-f42d-6c9e540cd8d3"
   },
   "outputs": [
    {
     "data": {
      "text/plain": [
       "0.9777777777777777"
      ]
     },
     "execution_count": 49,
     "metadata": {},
     "output_type": "execute_result"
    }
   ],
   "source": [
    "clf.score(X_test, y_test)"
   ]
  },
  {
   "cell_type": "code",
   "execution_count": null,
   "metadata": {
    "colab": {},
    "colab_type": "code",
    "id": "nLCITsm_4mfj"
   },
   "outputs": [],
   "source": []
  }
 ],
 "metadata": {
  "colab": {
   "collapsed_sections": [
    "bxQp0Wfx4mbF"
   ],
   "name": "IIS-ML-svm_seleccion_de_modelos.ipynb",
   "provenance": [],
   "version": "0.3.2"
  },
  "kernelspec": {
   "display_name": "Python 3",
   "language": "python",
   "name": "python3"
  },
  "language_info": {
   "codemirror_mode": {
    "name": "ipython",
    "version": 3
   },
   "file_extension": ".py",
   "mimetype": "text/x-python",
   "name": "python",
   "nbconvert_exporter": "python",
   "pygments_lexer": "ipython3",
   "version": "3.7.2"
  }
 },
 "nbformat": 4,
 "nbformat_minor": 1
}
