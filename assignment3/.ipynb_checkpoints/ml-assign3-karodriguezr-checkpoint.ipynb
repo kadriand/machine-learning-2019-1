{
 "cells": [
  {
   "cell_type": "markdown",
   "metadata": {
    "pycharm": {
     "metadata": false
    }
   },
   "source": [
    "# Assignment 3\n",
    "by: _Kevin Adrián Rodríguez Ruiz_\n",
    "\n",
    "karodriguezr@unal.edu.co"
   ]
  },
  {
   "cell_type": "markdown",
   "metadata": {
    "pycharm": {
     "metadata": false
    }
   },
   "source": [
    "## Common vars and functions\n",
    "\n",
    "The next functions are intended to hel in common utilites"
   ]
  },
  {
   "cell_type": "code",
   "execution_count": 1,
   "metadata": {
    "pycharm": {
     "metadata": false,
     "name": "#%%\n"
    }
   },
   "outputs": [],
   "source": [
    "%matplotlib inline"
   ]
  },
  {
   "cell_type": "code",
   "execution_count": 3,
   "metadata": {},
   "outputs": [],
   "source": [
    "import numpy as np"
   ]
  },
  {
   "cell_type": "markdown",
   "metadata": {
    "pycharm": {
     "metadata": false
    }
   },
   "source": [
    "# Point 1\n",
    "Let $x={x_1,...,x_n}$ be a subset of an input data set X. Consider a kernel functionk: $X\\times X\\rightarrow \\mathbb{R}$, which induces a feature space $\\phi(X)$:"
   ]
  },
  {
   "cell_type": "markdown",
   "metadata": {
    "pycharm": {
     "metadata": false
    }
   },
   "source": [
    "## (a)\n",
    "Deduce an expression (using kernels) that, given a vector $w\\in X$, calculates the norm ofthe projection of the image of a point $x,\\phi(x)$, onto the image of the vector $w,\\phi(w)$:\n",
    "\n",
    "$$P_w=\\frac{\\langle \\phi(w),\\phi(x) \\rangle}{\\parallel\\phi(w)\\parallel}$$\n",
    "\n",
    "### Solution\n",
    "\n",
    "Takin into account that the length of a vector can be expressed as follows \n",
    "$$\\parallel\\phi(w)\\parallel=\\sqrt{\\langle w,w \\rangle}$$ \n",
    "and introducing and the kernel \n",
    "$$k(x_{1},x_{2}) = \\langle x_{1},x_{2} \\rangle$$ \n",
    "the equation for $P_w$ can be transformed into:\n",
    "\n",
    "$$P_w=\\frac{k(w,x) \\rangle}{\\sqrt{k(w,w)}}$$"
   ]
  },
  {
   "cell_type": "markdown",
   "metadata": {
    "pycharm": {
     "metadata": false,
     "name": "#%%\n"
    }
   },
   "source": [
    "## (b)\n",
    "Deduce an expression (using kernels) to calculate the sample variance of the projectionsin the feature space of a set of points along a vector$w$:\n",
    "\n",
    "$$var_{\\phi(w)}(x)=\\frac{1}{n}\\sum_{x_i  \\in x}(P_w(x_i)-\\mu)^2$$\n",
    "\n",
    "where \n",
    "$$\\mu=\\frac{1}{n}\\sum_{x_i  \\in x}P_w(x_i)$$\n",
    "### Solution\n",
    "\n",
    "Replacing $\\mu$ in $var_{\\phi(w)}(x)$\n",
    "\n",
    "$$var_{\\phi(w)}(x)=\\frac{1}{n}\\sum_{x_i  \\in x}\\bigg(P_w(x_i)-\\frac{1}{n}\\sum_{x_j  \\in x}P_w(x_j)\\bigg)^2$$\n",
    "\n",
    "Replacing $P_w(x_i)$ by the expression obtained in the last point\n",
    "\n",
    "$$var_{\\phi(w)}(x)=\\frac{1}{n}\\sum_{x_i  \\in x}\\bigg(\\frac{k(w,x_i) }{\\sqrt{k(w,w)}}-\\frac{1}{n}\\sum_{x_j  \\in x}\\frac{k(w,x_j) }{\\sqrt{k(w,w)}}\\bigg)^2$$\n",
    "\n",
    "$$var_{\\phi(w)}(x)=\\frac{1}{n}\\sum_{x_i  \\in x}\\bigg(\\frac{1}{\\sqrt{k(w,w)}}\\bigg)^2\\bigg(k(w,x_i) -\\frac{1}{n}\\sum_{x_j  \\in x}k(w,x_j)\\bigg)^2$$\n",
    "\n",
    "$$var_{\\phi(w)}(x)=\\frac{1}{n·k(w,w)}\\sum_{x_i  \\in x}\\bigg(k(w,x_i) -\\frac{1}{n}\\sum_{x_j  \\in x}k(w,x_j)\\bigg)^2$$"
   ]
  },
  {
   "cell_type": "markdown",
   "metadata": {},
   "source": [
    "## (b)\n",
    "Use the previous expression to calculate the variance of the projections of the images ofthe elements of the following point set in $\\mathbb{R}^2$, $x =\\{(0,1),(−1,3),(2,4),(3,−1),(−1,−2)\\}$ over the images of the vectors $w_1=(1,1)$ and $w_2= (−1,1)$, in the feature spaces inducedby the following kernels:\n",
    "\n",
    "#### i. $k(x,y)=\\langle x,y\\rangle$\n",
    "#### ii. $k(x,y) = \\langle x,y\\rangle^2$\n",
    "#### iii. $k(x,y) = (\\langle x,y\\rangle+1)^5$\n",
    "#### iv. $Gaussian\\; kernel\\; with\\; \\sigma=1$"
   ]
  },
  {
   "cell_type": "code",
   "execution_count": 4,
   "metadata": {},
   "outputs": [
    {
     "name": "stdout",
     "output_type": "stream",
     "text": [
      "w = (1,1)\n",
      "i. 4.12\n",
      "ii. 41.34\n",
      "iii. 183362.81909465027\n",
      "iv. 0.056746553733116524\n",
      "\n",
      "w = (-1,1)\n",
      "i. 3.7200000000000006\n",
      "ii. 12.059999999999999\n",
      "iii. 6494.993580246915\n",
      "iv. 0.05457468115143238\n"
     ]
    }
   ],
   "source": [
    "def variance(kernel, points_x, vector_w):\n",
    "    \"\"\"\n",
    "    :param kernel: k(x,y)\n",
    "    :param points_x: x\n",
    "    :param vector_w: w\n",
    "    :return:\n",
    "    \"\"\"\n",
    "    sum_i = 0\n",
    "    n = len(points_x)\n",
    "    for x_i in points_x:\n",
    "        k_i = kernel(vector_w, x_i)\n",
    "        sum_j = sum(kernel(vector_w, x_j) for x_j in points_x)\n",
    "        sum_i += np.power(k_i - 1 / n * sum_j, 2)\n",
    "    return 1 / n / kernel(vector_w, vector_w) * sum_i\n",
    "\n",
    "\n",
    "def kernel_i(x_1, x_2):\n",
    "    return np.dot(x_1, x_2)\n",
    "\n",
    "\n",
    "def kernel_ii(x_1, x_2):\n",
    "    return np.power(np.dot(x_1, x_2), 2)\n",
    "\n",
    "\n",
    "def kernel_iii(x_1, x_2):\n",
    "    return np.power(np.dot(x_1, x_2) + 1, 5)\n",
    "\n",
    "\n",
    "def kernel_iv(x, z, sigma=1):\n",
    "    x_minus_z = np.subtract(x, z)\n",
    "    return np.exp(-np.dot(x_minus_z, x_minus_z) / 2 / sigma ** 2)\n",
    "\n",
    "\n",
    "def point_c():\n",
    "    x = [[0, 1], [-1, 3], [2, 4], [3, -1], [-1, -2]]\n",
    "    w = [[1, 1], [-1, 1]]\n",
    "\n",
    "    print(\"w = (1,1)\")\n",
    "    variance_i = variance(kernel_i, x, w[0])\n",
    "    variance_ii = variance(kernel_ii, x, w[0])\n",
    "    variance_iii = variance(kernel_iii, x, w[0])\n",
    "    variance_iv = variance(kernel_iv, x, w[0])\n",
    "\n",
    "    print(f\"i. {variance_i}\")\n",
    "    print(f\"ii. {variance_ii}\")\n",
    "    print(f\"iii. {variance_iii}\")\n",
    "    print(f\"iv. {variance_iv}\")\n",
    "\n",
    "    print(\"\\nw = (-1,1)\")\n",
    "    variance_i = variance(kernel_i, x, w[1])\n",
    "    variance_ii = variance(kernel_ii, x, w[1])\n",
    "    variance_iii = variance(kernel_iii, x, w[1])\n",
    "    variance_iv = variance(kernel_iv, x, w[1])\n",
    "\n",
    "    print(f\"i. {variance_i}\")\n",
    "    print(f\"ii. {variance_ii}\")\n",
    "    print(f\"iii. {variance_iii}\")\n",
    "    print(f\"iv. {variance_iv}\")\n",
    "\n",
    "\n",
    "point_c()"
   ]
  },
  {
   "cell_type": "code",
   "execution_count": null,
   "metadata": {},
   "outputs": [],
   "source": []
  }
 ],
 "metadata": {
  "kernelspec": {
   "display_name": "Python 3",
   "language": "python",
   "name": "python3"
  },
  "language_info": {
   "codemirror_mode": {
    "name": "ipython",
    "version": 3
   },
   "file_extension": ".py",
   "mimetype": "text/x-python",
   "name": "python",
   "nbconvert_exporter": "python",
   "pygments_lexer": "ipython3",
   "version": "3.7.2"
  },
  "stem_cell": {
   "cell_type": "raw",
   "metadata": {
    "pycharm": {
     "metadata": false
    }
   },
   "source": ""
  }
 },
 "nbformat": 4,
 "nbformat_minor": 2
}
